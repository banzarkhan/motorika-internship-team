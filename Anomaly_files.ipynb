{
  "cells": [
    {
      "cell_type": "code",
      "execution_count": null,
      "metadata": {
        "id": "xqRrCDBvI6xV"
      },
      "outputs": [],
      "source": [
        "import numpy as np\n",
        "import pandas as pd\n",
        "from matplotlib import pyplot as plt\n",
        "\n",
        "from sklearn.preprocessing import RobustScaler, StandardScaler, MinMaxScaler\n",
        "from sklearn.model_selection import TimeSeriesSplit\n",
        "from sklearn.preprocessing import LabelEncoder\n",
        "\n",
        "import statsmodels.graphics.tsaplots as sgt\n",
        "import scipy.stats as stats\n",
        "\n",
        "from warnings import simplefilter\n",
        "simplefilter(action=\"ignore\", category=pd.errors.PerformanceWarning)\n",
        "\n",
        "import seaborn as sns\n",
        "\n",
        "from matplotlib import pyplot as plt\n",
        "\n",
        "from sklearn.preprocessing import RobustScaler, StandardScaler\n",
        "from sklearn.metrics import classification_report, f1_score, confusion_matrix\n",
        "from sklearn.utils.class_weight import compute_class_weight\n",
        "from sklearn.model_selection import cross_validate\n",
        "\n",
        "le = LabelEncoder()\n",
        "# from catboost import CatBoostClassifier, Pool\n",
        "from sklearn.neighbors import KNeighborsClassifier\n",
        "from sklearn.naive_bayes import BernoulliNB\n",
        "from sklearn.naive_bayes import GaussianNB\n",
        "from sklearn.linear_model import LogisticRegression\n",
        "\n",
        "from sklearn.ensemble import RandomForestClassifier\n",
        "from sklearn.ensemble import StackingClassifier\n",
        "from sklearn.svm import SVC\n",
        "\n",
        "from sklearn.model_selection import cross_val_score, StratifiedKFold\n",
        "from sklearn.linear_model import LogisticRegression\n",
        "from sklearn.tree import DecisionTreeClassifier\n",
        "from sklearn.preprocessing import StandardScaler, OneHotEncoder\n",
        "from sklearn.pipeline import Pipeline\n",
        "from sklearn.impute import SimpleImputer\n",
        "from sklearn.compose import ColumnTransformer\n",
        "\n",
        "from functools import partial\n",
        "from sklearn.model_selection import StratifiedKFold\n",
        "from sklearn.model_selection import cross_val_score\n",
        "from hyperopt import hp, fmin, tpe, Trials, STATUS_OK\n",
        "# from hyperopt import hp, fmin, tpe, Trials, STATUS_OK\n",
        "# fmin - основная функция, она будет минимизировать наш функционал\n",
        "# tpe - алгоритм оптимизации\n",
        "# hp - включает набор методов для объявления пространства поиска гиперпараметров\n",
        "# trails - используется для логирования результатов\n",
        "\n",
        "%matplotlib inline\n",
        "sns.set_context(\"talk\")\n",
        "\n",
        "# random state\n",
        "RS = 1\n",
        "# %matplotlib widget"
      ]
    },
    {
      "cell_type": "code",
      "execution_count": null,
      "metadata": {
        "id": "Lqf3claZ09kH"
      },
      "outputs": [],
      "source": [
        "#В колабе импортируем все необходимые библиотеки\n",
        "from pydrive2.auth import GoogleAuth\n",
        "from pydrive2.drive import GoogleDrive\n",
        "from google.colab import auth\n",
        "from oauth2client.client import GoogleCredentials\n",
        "\n",
        "#Привязываем гуглдиск к колабу\n",
        "auth.authenticate_user()\n",
        "gauth = GoogleAuth()\n",
        "gauth.credentials = GoogleCredentials.get_application_default()\n",
        "drive = GoogleDrive(gauth)"
      ]
    },
    {
      "cell_type": "code",
      "execution_count": null,
      "metadata": {
        "id": "5BizQZhT0tOa"
      },
      "outputs": [],
      "source": [
        "folder_id = '10p0lq5F8sqA5wk0sOGO-PggX9XzPgEe0'  # Замените на ID вашей папки\n",
        "# https://drive.google.com/drive/folders/10p0lq5F8sqA5wk0sOGO-PggX9XzPgEe0?usp=drive_link\n",
        "\n",
        "file_list = drive.ListFile({'q': f\"'{folder_id}' in parents and trashed=false\"}).GetList()\n",
        "filename_list = []\n",
        "for file in file_list:\n",
        "  filename_list.append(file['title'])"
      ]
    },
    {
      "cell_type": "code",
      "execution_count": null,
      "metadata": {
        "colab": {
          "base_uri": "https://localhost:8080/"
        },
        "id": "imXUC8u6_5Ca",
        "outputId": "e8fff897-ba8c-4b78-f67e-c9c4318f27cf"
      },
      "outputs": [
        {
          "data": {
            "text/plain": [
              "['meta_information',\n",
              " '2023-05-31_15-46-37.palm',\n",
              " '2023-05-31_15-46-37.palm.protocol.csv',\n",
              " 'meta_information.csv',\n",
              " '2023-05-31_17-14-41.palm.protocol.csv',\n",
              " '2023-05-31_17-14-41.palm',\n",
              " '2023-10-23_14-07-13.palm.protocol.csv',\n",
              " '2023-10-25_08-52-30.palm',\n",
              " '2023-09-29_09-20-47.palm.protocol.csv',\n",
              " '2023-09-13_22-14-05.palm.protocol.csv',\n",
              " '2023-09-29_11-03-50.palm.protocol.csv',\n",
              " '2023-10-23_14-07-13.palm',\n",
              " '2023-09-29_11-03-50.palm',\n",
              " '2023-09-30_08-06-44.palm',\n",
              " '2023-10-25_11-08-46.palm.protocol.csv',\n",
              " '2023-10-18_11-16-21.palm',\n",
              " '2023-10-25_11-08-46.palm',\n",
              " '2023-10-23_10-11-45.palm.protocol.csv',\n",
              " '2023-10-18_11-16-21.palm.protocol.csv',\n",
              " '2023-09-30_08-06-44.palm.protocol.csv',\n",
              " '2023-10-18_08-05-29.palm.protocol.csv',\n",
              " '2023-09-12_12-55-22.palm.protocol.csv',\n",
              " '2023-10-25_08-52-30.palm.protocol.csv',\n",
              " '2023-09-29_09-20-47.palm',\n",
              " '2023-06-20_14-43-11.palm',\n",
              " '2023-10-23_10-11-45.palm',\n",
              " '2023-10-18_08-05-29.palm',\n",
              " '2023-09-12_14-59-23.palm.protocol.csv',\n",
              " '2023-06-20_13-30-15.palm',\n",
              " '2023-10-23_16-23-02.palm',\n",
              " '2023-10-23_16-23-02.palm.protocol.csv',\n",
              " '2023-06-20_13-30-15.palm.protocol.csv',\n",
              " '2023-09-12_12-55-22.palm',\n",
              " 'patched_2023-10-25_09-44-02.palm.protocol.csv',\n",
              " '2023-09-12_14-59-23.palm',\n",
              " 'patched_2023-10-25_09-44-02.palm',\n",
              " '2023-06-20_14-43-11.palm.protocol.csv',\n",
              " '2023-09-13_22-14-05.palm',\n",
              " '2023-05-05_17-57-30.palm.protocol.csv',\n",
              " '2023-05-07_16-54-27.palm.protocol.csv',\n",
              " '2023-06-05_16-12-38.palm.protocol.csv',\n",
              " '2023-05-15_17-12-24.palm',\n",
              " '2023-05-05_17-57-30.palm',\n",
              " '2023-05-19_12-04-02.palm',\n",
              " '2023-05-22_17-04-29.palm.protocol.csv',\n",
              " '2023-05-07_15-19-05.palm.protocol.csv',\n",
              " '2023-05-22_20-22-01.palm',\n",
              " '2023-05-15_16-16-08.palm',\n",
              " '2023-05-07_15-19-05.palm',\n",
              " '2023-05-15_16-16-08.palm.protocol.csv',\n",
              " '2023-06-20_12-34-17.palm.protocol.csv',\n",
              " '2023-05-22_17-04-29.palm',\n",
              " '2023-06-05_17-53-01.palm',\n",
              " '2023-06-05_17-53-01.palm.protocol.csv',\n",
              " '2023-05-22_20-22-01.palm.protocol.csv',\n",
              " '2023-06-20_12-34-17.palm',\n",
              " '2023-05-19_12-04-02.palm.protocol.csv',\n",
              " '2023-05-12_19-17-00.palm.protocol.csv',\n",
              " '2023-05-12_19-17-00.palm',\n",
              " '2023-06-05_16-12-38.palm',\n",
              " '2023-05-07_16-54-27.palm',\n",
              " '2023-04-18_19-08-47 gestures train.palm',\n",
              " '2023-05-15_17-12-24.palm.protocol.csv',\n",
              " '2023-04-18_19-08-47 gestures train.palm.protocol.csv']"
            ]
          },
          "execution_count": 23,
          "metadata": {},
          "output_type": "execute_result"
        }
      ],
      "source": [
        "filename_list"
      ]
    },
    {
      "cell_type": "markdown",
      "metadata": {
        "id": "NpTbkmKRnAvA"
      },
      "source": [
        "ТЗ: При разработке модели необходимо проверить, возможно ли обучить ее на данных предыдущих пилотов для последующего их использования новыми пилотами;"
      ]
    },
    {
      "cell_type": "code",
      "execution_count": null,
      "metadata": {
        "id": "B1cjeTbT8TcV"
      },
      "outputs": [],
      "source": [
        "import numpy as np\n",
        "import pandas as pd\n",
        "from matplotlib import pyplot as plt\n",
        "\n",
        "from sklearn.preprocessing import RobustScaler, StandardScaler, MinMaxScaler\n",
        "from sklearn.model_selection import TimeSeriesSplit\n",
        "\n",
        "import statsmodels.graphics.tsaplots as sgt\n",
        "import scipy.stats as stats\n",
        "\n",
        "from warnings import simplefilter\n",
        "simplefilter(action=\"ignore\", category=pd.errors.PerformanceWarning)\n",
        "\n",
        "import seaborn as sns\n",
        "\n",
        "from matplotlib import pyplot as plt\n",
        "\n",
        "from sklearn.preprocessing import RobustScaler, StandardScaler\n",
        "from sklearn.metrics import classification_report, f1_score, confusion_matrix\n",
        "from sklearn.utils.class_weight import compute_class_weight\n",
        "from sklearn.model_selection import cross_validate\n",
        "\n",
        "# from catboost import CatBoostClassifier, Pool\n",
        "from sklearn.neighbors import KNeighborsClassifier\n",
        "from sklearn.naive_bayes import BernoulliNB\n",
        "from sklearn.naive_bayes import GaussianNB\n",
        "from sklearn.linear_model import LogisticRegression\n",
        "\n",
        "from sklearn.ensemble import RandomForestClassifier\n",
        "from sklearn.ensemble import StackingClassifier\n",
        "from sklearn.svm import SVC\n",
        "\n",
        "from sklearn.model_selection import cross_val_score, StratifiedKFold\n",
        "from sklearn.linear_model import LogisticRegression\n",
        "from sklearn.tree import DecisionTreeClassifier\n",
        "from sklearn.preprocessing import StandardScaler, OneHotEncoder\n",
        "from sklearn.pipeline import Pipeline\n",
        "from sklearn.impute import SimpleImputer\n",
        "from sklearn.compose import ColumnTransformer\n",
        "\n",
        "from functools import partial\n",
        "from sklearn.model_selection import StratifiedKFold\n",
        "from sklearn.model_selection import cross_val_score\n",
        "from hyperopt import hp, fmin, tpe, Trials, STATUS_OK\n",
        "# from hyperopt import hp, fmin, tpe, Trials, STATUS_OK\n",
        "# fmin - основная функция, она будет минимизировать наш функционал\n",
        "# tpe - алгоритм оптимизации\n",
        "# hp - включает набор методов для объявления пространства поиска гиперпараметров\n",
        "# trails - используется для логирования результатов\n",
        "\n",
        "%matplotlib inline\n",
        "sns.set_context(\"talk\")\n",
        "\n",
        "# random state\n",
        "RS = 1\n",
        "# %matplotlib widget"
      ]
    },
    {
      "cell_type": "markdown",
      "metadata": {
        "id": "Dd30ZzvsnRHU"
      },
      "source": [
        "Нам неизвестны количество пилотов и характеристики их двиижений.\n",
        "Идея состоит в том, чтобы кластеризовать данные разных пилотов.\n",
        "Если модель сможет выделить их характеристики в кластеры, то гипотезу об индивидуальности их стиля можно будет считать доказанной и мы сможем предсказывать их кластер по данным модели и экономить время на обучение модели."
      ]
    },
    {
      "cell_type": "code",
      "execution_count": null,
      "metadata": {
        "colab": {
          "base_uri": "https://localhost:8080/"
        },
        "id": "JcWCx6W6tW58",
        "outputId": "7c54a11e-b808-4eed-d490-9946babe7c40"
      },
      "outputs": [
        {
          "name": "stdout",
          "output_type": "stream",
          "text": [
            "Drive already mounted at /content/drive; to attempt to forcibly remount, call drive.mount(\"/content/drive\", force_remount=True).\n"
          ]
        }
      ],
      "source": [
        "from google.colab import drive\n",
        "# Это потребует авторизации.\n",
        "\n",
        "drive.mount('/content/drive')"
      ]
    },
    {
      "cell_type": "code",
      "execution_count": null,
      "metadata": {
        "colab": {
          "base_uri": "https://localhost:8080/"
        },
        "id": "_HtgrjUbvj6s",
        "outputId": "77cfa062-1e1f-4aed-fd1d-fdeac4b61d7d"
      },
      "outputs": [
        {
          "name": "stdout",
          "output_type": "stream",
          "text": [
            "data  drive  sample_data  table_1\n"
          ]
        }
      ],
      "source": [
        "!ls"
      ]
    },
    {
      "cell_type": "code",
      "execution_count": null,
      "metadata": {
        "colab": {
          "base_uri": "https://localhost:8080/"
        },
        "id": "ySTrP0vzvGUc",
        "outputId": "5515628b-a7e5-4119-ac18-734d687e6488"
      },
      "outputs": [
        {
          "name": "stdout",
          "output_type": "stream",
          "text": [
            "mkdir: cannot create directory ‘./data’: File exists\n"
          ]
        }
      ],
      "source": [
        "!mkdir ./data"
      ]
    },
    {
      "cell_type": "code",
      "execution_count": null,
      "metadata": {
        "colab": {
          "base_uri": "https://localhost:8080/"
        },
        "id": "g6_SwPgEtwWT",
        "outputId": "40acec79-43a3-4ebf-a0a6-05601c05f565"
      },
      "outputs": [
        {
          "name": "stdout",
          "output_type": "stream",
          "text": [
            "cp: cannot open '/content/drive/MyDrive/_Проекты /Моторика/Стажировка/motorica-x-skillfactory-gestures/data/meta_information.gsheet' for reading: Operation not supported\n"
          ]
        }
      ],
      "source": [
        "!cp -r \"/content/drive/MyDrive/_Проекты /Моторика/Стажировка/motorica-x-skillfactory-gestures/data\" \"/content\""
      ]
    },
    {
      "cell_type": "code",
      "execution_count": null,
      "metadata": {
        "id": "YBm-0SDb2_Vc"
      },
      "outputs": [],
      "source": [
        "df_meta = pd.read_csv('/content/data/meta_information.csv', index_col=0)"
      ]
    },
    {
      "cell_type": "markdown",
      "metadata": {
        "id": "siv3C98t8Tc1"
      },
      "source": [
        "# IO utils\n"
      ]
    },
    {
      "cell_type": "code",
      "execution_count": null,
      "metadata": {
        "id": "aBLSkAD48Tc9"
      },
      "outputs": [],
      "source": [
        "def read_omg_csv(path_palm_data: str,\n",
        "                 n_omg_channels: int,\n",
        "                 n_acc_channels: int = 0,\n",
        "                 n_gyr_channels: int = 0,\n",
        "                 n_mag_channels: int = 0,\n",
        "                 n_enc_channels: int = 0,\n",
        "                 button_ch: bool = True,\n",
        "                 sync_ch: bool = True,\n",
        "                 timestamp_ch: bool = True) -> pd.DataFrame:\n",
        "\n",
        "    '''\n",
        "    Reads CSV data for OMG data\n",
        "    NB: data must be separated by \" \" separator\n",
        "\n",
        "        Parameters:\n",
        "                path_palm_data  (str): path to csv data file\n",
        "                n_omg_channels  (int): Number of OMG channels\n",
        "                n_acc_channels  (int): Number of Accelerometer channels, default = 0\n",
        "                n_gyr_channels  (int): Number of Gyroscope channels, default = 0\n",
        "                n_mag_channels  (int): Number of Magnetometer channels, default = 0\n",
        "                n_enc_channels  (int): Number of Encoder channels, default = 0\n",
        "                button_ch      (bool): If button channel is present, default = True\n",
        "                sync_ch        (bool): If synchronization channel is present, default = True\n",
        "                timestamp_ch   (bool): If timestamp channel is present, default = True\n",
        "\n",
        "        Returns:\n",
        "                df_raw (pd.DataFrame): Parsed pandas Dataframe with OMG data\n",
        "    '''\n",
        "\n",
        "    df_raw = pd.read_csv(path_palm_data, sep=' ',\n",
        "                         header=None,\n",
        "                         skipfooter=1,\n",
        "                         skiprows=1,\n",
        "                         engine='python')\n",
        "    columns = np.arange(n_omg_channels).astype('str').tolist()\n",
        "\n",
        "    for label, label_count in zip(['ACC', 'GYR', 'MAG', 'ENC'],\n",
        "                                  [n_acc_channels, n_gyr_channels, n_mag_channels, n_enc_channels]):\n",
        "        columns = columns + ['{}{}'.format(label, i) for i in range(label_count)]\n",
        "\n",
        "    if button_ch:\n",
        "        columns = columns + ['BUTTON']\n",
        "\n",
        "    if sync_ch:\n",
        "        columns = columns + ['SYNC']\n",
        "\n",
        "    if timestamp_ch:\n",
        "        columns = columns + ['ts']\n",
        "\n",
        "    df_raw.columns = columns\n",
        "\n",
        "    return df_raw"
      ]
    },
    {
      "cell_type": "code",
      "execution_count": null,
      "metadata": {
        "colab": {
          "base_uri": "https://localhost:8080/",
          "height": 35
        },
        "id": "KmcsTh0NJ4Wi",
        "outputId": "3ff5e442-6d59-4e8f-bd62-138d0ed06adc"
      },
      "outputs": [
        {
          "data": {
            "application/vnd.google.colaboratory.intrinsic+json": {
              "type": "string"
            },
            "text/plain": [
              "'protocol'"
            ]
          },
          "execution_count": 31,
          "metadata": {},
          "output_type": "execute_result"
        }
      ],
      "source": [
        "filename_list[2][-12:-4]"
      ]
    },
    {
      "cell_type": "code",
      "execution_count": null,
      "metadata": {
        "id": "7JKw9olLR0PV"
      },
      "outputs": [],
      "source": [
        "def add_feature_derivative(df):\n",
        "  \"\"\"Функция для добавления признака производной\n",
        "\n",
        "    Args:\n",
        "        df (DataFrame): датасет\n",
        "\n",
        "    Returns:\n",
        "        df_log(DataFrame): датасет с добавленным признаком производной\n",
        "  \"\"\"\n",
        "  col_list_base = list(df.columns) #исходный список признаков\n",
        "  df_temp = df.copy()\n",
        "  for i in col_list_base:\n",
        "    col_add = f'der_{i}' #название для нового признака\n",
        "    df_temp[col_add] = df_temp[i].diff() #создаем признак\n",
        "    df_temp.fillna(0, inplace = True) #удаляем пустоты\n",
        "  df_temp.drop(col_list_base, axis = 1 , inplace = True)\n",
        "  return df_temp\n",
        "\n",
        "def get_clean_lines(df, treshold = 1.5):\n",
        "  \"\"\"Функция для преобразования временного ряда.\n",
        "  Преобразует все значения выше определенного порога в 1, ниже в 0\n",
        "\n",
        "    Args:\n",
        "        df (Series): датасет\n",
        "\n",
        "    Returns:\n",
        "        result(DataFrame): преобразованный датасет\n",
        "  \"\"\"\n",
        "  result = np.zeros(df.shape) #создаем массив заполненный нулями размером с датасет\n",
        "  means = np.mean(df) #выводим среднюю\n",
        "  for i in range(df.shape[0]): #перебираем значения\n",
        "    if abs(df[i]) > means*treshold:  #реализуем логику\n",
        "      result[i] = 1\n",
        "    else:\n",
        "      result[i] = 0\n",
        "  return pd.DataFrame(result)\n",
        "\n",
        "def shift_definition(df, target):\n",
        "  \"\"\"Функция для нахождения временной задержки между командой и её исполнением\n",
        "\n",
        "    Args:\n",
        "        df (DataFrame): датасет с показаниями датчиков\n",
        "        target (DataFrame): данные протокола выполнения команд\n",
        "    Returns:\n",
        "        best_shift (int): временной сдвиг\n",
        "  \"\"\"\n",
        "  # рассчитываем производные значений временных датчиков\n",
        "  gestures_der = add_feature_derivative(df)\n",
        "  # суммируем модули значений производных\n",
        "  gestures_der_sum = abs(gestures_der).sum(axis = 1)\n",
        "  # обнуляем значения ниже порога\n",
        "  gestures_der_sum_clean = get_clean_lines(gestures_der_sum, treshold = 1.5)\n",
        "\n",
        "  # преобразуем целевую переменную в DataFrame\n",
        "  target_df = pd.DataFrame(target)\n",
        "  # рассчитываем производные значений таргета\n",
        "  target_der = add_feature_derivative(target_df)\n",
        "  # преобразуем таргет, если есть жест 1, если нет 0\n",
        "  for i in range(len(target_der)):\n",
        "      if (target_der.iloc[i] != 0).bool():\n",
        "        target_der.iloc[i] = 1\n",
        "\n",
        "  # объединяем преобразованный таргет и преобрразованную сумму производных в одну таблицу\n",
        "  data = pd.concat([gestures_der_sum_clean.shift(1), target_der], axis=1).dropna()\n",
        "  data.columns = ['y_t', 'first_derivative']\n",
        "  # определяем, при каком сдвиге корреляция  максимальна\n",
        "  corr_temp = []\n",
        "  for i in range(1, 40):\n",
        "    data['y_t'] = data['y_t'].shift(i)\n",
        "    corr_coef = data.corr()\n",
        "    corr_temp.append(corr_coef.iloc[1,0])\n",
        "  l = pd.Series(corr_temp)\n",
        "  best_shift = l[l == max(corr_temp)]\n",
        "  return best_shift.index[0]"
      ]
    },
    {
      "cell_type": "markdown",
      "metadata": {
        "id": "utCL_jv213ci"
      },
      "source": [
        "# Data"
      ]
    },
    {
      "cell_type": "code",
      "execution_count": null,
      "metadata": {
        "colab": {
          "base_uri": "https://localhost:8080/",
          "height": 206
        },
        "id": "9dFH7c0k_IK3",
        "outputId": "a5c183f1-e4b5-4a55-a7cc-81ffd5b44e57"
      },
      "outputs": [
        {
          "data": {
            "application/vnd.google.colaboratory.intrinsic+json": {
              "summary": "{\n  \"name\": \"df_meta\",\n  \"rows\": 31,\n  \"fields\": [\n    {\n      \"column\": \"montage\",\n      \"properties\": {\n        \"dtype\": \"string\",\n        \"num_unique_values\": 31,\n        \"samples\": [\n          \"2023-10-23_14-07-13.palm\",\n          \"2023-05-22_20-22-01.palm\",\n          \"2023-10-25_11-08-46.palm\"\n        ],\n        \"semantic_type\": \"\",\n        \"description\": \"\"\n      }\n    },\n    {\n      \"column\": \"pilote_id\",\n      \"properties\": {\n        \"dtype\": \"number\",\n        \"std\": 0,\n        \"min\": 1,\n        \"max\": 4,\n        \"num_unique_values\": 4,\n        \"samples\": [\n          2,\n          4,\n          1\n        ],\n        \"semantic_type\": \"\",\n        \"description\": \"\"\n      }\n    },\n    {\n      \"column\": \"last_train_idx\",\n      \"properties\": {\n        \"dtype\": \"number\",\n        \"std\": 8001,\n        \"min\": 2759,\n        \"max\": 29532,\n        \"num_unique_values\": 28,\n        \"samples\": [\n          5690,\n          5674,\n          5694\n        ],\n        \"semantic_type\": \"\",\n        \"description\": \"\"\n      }\n    },\n    {\n      \"column\": \"len(train)\",\n      \"properties\": {\n        \"dtype\": \"number\",\n        \"std\": 8001,\n        \"min\": 2759,\n        \"max\": 29532,\n        \"num_unique_values\": 28,\n        \"samples\": [\n          5690,\n          5674,\n          5694\n        ],\n        \"semantic_type\": \"\",\n        \"description\": \"\"\n      }\n    },\n    {\n      \"column\": \"len(test)\",\n      \"properties\": {\n        \"dtype\": \"number\",\n        \"std\": 1148,\n        \"min\": 2944,\n        \"max\": 8078,\n        \"num_unique_values\": 27,\n        \"samples\": [\n          5507,\n          3872,\n          2951\n        ],\n        \"semantic_type\": \"\",\n        \"description\": \"\"\n      }\n    }\n  ]\n}",
              "type": "dataframe",
              "variable_name": "df_meta"
            },
            "text/html": [
              "\n",
              "  <div id=\"df-1f9ffc22-8d29-4c21-8ab1-feaa3b9ab926\" class=\"colab-df-container\">\n",
              "    <div>\n",
              "<style scoped>\n",
              "    .dataframe tbody tr th:only-of-type {\n",
              "        vertical-align: middle;\n",
              "    }\n",
              "\n",
              "    .dataframe tbody tr th {\n",
              "        vertical-align: top;\n",
              "    }\n",
              "\n",
              "    .dataframe thead th {\n",
              "        text-align: right;\n",
              "    }\n",
              "</style>\n",
              "<table border=\"1\" class=\"dataframe\">\n",
              "  <thead>\n",
              "    <tr style=\"text-align: right;\">\n",
              "      <th></th>\n",
              "      <th>montage</th>\n",
              "      <th>pilote_id</th>\n",
              "      <th>last_train_idx</th>\n",
              "      <th>len(train)</th>\n",
              "      <th>len(test)</th>\n",
              "    </tr>\n",
              "  </thead>\n",
              "  <tbody>\n",
              "    <tr>\n",
              "      <th>0</th>\n",
              "      <td>2023-05-15_16-16-08.palm</td>\n",
              "      <td>1</td>\n",
              "      <td>23337</td>\n",
              "      <td>23337</td>\n",
              "      <td>5810</td>\n",
              "    </tr>\n",
              "    <tr>\n",
              "      <th>1</th>\n",
              "      <td>2023-05-15_17-12-24.palm</td>\n",
              "      <td>1</td>\n",
              "      <td>23336</td>\n",
              "      <td>23336</td>\n",
              "      <td>5803</td>\n",
              "    </tr>\n",
              "    <tr>\n",
              "      <th>2</th>\n",
              "      <td>2023-06-05_16-12-38.palm</td>\n",
              "      <td>1</td>\n",
              "      <td>17939</td>\n",
              "      <td>17939</td>\n",
              "      <td>4431</td>\n",
              "    </tr>\n",
              "    <tr>\n",
              "      <th>3</th>\n",
              "      <td>2023-06-05_17-53-01.palm</td>\n",
              "      <td>1</td>\n",
              "      <td>17771</td>\n",
              "      <td>17771</td>\n",
              "      <td>4435</td>\n",
              "    </tr>\n",
              "    <tr>\n",
              "      <th>4</th>\n",
              "      <td>2023-06-20_14-43-11.palm</td>\n",
              "      <td>1</td>\n",
              "      <td>17936</td>\n",
              "      <td>17936</td>\n",
              "      <td>4441</td>\n",
              "    </tr>\n",
              "  </tbody>\n",
              "</table>\n",
              "</div>\n",
              "    <div class=\"colab-df-buttons\">\n",
              "\n",
              "  <div class=\"colab-df-container\">\n",
              "    <button class=\"colab-df-convert\" onclick=\"convertToInteractive('df-1f9ffc22-8d29-4c21-8ab1-feaa3b9ab926')\"\n",
              "            title=\"Convert this dataframe to an interactive table.\"\n",
              "            style=\"display:none;\">\n",
              "\n",
              "  <svg xmlns=\"http://www.w3.org/2000/svg\" height=\"24px\" viewBox=\"0 -960 960 960\">\n",
              "    <path d=\"M120-120v-720h720v720H120Zm60-500h600v-160H180v160Zm220 220h160v-160H400v160Zm0 220h160v-160H400v160ZM180-400h160v-160H180v160Zm440 0h160v-160H620v160ZM180-180h160v-160H180v160Zm440 0h160v-160H620v160Z\"/>\n",
              "  </svg>\n",
              "    </button>\n",
              "\n",
              "  <style>\n",
              "    .colab-df-container {\n",
              "      display:flex;\n",
              "      gap: 12px;\n",
              "    }\n",
              "\n",
              "    .colab-df-convert {\n",
              "      background-color: #E8F0FE;\n",
              "      border: none;\n",
              "      border-radius: 50%;\n",
              "      cursor: pointer;\n",
              "      display: none;\n",
              "      fill: #1967D2;\n",
              "      height: 32px;\n",
              "      padding: 0 0 0 0;\n",
              "      width: 32px;\n",
              "    }\n",
              "\n",
              "    .colab-df-convert:hover {\n",
              "      background-color: #E2EBFA;\n",
              "      box-shadow: 0px 1px 2px rgba(60, 64, 67, 0.3), 0px 1px 3px 1px rgba(60, 64, 67, 0.15);\n",
              "      fill: #174EA6;\n",
              "    }\n",
              "\n",
              "    .colab-df-buttons div {\n",
              "      margin-bottom: 4px;\n",
              "    }\n",
              "\n",
              "    [theme=dark] .colab-df-convert {\n",
              "      background-color: #3B4455;\n",
              "      fill: #D2E3FC;\n",
              "    }\n",
              "\n",
              "    [theme=dark] .colab-df-convert:hover {\n",
              "      background-color: #434B5C;\n",
              "      box-shadow: 0px 1px 3px 1px rgba(0, 0, 0, 0.15);\n",
              "      filter: drop-shadow(0px 1px 2px rgba(0, 0, 0, 0.3));\n",
              "      fill: #FFFFFF;\n",
              "    }\n",
              "  </style>\n",
              "\n",
              "    <script>\n",
              "      const buttonEl =\n",
              "        document.querySelector('#df-1f9ffc22-8d29-4c21-8ab1-feaa3b9ab926 button.colab-df-convert');\n",
              "      buttonEl.style.display =\n",
              "        google.colab.kernel.accessAllowed ? 'block' : 'none';\n",
              "\n",
              "      async function convertToInteractive(key) {\n",
              "        const element = document.querySelector('#df-1f9ffc22-8d29-4c21-8ab1-feaa3b9ab926');\n",
              "        const dataTable =\n",
              "          await google.colab.kernel.invokeFunction('convertToInteractive',\n",
              "                                                    [key], {});\n",
              "        if (!dataTable) return;\n",
              "\n",
              "        const docLinkHtml = 'Like what you see? Visit the ' +\n",
              "          '<a target=\"_blank\" href=https://colab.research.google.com/notebooks/data_table.ipynb>data table notebook</a>'\n",
              "          + ' to learn more about interactive tables.';\n",
              "        element.innerHTML = '';\n",
              "        dataTable['output_type'] = 'display_data';\n",
              "        await google.colab.output.renderOutput(dataTable, element);\n",
              "        const docLink = document.createElement('div');\n",
              "        docLink.innerHTML = docLinkHtml;\n",
              "        element.appendChild(docLink);\n",
              "      }\n",
              "    </script>\n",
              "  </div>\n",
              "\n",
              "\n",
              "<div id=\"df-6f1e630a-0411-415a-9dab-45e383f4be62\">\n",
              "  <button class=\"colab-df-quickchart\" onclick=\"quickchart('df-6f1e630a-0411-415a-9dab-45e383f4be62')\"\n",
              "            title=\"Suggest charts\"\n",
              "            style=\"display:none;\">\n",
              "\n",
              "<svg xmlns=\"http://www.w3.org/2000/svg\" height=\"24px\"viewBox=\"0 0 24 24\"\n",
              "     width=\"24px\">\n",
              "    <g>\n",
              "        <path d=\"M19 3H5c-1.1 0-2 .9-2 2v14c0 1.1.9 2 2 2h14c1.1 0 2-.9 2-2V5c0-1.1-.9-2-2-2zM9 17H7v-7h2v7zm4 0h-2V7h2v10zm4 0h-2v-4h2v4z\"/>\n",
              "    </g>\n",
              "</svg>\n",
              "  </button>\n",
              "\n",
              "<style>\n",
              "  .colab-df-quickchart {\n",
              "      --bg-color: #E8F0FE;\n",
              "      --fill-color: #1967D2;\n",
              "      --hover-bg-color: #E2EBFA;\n",
              "      --hover-fill-color: #174EA6;\n",
              "      --disabled-fill-color: #AAA;\n",
              "      --disabled-bg-color: #DDD;\n",
              "  }\n",
              "\n",
              "  [theme=dark] .colab-df-quickchart {\n",
              "      --bg-color: #3B4455;\n",
              "      --fill-color: #D2E3FC;\n",
              "      --hover-bg-color: #434B5C;\n",
              "      --hover-fill-color: #FFFFFF;\n",
              "      --disabled-bg-color: #3B4455;\n",
              "      --disabled-fill-color: #666;\n",
              "  }\n",
              "\n",
              "  .colab-df-quickchart {\n",
              "    background-color: var(--bg-color);\n",
              "    border: none;\n",
              "    border-radius: 50%;\n",
              "    cursor: pointer;\n",
              "    display: none;\n",
              "    fill: var(--fill-color);\n",
              "    height: 32px;\n",
              "    padding: 0;\n",
              "    width: 32px;\n",
              "  }\n",
              "\n",
              "  .colab-df-quickchart:hover {\n",
              "    background-color: var(--hover-bg-color);\n",
              "    box-shadow: 0 1px 2px rgba(60, 64, 67, 0.3), 0 1px 3px 1px rgba(60, 64, 67, 0.15);\n",
              "    fill: var(--button-hover-fill-color);\n",
              "  }\n",
              "\n",
              "  .colab-df-quickchart-complete:disabled,\n",
              "  .colab-df-quickchart-complete:disabled:hover {\n",
              "    background-color: var(--disabled-bg-color);\n",
              "    fill: var(--disabled-fill-color);\n",
              "    box-shadow: none;\n",
              "  }\n",
              "\n",
              "  .colab-df-spinner {\n",
              "    border: 2px solid var(--fill-color);\n",
              "    border-color: transparent;\n",
              "    border-bottom-color: var(--fill-color);\n",
              "    animation:\n",
              "      spin 1s steps(1) infinite;\n",
              "  }\n",
              "\n",
              "  @keyframes spin {\n",
              "    0% {\n",
              "      border-color: transparent;\n",
              "      border-bottom-color: var(--fill-color);\n",
              "      border-left-color: var(--fill-color);\n",
              "    }\n",
              "    20% {\n",
              "      border-color: transparent;\n",
              "      border-left-color: var(--fill-color);\n",
              "      border-top-color: var(--fill-color);\n",
              "    }\n",
              "    30% {\n",
              "      border-color: transparent;\n",
              "      border-left-color: var(--fill-color);\n",
              "      border-top-color: var(--fill-color);\n",
              "      border-right-color: var(--fill-color);\n",
              "    }\n",
              "    40% {\n",
              "      border-color: transparent;\n",
              "      border-right-color: var(--fill-color);\n",
              "      border-top-color: var(--fill-color);\n",
              "    }\n",
              "    60% {\n",
              "      border-color: transparent;\n",
              "      border-right-color: var(--fill-color);\n",
              "    }\n",
              "    80% {\n",
              "      border-color: transparent;\n",
              "      border-right-color: var(--fill-color);\n",
              "      border-bottom-color: var(--fill-color);\n",
              "    }\n",
              "    90% {\n",
              "      border-color: transparent;\n",
              "      border-bottom-color: var(--fill-color);\n",
              "    }\n",
              "  }\n",
              "</style>\n",
              "\n",
              "  <script>\n",
              "    async function quickchart(key) {\n",
              "      const quickchartButtonEl =\n",
              "        document.querySelector('#' + key + ' button');\n",
              "      quickchartButtonEl.disabled = true;  // To prevent multiple clicks.\n",
              "      quickchartButtonEl.classList.add('colab-df-spinner');\n",
              "      try {\n",
              "        const charts = await google.colab.kernel.invokeFunction(\n",
              "            'suggestCharts', [key], {});\n",
              "      } catch (error) {\n",
              "        console.error('Error during call to suggestCharts:', error);\n",
              "      }\n",
              "      quickchartButtonEl.classList.remove('colab-df-spinner');\n",
              "      quickchartButtonEl.classList.add('colab-df-quickchart-complete');\n",
              "    }\n",
              "    (() => {\n",
              "      let quickchartButtonEl =\n",
              "        document.querySelector('#df-6f1e630a-0411-415a-9dab-45e383f4be62 button');\n",
              "      quickchartButtonEl.style.display =\n",
              "        google.colab.kernel.accessAllowed ? 'block' : 'none';\n",
              "    })();\n",
              "  </script>\n",
              "</div>\n",
              "    </div>\n",
              "  </div>\n"
            ],
            "text/plain": [
              "                    montage  pilote_id  last_train_idx  len(train)  len(test)\n",
              "0  2023-05-15_16-16-08.palm          1           23337       23337       5810\n",
              "1  2023-05-15_17-12-24.palm          1           23336       23336       5803\n",
              "2  2023-06-05_16-12-38.palm          1           17939       17939       4431\n",
              "3  2023-06-05_17-53-01.palm          1           17771       17771       4435\n",
              "4  2023-06-20_14-43-11.palm          1           17936       17936       4441"
            ]
          },
          "execution_count": 33,
          "metadata": {},
          "output_type": "execute_result"
        }
      ],
      "source": [
        "df_meta = pd.read_csv('/content/data/meta_information.csv', index_col=0)\n",
        "df_meta.head()"
      ]
    },
    {
      "cell_type": "code",
      "execution_count": null,
      "metadata": {
        "colab": {
          "base_uri": "https://localhost:8080/"
        },
        "id": "ghEZufKnE1_y",
        "outputId": "31d80622-a27f-403f-cef2-73fb30a09aa5"
      },
      "outputs": [
        {
          "data": {
            "text/plain": [
              "2023-05-15_16-16-08.palm                   1\n",
              "2023-05-22_17-04-29.palm                   1\n",
              "2023-10-18_08-05-29.palm                   1\n",
              "2023-10-23_10-11-45.palm                   1\n",
              "2023-10-23_14-07-13.palm                   1\n",
              "2023-10-23_16-23-02.palm                   1\n",
              "2023-10-25_08-52-30.palm                   1\n",
              "patched_2023-10-25_09-44-02.palm           1\n",
              "2023-10-25_11-08-46.palm                   1\n",
              "2023-05-05_17-57-30.palm                   1\n",
              "2023-05-12_19-17-00.palm                   1\n",
              "2023-05-07_15-19-05.palm                   1\n",
              "2023-05-07_16-54-27.palm                   1\n",
              "2023-04-18_19-08-47 gestures train.palm    1\n",
              "2023-05-19_12-04-02.palm                   1\n",
              "2023-05-22_20-22-01.palm                   1\n",
              "2023-05-15_17-12-24.palm                   1\n",
              "2023-05-31_15-46-37.palm                   1\n",
              "2023-05-31_17-14-41.palm                   1\n",
              "2023-09-12_12-55-22.palm                   1\n",
              "2023-09-12_14-59-23.palm                   1\n",
              "2023-09-13_22-14-05.palm                   1\n",
              "2023-09-29_09-20-47.palm                   1\n",
              "2023-09-29_11-03-50.palm                   1\n",
              "2023-09-30_08-06-44.palm                   1\n",
              "2023-06-20_12-34-17.palm                   1\n",
              "2023-06-20_13-30-15.palm                   1\n",
              "2023-06-20_14-43-11.palm                   1\n",
              "2023-06-05_17-53-01.palm                   1\n",
              "2023-06-05_16-12-38.palm                   1\n",
              "2023-10-18_11-16-21.palm                   1\n",
              "Name: montage, dtype: int64"
            ]
          },
          "execution_count": 34,
          "metadata": {},
          "output_type": "execute_result"
        }
      ],
      "source": [
        "df_meta['montage'].value_counts()"
      ]
    },
    {
      "cell_type": "code",
      "execution_count": null,
      "metadata": {
        "id": "FHEeYVNbJQVe"
      },
      "outputs": [],
      "source": [
        "# for num, name in enumerate(filename_list):\n",
        "#   if name[-4:] == 'palm':\n",
        "#     palm_file = f'/content/data/{name}'\n",
        "#     pilot_num = df_meta[df_meta['montage'] == name]['pilote_id']\n",
        "#     # print(list(pilot_num)[0])\n",
        "#     globals()[f'gestures_{num}_{list(pilot_num)[0]}'] = read_omg_csv(palm_file,\n",
        "#                               n_omg_channels=50,\n",
        "#                               n_acc_channels=3,\n",
        "#                               n_gyr_channels=3,\n",
        "#                               n_enc_channels=6,\n",
        "#                               n_mag_channels=0)\n",
        "#     print(f'gestures_{num}_{list(pilot_num)[0]}')\n",
        "#     # y = f'gestures_{num}_{list(pilot_num)[0]}'\n",
        "#     # exec('y.shape')"
      ]
    },
    {
      "cell_type": "code",
      "execution_count": null,
      "metadata": {
        "colab": {
          "base_uri": "https://localhost:8080/"
        },
        "id": "mzfyTMZY8Tda",
        "outputId": "21b90ead-72a1-47d9-891a-a554256ae223"
      },
      "outputs": [
        {
          "name": "stdout",
          "output_type": "stream",
          "text": [
            "OMG_CH: ['0', '1', '2', '3', '4', '5', '6', '7', '8', '9', '10', '11', '12', '13', '14', '15', '16', '17', '18', '19', '20', '21', '22', '23', '24', '25', '26', '27', '28', '29', '30', '31', '32', '33', '34', '35', '36', '37', '38', '39', '40', '41', '42', '43', '44', '45', '46', '47', '48', '49']\n",
            "ACC_CH: ['ACC0', 'ACC1', 'ACC2']\n",
            "GYR_CH: ['GYR0', 'GYR1', 'GYR2']\n",
            "ENC_CH: ['ENC0', 'ENC1', 'ENC2', 'ENC3', 'ENC4', 'ENC5']\n",
            "BUTTON_SYNC_TS_CH: ['BUTTON', 'SYNC', 'ts']\n"
          ]
        }
      ],
      "source": [
        "OMG_CH = [str(i) for i in range(50)]\n",
        "\n",
        "ACC_CH = ['ACC0', 'ACC1', 'ACC2']\n",
        "GYR_CH = ['GYR0', 'GYR1', 'GYR2']\n",
        "ENC_CH = ['ENC0', 'ENC1', 'ENC2', 'ENC3', 'ENC4', 'ENC5']\n",
        "BUTTON_SYNC_TS_CH = ['BUTTON', 'SYNC', 'ts']\n",
        "\n",
        "#gestures[OMG_CH + ACC_CH + GYR_CH + ENC_CH]\n",
        "\n",
        "# assert len(OMG_CH)+len(ACC_CH)+len(GYR_CH)+len(ENC_CH)+len(BUTTON_SYNC_TS_CH) == gestures.shape[-1]\n",
        "\n",
        "print(f\"OMG_CH: {list(OMG_CH)}\")\n",
        "print(f\"ACC_CH: {list(ACC_CH)}\")\n",
        "print(f\"GYR_CH: {list(GYR_CH)}\")\n",
        "print(f\"ENC_CH: {list(ENC_CH)}\")\n",
        "print(f\"BUTTON_SYNC_TS_CH: {list(BUTTON_SYNC_TS_CH)}\")"
      ]
    },
    {
      "cell_type": "code",
      "execution_count": null,
      "metadata": {
        "colab": {
          "base_uri": "https://localhost:8080/"
        },
        "id": "SGxBQLOrNuA-",
        "outputId": "da0a6e9b-dfff-4e85-b8fe-5f9cde6a5913"
      },
      "outputs": [
        {
          "name": "stdout",
          "output_type": "stream",
          "text": [
            "(169790, 67) (252665, 67) (77002, 67) (26648, 67)\n"
          ]
        }
      ],
      "source": [
        "list_table = []\n",
        "table_1 = pd.DataFrame()\n",
        "table_2 = pd.DataFrame()\n",
        "table_3 = pd.DataFrame()\n",
        "table_4 = pd.DataFrame()\n",
        "for name in filename_list:\n",
        "  # если в названии файла есть protocol\n",
        "  if name[-12:-4] == 'protocol':\n",
        "    # работать будем с этим файлом\n",
        "    palm_file = f'/content/data/{name}'\n",
        "    # определяем номер пилота\n",
        "    pilot_num = df_meta[df_meta['montage'] == name[:-13]]['pilote_id']\n",
        "    # определяем имя будущего файла\n",
        "    table_name = f'protocol_{name[-23:-18]}_{list(pilot_num)[0]}'\n",
        "    # Создаем объект с динамическим именем и устанавливаем его атрибут\n",
        "    # Загружаем нужный файл в таблицу\n",
        "    setattr(pd, table_name, pd.read_csv(f'{palm_file}', index_col=0))\n",
        "    # FIT\n",
        "    transform_table = getattr(pd, table_name)\n",
        "    le.fit(\n",
        "        transform_table[[\n",
        "            \"Thumb\",\"Index\",\"Middle\",\"Ring\",\"Pinky\",\n",
        "            'Thumb_stretch','Index_stretch','Middle_stretch','Ring_stretch','Pinky_stretch'\n",
        "        ]]\n",
        "        .apply(lambda row: str(tuple(row)), axis=1)\n",
        "    )\n",
        "\n",
        "    # TRANSFORM\n",
        "    transform_table['gesture'] = le.transform(\n",
        "        transform_table[[\n",
        "            \"Thumb\",\"Index\",\"Middle\",\"Ring\",\"Pinky\",\n",
        "            'Thumb_stretch','Index_stretch','Middle_stretch','Ring_stretch','Pinky_stretch'\n",
        "        ]]\n",
        "        .apply(lambda row: str(tuple(row)), axis=1)\n",
        "    )\n",
        "\n",
        "    # теперь находим файл испытаний, соответствующему испытаниям\n",
        "    palm_file = f'/content/data/{name[:-13]}'\n",
        "    # Создаем объект с динамическим именем и устанавливаем его атрибут\n",
        "    # название файла с наблюдениями\n",
        "    gest_table_name = f'gestures_{name[-23:-18]}_{list(pilot_num)[0]}'\n",
        "    setattr(pd, gest_table_name, read_omg_csv(palm_file,\n",
        "                            n_omg_channels=50,\n",
        "                            n_acc_channels=3,\n",
        "                            n_gyr_channels=3,\n",
        "                            n_enc_channels=6,\n",
        "                            n_mag_channels=0))\n",
        "    gest = getattr(pd, gest_table_name)\n",
        "\n",
        "    # синхронизируем файл испытаний и протокол\n",
        "    sync_name = f'y_cmd_{name[-23:-18]}_{list(pilot_num)[0]}'\n",
        "    setattr(pd, sync_name, np.array([transform_table['gesture'].loc[s] for s in gest['SYNC'].values]))\n",
        "    y_prot = getattr(pd, sync_name)\n",
        "\n",
        "    # находим наилучший временной сдвиг для конкретной пары наблюдения-протокол\n",
        "    best_shift = shift_definition(gest[OMG_CH + ACC_CH + GYR_CH + ENC_CH], y_prot)\n",
        "     # сдвигаем данные в соответсвии с найденным сдвигом\n",
        "    y_prot = pd.DataFrame(y_prot)\n",
        "    y_prot = y_prot.shift(best_shift).fillna(0)\n",
        "    y_prot.columns = ['gest']\n",
        "    y_prot['name'] = name[-23:-18]\n",
        "    # # стандартизируем таблицу наблюдений\n",
        "    # # сохраним названия столбцов\n",
        "    # gest_columns = gest.columns\n",
        "    # gest = StandardScaler().fit_transform(gest)\n",
        "    # gest = pd.DataFrame(gest, columns = gest_columns)\n",
        "    # # рассчитываем производные значений временных датчиков\n",
        "    # gestures_der = add_feature_derivative(gest)\n",
        "    # # суммируем модули значений производных\n",
        "    # gestures_der_sum = abs(gestures_der).sum(axis = 1)\n",
        "\n",
        "    # объединяем файлы по пилотам\n",
        "    # имя для объединенной таблицы\n",
        "    table_name_concat = f'concat_{name[-23:-18]}_{list(pilot_num)[0]}'\n",
        "    setattr(pd, table_name_concat, pd.concat([gest, y_prot], axis=1).dropna())\n",
        "    # print(table_name_concat)\n",
        "    table_concat = getattr(pd, table_name_concat)\n",
        "    if list(pilot_num)[0] == 1:\n",
        "      table_1 = pd.concat([table_concat, table_1])\n",
        "    elif list(pilot_num)[0]== 2:\n",
        "      table_2 = pd.concat([table_concat, table_2])\n",
        "    elif list(pilot_num)[0]== 3:\n",
        "      table_3 = pd.concat([table_concat, table_3])\n",
        "    elif list(pilot_num)[0]== 4:\n",
        "      table_4 = pd.concat([table_concat, table_4])\n",
        "\n",
        "print(table_1.shape, table_2.shape, table_3.shape, table_4.shape)\n",
        "# print(list_table)"
      ]
    },
    {
      "cell_type": "code",
      "execution_count": null,
      "metadata": {
        "colab": {
          "base_uri": "https://localhost:8080/",
          "height": 86
        },
        "id": "2zFUzBHVWmQF",
        "outputId": "5a4fe5d2-08c6-4903-eed7-9997ed73e5ae"
      },
      "outputs": [
        {
          "data": {
            "application/javascript": "\n    async function download(id, filename, size) {\n      if (!google.colab.kernel.accessAllowed) {\n        return;\n      }\n      const div = document.createElement('div');\n      const label = document.createElement('label');\n      label.textContent = `Downloading \"${filename}\": `;\n      div.appendChild(label);\n      const progress = document.createElement('progress');\n      progress.max = size;\n      div.appendChild(progress);\n      document.body.appendChild(div);\n\n      const buffers = [];\n      let downloaded = 0;\n\n      const channel = await google.colab.kernel.comms.open(id);\n      // Send a message to notify the kernel that we're ready.\n      channel.send({})\n\n      for await (const message of channel.messages) {\n        // Send a message to notify the kernel that we're ready.\n        channel.send({})\n        if (message.buffers) {\n          for (const buffer of message.buffers) {\n            buffers.push(buffer);\n            downloaded += buffer.byteLength;\n            progress.value = downloaded;\n          }\n        }\n      }\n      const blob = new Blob(buffers, {type: 'application/binary'});\n      const a = document.createElement('a');\n      a.href = window.URL.createObjectURL(blob);\n      a.download = filename;\n      div.appendChild(a);\n      a.click();\n      div.remove();\n    }\n  ",
            "text/plain": [
              "<IPython.core.display.Javascript object>"
            ]
          },
          "metadata": {},
          "output_type": "display_data"
        },
        {
          "data": {
            "application/javascript": "download(\"download_0fe9f850-9d6b-4e1f-9534-88c4f3200984\", \"table_1\", 91348642)",
            "text/plain": [
              "<IPython.core.display.Javascript object>"
            ]
          },
          "metadata": {},
          "output_type": "display_data"
        },
        {
          "data": {
            "application/javascript": "\n    async function download(id, filename, size) {\n      if (!google.colab.kernel.accessAllowed) {\n        return;\n      }\n      const div = document.createElement('div');\n      const label = document.createElement('label');\n      label.textContent = `Downloading \"${filename}\": `;\n      div.appendChild(label);\n      const progress = document.createElement('progress');\n      progress.max = size;\n      div.appendChild(progress);\n      document.body.appendChild(div);\n\n      const buffers = [];\n      let downloaded = 0;\n\n      const channel = await google.colab.kernel.comms.open(id);\n      // Send a message to notify the kernel that we're ready.\n      channel.send({})\n\n      for await (const message of channel.messages) {\n        // Send a message to notify the kernel that we're ready.\n        channel.send({})\n        if (message.buffers) {\n          for (const buffer of message.buffers) {\n            buffers.push(buffer);\n            downloaded += buffer.byteLength;\n            progress.value = downloaded;\n          }\n        }\n      }\n      const blob = new Blob(buffers, {type: 'application/binary'});\n      const a = document.createElement('a');\n      a.href = window.URL.createObjectURL(blob);\n      a.download = filename;\n      div.appendChild(a);\n      a.click();\n      div.remove();\n    }\n  ",
            "text/plain": [
              "<IPython.core.display.Javascript object>"
            ]
          },
          "metadata": {},
          "output_type": "display_data"
        },
        {
          "data": {
            "application/javascript": "download(\"download_6e022b2e-223b-4422-a26d-df1a9b552b9c\", \"table_2\", 135935648)",
            "text/plain": [
              "<IPython.core.display.Javascript object>"
            ]
          },
          "metadata": {},
          "output_type": "display_data"
        },
        {
          "data": {
            "application/javascript": "\n    async function download(id, filename, size) {\n      if (!google.colab.kernel.accessAllowed) {\n        return;\n      }\n      const div = document.createElement('div');\n      const label = document.createElement('label');\n      label.textContent = `Downloading \"${filename}\": `;\n      div.appendChild(label);\n      const progress = document.createElement('progress');\n      progress.max = size;\n      div.appendChild(progress);\n      document.body.appendChild(div);\n\n      const buffers = [];\n      let downloaded = 0;\n\n      const channel = await google.colab.kernel.comms.open(id);\n      // Send a message to notify the kernel that we're ready.\n      channel.send({})\n\n      for await (const message of channel.messages) {\n        // Send a message to notify the kernel that we're ready.\n        channel.send({})\n        if (message.buffers) {\n          for (const buffer of message.buffers) {\n            buffers.push(buffer);\n            downloaded += buffer.byteLength;\n            progress.value = downloaded;\n          }\n        }\n      }\n      const blob = new Blob(buffers, {type: 'application/binary'});\n      const a = document.createElement('a');\n      a.href = window.URL.createObjectURL(blob);\n      a.download = filename;\n      div.appendChild(a);\n      a.click();\n      div.remove();\n    }\n  ",
            "text/plain": [
              "<IPython.core.display.Javascript object>"
            ]
          },
          "metadata": {},
          "output_type": "display_data"
        },
        {
          "data": {
            "application/javascript": "download(\"download_47d8da9b-3145-42c0-9e53-22df36faa6b0\", \"table_3\", 41428469)",
            "text/plain": [
              "<IPython.core.display.Javascript object>"
            ]
          },
          "metadata": {},
          "output_type": "display_data"
        },
        {
          "data": {
            "application/javascript": "\n    async function download(id, filename, size) {\n      if (!google.colab.kernel.accessAllowed) {\n        return;\n      }\n      const div = document.createElement('div');\n      const label = document.createElement('label');\n      label.textContent = `Downloading \"${filename}\": `;\n      div.appendChild(label);\n      const progress = document.createElement('progress');\n      progress.max = size;\n      div.appendChild(progress);\n      document.body.appendChild(div);\n\n      const buffers = [];\n      let downloaded = 0;\n\n      const channel = await google.colab.kernel.comms.open(id);\n      // Send a message to notify the kernel that we're ready.\n      channel.send({})\n\n      for await (const message of channel.messages) {\n        // Send a message to notify the kernel that we're ready.\n        channel.send({})\n        if (message.buffers) {\n          for (const buffer of message.buffers) {\n            buffers.push(buffer);\n            downloaded += buffer.byteLength;\n            progress.value = downloaded;\n          }\n        }\n      }\n      const blob = new Blob(buffers, {type: 'application/binary'});\n      const a = document.createElement('a');\n      a.href = window.URL.createObjectURL(blob);\n      a.download = filename;\n      div.appendChild(a);\n      a.click();\n      div.remove();\n    }\n  ",
            "text/plain": [
              "<IPython.core.display.Javascript object>"
            ]
          },
          "metadata": {},
          "output_type": "display_data"
        },
        {
          "data": {
            "application/javascript": "download(\"download_2aba1d21-9e99-49cd-86a7-fb08f3e4ae6b\", \"table_4\", 14124669)",
            "text/plain": [
              "<IPython.core.display.Javascript object>"
            ]
          },
          "metadata": {},
          "output_type": "display_data"
        }
      ],
      "source": [
        "# Сериализация\n",
        "import pickle\n",
        "with open('table_1', 'wb') as fp:\n",
        "    pickle.dump(table_1, fp)\n",
        "with open('table_2', 'wb') as fp:\n",
        "    pickle.dump(table_2, fp)\n",
        "with open('table_3', 'wb') as fp:\n",
        "    pickle.dump(table_3, fp)\n",
        "with open('table_4', 'wb') as fp:\n",
        "    pickle.dump(table_4, fp)\n",
        "\n",
        "# Скачивание из colab на локальный компьютер\n",
        "from google.colab import files\n",
        "files.download('table_1')\n",
        "files.download('table_2')\n",
        "files.download('table_3')\n",
        "files.download('table_4')"
      ]
    },
    {
      "cell_type": "code",
      "execution_count": null,
      "metadata": {
        "colab": {
          "base_uri": "https://localhost:8080/",
          "height": 236
        },
        "id": "cu7zNeu3SvR7",
        "outputId": "83ff2f68-14ca-4b0f-80c8-51a9ab975f74"
      },
      "outputs": [
        {
          "data": {
            "application/vnd.google.colaboratory.intrinsic+json": {
              "type": "dataframe",
              "variable_name": "table_1"
            },
            "text/html": [
              "\n",
              "  <div id=\"df-29cc01e1-8a70-4ef8-887f-9119b14c97f3\" class=\"colab-df-container\">\n",
              "    <div>\n",
              "<style scoped>\n",
              "    .dataframe tbody tr th:only-of-type {\n",
              "        vertical-align: middle;\n",
              "    }\n",
              "\n",
              "    .dataframe tbody tr th {\n",
              "        vertical-align: top;\n",
              "    }\n",
              "\n",
              "    .dataframe thead th {\n",
              "        text-align: right;\n",
              "    }\n",
              "</style>\n",
              "<table border=\"1\" class=\"dataframe\">\n",
              "  <thead>\n",
              "    <tr style=\"text-align: right;\">\n",
              "      <th></th>\n",
              "      <th>0</th>\n",
              "      <th>1</th>\n",
              "      <th>2</th>\n",
              "      <th>3</th>\n",
              "      <th>4</th>\n",
              "      <th>5</th>\n",
              "      <th>6</th>\n",
              "      <th>7</th>\n",
              "      <th>8</th>\n",
              "      <th>9</th>\n",
              "      <th>...</th>\n",
              "      <th>ENC1</th>\n",
              "      <th>ENC2</th>\n",
              "      <th>ENC3</th>\n",
              "      <th>ENC4</th>\n",
              "      <th>ENC5</th>\n",
              "      <th>BUTTON</th>\n",
              "      <th>SYNC</th>\n",
              "      <th>ts</th>\n",
              "      <th>gest</th>\n",
              "      <th>name</th>\n",
              "    </tr>\n",
              "  </thead>\n",
              "  <tbody>\n",
              "    <tr>\n",
              "      <th>0</th>\n",
              "      <td>6</td>\n",
              "      <td>3</td>\n",
              "      <td>11</td>\n",
              "      <td>2455</td>\n",
              "      <td>3160</td>\n",
              "      <td>1</td>\n",
              "      <td>1573</td>\n",
              "      <td>7</td>\n",
              "      <td>4</td>\n",
              "      <td>1</td>\n",
              "      <td>...</td>\n",
              "      <td>0</td>\n",
              "      <td>0</td>\n",
              "      <td>0</td>\n",
              "      <td>0</td>\n",
              "      <td>0</td>\n",
              "      <td>0</td>\n",
              "      <td>0</td>\n",
              "      <td>129186</td>\n",
              "      <td>0.0</td>\n",
              "      <td>12-24</td>\n",
              "    </tr>\n",
              "    <tr>\n",
              "      <th>1</th>\n",
              "      <td>6</td>\n",
              "      <td>0</td>\n",
              "      <td>12</td>\n",
              "      <td>2454</td>\n",
              "      <td>3158</td>\n",
              "      <td>1</td>\n",
              "      <td>1574</td>\n",
              "      <td>8</td>\n",
              "      <td>12</td>\n",
              "      <td>6</td>\n",
              "      <td>...</td>\n",
              "      <td>0</td>\n",
              "      <td>0</td>\n",
              "      <td>0</td>\n",
              "      <td>0</td>\n",
              "      <td>0</td>\n",
              "      <td>0</td>\n",
              "      <td>0</td>\n",
              "      <td>129219</td>\n",
              "      <td>0.0</td>\n",
              "      <td>12-24</td>\n",
              "    </tr>\n",
              "    <tr>\n",
              "      <th>2</th>\n",
              "      <td>10</td>\n",
              "      <td>2</td>\n",
              "      <td>13</td>\n",
              "      <td>2461</td>\n",
              "      <td>3165</td>\n",
              "      <td>1</td>\n",
              "      <td>1579</td>\n",
              "      <td>9</td>\n",
              "      <td>5</td>\n",
              "      <td>4</td>\n",
              "      <td>...</td>\n",
              "      <td>0</td>\n",
              "      <td>0</td>\n",
              "      <td>0</td>\n",
              "      <td>0</td>\n",
              "      <td>0</td>\n",
              "      <td>0</td>\n",
              "      <td>0</td>\n",
              "      <td>129252</td>\n",
              "      <td>0.0</td>\n",
              "      <td>12-24</td>\n",
              "    </tr>\n",
              "    <tr>\n",
              "      <th>3</th>\n",
              "      <td>5</td>\n",
              "      <td>4</td>\n",
              "      <td>10</td>\n",
              "      <td>2453</td>\n",
              "      <td>3160</td>\n",
              "      <td>11</td>\n",
              "      <td>1575</td>\n",
              "      <td>8</td>\n",
              "      <td>12</td>\n",
              "      <td>5</td>\n",
              "      <td>...</td>\n",
              "      <td>0</td>\n",
              "      <td>0</td>\n",
              "      <td>0</td>\n",
              "      <td>0</td>\n",
              "      <td>0</td>\n",
              "      <td>0</td>\n",
              "      <td>0</td>\n",
              "      <td>129285</td>\n",
              "      <td>0.0</td>\n",
              "      <td>12-24</td>\n",
              "    </tr>\n",
              "    <tr>\n",
              "      <th>4</th>\n",
              "      <td>7</td>\n",
              "      <td>3</td>\n",
              "      <td>15</td>\n",
              "      <td>2454</td>\n",
              "      <td>3157</td>\n",
              "      <td>1</td>\n",
              "      <td>1575</td>\n",
              "      <td>8</td>\n",
              "      <td>8</td>\n",
              "      <td>2</td>\n",
              "      <td>...</td>\n",
              "      <td>0</td>\n",
              "      <td>0</td>\n",
              "      <td>0</td>\n",
              "      <td>0</td>\n",
              "      <td>0</td>\n",
              "      <td>0</td>\n",
              "      <td>0</td>\n",
              "      <td>129318</td>\n",
              "      <td>0.0</td>\n",
              "      <td>12-24</td>\n",
              "    </tr>\n",
              "  </tbody>\n",
              "</table>\n",
              "<p>5 rows × 67 columns</p>\n",
              "</div>\n",
              "    <div class=\"colab-df-buttons\">\n",
              "\n",
              "  <div class=\"colab-df-container\">\n",
              "    <button class=\"colab-df-convert\" onclick=\"convertToInteractive('df-29cc01e1-8a70-4ef8-887f-9119b14c97f3')\"\n",
              "            title=\"Convert this dataframe to an interactive table.\"\n",
              "            style=\"display:none;\">\n",
              "\n",
              "  <svg xmlns=\"http://www.w3.org/2000/svg\" height=\"24px\" viewBox=\"0 -960 960 960\">\n",
              "    <path d=\"M120-120v-720h720v720H120Zm60-500h600v-160H180v160Zm220 220h160v-160H400v160Zm0 220h160v-160H400v160ZM180-400h160v-160H180v160Zm440 0h160v-160H620v160ZM180-180h160v-160H180v160Zm440 0h160v-160H620v160Z\"/>\n",
              "  </svg>\n",
              "    </button>\n",
              "\n",
              "  <style>\n",
              "    .colab-df-container {\n",
              "      display:flex;\n",
              "      gap: 12px;\n",
              "    }\n",
              "\n",
              "    .colab-df-convert {\n",
              "      background-color: #E8F0FE;\n",
              "      border: none;\n",
              "      border-radius: 50%;\n",
              "      cursor: pointer;\n",
              "      display: none;\n",
              "      fill: #1967D2;\n",
              "      height: 32px;\n",
              "      padding: 0 0 0 0;\n",
              "      width: 32px;\n",
              "    }\n",
              "\n",
              "    .colab-df-convert:hover {\n",
              "      background-color: #E2EBFA;\n",
              "      box-shadow: 0px 1px 2px rgba(60, 64, 67, 0.3), 0px 1px 3px 1px rgba(60, 64, 67, 0.15);\n",
              "      fill: #174EA6;\n",
              "    }\n",
              "\n",
              "    .colab-df-buttons div {\n",
              "      margin-bottom: 4px;\n",
              "    }\n",
              "\n",
              "    [theme=dark] .colab-df-convert {\n",
              "      background-color: #3B4455;\n",
              "      fill: #D2E3FC;\n",
              "    }\n",
              "\n",
              "    [theme=dark] .colab-df-convert:hover {\n",
              "      background-color: #434B5C;\n",
              "      box-shadow: 0px 1px 3px 1px rgba(0, 0, 0, 0.15);\n",
              "      filter: drop-shadow(0px 1px 2px rgba(0, 0, 0, 0.3));\n",
              "      fill: #FFFFFF;\n",
              "    }\n",
              "  </style>\n",
              "\n",
              "    <script>\n",
              "      const buttonEl =\n",
              "        document.querySelector('#df-29cc01e1-8a70-4ef8-887f-9119b14c97f3 button.colab-df-convert');\n",
              "      buttonEl.style.display =\n",
              "        google.colab.kernel.accessAllowed ? 'block' : 'none';\n",
              "\n",
              "      async function convertToInteractive(key) {\n",
              "        const element = document.querySelector('#df-29cc01e1-8a70-4ef8-887f-9119b14c97f3');\n",
              "        const dataTable =\n",
              "          await google.colab.kernel.invokeFunction('convertToInteractive',\n",
              "                                                    [key], {});\n",
              "        if (!dataTable) return;\n",
              "\n",
              "        const docLinkHtml = 'Like what you see? Visit the ' +\n",
              "          '<a target=\"_blank\" href=https://colab.research.google.com/notebooks/data_table.ipynb>data table notebook</a>'\n",
              "          + ' to learn more about interactive tables.';\n",
              "        element.innerHTML = '';\n",
              "        dataTable['output_type'] = 'display_data';\n",
              "        await google.colab.output.renderOutput(dataTable, element);\n",
              "        const docLink = document.createElement('div');\n",
              "        docLink.innerHTML = docLinkHtml;\n",
              "        element.appendChild(docLink);\n",
              "      }\n",
              "    </script>\n",
              "  </div>\n",
              "\n",
              "\n",
              "<div id=\"df-956fcfbb-6e03-4913-8663-5bf136e1870e\">\n",
              "  <button class=\"colab-df-quickchart\" onclick=\"quickchart('df-956fcfbb-6e03-4913-8663-5bf136e1870e')\"\n",
              "            title=\"Suggest charts\"\n",
              "            style=\"display:none;\">\n",
              "\n",
              "<svg xmlns=\"http://www.w3.org/2000/svg\" height=\"24px\"viewBox=\"0 0 24 24\"\n",
              "     width=\"24px\">\n",
              "    <g>\n",
              "        <path d=\"M19 3H5c-1.1 0-2 .9-2 2v14c0 1.1.9 2 2 2h14c1.1 0 2-.9 2-2V5c0-1.1-.9-2-2-2zM9 17H7v-7h2v7zm4 0h-2V7h2v10zm4 0h-2v-4h2v4z\"/>\n",
              "    </g>\n",
              "</svg>\n",
              "  </button>\n",
              "\n",
              "<style>\n",
              "  .colab-df-quickchart {\n",
              "      --bg-color: #E8F0FE;\n",
              "      --fill-color: #1967D2;\n",
              "      --hover-bg-color: #E2EBFA;\n",
              "      --hover-fill-color: #174EA6;\n",
              "      --disabled-fill-color: #AAA;\n",
              "      --disabled-bg-color: #DDD;\n",
              "  }\n",
              "\n",
              "  [theme=dark] .colab-df-quickchart {\n",
              "      --bg-color: #3B4455;\n",
              "      --fill-color: #D2E3FC;\n",
              "      --hover-bg-color: #434B5C;\n",
              "      --hover-fill-color: #FFFFFF;\n",
              "      --disabled-bg-color: #3B4455;\n",
              "      --disabled-fill-color: #666;\n",
              "  }\n",
              "\n",
              "  .colab-df-quickchart {\n",
              "    background-color: var(--bg-color);\n",
              "    border: none;\n",
              "    border-radius: 50%;\n",
              "    cursor: pointer;\n",
              "    display: none;\n",
              "    fill: var(--fill-color);\n",
              "    height: 32px;\n",
              "    padding: 0;\n",
              "    width: 32px;\n",
              "  }\n",
              "\n",
              "  .colab-df-quickchart:hover {\n",
              "    background-color: var(--hover-bg-color);\n",
              "    box-shadow: 0 1px 2px rgba(60, 64, 67, 0.3), 0 1px 3px 1px rgba(60, 64, 67, 0.15);\n",
              "    fill: var(--button-hover-fill-color);\n",
              "  }\n",
              "\n",
              "  .colab-df-quickchart-complete:disabled,\n",
              "  .colab-df-quickchart-complete:disabled:hover {\n",
              "    background-color: var(--disabled-bg-color);\n",
              "    fill: var(--disabled-fill-color);\n",
              "    box-shadow: none;\n",
              "  }\n",
              "\n",
              "  .colab-df-spinner {\n",
              "    border: 2px solid var(--fill-color);\n",
              "    border-color: transparent;\n",
              "    border-bottom-color: var(--fill-color);\n",
              "    animation:\n",
              "      spin 1s steps(1) infinite;\n",
              "  }\n",
              "\n",
              "  @keyframes spin {\n",
              "    0% {\n",
              "      border-color: transparent;\n",
              "      border-bottom-color: var(--fill-color);\n",
              "      border-left-color: var(--fill-color);\n",
              "    }\n",
              "    20% {\n",
              "      border-color: transparent;\n",
              "      border-left-color: var(--fill-color);\n",
              "      border-top-color: var(--fill-color);\n",
              "    }\n",
              "    30% {\n",
              "      border-color: transparent;\n",
              "      border-left-color: var(--fill-color);\n",
              "      border-top-color: var(--fill-color);\n",
              "      border-right-color: var(--fill-color);\n",
              "    }\n",
              "    40% {\n",
              "      border-color: transparent;\n",
              "      border-right-color: var(--fill-color);\n",
              "      border-top-color: var(--fill-color);\n",
              "    }\n",
              "    60% {\n",
              "      border-color: transparent;\n",
              "      border-right-color: var(--fill-color);\n",
              "    }\n",
              "    80% {\n",
              "      border-color: transparent;\n",
              "      border-right-color: var(--fill-color);\n",
              "      border-bottom-color: var(--fill-color);\n",
              "    }\n",
              "    90% {\n",
              "      border-color: transparent;\n",
              "      border-bottom-color: var(--fill-color);\n",
              "    }\n",
              "  }\n",
              "</style>\n",
              "\n",
              "  <script>\n",
              "    async function quickchart(key) {\n",
              "      const quickchartButtonEl =\n",
              "        document.querySelector('#' + key + ' button');\n",
              "      quickchartButtonEl.disabled = true;  // To prevent multiple clicks.\n",
              "      quickchartButtonEl.classList.add('colab-df-spinner');\n",
              "      try {\n",
              "        const charts = await google.colab.kernel.invokeFunction(\n",
              "            'suggestCharts', [key], {});\n",
              "      } catch (error) {\n",
              "        console.error('Error during call to suggestCharts:', error);\n",
              "      }\n",
              "      quickchartButtonEl.classList.remove('colab-df-spinner');\n",
              "      quickchartButtonEl.classList.add('colab-df-quickchart-complete');\n",
              "    }\n",
              "    (() => {\n",
              "      let quickchartButtonEl =\n",
              "        document.querySelector('#df-956fcfbb-6e03-4913-8663-5bf136e1870e button');\n",
              "      quickchartButtonEl.style.display =\n",
              "        google.colab.kernel.accessAllowed ? 'block' : 'none';\n",
              "    })();\n",
              "  </script>\n",
              "</div>\n",
              "    </div>\n",
              "  </div>\n"
            ],
            "text/plain": [
              "    0  1   2     3     4   5     6  7   8  9  ...  ENC1  ENC2  ENC3  ENC4  \\\n",
              "0   6  3  11  2455  3160   1  1573  7   4  1  ...     0     0     0     0   \n",
              "1   6  0  12  2454  3158   1  1574  8  12  6  ...     0     0     0     0   \n",
              "2  10  2  13  2461  3165   1  1579  9   5  4  ...     0     0     0     0   \n",
              "3   5  4  10  2453  3160  11  1575  8  12  5  ...     0     0     0     0   \n",
              "4   7  3  15  2454  3157   1  1575  8   8  2  ...     0     0     0     0   \n",
              "\n",
              "   ENC5  BUTTON  SYNC      ts  gest   name  \n",
              "0     0       0     0  129186   0.0  12-24  \n",
              "1     0       0     0  129219   0.0  12-24  \n",
              "2     0       0     0  129252   0.0  12-24  \n",
              "3     0       0     0  129285   0.0  12-24  \n",
              "4     0       0     0  129318   0.0  12-24  \n",
              "\n",
              "[5 rows x 67 columns]"
            ]
          },
          "execution_count": 19,
          "metadata": {},
          "output_type": "execute_result"
        }
      ],
      "source": [
        "table_1.head()"
      ]
    },
    {
      "cell_type": "code",
      "execution_count": null,
      "metadata": {
        "colab": {
          "base_uri": "https://localhost:8080/"
        },
        "id": "WMKizq2EVIGx",
        "outputId": "0ceab498-f469-4185-efc3-28735e15f61e"
      },
      "outputs": [
        {
          "data": {
            "text/plain": [
              "0.0    103628\n",
              "1.0     13266\n",
              "5.0     13246\n",
              "4.0     13238\n",
              "3.0     13228\n",
              "2.0     13184\n",
              "Name: gest, dtype: int64"
            ]
          },
          "execution_count": 20,
          "metadata": {},
          "output_type": "execute_result"
        }
      ],
      "source": [
        "table_1['gest'].value_counts()"
      ]
    },
    {
      "cell_type": "code",
      "execution_count": null,
      "metadata": {
        "id": "CjMi4Lp5VeXQ"
      },
      "outputs": [],
      "source": [
        "table_1.drop(columns = ['ENC1','ENC2','ENC3', 'ENC4', 'ENC5', 'BUTTON', 'SYNC', 'ts'], inplace=True)"
      ]
    },
    {
      "cell_type": "markdown",
      "metadata": {
        "id": "abP3o4NdPoe5"
      },
      "source": []
    },
    {
      "cell_type": "code",
      "execution_count": null,
      "metadata": {
        "colab": {
          "base_uri": "https://localhost:8080/"
        },
        "id": "i8WzTrrZW3ga",
        "outputId": "6f845c43-d366-4c53-9495-7a04db4ac8f9"
      },
      "outputs": [
        {
          "data": {
            "text/plain": [
              "0.0    103628\n",
              "Name: gest, dtype: int64"
            ]
          },
          "execution_count": 22,
          "metadata": {},
          "output_type": "execute_result"
        }
      ],
      "source": [
        "table_1_0 = table_1[table_1['gest'] == 0.0]\n",
        "table_1_1 = table_1[table_1['gest'] == 1.0]\n",
        "table_1_2 = table_1[table_1['gest'] == 2.0]\n",
        "table_1_3 = table_1[table_1['gest'] == 3.0]\n",
        "table_1_4 = table_1[table_1['gest'] == 4.0]\n",
        "table_1_5 = table_1[table_1['gest'] == 5.0]\n",
        "table_1_0['gest'].value_counts()\n"
      ]
    },
    {
      "cell_type": "code",
      "execution_count": null,
      "metadata": {
        "colab": {
          "base_uri": "https://localhost:8080/"
        },
        "id": "OgvRzJH4buh3",
        "outputId": "e856ae49-00ba-4653-ec1e-9524140a9bf1"
      },
      "outputs": [
        {
          "data": {
            "text/plain": [
              "Index(['0', '1', '2', '3', '4', '5', '6', '7', '8', '9', '10', '11', '12',\n",
              "       '13', '14', '15', '16', '17', '18', '19', '20', '21', '22', '23', '24',\n",
              "       '25', '26', '27', '28', '29', '30', '31', '32', '33', '34', '35', '36',\n",
              "       '37', '38', '39', '40', '41', '42', '43', '44', '45', '46', '47', '48',\n",
              "       '49', 'ACC0', 'ACC1', 'ACC2', 'GYR0', 'GYR1', 'GYR2', 'ENC0', 'gest',\n",
              "       'name'],\n",
              "      dtype='object')"
            ]
          },
          "execution_count": 23,
          "metadata": {},
          "output_type": "execute_result"
        }
      ],
      "source": [
        "table_1_0.columns"
      ]
    },
    {
      "cell_type": "code",
      "execution_count": null,
      "metadata": {
        "id": "lINYtSTX1TtA"
      },
      "outputs": [],
      "source": [
        "scaler = StandardScaler()"
      ]
    },
    {
      "cell_type": "code",
      "execution_count": null,
      "metadata": {
        "colab": {
          "base_uri": "https://localhost:8080/"
        },
        "id": "CJ_ndnT8fJH5",
        "outputId": "9378e588-6226-4ddd-da73-76374274b431"
      },
      "outputs": [
        {
          "name": "stderr",
          "output_type": "stream",
          "text": [
            "<ipython-input-25-2d29dd8ed96a>:6: SettingWithCopyWarning: \n",
            "A value is trying to be set on a copy of a slice from a DataFrame.\n",
            "Try using .loc[row_indexer,col_indexer] = value instead\n",
            "\n",
            "See the caveats in the documentation: https://pandas.pydata.org/pandas-docs/stable/user_guide/indexing.html#returning-a-view-versus-a-copy\n",
            "  table_1_0.loc[:, 'sum']= scaler.fit_transform(table_1_0[cols]).sum(axis=1)\n",
            "<ipython-input-25-2d29dd8ed96a>:7: SettingWithCopyWarning: \n",
            "A value is trying to be set on a copy of a slice from a DataFrame.\n",
            "Try using .loc[row_indexer,col_indexer] = value instead\n",
            "\n",
            "See the caveats in the documentation: https://pandas.pydata.org/pandas-docs/stable/user_guide/indexing.html#returning-a-view-versus-a-copy\n",
            "  table_1_1.loc[:, 'sum']= scaler.fit_transform(table_1_1[cols]).sum(axis=1)\n",
            "<ipython-input-25-2d29dd8ed96a>:8: SettingWithCopyWarning: \n",
            "A value is trying to be set on a copy of a slice from a DataFrame.\n",
            "Try using .loc[row_indexer,col_indexer] = value instead\n",
            "\n",
            "See the caveats in the documentation: https://pandas.pydata.org/pandas-docs/stable/user_guide/indexing.html#returning-a-view-versus-a-copy\n",
            "  table_1_2.loc[:, 'sum']= scaler.fit_transform(table_1_2[cols]).sum(axis=1)\n",
            "<ipython-input-25-2d29dd8ed96a>:9: SettingWithCopyWarning: \n",
            "A value is trying to be set on a copy of a slice from a DataFrame.\n",
            "Try using .loc[row_indexer,col_indexer] = value instead\n",
            "\n",
            "See the caveats in the documentation: https://pandas.pydata.org/pandas-docs/stable/user_guide/indexing.html#returning-a-view-versus-a-copy\n",
            "  table_1_3.loc[:, 'sum']= scaler.fit_transform(table_1_3[cols]).sum(axis=1)\n",
            "<ipython-input-25-2d29dd8ed96a>:10: SettingWithCopyWarning: \n",
            "A value is trying to be set on a copy of a slice from a DataFrame.\n",
            "Try using .loc[row_indexer,col_indexer] = value instead\n",
            "\n",
            "See the caveats in the documentation: https://pandas.pydata.org/pandas-docs/stable/user_guide/indexing.html#returning-a-view-versus-a-copy\n",
            "  table_1_4.loc[:, 'sum']= scaler.fit_transform(table_1_4[cols]).sum(axis=1)\n",
            "<ipython-input-25-2d29dd8ed96a>:11: SettingWithCopyWarning: \n",
            "A value is trying to be set on a copy of a slice from a DataFrame.\n",
            "Try using .loc[row_indexer,col_indexer] = value instead\n",
            "\n",
            "See the caveats in the documentation: https://pandas.pydata.org/pandas-docs/stable/user_guide/indexing.html#returning-a-view-versus-a-copy\n",
            "  table_1_5.loc[:, 'sum']= scaler.fit_transform(table_1_5[cols]).sum(axis=1)\n",
            "<ipython-input-25-2d29dd8ed96a>:12: SettingWithCopyWarning: \n",
            "A value is trying to be set on a copy of a slice from a DataFrame\n",
            "\n",
            "See the caveats in the documentation: https://pandas.pydata.org/pandas-docs/stable/user_guide/indexing.html#returning-a-view-versus-a-copy\n",
            "  table_1_0.drop(columns =cols, inplace = True)\n"
          ]
        }
      ],
      "source": [
        "cols = ['0', '1', '2', '3', '4', '5', '6', '7', '8', '9', '10', '11', '12',\n",
        "       '13', '14', '15', '16', '17', '18', '19', '20', '21', '22', '23', '24',\n",
        "       '25', '26', '27', '28', '29', '30', '31', '32', '33', '34', '35', '36',\n",
        "       '37', '38', '39', '40', '41', '42', '43', '44', '45', '46', '47', '48',\n",
        "       '49', 'ACC0', 'ACC1', 'ACC2', 'GYR0', 'GYR1', 'GYR2', 'ENC0']\n",
        "table_1_0.loc[:, 'sum']= scaler.fit_transform(table_1_0[cols]).sum(axis=1)\n",
        "table_1_1.loc[:, 'sum']= scaler.fit_transform(table_1_1[cols]).sum(axis=1)\n",
        "table_1_2.loc[:, 'sum']= scaler.fit_transform(table_1_2[cols]).sum(axis=1)\n",
        "table_1_3.loc[:, 'sum']= scaler.fit_transform(table_1_3[cols]).sum(axis=1)\n",
        "table_1_4.loc[:, 'sum']= scaler.fit_transform(table_1_4[cols]).sum(axis=1)\n",
        "table_1_5.loc[:, 'sum']= scaler.fit_transform(table_1_5[cols]).sum(axis=1)\n",
        "table_1_0.drop(columns =cols, inplace = True)"
      ]
    },
    {
      "cell_type": "code",
      "execution_count": null,
      "metadata": {
        "colab": {
          "base_uri": "https://localhost:8080/"
        },
        "id": "u16Q6_hVdkrj",
        "outputId": "74f6357c-e665-41b2-fc41-a0ad2029fe7a"
      },
      "outputs": [
        {
          "data": {
            "text/plain": [
              "16-08    18898\n",
              "12-24    18862\n",
              "12-38    13295\n",
              "43-11    13278\n",
              "30-15    13178\n",
              "53-01    13065\n",
              "34-17    13052\n",
              "Name: name, dtype: int64"
            ]
          },
          "execution_count": 26,
          "metadata": {},
          "output_type": "execute_result"
        }
      ],
      "source": [
        "table_1_0['name'].value_counts()"
      ]
    },
    {
      "cell_type": "code",
      "execution_count": null,
      "metadata": {
        "colab": {
          "base_uri": "https://localhost:8080/",
          "height": 471
        },
        "id": "mnwIBsZJs7P9",
        "outputId": "9bd46774-3075-48ea-88cc-dbae6440bf6d"
      },
      "outputs": [
        {
          "data": {
            "text/plain": [
              "<Axes: >"
            ]
          },
          "execution_count": 27,
          "metadata": {},
          "output_type": "execute_result"
        },
        {
          "data": {
            "image/png": "[encoded data removed]",
            "text/plain": [
              "<Figure size 640x480 with 1 Axes>"
            ]
          },
          "metadata": {},
          "output_type": "display_data"
        }
      ],
      "source": [
        "table_1_0[table_1_0['name'] == '12-24']['sum'].plot()\n",
        "table_1_0[table_1_0['name'] == '30-15']['sum'].plot()\n",
        "table_1_0[table_1_0['name'] == '16-08']['sum'].plot()\n",
        "table_1_0[table_1_0['name'] == '43-11']['sum'].plot()"
      ]
    },
    {
      "cell_type": "markdown",
      "metadata": {
        "id": "1WTxlV3NEt_W"
      },
      "source": [
        "## DBSCAN"
      ]
    },
    {
      "cell_type": "code",
      "execution_count": null,
      "metadata": {
        "id": "fZl_qvxH2OoX"
      },
      "outputs": [],
      "source": [
        "from sklearn.cluster import DBSCAN\n",
        "from sklearn.cluster import AgglomerativeClustering"
      ]
    },
    {
      "cell_type": "code",
      "execution_count": null,
      "metadata": {
        "id": "Y7BUnzCD2bTA"
      },
      "outputs": [],
      "source": [
        "dbscan = DBSCAN()"
      ]
    },
    {
      "cell_type": "code",
      "execution_count": null,
      "metadata": {
        "colab": {
          "base_uri": "https://localhost:8080/",
          "height": 831
        },
        "id": "zK9tVmfB2ipX",
        "outputId": "39465068-362b-4b08-ff36-ffc7fce93066"
      },
      "outputs": [
        {
          "name": "stderr",
          "output_type": "stream",
          "text": [
            "<ipython-input-30-6bbe73290562>:1: SettingWithCopyWarning: \n",
            "A value is trying to be set on a copy of a slice from a DataFrame.\n",
            "Try using .loc[row_indexer,col_indexer] = value instead\n",
            "\n",
            "See the caveats in the documentation: https://pandas.pydata.org/pandas-docs/stable/user_guide/indexing.html#returning-a-view-versus-a-copy\n",
            "  table_1_0['prediction_dbscan_1'] = dbscan.fit_predict(table_1_0['sum'].values.reshape(-1, 1))\n",
            "<ipython-input-30-6bbe73290562>:2: SettingWithCopyWarning: \n",
            "A value is trying to be set on a copy of a slice from a DataFrame.\n",
            "Try using .loc[row_indexer,col_indexer] = value instead\n",
            "\n",
            "See the caveats in the documentation: https://pandas.pydata.org/pandas-docs/stable/user_guide/indexing.html#returning-a-view-versus-a-copy\n",
            "  table_1_1['prediction_dbscan_1'] = dbscan.fit_predict(table_1_1['sum'].values.reshape(-1, 1))\n",
            "<ipython-input-30-6bbe73290562>:3: SettingWithCopyWarning: \n",
            "A value is trying to be set on a copy of a slice from a DataFrame.\n",
            "Try using .loc[row_indexer,col_indexer] = value instead\n",
            "\n",
            "See the caveats in the documentation: https://pandas.pydata.org/pandas-docs/stable/user_guide/indexing.html#returning-a-view-versus-a-copy\n",
            "  table_1_2['prediction_dbscan_1'] = dbscan.fit_predict(table_1_2['sum'].values.reshape(-1, 1))\n",
            "<ipython-input-30-6bbe73290562>:4: SettingWithCopyWarning: \n",
            "A value is trying to be set on a copy of a slice from a DataFrame.\n",
            "Try using .loc[row_indexer,col_indexer] = value instead\n",
            "\n",
            "See the caveats in the documentation: https://pandas.pydata.org/pandas-docs/stable/user_guide/indexing.html#returning-a-view-versus-a-copy\n",
            "  table_1_3['prediction_dbscan_1'] = dbscan.fit_predict(table_1_3['sum'].values.reshape(-1, 1))\n",
            "<ipython-input-30-6bbe73290562>:5: SettingWithCopyWarning: \n",
            "A value is trying to be set on a copy of a slice from a DataFrame.\n",
            "Try using .loc[row_indexer,col_indexer] = value instead\n",
            "\n",
            "See the caveats in the documentation: https://pandas.pydata.org/pandas-docs/stable/user_guide/indexing.html#returning-a-view-versus-a-copy\n",
            "  table_1_4['prediction_dbscan_1'] = dbscan.fit_predict(table_1_4['sum'].values.reshape(-1, 1))\n",
            "<ipython-input-30-6bbe73290562>:6: SettingWithCopyWarning: \n",
            "A value is trying to be set on a copy of a slice from a DataFrame.\n",
            "Try using .loc[row_indexer,col_indexer] = value instead\n",
            "\n",
            "See the caveats in the documentation: https://pandas.pydata.org/pandas-docs/stable/user_guide/indexing.html#returning-a-view-versus-a-copy\n",
            "  table_1_5['prediction_dbscan_1'] = dbscan.fit_predict(table_1_5['sum'].values.reshape(-1, 1))\n"
          ]
        },
        {
          "data": {
            "application/vnd.google.colaboratory.intrinsic+json": {
              "type": "dataframe",
              "variable_name": "table_1_0"
            },
            "text/html": [
              "\n",
              "  <div id=\"df-4b01b9f7-14ab-497e-85c6-d28fe137d1e0\" class=\"colab-df-container\">\n",
              "    <div>\n",
              "<style scoped>\n",
              "    .dataframe tbody tr th:only-of-type {\n",
              "        vertical-align: middle;\n",
              "    }\n",
              "\n",
              "    .dataframe tbody tr th {\n",
              "        vertical-align: top;\n",
              "    }\n",
              "\n",
              "    .dataframe thead th {\n",
              "        text-align: right;\n",
              "    }\n",
              "</style>\n",
              "<table border=\"1\" class=\"dataframe\">\n",
              "  <thead>\n",
              "    <tr style=\"text-align: right;\">\n",
              "      <th></th>\n",
              "      <th>gest</th>\n",
              "      <th>name</th>\n",
              "      <th>sum</th>\n",
              "      <th>prediction_dbscan_1</th>\n",
              "    </tr>\n",
              "  </thead>\n",
              "  <tbody>\n",
              "    <tr>\n",
              "      <th>0</th>\n",
              "      <td>0.0</td>\n",
              "      <td>12-24</td>\n",
              "      <td>15.905201</td>\n",
              "      <td>0</td>\n",
              "    </tr>\n",
              "    <tr>\n",
              "      <th>1</th>\n",
              "      <td>0.0</td>\n",
              "      <td>12-24</td>\n",
              "      <td>34.442600</td>\n",
              "      <td>0</td>\n",
              "    </tr>\n",
              "    <tr>\n",
              "      <th>2</th>\n",
              "      <td>0.0</td>\n",
              "      <td>12-24</td>\n",
              "      <td>23.653133</td>\n",
              "      <td>0</td>\n",
              "    </tr>\n",
              "    <tr>\n",
              "      <th>3</th>\n",
              "      <td>0.0</td>\n",
              "      <td>12-24</td>\n",
              "      <td>24.678049</td>\n",
              "      <td>0</td>\n",
              "    </tr>\n",
              "    <tr>\n",
              "      <th>4</th>\n",
              "      <td>0.0</td>\n",
              "      <td>12-24</td>\n",
              "      <td>30.142179</td>\n",
              "      <td>0</td>\n",
              "    </tr>\n",
              "  </tbody>\n",
              "</table>\n",
              "</div>\n",
              "    <div class=\"colab-df-buttons\">\n",
              "\n",
              "  <div class=\"colab-df-container\">\n",
              "    <button class=\"colab-df-convert\" onclick=\"convertToInteractive('df-4b01b9f7-14ab-497e-85c6-d28fe137d1e0')\"\n",
              "            title=\"Convert this dataframe to an interactive table.\"\n",
              "            style=\"display:none;\">\n",
              "\n",
              "  <svg xmlns=\"http://www.w3.org/2000/svg\" height=\"24px\" viewBox=\"0 -960 960 960\">\n",
              "    <path d=\"M120-120v-720h720v720H120Zm60-500h600v-160H180v160Zm220 220h160v-160H400v160Zm0 220h160v-160H400v160ZM180-400h160v-160H180v160Zm440 0h160v-160H620v160ZM180-180h160v-160H180v160Zm440 0h160v-160H620v160Z\"/>\n",
              "  </svg>\n",
              "    </button>\n",
              "\n",
              "  <style>\n",
              "    .colab-df-container {\n",
              "      display:flex;\n",
              "      gap: 12px;\n",
              "    }\n",
              "\n",
              "    .colab-df-convert {\n",
              "      background-color: #E8F0FE;\n",
              "      border: none;\n",
              "      border-radius: 50%;\n",
              "      cursor: pointer;\n",
              "      display: none;\n",
              "      fill: #1967D2;\n",
              "      height: 32px;\n",
              "      padding: 0 0 0 0;\n",
              "      width: 32px;\n",
              "    }\n",
              "\n",
              "    .colab-df-convert:hover {\n",
              "      background-color: #E2EBFA;\n",
              "      box-shadow: 0px 1px 2px rgba(60, 64, 67, 0.3), 0px 1px 3px 1px rgba(60, 64, 67, 0.15);\n",
              "      fill: #174EA6;\n",
              "    }\n",
              "\n",
              "    .colab-df-buttons div {\n",
              "      margin-bottom: 4px;\n",
              "    }\n",
              "\n",
              "    [theme=dark] .colab-df-convert {\n",
              "      background-color: #3B4455;\n",
              "      fill: #D2E3FC;\n",
              "    }\n",
              "\n",
              "    [theme=dark] .colab-df-convert:hover {\n",
              "      background-color: #434B5C;\n",
              "      box-shadow: 0px 1px 3px 1px rgba(0, 0, 0, 0.15);\n",
              "      filter: drop-shadow(0px 1px 2px rgba(0, 0, 0, 0.3));\n",
              "      fill: #FFFFFF;\n",
              "    }\n",
              "  </style>\n",
              "\n",
              "    <script>\n",
              "      const buttonEl =\n",
              "        document.querySelector('#df-4b01b9f7-14ab-497e-85c6-d28fe137d1e0 button.colab-df-convert');\n",
              "      buttonEl.style.display =\n",
              "        google.colab.kernel.accessAllowed ? 'block' : 'none';\n",
              "\n",
              "      async function convertToInteractive(key) {\n",
              "        const element = document.querySelector('#df-4b01b9f7-14ab-497e-85c6-d28fe137d1e0');\n",
              "        const dataTable =\n",
              "          await google.colab.kernel.invokeFunction('convertToInteractive',\n",
              "                                                    [key], {});\n",
              "        if (!dataTable) return;\n",
              "\n",
              "        const docLinkHtml = 'Like what you see? Visit the ' +\n",
              "          '<a target=\"_blank\" href=https://colab.research.google.com/notebooks/data_table.ipynb>data table notebook</a>'\n",
              "          + ' to learn more about interactive tables.';\n",
              "        element.innerHTML = '';\n",
              "        dataTable['output_type'] = 'display_data';\n",
              "        await google.colab.output.renderOutput(dataTable, element);\n",
              "        const docLink = document.createElement('div');\n",
              "        docLink.innerHTML = docLinkHtml;\n",
              "        element.appendChild(docLink);\n",
              "      }\n",
              "    </script>\n",
              "  </div>\n",
              "\n",
              "\n",
              "<div id=\"df-faf661cf-231a-478a-bff9-4569f8ca0e2b\">\n",
              "  <button class=\"colab-df-quickchart\" onclick=\"quickchart('df-faf661cf-231a-478a-bff9-4569f8ca0e2b')\"\n",
              "            title=\"Suggest charts\"\n",
              "            style=\"display:none;\">\n",
              "\n",
              "<svg xmlns=\"http://www.w3.org/2000/svg\" height=\"24px\"viewBox=\"0 0 24 24\"\n",
              "     width=\"24px\">\n",
              "    <g>\n",
              "        <path d=\"M19 3H5c-1.1 0-2 .9-2 2v14c0 1.1.9 2 2 2h14c1.1 0 2-.9 2-2V5c0-1.1-.9-2-2-2zM9 17H7v-7h2v7zm4 0h-2V7h2v10zm4 0h-2v-4h2v4z\"/>\n",
              "    </g>\n",
              "</svg>\n",
              "  </button>\n",
              "\n",
              "<style>\n",
              "  .colab-df-quickchart {\n",
              "      --bg-color: #E8F0FE;\n",
              "      --fill-color: #1967D2;\n",
              "      --hover-bg-color: #E2EBFA;\n",
              "      --hover-fill-color: #174EA6;\n",
              "      --disabled-fill-color: #AAA;\n",
              "      --disabled-bg-color: #DDD;\n",
              "  }\n",
              "\n",
              "  [theme=dark] .colab-df-quickchart {\n",
              "      --bg-color: #3B4455;\n",
              "      --fill-color: #D2E3FC;\n",
              "      --hover-bg-color: #434B5C;\n",
              "      --hover-fill-color: #FFFFFF;\n",
              "      --disabled-bg-color: #3B4455;\n",
              "      --disabled-fill-color: #666;\n",
              "  }\n",
              "\n",
              "  .colab-df-quickchart {\n",
              "    background-color: var(--bg-color);\n",
              "    border: none;\n",
              "    border-radius: 50%;\n",
              "    cursor: pointer;\n",
              "    display: none;\n",
              "    fill: var(--fill-color);\n",
              "    height: 32px;\n",
              "    padding: 0;\n",
              "    width: 32px;\n",
              "  }\n",
              "\n",
              "  .colab-df-quickchart:hover {\n",
              "    background-color: var(--hover-bg-color);\n",
              "    box-shadow: 0 1px 2px rgba(60, 64, 67, 0.3), 0 1px 3px 1px rgba(60, 64, 67, 0.15);\n",
              "    fill: var(--button-hover-fill-color);\n",
              "  }\n",
              "\n",
              "  .colab-df-quickchart-complete:disabled,\n",
              "  .colab-df-quickchart-complete:disabled:hover {\n",
              "    background-color: var(--disabled-bg-color);\n",
              "    fill: var(--disabled-fill-color);\n",
              "    box-shadow: none;\n",
              "  }\n",
              "\n",
              "  .colab-df-spinner {\n",
              "    border: 2px solid var(--fill-color);\n",
              "    border-color: transparent;\n",
              "    border-bottom-color: var(--fill-color);\n",
              "    animation:\n",
              "      spin 1s steps(1) infinite;\n",
              "  }\n",
              "\n",
              "  @keyframes spin {\n",
              "    0% {\n",
              "      border-color: transparent;\n",
              "      border-bottom-color: var(--fill-color);\n",
              "      border-left-color: var(--fill-color);\n",
              "    }\n",
              "    20% {\n",
              "      border-color: transparent;\n",
              "      border-left-color: var(--fill-color);\n",
              "      border-top-color: var(--fill-color);\n",
              "    }\n",
              "    30% {\n",
              "      border-color: transparent;\n",
              "      border-left-color: var(--fill-color);\n",
              "      border-top-color: var(--fill-color);\n",
              "      border-right-color: var(--fill-color);\n",
              "    }\n",
              "    40% {\n",
              "      border-color: transparent;\n",
              "      border-right-color: var(--fill-color);\n",
              "      border-top-color: var(--fill-color);\n",
              "    }\n",
              "    60% {\n",
              "      border-color: transparent;\n",
              "      border-right-color: var(--fill-color);\n",
              "    }\n",
              "    80% {\n",
              "      border-color: transparent;\n",
              "      border-right-color: var(--fill-color);\n",
              "      border-bottom-color: var(--fill-color);\n",
              "    }\n",
              "    90% {\n",
              "      border-color: transparent;\n",
              "      border-bottom-color: var(--fill-color);\n",
              "    }\n",
              "  }\n",
              "</style>\n",
              "\n",
              "  <script>\n",
              "    async function quickchart(key) {\n",
              "      const quickchartButtonEl =\n",
              "        document.querySelector('#' + key + ' button');\n",
              "      quickchartButtonEl.disabled = true;  // To prevent multiple clicks.\n",
              "      quickchartButtonEl.classList.add('colab-df-spinner');\n",
              "      try {\n",
              "        const charts = await google.colab.kernel.invokeFunction(\n",
              "            'suggestCharts', [key], {});\n",
              "      } catch (error) {\n",
              "        console.error('Error during call to suggestCharts:', error);\n",
              "      }\n",
              "      quickchartButtonEl.classList.remove('colab-df-spinner');\n",
              "      quickchartButtonEl.classList.add('colab-df-quickchart-complete');\n",
              "    }\n",
              "    (() => {\n",
              "      let quickchartButtonEl =\n",
              "        document.querySelector('#df-faf661cf-231a-478a-bff9-4569f8ca0e2b button');\n",
              "      quickchartButtonEl.style.display =\n",
              "        google.colab.kernel.accessAllowed ? 'block' : 'none';\n",
              "    })();\n",
              "  </script>\n",
              "</div>\n",
              "    </div>\n",
              "  </div>\n"
            ],
            "text/plain": [
              "   gest   name        sum  prediction_dbscan_1\n",
              "0   0.0  12-24  15.905201                    0\n",
              "1   0.0  12-24  34.442600                    0\n",
              "2   0.0  12-24  23.653133                    0\n",
              "3   0.0  12-24  24.678049                    0\n",
              "4   0.0  12-24  30.142179                    0"
            ]
          },
          "execution_count": 30,
          "metadata": {},
          "output_type": "execute_result"
        }
      ],
      "source": [
        "table_1_0['prediction_dbscan_1'] = dbscan.fit_predict(table_1_0['sum'].values.reshape(-1, 1))\n",
        "table_1_1['prediction_dbscan_1'] = dbscan.fit_predict(table_1_1['sum'].values.reshape(-1, 1))\n",
        "table_1_2['prediction_dbscan_1'] = dbscan.fit_predict(table_1_2['sum'].values.reshape(-1, 1))\n",
        "table_1_3['prediction_dbscan_1'] = dbscan.fit_predict(table_1_3['sum'].values.reshape(-1, 1))\n",
        "table_1_4['prediction_dbscan_1'] = dbscan.fit_predict(table_1_4['sum'].values.reshape(-1, 1))\n",
        "table_1_5['prediction_dbscan_1'] = dbscan.fit_predict(table_1_5['sum'].values.reshape(-1, 1))\n",
        "table_1_0.head()"
      ]
    },
    {
      "cell_type": "code",
      "execution_count": null,
      "metadata": {
        "id": "2_oSYdhMAOPb"
      },
      "outputs": [],
      "source": [
        "table_dbscan_1 = pd.concat([table_1_0,table_1_1,table_1_2,table_1_3,table_1_4,table_1_5], ignore_index= True)"
      ]
    },
    {
      "cell_type": "code",
      "execution_count": null,
      "metadata": {
        "colab": {
          "base_uri": "https://localhost:8080/"
        },
        "id": "DZhPSUv4BsHF",
        "outputId": "44c9bdd1-87a4-42cf-ad32-11cd9a245d90"
      },
      "outputs": [
        {
          "data": {
            "text/plain": [
              "12-24    55\n",
              "34-17    16\n",
              "43-11    13\n",
              "16-08    11\n",
              "30-15     7\n",
              "Name: name, dtype: int64"
            ]
          },
          "execution_count": 32,
          "metadata": {},
          "output_type": "execute_result"
        }
      ],
      "source": [
        "table_dbscan_1[table_dbscan_1.prediction_dbscan_1 < 0]['name'].value_counts()"
      ]
    },
    {
      "cell_type": "markdown",
      "metadata": {
        "id": "3h7vHTA6PaRb"
      },
      "source": [
        "# 2 пилот"
      ]
    },
    {
      "cell_type": "code",
      "execution_count": null,
      "metadata": {
        "colab": {
          "base_uri": "https://localhost:8080/"
        },
        "id": "LqXz4qMmEfWq",
        "outputId": "9a12abc6-4864-4a80-8614-556254d98f0c"
      },
      "outputs": [
        {
          "name": "stderr",
          "output_type": "stream",
          "text": [
            "<ipython-input-33-fcfd61fe9548>:10: SettingWithCopyWarning: \n",
            "A value is trying to be set on a copy of a slice from a DataFrame.\n",
            "Try using .loc[row_indexer,col_indexer] = value instead\n",
            "\n",
            "See the caveats in the documentation: https://pandas.pydata.org/pandas-docs/stable/user_guide/indexing.html#returning-a-view-versus-a-copy\n",
            "  table_2_0.loc[:, 'sum']= scaler.fit_transform(table_2_0[cols]).sum(axis=1)\n",
            "<ipython-input-33-fcfd61fe9548>:11: SettingWithCopyWarning: \n",
            "A value is trying to be set on a copy of a slice from a DataFrame.\n",
            "Try using .loc[row_indexer,col_indexer] = value instead\n",
            "\n",
            "See the caveats in the documentation: https://pandas.pydata.org/pandas-docs/stable/user_guide/indexing.html#returning-a-view-versus-a-copy\n",
            "  table_2_1.loc[:, 'sum']= scaler.fit_transform(table_2_1[cols]).sum(axis=1)\n",
            "<ipython-input-33-fcfd61fe9548>:12: SettingWithCopyWarning: \n",
            "A value is trying to be set on a copy of a slice from a DataFrame.\n",
            "Try using .loc[row_indexer,col_indexer] = value instead\n",
            "\n",
            "See the caveats in the documentation: https://pandas.pydata.org/pandas-docs/stable/user_guide/indexing.html#returning-a-view-versus-a-copy\n",
            "  table_2_2.loc[:, 'sum']= scaler.fit_transform(table_2_2[cols]).sum(axis=1)\n",
            "<ipython-input-33-fcfd61fe9548>:13: SettingWithCopyWarning: \n",
            "A value is trying to be set on a copy of a slice from a DataFrame.\n",
            "Try using .loc[row_indexer,col_indexer] = value instead\n",
            "\n",
            "See the caveats in the documentation: https://pandas.pydata.org/pandas-docs/stable/user_guide/indexing.html#returning-a-view-versus-a-copy\n",
            "  table_2_3.loc[:, 'sum']= scaler.fit_transform(table_2_3[cols]).sum(axis=1)\n",
            "<ipython-input-33-fcfd61fe9548>:14: SettingWithCopyWarning: \n",
            "A value is trying to be set on a copy of a slice from a DataFrame.\n",
            "Try using .loc[row_indexer,col_indexer] = value instead\n",
            "\n",
            "See the caveats in the documentation: https://pandas.pydata.org/pandas-docs/stable/user_guide/indexing.html#returning-a-view-versus-a-copy\n",
            "  table_2_4.loc[:, 'sum']= scaler.fit_transform(table_2_4[cols]).sum(axis=1)\n",
            "<ipython-input-33-fcfd61fe9548>:15: SettingWithCopyWarning: \n",
            "A value is trying to be set on a copy of a slice from a DataFrame.\n",
            "Try using .loc[row_indexer,col_indexer] = value instead\n",
            "\n",
            "See the caveats in the documentation: https://pandas.pydata.org/pandas-docs/stable/user_guide/indexing.html#returning-a-view-versus-a-copy\n",
            "  table_2_5.loc[:, 'sum']= scaler.fit_transform(table_2_5[cols]).sum(axis=1)\n",
            "<ipython-input-33-fcfd61fe9548>:16: SettingWithCopyWarning: \n",
            "A value is trying to be set on a copy of a slice from a DataFrame\n",
            "\n",
            "See the caveats in the documentation: https://pandas.pydata.org/pandas-docs/stable/user_guide/indexing.html#returning-a-view-versus-a-copy\n",
            "  table_2_0.drop(columns =cols, inplace = True)\n"
          ]
        }
      ],
      "source": [
        "table_2.drop(columns = ['ENC1','ENC2','ENC3', 'ENC4', 'ENC5', 'BUTTON', 'SYNC', 'ts'], inplace=True)\n",
        "\n",
        "table_2_0 = table_2[table_2['gest'] == 0.0]\n",
        "table_2_1 = table_2[table_2['gest'] == 1.0]\n",
        "table_2_2 = table_2[table_2['gest'] == 2.0]\n",
        "table_2_3 = table_2[table_2['gest'] == 3.0]\n",
        "table_2_4 = table_2[table_2['gest'] == 4.0]\n",
        "table_2_5 = table_2[table_2['gest'] == 5.0]\n",
        "\n",
        "table_2_0.loc[:, 'sum']= scaler.fit_transform(table_2_0[cols]).sum(axis=1)\n",
        "table_2_1.loc[:, 'sum']= scaler.fit_transform(table_2_1[cols]).sum(axis=1)\n",
        "table_2_2.loc[:, 'sum']= scaler.fit_transform(table_2_2[cols]).sum(axis=1)\n",
        "table_2_3.loc[:, 'sum']= scaler.fit_transform(table_2_3[cols]).sum(axis=1)\n",
        "table_2_4.loc[:, 'sum']= scaler.fit_transform(table_2_4[cols]).sum(axis=1)\n",
        "table_2_5.loc[:, 'sum']= scaler.fit_transform(table_2_5[cols]).sum(axis=1)\n",
        "table_2_0.drop(columns =cols, inplace = True)\n",
        "\n",
        "table_2_0['prediction_dbscan_2'] = dbscan.fit_predict(table_2_0['sum'].values.reshape(-1, 1))\n",
        "table_2_1['prediction_dbscan_2'] = dbscan.fit_predict(table_2_1['sum'].values.reshape(-1, 1))\n",
        "table_2_2['prediction_dbscan_2'] = dbscan.fit_predict(table_2_2['sum'].values.reshape(-1, 1))\n",
        "table_2_3['prediction_dbscan_2'] = dbscan.fit_predict(table_2_3['sum'].values.reshape(-1, 1))\n",
        "table_2_4['prediction_dbscan_2'] = dbscan.fit_predict(table_2_4['sum'].values.reshape(-1, 1))\n",
        "table_2_5['prediction_dbscan_2'] = dbscan.fit_predict(table_2_5['sum'].values.reshape(-1, 1))\n",
        "\n",
        "table_dbscan_2 = pd.concat([table_2_0,table_2_1,table_2_2,table_2_3,table_2_4,table_2_5], ignore_index= True)\n",
        "\n",
        "table_dbscan_2[table_dbscan_2.prediction_dbscan_2 < 0]['name'].value_counts()"
      ]
    },
    {
      "cell_type": "code",
      "execution_count": null,
      "metadata": {
        "id": "C7kUm1AQRFgz"
      },
      "outputs": [],
      "source": [
        "table_3.drop(columns = ['ENC1','ENC2','ENC3', 'ENC4', 'ENC5', 'BUTTON', 'SYNC', 'ts'], inplace=True)\n",
        "\n",
        "table_3_0 = table_3[table_3['gest'] == 0.0]\n",
        "table_3_1 = table_3[table_3['gest'] == 1.0]\n",
        "table_3_2 = table_3[table_3['gest'] == 2.0]\n",
        "table_3_3 = table_3[table_3['gest'] == 3.0]\n",
        "table_3_4 = table_3[table_3['gest'] == 4.0]\n",
        "table_3_5 = table_3[table_3['gest'] == 5.0]\n",
        "\n",
        "table_3_0.loc[:, 'sum']= scaler.fit_transform(table_3_0[cols]).sum(axis=1)\n",
        "table_3_1.loc[:, 'sum']= scaler.fit_transform(table_3_1[cols]).sum(axis=1)\n",
        "table_3_2.loc[:, 'sum']= scaler.fit_transform(table_3_2[cols]).sum(axis=1)\n",
        "table_3_3.loc[:, 'sum']= scaler.fit_transform(table_3_3[cols]).sum(axis=1)\n",
        "table_3_4.loc[:, 'sum']= scaler.fit_transform(table_3_4[cols]).sum(axis=1)\n",
        "table_3_5.loc[:, 'sum']= scaler.fit_transform(table_3_5[cols]).sum(axis=1)\n",
        "table_3_0.drop(columns =cols, inplace = True)\n",
        "\n",
        "table_3_0['prediction_dbscan_3'] = dbscan.fit_predict(table_3_0['sum'].values.reshape(-1, 1))\n",
        "table_3_1['prediction_dbscan_3'] = dbscan.fit_predict(table_3_1['sum'].values.reshape(-1, 1))\n",
        "table_3_2['prediction_dbscan_3'] = dbscan.fit_predict(table_3_2['sum'].values.reshape(-1, 1))\n",
        "table_3_3['prediction_dbscan_3'] = dbscan.fit_predict(table_3_3['sum'].values.reshape(-1, 1))\n",
        "table_3_4['prediction_dbscan_3'] = dbscan.fit_predict(table_3_4['sum'].values.reshape(-1, 1))\n",
        "table_3_5['prediction_dbscan_3'] = dbscan.fit_predict(table_3_5['sum'].values.reshape(-1, 1))\n",
        "\n",
        "table_dbscan_3 = pd.concat([table_3_0,table_3_1,table_3_2,table_3_3,table_3_4,table_3_5], ignore_index= True)\n",
        "\n",
        "table_dbscan_3[table_dbscan_3.prediction_dbscan_3 < 0]['name'].value_counts()"
      ]
    },
    {
      "cell_type": "code",
      "execution_count": null,
      "metadata": {
        "id": "R2Gf9zsjRP-H"
      },
      "outputs": [],
      "source": [
        "table_4.drop(columns = ['ENC1','ENC2','ENC3', 'ENC4', 'ENC5', 'BUTTON', 'SYNC', 'ts'], inplace=True)\n",
        "\n",
        "table_4_0 = table_4[table_4['gest'] == 0.0]\n",
        "table_4_1 = table_4[table_4['gest'] == 1.0]\n",
        "table_4_2 = table_4[table_4['gest'] == 2.0]\n",
        "table_4_3 = table_4[table_4['gest'] == 3.0]\n",
        "table_4_4 = table_4[table_4['gest'] == 4.0]\n",
        "table_4_5 = table_4[table_4['gest'] == 5.0]\n",
        "\n",
        "table_4_0.loc[:, 'sum']= scaler.fit_transform(table_4_0[cols]).sum(axis=1)\n",
        "table_4_1.loc[:, 'sum']= scaler.fit_transform(table_4_1[cols]).sum(axis=1)\n",
        "table_4_2.loc[:, 'sum']= scaler.fit_transform(table_4_2[cols]).sum(axis=1)\n",
        "table_4_3.loc[:, 'sum']= scaler.fit_transform(table_4_3[cols]).sum(axis=1)\n",
        "table_4_4.loc[:, 'sum']= scaler.fit_transform(table_4_4[cols]).sum(axis=1)\n",
        "table_4_5.loc[:, 'sum']= scaler.fit_transform(table_4_5[cols]).sum(axis=1)\n",
        "table_4_0.drop(columns =cols, inplace = True)\n",
        "\n",
        "table_4_0['prediction_dbscan_4'] = dbscan.fit_predict(table_4_0['sum'].values.reshape(-1, 1))\n",
        "table_4_1['prediction_dbscan_4'] = dbscan.fit_predict(table_4_1['sum'].values.reshape(-1, 1))\n",
        "table_4_2['prediction_dbscan_4'] = dbscan.fit_predict(table_4_2['sum'].values.reshape(-1, 1))\n",
        "table_4_3['prediction_dbscan_4'] = dbscan.fit_predict(table_4_3['sum'].values.reshape(-1, 1))\n",
        "table_4_4['prediction_dbscan_4'] = dbscan.fit_predict(table_4_4['sum'].values.reshape(-1, 1))\n",
        "table_4_5['prediction_dbscan_4'] = dbscan.fit_predict(table_4_5['sum'].values.reshape(-1, 1))\n",
        "\n",
        "table_dbscan_4 = pd.concat([table_4_0,table_4_1,table_4_2,table_4_3,table_4_4,table_4_5], ignore_index= True)\n",
        "\n",
        "table_dbscan_4[table_dbscan_4.prediction_dbscan_4 < 0]['name'].value_counts()"
      ]
    },
    {
      "cell_type": "code",
      "execution_count": null,
      "metadata": {
        "id": "Lo1ST5fWVrEa"
      },
      "outputs": [],
      "source": [
        "# Сериализация\n",
        "import pickle\n",
        "with open('pilot_1', 'wb') as fp:\n",
        "    pickle.dump(table_1, fp)\n",
        "with open('pilot_2', 'wb') as fp:\n",
        "    pickle.dump(table_2, fp)\n",
        "with open('pilot_3', 'wb') as fp:\n",
        "    pickle.dump(table_3, fp)\n",
        "with open('pilot_4', 'wb') as fp:\n",
        "    pickle.dump(table_4, fp)"
      ]
    },
    {
      "cell_type": "code",
      "execution_count": null,
      "metadata": {
        "id": "pTYI6keheFSm"
      },
      "outputs": [],
      "source": [
        "# # Скачивание из colab на локальный компьютер\n",
        "# from google.colab import files\n",
        "# files.download('pilot_1')\n",
        "# files.download('pilot_2')\n",
        "# files.download('pilot_3')\n",
        "# files.download('pilot_4')"
      ]
    }
  ],
  "metadata": {
    "colab": {
      "provenance": []
    },
    "kernelspec": {
      "display_name": "Python 3",
      "name": "python3"
    },
    "language_info": {
      "name": "python"
    }
  },
  "nbformat": 4,
  "nbformat_minor": 0
}
