{
  "cells": [
    {
      "cell_type": "code",
      "execution_count": 2,
      "metadata": {
        "id": "xqRrCDBvI6xV"
      },
      "outputs": [],
      "source": [
        "import numpy as np\n",
        "import pandas as pd\n",
        "from matplotlib import pyplot as plt\n",
        "\n",
        "from sklearn.preprocessing import RobustScaler, StandardScaler, MinMaxScaler\n",
        "from sklearn.model_selection import TimeSeriesSplit\n",
        "from sklearn.preprocessing import LabelEncoder\n",
        "\n",
        "import statsmodels.graphics.tsaplots as sgt\n",
        "import scipy.stats as stats\n",
        "\n",
        "from warnings import simplefilter\n",
        "simplefilter(action=\"ignore\", category=pd.errors.PerformanceWarning)\n",
        "\n",
        "# pd.options.mode.copy_on_write = True\n",
        "\n",
        "import seaborn as sns\n",
        "\n",
        "from matplotlib import pyplot as plt\n",
        "\n",
        "from sklearn.preprocessing import RobustScaler, StandardScaler\n",
        "from sklearn.metrics import classification_report, f1_score, confusion_matrix\n",
        "from sklearn.utils.class_weight import compute_class_weight\n",
        "from sklearn.model_selection import cross_validate\n",
        "\n",
        "le = LabelEncoder()\n",
        "# from catboost import CatBoostClassifier, Pool\n",
        "from sklearn.neighbors import KNeighborsClassifier\n",
        "from sklearn.naive_bayes import BernoulliNB\n",
        "from sklearn.naive_bayes import GaussianNB\n",
        "from sklearn.linear_model import LogisticRegression\n",
        "\n",
        "from sklearn.ensemble import RandomForestClassifier\n",
        "from sklearn.ensemble import StackingClassifier\n",
        "from sklearn.svm import SVC\n",
        "\n",
        "from sklearn.model_selection import cross_val_score, StratifiedKFold\n",
        "from sklearn.linear_model import LogisticRegression\n",
        "from sklearn.tree import DecisionTreeClassifier\n",
        "from sklearn.preprocessing import StandardScaler, OneHotEncoder\n",
        "from sklearn.pipeline import Pipeline\n",
        "from sklearn.impute import SimpleImputer\n",
        "from sklearn.compose import ColumnTransformer\n",
        "\n",
        "from functools import partial\n",
        "from sklearn.model_selection import StratifiedKFold\n",
        "from sklearn.model_selection import cross_val_score\n",
        "from hyperopt import hp, fmin, tpe, Trials, STATUS_OK\n",
        "# from hyperopt import hp, fmin, tpe, Trials, STATUS_OK\n",
        "# fmin - основная функция, она будет минимизировать наш функционал\n",
        "# tpe - алгоритм оптимизации\n",
        "# hp - включает набор методов для объявления пространства поиска гиперпараметров\n",
        "# trails - используется для логирования результатов\n",
        "\n",
        "%matplotlib inline\n",
        "sns.set_context(\"talk\")\n",
        "\n",
        "# random state\n",
        "RS = 1\n",
        "# %matplotlib widget"
      ]
    },
    {
      "cell_type": "code",
      "execution_count": 3,
      "metadata": {
        "id": "Lqf3claZ09kH"
      },
      "outputs": [],
      "source": [
        "#В колабе импортируем все необходимые библиотеки\n",
        "from pydrive2.auth import GoogleAuth\n",
        "from pydrive2.drive import GoogleDrive\n",
        "from google.colab import auth\n",
        "from oauth2client.client import GoogleCredentials\n",
        "\n",
        "#Привязываем гуглдиск к колабу\n",
        "auth.authenticate_user()\n",
        "gauth = GoogleAuth()\n",
        "gauth.credentials = GoogleCredentials.get_application_default()\n",
        "drive = GoogleDrive(gauth)"
      ]
    },
    {
      "cell_type": "code",
      "execution_count": 4,
      "metadata": {
        "id": "5BizQZhT0tOa"
      },
      "outputs": [],
      "source": [
        "folder_id = '10p0lq5F8sqA5wk0sOGO-PggX9XzPgEe0'  # ID папки\n",
        "# https://drive.google.com/drive/folders/10p0lq5F8sqA5wk0sOGO-PggX9XzPgEe0?usp=drive_link\n",
        "\n",
        "file_list = drive.ListFile({'q': f\"'{folder_id}' in parents and trashed=false\"}).GetList()\n",
        "filename_list = []\n",
        "for file in file_list:\n",
        "  filename_list.append(file['title'])"
      ]
    },
    {
      "cell_type": "code",
      "execution_count": 5,
      "metadata": {
        "colab": {
          "base_uri": "https://localhost:8080/"
        },
        "id": "imXUC8u6_5Ca",
        "outputId": "c16ad7d6-081c-4261-d67e-166abd681bb6"
      },
      "outputs": [
        {
          "output_type": "execute_result",
          "data": {
            "text/plain": [
              "['meta_information',\n",
              " '2023-05-31_15-46-37.palm',\n",
              " '2023-05-31_15-46-37.palm.protocol.csv',\n",
              " 'meta_information.csv',\n",
              " '2023-05-31_17-14-41.palm.protocol.csv',\n",
              " '2023-05-31_17-14-41.palm',\n",
              " '2023-10-23_14-07-13.palm.protocol.csv',\n",
              " '2023-10-25_08-52-30.palm',\n",
              " '2023-09-29_09-20-47.palm.protocol.csv',\n",
              " '2023-09-13_22-14-05.palm.protocol.csv',\n",
              " '2023-09-29_11-03-50.palm.protocol.csv',\n",
              " '2023-10-23_14-07-13.palm',\n",
              " '2023-09-29_11-03-50.palm',\n",
              " '2023-09-30_08-06-44.palm',\n",
              " '2023-10-25_11-08-46.palm.protocol.csv',\n",
              " '2023-10-18_11-16-21.palm',\n",
              " '2023-10-25_11-08-46.palm',\n",
              " '2023-10-23_10-11-45.palm.protocol.csv',\n",
              " '2023-10-18_11-16-21.palm.protocol.csv',\n",
              " '2023-09-30_08-06-44.palm.protocol.csv',\n",
              " '2023-10-18_08-05-29.palm.protocol.csv',\n",
              " '2023-09-12_12-55-22.palm.protocol.csv',\n",
              " '2023-10-25_08-52-30.palm.protocol.csv',\n",
              " '2023-09-29_09-20-47.palm',\n",
              " '2023-06-20_14-43-11.palm',\n",
              " '2023-10-23_10-11-45.palm',\n",
              " '2023-10-18_08-05-29.palm',\n",
              " '2023-09-12_14-59-23.palm.protocol.csv',\n",
              " '2023-06-20_13-30-15.palm',\n",
              " '2023-10-23_16-23-02.palm',\n",
              " '2023-10-23_16-23-02.palm.protocol.csv',\n",
              " '2023-06-20_13-30-15.palm.protocol.csv',\n",
              " '2023-09-12_12-55-22.palm',\n",
              " 'patched_2023-10-25_09-44-02.palm.protocol.csv',\n",
              " '2023-09-12_14-59-23.palm',\n",
              " 'patched_2023-10-25_09-44-02.palm',\n",
              " '2023-06-20_14-43-11.palm.protocol.csv',\n",
              " '2023-09-13_22-14-05.palm',\n",
              " '2023-05-05_17-57-30.palm.protocol.csv',\n",
              " '2023-05-07_16-54-27.palm.protocol.csv',\n",
              " '2023-06-05_16-12-38.palm.protocol.csv',\n",
              " '2023-05-15_17-12-24.palm',\n",
              " '2023-05-05_17-57-30.palm',\n",
              " '2023-05-19_12-04-02.palm',\n",
              " '2023-05-22_17-04-29.palm.protocol.csv',\n",
              " '2023-05-07_15-19-05.palm.protocol.csv',\n",
              " '2023-05-22_20-22-01.palm',\n",
              " '2023-05-15_16-16-08.palm',\n",
              " '2023-05-07_15-19-05.palm',\n",
              " '2023-05-15_16-16-08.palm.protocol.csv',\n",
              " '2023-06-20_12-34-17.palm.protocol.csv',\n",
              " '2023-05-22_17-04-29.palm',\n",
              " '2023-06-05_17-53-01.palm',\n",
              " '2023-06-05_17-53-01.palm.protocol.csv',\n",
              " '2023-05-22_20-22-01.palm.protocol.csv',\n",
              " '2023-06-20_12-34-17.palm',\n",
              " '2023-05-19_12-04-02.palm.protocol.csv',\n",
              " '2023-05-12_19-17-00.palm.protocol.csv',\n",
              " '2023-05-12_19-17-00.palm',\n",
              " '2023-06-05_16-12-38.palm',\n",
              " '2023-05-07_16-54-27.palm',\n",
              " '2023-04-18_19-08-47 gestures train.palm',\n",
              " '2023-05-15_17-12-24.palm.protocol.csv',\n",
              " '2023-04-18_19-08-47 gestures train.palm.protocol.csv']"
            ]
          },
          "metadata": {},
          "execution_count": 5
        }
      ],
      "source": [
        "filename_list"
      ]
    },
    {
      "cell_type": "markdown",
      "metadata": {
        "id": "NpTbkmKRnAvA"
      },
      "source": [
        "ТЗ: При разработке модели необходимо проверить, возможно ли обучить ее на данных предыдущих пилотов для последующего их использования новыми пилотами;"
      ]
    },
    {
      "cell_type": "code",
      "execution_count": 6,
      "metadata": {
        "id": "B1cjeTbT8TcV"
      },
      "outputs": [],
      "source": [
        "import numpy as np\n",
        "import pandas as pd\n",
        "from matplotlib import pyplot as plt\n",
        "\n",
        "from sklearn.preprocessing import RobustScaler, StandardScaler, MinMaxScaler\n",
        "from sklearn.model_selection import TimeSeriesSplit\n",
        "\n",
        "import statsmodels.graphics.tsaplots as sgt\n",
        "import scipy.stats as stats\n",
        "\n",
        "from warnings import simplefilter\n",
        "simplefilter(action=\"ignore\", category=pd.errors.PerformanceWarning)\n",
        "\n",
        "import seaborn as sns\n",
        "\n",
        "from matplotlib import pyplot as plt\n",
        "\n",
        "from sklearn.preprocessing import RobustScaler, StandardScaler\n",
        "from sklearn.metrics import classification_report, f1_score, confusion_matrix\n",
        "from sklearn.utils.class_weight import compute_class_weight\n",
        "from sklearn.model_selection import cross_validate\n",
        "\n",
        "# from catboost import CatBoostClassifier, Pool\n",
        "from sklearn.neighbors import KNeighborsClassifier\n",
        "from sklearn.naive_bayes import BernoulliNB\n",
        "from sklearn.naive_bayes import GaussianNB\n",
        "from sklearn.linear_model import LogisticRegression\n",
        "\n",
        "from sklearn.ensemble import RandomForestClassifier\n",
        "from sklearn.ensemble import StackingClassifier\n",
        "from sklearn.svm import SVC\n",
        "\n",
        "from sklearn.model_selection import cross_val_score, StratifiedKFold\n",
        "from sklearn.linear_model import LogisticRegression\n",
        "from sklearn.tree import DecisionTreeClassifier\n",
        "from sklearn.preprocessing import StandardScaler, OneHotEncoder\n",
        "from sklearn.pipeline import Pipeline\n",
        "from sklearn.impute import SimpleImputer\n",
        "from sklearn.compose import ColumnTransformer\n",
        "\n",
        "from functools import partial\n",
        "from sklearn.model_selection import StratifiedKFold\n",
        "from sklearn.model_selection import cross_val_score\n",
        "from hyperopt import hp, fmin, tpe, Trials, STATUS_OK\n",
        "# from hyperopt import hp, fmin, tpe, Trials, STATUS_OK\n",
        "# fmin - основная функция, она будет минимизировать наш функционал\n",
        "# tpe - алгоритм оптимизации\n",
        "# hp - включает набор методов для объявления пространства поиска гиперпараметров\n",
        "# trails - используется для логирования результатов\n",
        "\n",
        "%matplotlib inline\n",
        "sns.set_context(\"talk\")\n",
        "\n",
        "# random state\n",
        "RS = 1\n",
        "# %matplotlib widget"
      ]
    },
    {
      "cell_type": "markdown",
      "metadata": {
        "id": "Dd30ZzvsnRHU"
      },
      "source": [
        "Нам неизвестны количество пилотов и характеристики их двиижений.\n",
        "Идея состоит в том, чтобы кластеризовать данные разных пилотов.\n",
        "Если модель сможет выделить их характеристики в кластеры, то гипотезу об индивидуальности их стиля можно будет считать доказанной и мы сможем предсказывать их кластер по данным модели и экономить время на обучение модели."
      ]
    },
    {
      "cell_type": "code",
      "execution_count": 7,
      "metadata": {
        "colab": {
          "base_uri": "https://localhost:8080/"
        },
        "id": "JcWCx6W6tW58",
        "outputId": "e276cb2d-91d4-411e-946a-f49c8cc5f005"
      },
      "outputs": [
        {
          "output_type": "stream",
          "name": "stdout",
          "text": [
            "Drive already mounted at /content/drive; to attempt to forcibly remount, call drive.mount(\"/content/drive\", force_remount=True).\n"
          ]
        }
      ],
      "source": [
        "from google.colab import drive\n",
        "# Это потребует авторизации.\n",
        "\n",
        "drive.mount('/content/drive')"
      ]
    },
    {
      "cell_type": "code",
      "execution_count": 8,
      "metadata": {
        "colab": {
          "base_uri": "https://localhost:8080/"
        },
        "id": "_HtgrjUbvj6s",
        "outputId": "a9673d7c-321d-4b84-ce90-2f86a5b9b0f2"
      },
      "outputs": [
        {
          "output_type": "stream",
          "name": "stdout",
          "text": [
            "data  drive  sample_data\n"
          ]
        }
      ],
      "source": [
        "!ls"
      ]
    },
    {
      "cell_type": "code",
      "execution_count": 9,
      "metadata": {
        "id": "ySTrP0vzvGUc",
        "colab": {
          "base_uri": "https://localhost:8080/"
        },
        "outputId": "5f04175a-d03d-4b82-9783-99ef0de85655"
      },
      "outputs": [
        {
          "output_type": "stream",
          "name": "stdout",
          "text": [
            "mkdir: cannot create directory ‘./data’: File exists\n"
          ]
        }
      ],
      "source": [
        "!mkdir ./data"
      ]
    },
    {
      "cell_type": "code",
      "execution_count": 10,
      "metadata": {
        "colab": {
          "base_uri": "https://localhost:8080/"
        },
        "id": "g6_SwPgEtwWT",
        "outputId": "5836ed43-cddc-4f77-9fb6-e595c7bee0f9"
      },
      "outputs": [
        {
          "output_type": "stream",
          "name": "stdout",
          "text": [
            "cp: cannot open '/content/drive/MyDrive/_Проекты /Моторика/Стажировка/motorica-x-skillfactory-gestures/data/meta_information.gsheet' for reading: Operation not supported\n"
          ]
        }
      ],
      "source": [
        "!cp -r \"/content/drive/MyDrive/_Проекты /Моторика/Стажировка/motorica-x-skillfactory-gestures/data\" \"/content\""
      ]
    },
    {
      "cell_type": "code",
      "execution_count": 11,
      "metadata": {
        "id": "YBm-0SDb2_Vc"
      },
      "outputs": [],
      "source": [
        "df_meta = pd.read_csv('/content/data/meta_information.csv', index_col=0)"
      ]
    },
    {
      "cell_type": "markdown",
      "metadata": {
        "id": "siv3C98t8Tc1"
      },
      "source": [
        "# IO utils\n"
      ]
    },
    {
      "cell_type": "code",
      "execution_count": 12,
      "metadata": {
        "id": "aBLSkAD48Tc9"
      },
      "outputs": [],
      "source": [
        "def read_omg_csv(path_palm_data: str,\n",
        "                 n_omg_channels: int,\n",
        "                 n_acc_channels: int = 0,\n",
        "                 n_gyr_channels: int = 0,\n",
        "                 n_mag_channels: int = 0,\n",
        "                 n_enc_channels: int = 0,\n",
        "                 button_ch: bool = True,\n",
        "                 sync_ch: bool = True,\n",
        "                 timestamp_ch: bool = True) -> pd.DataFrame:\n",
        "\n",
        "    '''\n",
        "    Reads CSV data for OMG data\n",
        "    NB: data must be separated by \" \" separator\n",
        "\n",
        "        Parameters:\n",
        "                path_palm_data  (str): path to csv data file\n",
        "                n_omg_channels  (int): Number of OMG channels\n",
        "                n_acc_channels  (int): Number of Accelerometer channels, default = 0\n",
        "                n_gyr_channels  (int): Number of Gyroscope channels, default = 0\n",
        "                n_mag_channels  (int): Number of Magnetometer channels, default = 0\n",
        "                n_enc_channels  (int): Number of Encoder channels, default = 0\n",
        "                button_ch      (bool): If button channel is present, default = True\n",
        "                sync_ch        (bool): If synchronization channel is present, default = True\n",
        "                timestamp_ch   (bool): If timestamp channel is present, default = True\n",
        "\n",
        "        Returns:\n",
        "                df_raw (pd.DataFrame): Parsed pandas Dataframe with OMG data\n",
        "    '''\n",
        "\n",
        "    df_raw = pd.read_csv(path_palm_data, sep=' ',\n",
        "                         header=None,\n",
        "                         skipfooter=1,\n",
        "                         skiprows=1,\n",
        "                         engine='python')\n",
        "    columns = np.arange(n_omg_channels).astype('str').tolist()\n",
        "\n",
        "    for label, label_count in zip(['ACC', 'GYR', 'MAG', 'ENC'],\n",
        "                                  [n_acc_channels, n_gyr_channels, n_mag_channels, n_enc_channels]):\n",
        "        columns = columns + ['{}{}'.format(label, i) for i in range(label_count)]\n",
        "\n",
        "    if button_ch:\n",
        "        columns = columns + ['BUTTON']\n",
        "\n",
        "    if sync_ch:\n",
        "        columns = columns + ['SYNC']\n",
        "\n",
        "    if timestamp_ch:\n",
        "        columns = columns + ['ts']\n",
        "\n",
        "    df_raw.columns = columns\n",
        "\n",
        "    return df_raw"
      ]
    },
    {
      "cell_type": "code",
      "execution_count": 13,
      "metadata": {
        "colab": {
          "base_uri": "https://localhost:8080/",
          "height": 35
        },
        "id": "KmcsTh0NJ4Wi",
        "outputId": "8c271ac3-025c-4fbb-ba00-16e71e8356c8"
      },
      "outputs": [
        {
          "output_type": "execute_result",
          "data": {
            "text/plain": [
              "'protocol'"
            ],
            "application/vnd.google.colaboratory.intrinsic+json": {
              "type": "string"
            }
          },
          "metadata": {},
          "execution_count": 13
        }
      ],
      "source": [
        "filename_list[2][-12:-4]"
      ]
    },
    {
      "cell_type": "code",
      "execution_count": 14,
      "metadata": {
        "id": "7JKw9olLR0PV"
      },
      "outputs": [],
      "source": [
        "def add_feature_derivative(df):\n",
        "  \"\"\"Функция для добавления признака производной\n",
        "\n",
        "    Args:\n",
        "        df (DataFrame): датасет\n",
        "\n",
        "    Returns:\n",
        "        df_log(DataFrame): датасет с добавленным признаком производной\n",
        "  \"\"\"\n",
        "  col_list_base = list(df.columns) #исходный список признаков\n",
        "  df_temp = df.copy()\n",
        "  for i in col_list_base:\n",
        "    col_add = f'der_{i}' #название для нового признака\n",
        "    df_temp[col_add] = df_temp[i].diff() #создаем признак\n",
        "    df_temp.fillna(0, inplace = True) #удаляем пустоты\n",
        "  df_temp.drop(col_list_base, axis = 1 , inplace = True)\n",
        "  return df_temp\n",
        "\n",
        "def get_clean_lines(df, treshold = 1.5):\n",
        "  \"\"\"Функция для преобразования временного ряда.\n",
        "  Преобразует все значения выше определенного порога в 1, ниже в 0\n",
        "\n",
        "    Args:\n",
        "        df (Series): датасет\n",
        "\n",
        "    Returns:\n",
        "        result(DataFrame): преобразованный датасет\n",
        "  \"\"\"\n",
        "  result = np.zeros(df.shape) #создаем массив заполненный нулями размером с датасет\n",
        "  means = np.mean(df) #выводим среднюю\n",
        "  for i in range(df.shape[0]): #перебираем значения\n",
        "    if abs(df[i]) > means*treshold:  #реализуем логику\n",
        "      result[i] = 1\n",
        "    else:\n",
        "      result[i] = 0\n",
        "  return pd.DataFrame(result)\n",
        "\n",
        "def shift_definition(df, target):\n",
        "  \"\"\"Функция для нахождения временной задержки между командой и её исполнением\n",
        "\n",
        "    Args:\n",
        "        df (DataFrame): датасет с показаниями датчиков\n",
        "        target (DataFrame): данные протокола выполнения команд\n",
        "    Returns:\n",
        "        best_shift (int): временной сдвиг\n",
        "  \"\"\"\n",
        "  # рассчитываем производные значений временных датчиков\n",
        "  gestures_der = add_feature_derivative(df)\n",
        "  # суммируем модули значений производных\n",
        "  gestures_der_sum = abs(gestures_der).sum(axis = 1)\n",
        "  # обнуляем значения ниже порога\n",
        "  gestures_der_sum_clean = get_clean_lines(gestures_der_sum, treshold = 1.5)\n",
        "\n",
        "  # преобразуем целевую переменную в DataFrame\n",
        "  target_df = pd.DataFrame(target)\n",
        "  # рассчитываем производные значений таргета\n",
        "  target_der = add_feature_derivative(target_df)\n",
        "  # преобразуем таргет, если есть жест 1, если нет 0\n",
        "  for i in range(len(target_der)):\n",
        "      if (target_der.iloc[i] != 0).bool():\n",
        "        target_der.iloc[i] = 1\n",
        "\n",
        "  # объединяем преобразованный таргет и преобрразованную сумму производных в одну таблицу\n",
        "  data = pd.concat([gestures_der_sum_clean.shift(1), target_der], axis=1).dropna()\n",
        "  data.columns = ['y_t', 'first_derivative']\n",
        "  # определяем, при каком сдвиге корреляция  максимальна\n",
        "  corr_temp = []\n",
        "  for i in range(1, 40):\n",
        "    data['y_t'] = data['y_t'].shift(i)\n",
        "    corr_coef = data.corr()\n",
        "    corr_temp.append(corr_coef.iloc[1,0])\n",
        "  l = pd.Series(corr_temp)\n",
        "  best_shift = l[l == max(corr_temp)]\n",
        "  return best_shift.index[0]"
      ]
    },
    {
      "cell_type": "markdown",
      "metadata": {
        "id": "utCL_jv213ci"
      },
      "source": [
        "# Data"
      ]
    },
    {
      "cell_type": "code",
      "execution_count": 15,
      "metadata": {
        "colab": {
          "base_uri": "https://localhost:8080/",
          "height": 206
        },
        "id": "9dFH7c0k_IK3",
        "outputId": "df929892-d2ae-40fc-a5c8-5860b04995f1"
      },
      "outputs": [
        {
          "output_type": "execute_result",
          "data": {
            "text/plain": [
              "                    montage  pilote_id  last_train_idx  len(train)  len(test)\n",
              "0  2023-05-15_16-16-08.palm          1           23337       23337       5810\n",
              "1  2023-05-15_17-12-24.palm          1           23336       23336       5803\n",
              "2  2023-06-05_16-12-38.palm          1           17939       17939       4431\n",
              "3  2023-06-05_17-53-01.palm          1           17771       17771       4435\n",
              "4  2023-06-20_14-43-11.palm          1           17936       17936       4441"
            ],
            "text/html": [
              "\n",
              "  <div id=\"df-3691ff72-d40b-48de-ac45-5a6128cd9270\" class=\"colab-df-container\">\n",
              "    <div>\n",
              "<style scoped>\n",
              "    .dataframe tbody tr th:only-of-type {\n",
              "        vertical-align: middle;\n",
              "    }\n",
              "\n",
              "    .dataframe tbody tr th {\n",
              "        vertical-align: top;\n",
              "    }\n",
              "\n",
              "    .dataframe thead th {\n",
              "        text-align: right;\n",
              "    }\n",
              "</style>\n",
              "<table border=\"1\" class=\"dataframe\">\n",
              "  <thead>\n",
              "    <tr style=\"text-align: right;\">\n",
              "      <th></th>\n",
              "      <th>montage</th>\n",
              "      <th>pilote_id</th>\n",
              "      <th>last_train_idx</th>\n",
              "      <th>len(train)</th>\n",
              "      <th>len(test)</th>\n",
              "    </tr>\n",
              "  </thead>\n",
              "  <tbody>\n",
              "    <tr>\n",
              "      <th>0</th>\n",
              "      <td>2023-05-15_16-16-08.palm</td>\n",
              "      <td>1</td>\n",
              "      <td>23337</td>\n",
              "      <td>23337</td>\n",
              "      <td>5810</td>\n",
              "    </tr>\n",
              "    <tr>\n",
              "      <th>1</th>\n",
              "      <td>2023-05-15_17-12-24.palm</td>\n",
              "      <td>1</td>\n",
              "      <td>23336</td>\n",
              "      <td>23336</td>\n",
              "      <td>5803</td>\n",
              "    </tr>\n",
              "    <tr>\n",
              "      <th>2</th>\n",
              "      <td>2023-06-05_16-12-38.palm</td>\n",
              "      <td>1</td>\n",
              "      <td>17939</td>\n",
              "      <td>17939</td>\n",
              "      <td>4431</td>\n",
              "    </tr>\n",
              "    <tr>\n",
              "      <th>3</th>\n",
              "      <td>2023-06-05_17-53-01.palm</td>\n",
              "      <td>1</td>\n",
              "      <td>17771</td>\n",
              "      <td>17771</td>\n",
              "      <td>4435</td>\n",
              "    </tr>\n",
              "    <tr>\n",
              "      <th>4</th>\n",
              "      <td>2023-06-20_14-43-11.palm</td>\n",
              "      <td>1</td>\n",
              "      <td>17936</td>\n",
              "      <td>17936</td>\n",
              "      <td>4441</td>\n",
              "    </tr>\n",
              "  </tbody>\n",
              "</table>\n",
              "</div>\n",
              "    <div class=\"colab-df-buttons\">\n",
              "\n",
              "  <div class=\"colab-df-container\">\n",
              "    <button class=\"colab-df-convert\" onclick=\"convertToInteractive('df-3691ff72-d40b-48de-ac45-5a6128cd9270')\"\n",
              "            title=\"Convert this dataframe to an interactive table.\"\n",
              "            style=\"display:none;\">\n",
              "\n",
              "  <svg xmlns=\"http://www.w3.org/2000/svg\" height=\"24px\" viewBox=\"0 -960 960 960\">\n",
              "    <path d=\"M120-120v-720h720v720H120Zm60-500h600v-160H180v160Zm220 220h160v-160H400v160Zm0 220h160v-160H400v160ZM180-400h160v-160H180v160Zm440 0h160v-160H620v160ZM180-180h160v-160H180v160Zm440 0h160v-160H620v160Z\"/>\n",
              "  </svg>\n",
              "    </button>\n",
              "\n",
              "  <style>\n",
              "    .colab-df-container {\n",
              "      display:flex;\n",
              "      gap: 12px;\n",
              "    }\n",
              "\n",
              "    .colab-df-convert {\n",
              "      background-color: #E8F0FE;\n",
              "      border: none;\n",
              "      border-radius: 50%;\n",
              "      cursor: pointer;\n",
              "      display: none;\n",
              "      fill: #1967D2;\n",
              "      height: 32px;\n",
              "      padding: 0 0 0 0;\n",
              "      width: 32px;\n",
              "    }\n",
              "\n",
              "    .colab-df-convert:hover {\n",
              "      background-color: #E2EBFA;\n",
              "      box-shadow: 0px 1px 2px rgba(60, 64, 67, 0.3), 0px 1px 3px 1px rgba(60, 64, 67, 0.15);\n",
              "      fill: #174EA6;\n",
              "    }\n",
              "\n",
              "    .colab-df-buttons div {\n",
              "      margin-bottom: 4px;\n",
              "    }\n",
              "\n",
              "    [theme=dark] .colab-df-convert {\n",
              "      background-color: #3B4455;\n",
              "      fill: #D2E3FC;\n",
              "    }\n",
              "\n",
              "    [theme=dark] .colab-df-convert:hover {\n",
              "      background-color: #434B5C;\n",
              "      box-shadow: 0px 1px 3px 1px rgba(0, 0, 0, 0.15);\n",
              "      filter: drop-shadow(0px 1px 2px rgba(0, 0, 0, 0.3));\n",
              "      fill: #FFFFFF;\n",
              "    }\n",
              "  </style>\n",
              "\n",
              "    <script>\n",
              "      const buttonEl =\n",
              "        document.querySelector('#df-3691ff72-d40b-48de-ac45-5a6128cd9270 button.colab-df-convert');\n",
              "      buttonEl.style.display =\n",
              "        google.colab.kernel.accessAllowed ? 'block' : 'none';\n",
              "\n",
              "      async function convertToInteractive(key) {\n",
              "        const element = document.querySelector('#df-3691ff72-d40b-48de-ac45-5a6128cd9270');\n",
              "        const dataTable =\n",
              "          await google.colab.kernel.invokeFunction('convertToInteractive',\n",
              "                                                    [key], {});\n",
              "        if (!dataTable) return;\n",
              "\n",
              "        const docLinkHtml = 'Like what you see? Visit the ' +\n",
              "          '<a target=\"_blank\" href=https://colab.research.google.com/notebooks/data_table.ipynb>data table notebook</a>'\n",
              "          + ' to learn more about interactive tables.';\n",
              "        element.innerHTML = '';\n",
              "        dataTable['output_type'] = 'display_data';\n",
              "        await google.colab.output.renderOutput(dataTable, element);\n",
              "        const docLink = document.createElement('div');\n",
              "        docLink.innerHTML = docLinkHtml;\n",
              "        element.appendChild(docLink);\n",
              "      }\n",
              "    </script>\n",
              "  </div>\n",
              "\n",
              "\n",
              "<div id=\"df-87b0a271-c95a-4752-89ef-8b5f90d416c9\">\n",
              "  <button class=\"colab-df-quickchart\" onclick=\"quickchart('df-87b0a271-c95a-4752-89ef-8b5f90d416c9')\"\n",
              "            title=\"Suggest charts\"\n",
              "            style=\"display:none;\">\n",
              "\n",
              "<svg xmlns=\"http://www.w3.org/2000/svg\" height=\"24px\"viewBox=\"0 0 24 24\"\n",
              "     width=\"24px\">\n",
              "    <g>\n",
              "        <path d=\"M19 3H5c-1.1 0-2 .9-2 2v14c0 1.1.9 2 2 2h14c1.1 0 2-.9 2-2V5c0-1.1-.9-2-2-2zM9 17H7v-7h2v7zm4 0h-2V7h2v10zm4 0h-2v-4h2v4z\"/>\n",
              "    </g>\n",
              "</svg>\n",
              "  </button>\n",
              "\n",
              "<style>\n",
              "  .colab-df-quickchart {\n",
              "      --bg-color: #E8F0FE;\n",
              "      --fill-color: #1967D2;\n",
              "      --hover-bg-color: #E2EBFA;\n",
              "      --hover-fill-color: #174EA6;\n",
              "      --disabled-fill-color: #AAA;\n",
              "      --disabled-bg-color: #DDD;\n",
              "  }\n",
              "\n",
              "  [theme=dark] .colab-df-quickchart {\n",
              "      --bg-color: #3B4455;\n",
              "      --fill-color: #D2E3FC;\n",
              "      --hover-bg-color: #434B5C;\n",
              "      --hover-fill-color: #FFFFFF;\n",
              "      --disabled-bg-color: #3B4455;\n",
              "      --disabled-fill-color: #666;\n",
              "  }\n",
              "\n",
              "  .colab-df-quickchart {\n",
              "    background-color: var(--bg-color);\n",
              "    border: none;\n",
              "    border-radius: 50%;\n",
              "    cursor: pointer;\n",
              "    display: none;\n",
              "    fill: var(--fill-color);\n",
              "    height: 32px;\n",
              "    padding: 0;\n",
              "    width: 32px;\n",
              "  }\n",
              "\n",
              "  .colab-df-quickchart:hover {\n",
              "    background-color: var(--hover-bg-color);\n",
              "    box-shadow: 0 1px 2px rgba(60, 64, 67, 0.3), 0 1px 3px 1px rgba(60, 64, 67, 0.15);\n",
              "    fill: var(--button-hover-fill-color);\n",
              "  }\n",
              "\n",
              "  .colab-df-quickchart-complete:disabled,\n",
              "  .colab-df-quickchart-complete:disabled:hover {\n",
              "    background-color: var(--disabled-bg-color);\n",
              "    fill: var(--disabled-fill-color);\n",
              "    box-shadow: none;\n",
              "  }\n",
              "\n",
              "  .colab-df-spinner {\n",
              "    border: 2px solid var(--fill-color);\n",
              "    border-color: transparent;\n",
              "    border-bottom-color: var(--fill-color);\n",
              "    animation:\n",
              "      spin 1s steps(1) infinite;\n",
              "  }\n",
              "\n",
              "  @keyframes spin {\n",
              "    0% {\n",
              "      border-color: transparent;\n",
              "      border-bottom-color: var(--fill-color);\n",
              "      border-left-color: var(--fill-color);\n",
              "    }\n",
              "    20% {\n",
              "      border-color: transparent;\n",
              "      border-left-color: var(--fill-color);\n",
              "      border-top-color: var(--fill-color);\n",
              "    }\n",
              "    30% {\n",
              "      border-color: transparent;\n",
              "      border-left-color: var(--fill-color);\n",
              "      border-top-color: var(--fill-color);\n",
              "      border-right-color: var(--fill-color);\n",
              "    }\n",
              "    40% {\n",
              "      border-color: transparent;\n",
              "      border-right-color: var(--fill-color);\n",
              "      border-top-color: var(--fill-color);\n",
              "    }\n",
              "    60% {\n",
              "      border-color: transparent;\n",
              "      border-right-color: var(--fill-color);\n",
              "    }\n",
              "    80% {\n",
              "      border-color: transparent;\n",
              "      border-right-color: var(--fill-color);\n",
              "      border-bottom-color: var(--fill-color);\n",
              "    }\n",
              "    90% {\n",
              "      border-color: transparent;\n",
              "      border-bottom-color: var(--fill-color);\n",
              "    }\n",
              "  }\n",
              "</style>\n",
              "\n",
              "  <script>\n",
              "    async function quickchart(key) {\n",
              "      const quickchartButtonEl =\n",
              "        document.querySelector('#' + key + ' button');\n",
              "      quickchartButtonEl.disabled = true;  // To prevent multiple clicks.\n",
              "      quickchartButtonEl.classList.add('colab-df-spinner');\n",
              "      try {\n",
              "        const charts = await google.colab.kernel.invokeFunction(\n",
              "            'suggestCharts', [key], {});\n",
              "      } catch (error) {\n",
              "        console.error('Error during call to suggestCharts:', error);\n",
              "      }\n",
              "      quickchartButtonEl.classList.remove('colab-df-spinner');\n",
              "      quickchartButtonEl.classList.add('colab-df-quickchart-complete');\n",
              "    }\n",
              "    (() => {\n",
              "      let quickchartButtonEl =\n",
              "        document.querySelector('#df-87b0a271-c95a-4752-89ef-8b5f90d416c9 button');\n",
              "      quickchartButtonEl.style.display =\n",
              "        google.colab.kernel.accessAllowed ? 'block' : 'none';\n",
              "    })();\n",
              "  </script>\n",
              "</div>\n",
              "    </div>\n",
              "  </div>\n"
            ],
            "application/vnd.google.colaboratory.intrinsic+json": {
              "type": "dataframe",
              "variable_name": "df_meta",
              "summary": "{\n  \"name\": \"df_meta\",\n  \"rows\": 31,\n  \"fields\": [\n    {\n      \"column\": \"montage\",\n      \"properties\": {\n        \"dtype\": \"string\",\n        \"num_unique_values\": 31,\n        \"samples\": [\n          \"2023-10-23_14-07-13.palm\",\n          \"2023-05-22_20-22-01.palm\",\n          \"2023-10-25_11-08-46.palm\"\n        ],\n        \"semantic_type\": \"\",\n        \"description\": \"\"\n      }\n    },\n    {\n      \"column\": \"pilote_id\",\n      \"properties\": {\n        \"dtype\": \"number\",\n        \"std\": 0,\n        \"min\": 1,\n        \"max\": 4,\n        \"num_unique_values\": 4,\n        \"samples\": [\n          2,\n          4,\n          1\n        ],\n        \"semantic_type\": \"\",\n        \"description\": \"\"\n      }\n    },\n    {\n      \"column\": \"last_train_idx\",\n      \"properties\": {\n        \"dtype\": \"number\",\n        \"std\": 8001,\n        \"min\": 2759,\n        \"max\": 29532,\n        \"num_unique_values\": 28,\n        \"samples\": [\n          5690,\n          5674,\n          5694\n        ],\n        \"semantic_type\": \"\",\n        \"description\": \"\"\n      }\n    },\n    {\n      \"column\": \"len(train)\",\n      \"properties\": {\n        \"dtype\": \"number\",\n        \"std\": 8001,\n        \"min\": 2759,\n        \"max\": 29532,\n        \"num_unique_values\": 28,\n        \"samples\": [\n          5690,\n          5674,\n          5694\n        ],\n        \"semantic_type\": \"\",\n        \"description\": \"\"\n      }\n    },\n    {\n      \"column\": \"len(test)\",\n      \"properties\": {\n        \"dtype\": \"number\",\n        \"std\": 1148,\n        \"min\": 2944,\n        \"max\": 8078,\n        \"num_unique_values\": 27,\n        \"samples\": [\n          5507,\n          3872,\n          2951\n        ],\n        \"semantic_type\": \"\",\n        \"description\": \"\"\n      }\n    }\n  ]\n}"
            }
          },
          "metadata": {},
          "execution_count": 15
        }
      ],
      "source": [
        "df_meta = pd.read_csv('/content/data/meta_information.csv', index_col=0)\n",
        "df_meta.head()"
      ]
    },
    {
      "cell_type": "code",
      "execution_count": 16,
      "metadata": {
        "colab": {
          "base_uri": "https://localhost:8080/"
        },
        "id": "ghEZufKnE1_y",
        "outputId": "7ec8544f-ab38-423a-a65f-53fbd61853a8"
      },
      "outputs": [
        {
          "output_type": "execute_result",
          "data": {
            "text/plain": [
              "2023-05-15_16-16-08.palm                   1\n",
              "2023-05-22_17-04-29.palm                   1\n",
              "2023-10-18_08-05-29.palm                   1\n",
              "2023-10-23_10-11-45.palm                   1\n",
              "2023-10-23_14-07-13.palm                   1\n",
              "2023-10-23_16-23-02.palm                   1\n",
              "2023-10-25_08-52-30.palm                   1\n",
              "patched_2023-10-25_09-44-02.palm           1\n",
              "2023-10-25_11-08-46.palm                   1\n",
              "2023-05-05_17-57-30.palm                   1\n",
              "2023-05-12_19-17-00.palm                   1\n",
              "2023-05-07_15-19-05.palm                   1\n",
              "2023-05-07_16-54-27.palm                   1\n",
              "2023-04-18_19-08-47 gestures train.palm    1\n",
              "2023-05-19_12-04-02.palm                   1\n",
              "2023-05-22_20-22-01.palm                   1\n",
              "2023-05-15_17-12-24.palm                   1\n",
              "2023-05-31_15-46-37.palm                   1\n",
              "2023-05-31_17-14-41.palm                   1\n",
              "2023-09-12_12-55-22.palm                   1\n",
              "2023-09-12_14-59-23.palm                   1\n",
              "2023-09-13_22-14-05.palm                   1\n",
              "2023-09-29_09-20-47.palm                   1\n",
              "2023-09-29_11-03-50.palm                   1\n",
              "2023-09-30_08-06-44.palm                   1\n",
              "2023-06-20_12-34-17.palm                   1\n",
              "2023-06-20_13-30-15.palm                   1\n",
              "2023-06-20_14-43-11.palm                   1\n",
              "2023-06-05_17-53-01.palm                   1\n",
              "2023-06-05_16-12-38.palm                   1\n",
              "2023-10-18_11-16-21.palm                   1\n",
              "Name: montage, dtype: int64"
            ]
          },
          "metadata": {},
          "execution_count": 16
        }
      ],
      "source": [
        "df_meta['montage'].value_counts()"
      ]
    },
    {
      "cell_type": "code",
      "execution_count": 17,
      "metadata": {
        "colab": {
          "base_uri": "https://localhost:8080/"
        },
        "id": "mzfyTMZY8Tda",
        "outputId": "0d6bba2e-e1c1-47f0-bbdc-014f71807710"
      },
      "outputs": [
        {
          "output_type": "stream",
          "name": "stdout",
          "text": [
            "OMG_CH: ['0', '1', '2', '3', '4', '5', '6', '7', '8', '9', '10', '11', '12', '13', '14', '15', '16', '17', '18', '19', '20', '21', '22', '23', '24', '25', '26', '27', '28', '29', '30', '31', '32', '33', '34', '35', '36', '37', '38', '39', '40', '41', '42', '43', '44', '45', '46', '47', '48', '49']\n",
            "ACC_CH: ['ACC0', 'ACC1', 'ACC2']\n",
            "GYR_CH: ['GYR0', 'GYR1', 'GYR2']\n",
            "ENC_CH: ['ENC0', 'ENC1', 'ENC2', 'ENC3', 'ENC4', 'ENC5']\n",
            "BUTTON_SYNC_TS_CH: ['BUTTON', 'SYNC', 'ts']\n"
          ]
        }
      ],
      "source": [
        "OMG_CH = [str(i) for i in range(50)]\n",
        "\n",
        "ACC_CH = ['ACC0', 'ACC1', 'ACC2']\n",
        "GYR_CH = ['GYR0', 'GYR1', 'GYR2']\n",
        "ENC_CH = ['ENC0', 'ENC1', 'ENC2', 'ENC3', 'ENC4', 'ENC5']\n",
        "BUTTON_SYNC_TS_CH = ['BUTTON', 'SYNC', 'ts']\n",
        "\n",
        "#gestures[OMG_CH + ACC_CH + GYR_CH + ENC_CH]\n",
        "\n",
        "# assert len(OMG_CH)+len(ACC_CH)+len(GYR_CH)+len(ENC_CH)+len(BUTTON_SYNC_TS_CH) == gestures.shape[-1]\n",
        "\n",
        "print(f\"OMG_CH: {list(OMG_CH)}\")\n",
        "print(f\"ACC_CH: {list(ACC_CH)}\")\n",
        "print(f\"GYR_CH: {list(GYR_CH)}\")\n",
        "print(f\"ENC_CH: {list(ENC_CH)}\")\n",
        "print(f\"BUTTON_SYNC_TS_CH: {list(BUTTON_SYNC_TS_CH)}\")"
      ]
    },
    {
      "cell_type": "code",
      "execution_count": 18,
      "metadata": {
        "colab": {
          "base_uri": "https://localhost:8080/"
        },
        "id": "SGxBQLOrNuA-",
        "outputId": "6fef26cc-a934-4c88-c84e-4fddca63be3e"
      },
      "outputs": [
        {
          "output_type": "stream",
          "name": "stderr",
          "text": [
            "<ipython-input-18-1b88e1c51866>:67: SettingWithCopyWarning: \n",
            "A value is trying to be set on a copy of a slice from a DataFrame\n",
            "\n",
            "See the caveats in the documentation: https://pandas.pydata.org/pandas-docs/stable/user_guide/indexing.html#returning-a-view-versus-a-copy\n",
            "  gest['sample_type'].iloc[:last_train_idx] = 'train'\n",
            "<ipython-input-18-1b88e1c51866>:68: SettingWithCopyWarning: \n",
            "A value is trying to be set on a copy of a slice from a DataFrame\n",
            "\n",
            "See the caveats in the documentation: https://pandas.pydata.org/pandas-docs/stable/user_guide/indexing.html#returning-a-view-versus-a-copy\n",
            "  gest['sample_type'].iloc[last_train_idx:] = 'test'\n",
            "<ipython-input-18-1b88e1c51866>:67: SettingWithCopyWarning: \n",
            "A value is trying to be set on a copy of a slice from a DataFrame\n",
            "\n",
            "See the caveats in the documentation: https://pandas.pydata.org/pandas-docs/stable/user_guide/indexing.html#returning-a-view-versus-a-copy\n",
            "  gest['sample_type'].iloc[:last_train_idx] = 'train'\n",
            "<ipython-input-18-1b88e1c51866>:68: SettingWithCopyWarning: \n",
            "A value is trying to be set on a copy of a slice from a DataFrame\n",
            "\n",
            "See the caveats in the documentation: https://pandas.pydata.org/pandas-docs/stable/user_guide/indexing.html#returning-a-view-versus-a-copy\n",
            "  gest['sample_type'].iloc[last_train_idx:] = 'test'\n",
            "<ipython-input-18-1b88e1c51866>:67: SettingWithCopyWarning: \n",
            "A value is trying to be set on a copy of a slice from a DataFrame\n",
            "\n",
            "See the caveats in the documentation: https://pandas.pydata.org/pandas-docs/stable/user_guide/indexing.html#returning-a-view-versus-a-copy\n",
            "  gest['sample_type'].iloc[:last_train_idx] = 'train'\n",
            "<ipython-input-18-1b88e1c51866>:68: SettingWithCopyWarning: \n",
            "A value is trying to be set on a copy of a slice from a DataFrame\n",
            "\n",
            "See the caveats in the documentation: https://pandas.pydata.org/pandas-docs/stable/user_guide/indexing.html#returning-a-view-versus-a-copy\n",
            "  gest['sample_type'].iloc[last_train_idx:] = 'test'\n",
            "<ipython-input-18-1b88e1c51866>:67: SettingWithCopyWarning: \n",
            "A value is trying to be set on a copy of a slice from a DataFrame\n",
            "\n",
            "See the caveats in the documentation: https://pandas.pydata.org/pandas-docs/stable/user_guide/indexing.html#returning-a-view-versus-a-copy\n",
            "  gest['sample_type'].iloc[:last_train_idx] = 'train'\n",
            "<ipython-input-18-1b88e1c51866>:68: SettingWithCopyWarning: \n",
            "A value is trying to be set on a copy of a slice from a DataFrame\n",
            "\n",
            "See the caveats in the documentation: https://pandas.pydata.org/pandas-docs/stable/user_guide/indexing.html#returning-a-view-versus-a-copy\n",
            "  gest['sample_type'].iloc[last_train_idx:] = 'test'\n",
            "<ipython-input-18-1b88e1c51866>:67: SettingWithCopyWarning: \n",
            "A value is trying to be set on a copy of a slice from a DataFrame\n",
            "\n",
            "See the caveats in the documentation: https://pandas.pydata.org/pandas-docs/stable/user_guide/indexing.html#returning-a-view-versus-a-copy\n",
            "  gest['sample_type'].iloc[:last_train_idx] = 'train'\n",
            "<ipython-input-18-1b88e1c51866>:68: SettingWithCopyWarning: \n",
            "A value is trying to be set on a copy of a slice from a DataFrame\n",
            "\n",
            "See the caveats in the documentation: https://pandas.pydata.org/pandas-docs/stable/user_guide/indexing.html#returning-a-view-versus-a-copy\n",
            "  gest['sample_type'].iloc[last_train_idx:] = 'test'\n",
            "<ipython-input-18-1b88e1c51866>:67: SettingWithCopyWarning: \n",
            "A value is trying to be set on a copy of a slice from a DataFrame\n",
            "\n",
            "See the caveats in the documentation: https://pandas.pydata.org/pandas-docs/stable/user_guide/indexing.html#returning-a-view-versus-a-copy\n",
            "  gest['sample_type'].iloc[:last_train_idx] = 'train'\n",
            "<ipython-input-18-1b88e1c51866>:68: SettingWithCopyWarning: \n",
            "A value is trying to be set on a copy of a slice from a DataFrame\n",
            "\n",
            "See the caveats in the documentation: https://pandas.pydata.org/pandas-docs/stable/user_guide/indexing.html#returning-a-view-versus-a-copy\n",
            "  gest['sample_type'].iloc[last_train_idx:] = 'test'\n",
            "<ipython-input-18-1b88e1c51866>:67: SettingWithCopyWarning: \n",
            "A value is trying to be set on a copy of a slice from a DataFrame\n",
            "\n",
            "See the caveats in the documentation: https://pandas.pydata.org/pandas-docs/stable/user_guide/indexing.html#returning-a-view-versus-a-copy\n",
            "  gest['sample_type'].iloc[:last_train_idx] = 'train'\n",
            "<ipython-input-18-1b88e1c51866>:68: SettingWithCopyWarning: \n",
            "A value is trying to be set on a copy of a slice from a DataFrame\n",
            "\n",
            "See the caveats in the documentation: https://pandas.pydata.org/pandas-docs/stable/user_guide/indexing.html#returning-a-view-versus-a-copy\n",
            "  gest['sample_type'].iloc[last_train_idx:] = 'test'\n",
            "<ipython-input-18-1b88e1c51866>:67: SettingWithCopyWarning: \n",
            "A value is trying to be set on a copy of a slice from a DataFrame\n",
            "\n",
            "See the caveats in the documentation: https://pandas.pydata.org/pandas-docs/stable/user_guide/indexing.html#returning-a-view-versus-a-copy\n",
            "  gest['sample_type'].iloc[:last_train_idx] = 'train'\n",
            "<ipython-input-18-1b88e1c51866>:68: SettingWithCopyWarning: \n",
            "A value is trying to be set on a copy of a slice from a DataFrame\n",
            "\n",
            "See the caveats in the documentation: https://pandas.pydata.org/pandas-docs/stable/user_guide/indexing.html#returning-a-view-versus-a-copy\n",
            "  gest['sample_type'].iloc[last_train_idx:] = 'test'\n",
            "<ipython-input-18-1b88e1c51866>:67: SettingWithCopyWarning: \n",
            "A value is trying to be set on a copy of a slice from a DataFrame\n",
            "\n",
            "See the caveats in the documentation: https://pandas.pydata.org/pandas-docs/stable/user_guide/indexing.html#returning-a-view-versus-a-copy\n",
            "  gest['sample_type'].iloc[:last_train_idx] = 'train'\n",
            "<ipython-input-18-1b88e1c51866>:68: SettingWithCopyWarning: \n",
            "A value is trying to be set on a copy of a slice from a DataFrame\n",
            "\n",
            "See the caveats in the documentation: https://pandas.pydata.org/pandas-docs/stable/user_guide/indexing.html#returning-a-view-versus-a-copy\n",
            "  gest['sample_type'].iloc[last_train_idx:] = 'test'\n",
            "<ipython-input-18-1b88e1c51866>:67: SettingWithCopyWarning: \n",
            "A value is trying to be set on a copy of a slice from a DataFrame\n",
            "\n",
            "See the caveats in the documentation: https://pandas.pydata.org/pandas-docs/stable/user_guide/indexing.html#returning-a-view-versus-a-copy\n",
            "  gest['sample_type'].iloc[:last_train_idx] = 'train'\n",
            "<ipython-input-18-1b88e1c51866>:68: SettingWithCopyWarning: \n",
            "A value is trying to be set on a copy of a slice from a DataFrame\n",
            "\n",
            "See the caveats in the documentation: https://pandas.pydata.org/pandas-docs/stable/user_guide/indexing.html#returning-a-view-versus-a-copy\n",
            "  gest['sample_type'].iloc[last_train_idx:] = 'test'\n",
            "<ipython-input-18-1b88e1c51866>:67: SettingWithCopyWarning: \n",
            "A value is trying to be set on a copy of a slice from a DataFrame\n",
            "\n",
            "See the caveats in the documentation: https://pandas.pydata.org/pandas-docs/stable/user_guide/indexing.html#returning-a-view-versus-a-copy\n",
            "  gest['sample_type'].iloc[:last_train_idx] = 'train'\n",
            "<ipython-input-18-1b88e1c51866>:68: SettingWithCopyWarning: \n",
            "A value is trying to be set on a copy of a slice from a DataFrame\n",
            "\n",
            "See the caveats in the documentation: https://pandas.pydata.org/pandas-docs/stable/user_guide/indexing.html#returning-a-view-versus-a-copy\n",
            "  gest['sample_type'].iloc[last_train_idx:] = 'test'\n",
            "<ipython-input-18-1b88e1c51866>:67: SettingWithCopyWarning: \n",
            "A value is trying to be set on a copy of a slice from a DataFrame\n",
            "\n",
            "See the caveats in the documentation: https://pandas.pydata.org/pandas-docs/stable/user_guide/indexing.html#returning-a-view-versus-a-copy\n",
            "  gest['sample_type'].iloc[:last_train_idx] = 'train'\n",
            "<ipython-input-18-1b88e1c51866>:68: SettingWithCopyWarning: \n",
            "A value is trying to be set on a copy of a slice from a DataFrame\n",
            "\n",
            "See the caveats in the documentation: https://pandas.pydata.org/pandas-docs/stable/user_guide/indexing.html#returning-a-view-versus-a-copy\n",
            "  gest['sample_type'].iloc[last_train_idx:] = 'test'\n",
            "<ipython-input-18-1b88e1c51866>:67: SettingWithCopyWarning: \n",
            "A value is trying to be set on a copy of a slice from a DataFrame\n",
            "\n",
            "See the caveats in the documentation: https://pandas.pydata.org/pandas-docs/stable/user_guide/indexing.html#returning-a-view-versus-a-copy\n",
            "  gest['sample_type'].iloc[:last_train_idx] = 'train'\n",
            "<ipython-input-18-1b88e1c51866>:68: SettingWithCopyWarning: \n",
            "A value is trying to be set on a copy of a slice from a DataFrame\n",
            "\n",
            "See the caveats in the documentation: https://pandas.pydata.org/pandas-docs/stable/user_guide/indexing.html#returning-a-view-versus-a-copy\n",
            "  gest['sample_type'].iloc[last_train_idx:] = 'test'\n",
            "<ipython-input-18-1b88e1c51866>:67: SettingWithCopyWarning: \n",
            "A value is trying to be set on a copy of a slice from a DataFrame\n",
            "\n",
            "See the caveats in the documentation: https://pandas.pydata.org/pandas-docs/stable/user_guide/indexing.html#returning-a-view-versus-a-copy\n",
            "  gest['sample_type'].iloc[:last_train_idx] = 'train'\n",
            "<ipython-input-18-1b88e1c51866>:68: SettingWithCopyWarning: \n",
            "A value is trying to be set on a copy of a slice from a DataFrame\n",
            "\n",
            "See the caveats in the documentation: https://pandas.pydata.org/pandas-docs/stable/user_guide/indexing.html#returning-a-view-versus-a-copy\n",
            "  gest['sample_type'].iloc[last_train_idx:] = 'test'\n",
            "<ipython-input-18-1b88e1c51866>:67: SettingWithCopyWarning: \n",
            "A value is trying to be set on a copy of a slice from a DataFrame\n",
            "\n",
            "See the caveats in the documentation: https://pandas.pydata.org/pandas-docs/stable/user_guide/indexing.html#returning-a-view-versus-a-copy\n",
            "  gest['sample_type'].iloc[:last_train_idx] = 'train'\n",
            "<ipython-input-18-1b88e1c51866>:68: SettingWithCopyWarning: \n",
            "A value is trying to be set on a copy of a slice from a DataFrame\n",
            "\n",
            "See the caveats in the documentation: https://pandas.pydata.org/pandas-docs/stable/user_guide/indexing.html#returning-a-view-versus-a-copy\n",
            "  gest['sample_type'].iloc[last_train_idx:] = 'test'\n",
            "<ipython-input-18-1b88e1c51866>:67: SettingWithCopyWarning: \n",
            "A value is trying to be set on a copy of a slice from a DataFrame\n",
            "\n",
            "See the caveats in the documentation: https://pandas.pydata.org/pandas-docs/stable/user_guide/indexing.html#returning-a-view-versus-a-copy\n",
            "  gest['sample_type'].iloc[:last_train_idx] = 'train'\n",
            "<ipython-input-18-1b88e1c51866>:68: SettingWithCopyWarning: \n",
            "A value is trying to be set on a copy of a slice from a DataFrame\n",
            "\n",
            "See the caveats in the documentation: https://pandas.pydata.org/pandas-docs/stable/user_guide/indexing.html#returning-a-view-versus-a-copy\n",
            "  gest['sample_type'].iloc[last_train_idx:] = 'test'\n",
            "<ipython-input-18-1b88e1c51866>:67: SettingWithCopyWarning: \n",
            "A value is trying to be set on a copy of a slice from a DataFrame\n",
            "\n",
            "See the caveats in the documentation: https://pandas.pydata.org/pandas-docs/stable/user_guide/indexing.html#returning-a-view-versus-a-copy\n",
            "  gest['sample_type'].iloc[:last_train_idx] = 'train'\n",
            "<ipython-input-18-1b88e1c51866>:68: SettingWithCopyWarning: \n",
            "A value is trying to be set on a copy of a slice from a DataFrame\n",
            "\n",
            "See the caveats in the documentation: https://pandas.pydata.org/pandas-docs/stable/user_guide/indexing.html#returning-a-view-versus-a-copy\n",
            "  gest['sample_type'].iloc[last_train_idx:] = 'test'\n",
            "<ipython-input-18-1b88e1c51866>:67: SettingWithCopyWarning: \n",
            "A value is trying to be set on a copy of a slice from a DataFrame\n",
            "\n",
            "See the caveats in the documentation: https://pandas.pydata.org/pandas-docs/stable/user_guide/indexing.html#returning-a-view-versus-a-copy\n",
            "  gest['sample_type'].iloc[:last_train_idx] = 'train'\n",
            "<ipython-input-18-1b88e1c51866>:68: SettingWithCopyWarning: \n",
            "A value is trying to be set on a copy of a slice from a DataFrame\n",
            "\n",
            "See the caveats in the documentation: https://pandas.pydata.org/pandas-docs/stable/user_guide/indexing.html#returning-a-view-versus-a-copy\n",
            "  gest['sample_type'].iloc[last_train_idx:] = 'test'\n",
            "<ipython-input-18-1b88e1c51866>:67: SettingWithCopyWarning: \n",
            "A value is trying to be set on a copy of a slice from a DataFrame\n",
            "\n",
            "See the caveats in the documentation: https://pandas.pydata.org/pandas-docs/stable/user_guide/indexing.html#returning-a-view-versus-a-copy\n",
            "  gest['sample_type'].iloc[:last_train_idx] = 'train'\n",
            "<ipython-input-18-1b88e1c51866>:68: SettingWithCopyWarning: \n",
            "A value is trying to be set on a copy of a slice from a DataFrame\n",
            "\n",
            "See the caveats in the documentation: https://pandas.pydata.org/pandas-docs/stable/user_guide/indexing.html#returning-a-view-versus-a-copy\n",
            "  gest['sample_type'].iloc[last_train_idx:] = 'test'\n",
            "<ipython-input-18-1b88e1c51866>:67: SettingWithCopyWarning: \n",
            "A value is trying to be set on a copy of a slice from a DataFrame\n",
            "\n",
            "See the caveats in the documentation: https://pandas.pydata.org/pandas-docs/stable/user_guide/indexing.html#returning-a-view-versus-a-copy\n",
            "  gest['sample_type'].iloc[:last_train_idx] = 'train'\n",
            "<ipython-input-18-1b88e1c51866>:68: SettingWithCopyWarning: \n",
            "A value is trying to be set on a copy of a slice from a DataFrame\n",
            "\n",
            "See the caveats in the documentation: https://pandas.pydata.org/pandas-docs/stable/user_guide/indexing.html#returning-a-view-versus-a-copy\n",
            "  gest['sample_type'].iloc[last_train_idx:] = 'test'\n",
            "<ipython-input-18-1b88e1c51866>:67: SettingWithCopyWarning: \n",
            "A value is trying to be set on a copy of a slice from a DataFrame\n",
            "\n",
            "See the caveats in the documentation: https://pandas.pydata.org/pandas-docs/stable/user_guide/indexing.html#returning-a-view-versus-a-copy\n",
            "  gest['sample_type'].iloc[:last_train_idx] = 'train'\n",
            "<ipython-input-18-1b88e1c51866>:68: SettingWithCopyWarning: \n",
            "A value is trying to be set on a copy of a slice from a DataFrame\n",
            "\n",
            "See the caveats in the documentation: https://pandas.pydata.org/pandas-docs/stable/user_guide/indexing.html#returning-a-view-versus-a-copy\n",
            "  gest['sample_type'].iloc[last_train_idx:] = 'test'\n",
            "<ipython-input-18-1b88e1c51866>:67: SettingWithCopyWarning: \n",
            "A value is trying to be set on a copy of a slice from a DataFrame\n",
            "\n",
            "See the caveats in the documentation: https://pandas.pydata.org/pandas-docs/stable/user_guide/indexing.html#returning-a-view-versus-a-copy\n",
            "  gest['sample_type'].iloc[:last_train_idx] = 'train'\n",
            "<ipython-input-18-1b88e1c51866>:68: SettingWithCopyWarning: \n",
            "A value is trying to be set on a copy of a slice from a DataFrame\n",
            "\n",
            "See the caveats in the documentation: https://pandas.pydata.org/pandas-docs/stable/user_guide/indexing.html#returning-a-view-versus-a-copy\n",
            "  gest['sample_type'].iloc[last_train_idx:] = 'test'\n",
            "<ipython-input-18-1b88e1c51866>:67: SettingWithCopyWarning: \n",
            "A value is trying to be set on a copy of a slice from a DataFrame\n",
            "\n",
            "See the caveats in the documentation: https://pandas.pydata.org/pandas-docs/stable/user_guide/indexing.html#returning-a-view-versus-a-copy\n",
            "  gest['sample_type'].iloc[:last_train_idx] = 'train'\n",
            "<ipython-input-18-1b88e1c51866>:68: SettingWithCopyWarning: \n",
            "A value is trying to be set on a copy of a slice from a DataFrame\n",
            "\n",
            "See the caveats in the documentation: https://pandas.pydata.org/pandas-docs/stable/user_guide/indexing.html#returning-a-view-versus-a-copy\n",
            "  gest['sample_type'].iloc[last_train_idx:] = 'test'\n",
            "<ipython-input-18-1b88e1c51866>:67: SettingWithCopyWarning: \n",
            "A value is trying to be set on a copy of a slice from a DataFrame\n",
            "\n",
            "See the caveats in the documentation: https://pandas.pydata.org/pandas-docs/stable/user_guide/indexing.html#returning-a-view-versus-a-copy\n",
            "  gest['sample_type'].iloc[:last_train_idx] = 'train'\n",
            "<ipython-input-18-1b88e1c51866>:68: SettingWithCopyWarning: \n",
            "A value is trying to be set on a copy of a slice from a DataFrame\n",
            "\n",
            "See the caveats in the documentation: https://pandas.pydata.org/pandas-docs/stable/user_guide/indexing.html#returning-a-view-versus-a-copy\n",
            "  gest['sample_type'].iloc[last_train_idx:] = 'test'\n",
            "<ipython-input-18-1b88e1c51866>:67: SettingWithCopyWarning: \n",
            "A value is trying to be set on a copy of a slice from a DataFrame\n",
            "\n",
            "See the caveats in the documentation: https://pandas.pydata.org/pandas-docs/stable/user_guide/indexing.html#returning-a-view-versus-a-copy\n",
            "  gest['sample_type'].iloc[:last_train_idx] = 'train'\n",
            "<ipython-input-18-1b88e1c51866>:68: SettingWithCopyWarning: \n",
            "A value is trying to be set on a copy of a slice from a DataFrame\n",
            "\n",
            "See the caveats in the documentation: https://pandas.pydata.org/pandas-docs/stable/user_guide/indexing.html#returning-a-view-versus-a-copy\n",
            "  gest['sample_type'].iloc[last_train_idx:] = 'test'\n",
            "<ipython-input-18-1b88e1c51866>:67: SettingWithCopyWarning: \n",
            "A value is trying to be set on a copy of a slice from a DataFrame\n",
            "\n",
            "See the caveats in the documentation: https://pandas.pydata.org/pandas-docs/stable/user_guide/indexing.html#returning-a-view-versus-a-copy\n",
            "  gest['sample_type'].iloc[:last_train_idx] = 'train'\n",
            "<ipython-input-18-1b88e1c51866>:68: SettingWithCopyWarning: \n",
            "A value is trying to be set on a copy of a slice from a DataFrame\n",
            "\n",
            "See the caveats in the documentation: https://pandas.pydata.org/pandas-docs/stable/user_guide/indexing.html#returning-a-view-versus-a-copy\n",
            "  gest['sample_type'].iloc[last_train_idx:] = 'test'\n",
            "<ipython-input-18-1b88e1c51866>:67: SettingWithCopyWarning: \n",
            "A value is trying to be set on a copy of a slice from a DataFrame\n",
            "\n",
            "See the caveats in the documentation: https://pandas.pydata.org/pandas-docs/stable/user_guide/indexing.html#returning-a-view-versus-a-copy\n",
            "  gest['sample_type'].iloc[:last_train_idx] = 'train'\n",
            "<ipython-input-18-1b88e1c51866>:68: SettingWithCopyWarning: \n",
            "A value is trying to be set on a copy of a slice from a DataFrame\n",
            "\n",
            "See the caveats in the documentation: https://pandas.pydata.org/pandas-docs/stable/user_guide/indexing.html#returning-a-view-versus-a-copy\n",
            "  gest['sample_type'].iloc[last_train_idx:] = 'test'\n",
            "<ipython-input-18-1b88e1c51866>:67: SettingWithCopyWarning: \n",
            "A value is trying to be set on a copy of a slice from a DataFrame\n",
            "\n",
            "See the caveats in the documentation: https://pandas.pydata.org/pandas-docs/stable/user_guide/indexing.html#returning-a-view-versus-a-copy\n",
            "  gest['sample_type'].iloc[:last_train_idx] = 'train'\n",
            "<ipython-input-18-1b88e1c51866>:68: SettingWithCopyWarning: \n",
            "A value is trying to be set on a copy of a slice from a DataFrame\n",
            "\n",
            "See the caveats in the documentation: https://pandas.pydata.org/pandas-docs/stable/user_guide/indexing.html#returning-a-view-versus-a-copy\n",
            "  gest['sample_type'].iloc[last_train_idx:] = 'test'\n",
            "<ipython-input-18-1b88e1c51866>:67: SettingWithCopyWarning: \n",
            "A value is trying to be set on a copy of a slice from a DataFrame\n",
            "\n",
            "See the caveats in the documentation: https://pandas.pydata.org/pandas-docs/stable/user_guide/indexing.html#returning-a-view-versus-a-copy\n",
            "  gest['sample_type'].iloc[:last_train_idx] = 'train'\n",
            "<ipython-input-18-1b88e1c51866>:68: SettingWithCopyWarning: \n",
            "A value is trying to be set on a copy of a slice from a DataFrame\n",
            "\n",
            "See the caveats in the documentation: https://pandas.pydata.org/pandas-docs/stable/user_guide/indexing.html#returning-a-view-versus-a-copy\n",
            "  gest['sample_type'].iloc[last_train_idx:] = 'test'\n",
            "<ipython-input-18-1b88e1c51866>:67: SettingWithCopyWarning: \n",
            "A value is trying to be set on a copy of a slice from a DataFrame\n",
            "\n",
            "See the caveats in the documentation: https://pandas.pydata.org/pandas-docs/stable/user_guide/indexing.html#returning-a-view-versus-a-copy\n",
            "  gest['sample_type'].iloc[:last_train_idx] = 'train'\n",
            "<ipython-input-18-1b88e1c51866>:68: SettingWithCopyWarning: \n",
            "A value is trying to be set on a copy of a slice from a DataFrame\n",
            "\n",
            "See the caveats in the documentation: https://pandas.pydata.org/pandas-docs/stable/user_guide/indexing.html#returning-a-view-versus-a-copy\n",
            "  gest['sample_type'].iloc[last_train_idx:] = 'test'\n"
          ]
        },
        {
          "output_type": "stream",
          "name": "stdout",
          "text": [
            "(169790, 69) (252665, 69) (77002, 69) (26648, 69)\n"
          ]
        },
        {
          "output_type": "stream",
          "name": "stderr",
          "text": [
            "<ipython-input-18-1b88e1c51866>:67: SettingWithCopyWarning: \n",
            "A value is trying to be set on a copy of a slice from a DataFrame\n",
            "\n",
            "See the caveats in the documentation: https://pandas.pydata.org/pandas-docs/stable/user_guide/indexing.html#returning-a-view-versus-a-copy\n",
            "  gest['sample_type'].iloc[:last_train_idx] = 'train'\n",
            "<ipython-input-18-1b88e1c51866>:68: SettingWithCopyWarning: \n",
            "A value is trying to be set on a copy of a slice from a DataFrame\n",
            "\n",
            "See the caveats in the documentation: https://pandas.pydata.org/pandas-docs/stable/user_guide/indexing.html#returning-a-view-versus-a-copy\n",
            "  gest['sample_type'].iloc[last_train_idx:] = 'test'\n"
          ]
        }
      ],
      "source": [
        "list_table = []\n",
        "table_1 = pd.DataFrame()\n",
        "table_2 = pd.DataFrame()\n",
        "table_3 = pd.DataFrame()\n",
        "table_4 = pd.DataFrame()\n",
        "for name in filename_list:\n",
        "  # если в названии файла есть protocol\n",
        "  if name[-12:-4] == 'protocol':\n",
        "    # работать будем с этим файлом\n",
        "    palm_file = f'/content/data/{name}'\n",
        "    # определяем номер пилота\n",
        "    pilot_num = df_meta[df_meta['montage'] == name[:-13]]['pilote_id']\n",
        "    # определяем имя будущего файла\n",
        "    table_name = f'protocol_{name[-23:-18]}_{list(pilot_num)[0]}'\n",
        "    # Создаем объект с динамическим именем и устанавливаем его атрибут\n",
        "    # Загружаем нужный файл в таблицу\n",
        "    setattr(pd, table_name, pd.read_csv(f'{palm_file}', index_col=0))\n",
        "    # FIT\n",
        "    transform_table = getattr(pd, table_name)\n",
        "    le.fit(\n",
        "        transform_table[[\n",
        "            \"Thumb\",\"Index\",\"Middle\",\"Ring\",\"Pinky\",\n",
        "            'Thumb_stretch','Index_stretch','Middle_stretch','Ring_stretch','Pinky_stretch'\n",
        "        ]]\n",
        "        .apply(lambda row: str(tuple(row)), axis=1)\n",
        "    )\n",
        "\n",
        "    # TRANSFORM\n",
        "    transform_table['gesture'] = le.transform(\n",
        "        transform_table[[\n",
        "            \"Thumb\",\"Index\",\"Middle\",\"Ring\",\"Pinky\",\n",
        "            'Thumb_stretch','Index_stretch','Middle_stretch','Ring_stretch','Pinky_stretch'\n",
        "        ]]\n",
        "        .apply(lambda row: str(tuple(row)), axis=1)\n",
        "    )\n",
        "\n",
        "    # теперь находим файл испытаний, соответствующему испытаниям\n",
        "    palm_file = f'/content/data/{name[:-13]}'\n",
        "    # Создаем объект с динамическим именем и устанавливаем его атрибут\n",
        "    # название файла с наблюдениями\n",
        "    gest_table_name = f'gestures_{name[-23:-18]}_{list(pilot_num)[0]}'\n",
        "    setattr(pd, gest_table_name, read_omg_csv(palm_file,\n",
        "                            n_omg_channels=50,\n",
        "                            n_acc_channels=3,\n",
        "                            n_gyr_channels=3,\n",
        "                            n_enc_channels=6,\n",
        "                            n_mag_channels=0))\n",
        "    gest = getattr(pd, gest_table_name)\n",
        "    gest['sample_type'] = np.zeros(gest.shape[0]).astype(str)\n",
        "\n",
        "    # синхронизируем файл испытаний и протокол\n",
        "    sync_name = f'y_cmd_{name[-23:-18]}_{list(pilot_num)[0]}'\n",
        "    setattr(pd, sync_name, np.array([transform_table['gesture'].loc[s] for s in gest['SYNC'].values]))\n",
        "    y_prot = getattr(pd, sync_name)\n",
        "\n",
        "    # находим наилучший временной сдвиг для конкретной пары наблюдения-протокол\n",
        "    best_shift = shift_definition(gest[OMG_CH + ACC_CH + GYR_CH + ENC_CH], y_prot)\n",
        "     # сдвигаем данные в соответсвии с найденным сдвигом\n",
        "    y_prot = pd.DataFrame(y_prot)\n",
        "    y_prot = y_prot.shift(best_shift).fillna(0)\n",
        "    y_prot.columns = ['gest']\n",
        "    y_prot['name'] = name\n",
        "    y_prot['pilot'] = list(pilot_num)[0]\n",
        "\n",
        "    last_train_idx = df_meta[df_meta['montage'] == palm_file.split('/')[-1]].to_dict(orient='records')[0]['last_train_idx']\n",
        "\n",
        "    gest['sample_type'].iloc[:last_train_idx] = 'train'\n",
        "    gest['sample_type'].iloc[last_train_idx:] = 'test'\n",
        "\n",
        "    # объединяем файлы по пилотам\n",
        "    # имя для объединенной таблицы\n",
        "    table_name_concat = f'concat_{name[-23:-18]}_{list(pilot_num)[0]}'\n",
        "    setattr(pd, table_name_concat, pd.concat([gest, y_prot], axis=1).dropna())\n",
        "    table_concat = getattr(pd, table_name_concat)\n",
        "    if list(pilot_num)[0] == 1:\n",
        "      table_1 = pd.concat([table_concat, table_1])\n",
        "    elif list(pilot_num)[0]== 2:\n",
        "      table_2 = pd.concat([table_concat, table_2])\n",
        "    elif list(pilot_num)[0]== 3:\n",
        "      table_3 = pd.concat([table_concat, table_3])\n",
        "    elif list(pilot_num)[0]== 4:\n",
        "      table_4 = pd.concat([table_concat, table_4])\n",
        "\n",
        "print(table_1.shape, table_2.shape, table_3.shape, table_4.shape)"
      ]
    },
    {
      "cell_type": "code",
      "source": [
        "print(table_1.shape, table_2.shape, table_3.shape, table_4.shape)"
      ],
      "metadata": {
        "colab": {
          "base_uri": "https://localhost:8080/"
        },
        "id": "DdRGUWrB4TyA",
        "outputId": "37a5eac4-f94c-4338-99c7-094c7ade0f84"
      },
      "execution_count": 19,
      "outputs": [
        {
          "output_type": "stream",
          "name": "stdout",
          "text": [
            "(169790, 69) (252665, 69) (77002, 69) (26648, 69)\n"
          ]
        }
      ]
    },
    {
      "cell_type": "code",
      "source": [
        "table_1"
      ],
      "metadata": {
        "colab": {
          "base_uri": "https://localhost:8080/",
          "height": 424
        },
        "id": "GFefjRfEc_q5",
        "outputId": "2833b07b-05af-4471-b880-68ac5bf2ae61"
      },
      "execution_count": 20,
      "outputs": [
        {
          "output_type": "execute_result",
          "data": {
            "text/plain": [
              "        0  1   2     3     4     5     6  7   8  9  ...  ENC3  ENC4  ENC5  \\\n",
              "0       6  3  11  2455  3160     1  1573  7   4  1  ...     0     0     0   \n",
              "1       6  0  12  2454  3158     1  1574  8  12  6  ...     0     0     0   \n",
              "2      10  2  13  2461  3165     1  1579  9   5  4  ...     0     0     0   \n",
              "3       5  4  10  2453  3160    11  1575  8  12  5  ...     0     0     0   \n",
              "4       7  3  15  2454  3157     1  1575  8   8  2  ...     0     0     0   \n",
              "...    .. ..  ..   ...   ...   ...   ... ..  .. ..  ...   ...   ...   ...   \n",
              "22356   9  5   5  2349  2709  2477  2366  4   6  5  ...     0     0     0   \n",
              "22357   8  5   5  2375  2675  2495  2613  4   7  6  ...     0     0     0   \n",
              "22358   9  0   5  2402  2678  2521  2711  4   8  6  ...     0     0     0   \n",
              "22359   8  5   5  2429  2675  2541  2895  5   6  6  ...     0     0     0   \n",
              "22360   8  6   5  2471  2653  2568  3189  4   7  5  ...     0     0     0   \n",
              "\n",
              "       BUTTON  SYNC      ts  sample_type  gest  \\\n",
              "0           0     0  129186        train   0.0   \n",
              "1           0     0  129219        train   0.0   \n",
              "2           0     0  129252        train   0.0   \n",
              "3           0     0  129285        train   0.0   \n",
              "4           0     0  129318        train   0.0   \n",
              "...       ...   ...     ...          ...   ...   \n",
              "22356       0     0  808557         test   2.0   \n",
              "22357       0     0  808590         test   2.0   \n",
              "22358       0     0  808623         test   2.0   \n",
              "22359       0     0  808656         test   2.0   \n",
              "22360       0     0  808689         test   2.0   \n",
              "\n",
              "                                        name  pilot  \n",
              "0      2023-05-15_17-12-24.palm.protocol.csv      1  \n",
              "1      2023-05-15_17-12-24.palm.protocol.csv      1  \n",
              "2      2023-05-15_17-12-24.palm.protocol.csv      1  \n",
              "3      2023-05-15_17-12-24.palm.protocol.csv      1  \n",
              "4      2023-05-15_17-12-24.palm.protocol.csv      1  \n",
              "...                                      ...    ...  \n",
              "22356  2023-06-20_13-30-15.palm.protocol.csv      1  \n",
              "22357  2023-06-20_13-30-15.palm.protocol.csv      1  \n",
              "22358  2023-06-20_13-30-15.palm.protocol.csv      1  \n",
              "22359  2023-06-20_13-30-15.palm.protocol.csv      1  \n",
              "22360  2023-06-20_13-30-15.palm.protocol.csv      1  \n",
              "\n",
              "[169790 rows x 69 columns]"
            ],
            "text/html": [
              "\n",
              "  <div id=\"df-a8f3d98a-3f61-4641-a2cb-2bc75a772c64\" class=\"colab-df-container\">\n",
              "    <div>\n",
              "<style scoped>\n",
              "    .dataframe tbody tr th:only-of-type {\n",
              "        vertical-align: middle;\n",
              "    }\n",
              "\n",
              "    .dataframe tbody tr th {\n",
              "        vertical-align: top;\n",
              "    }\n",
              "\n",
              "    .dataframe thead th {\n",
              "        text-align: right;\n",
              "    }\n",
              "</style>\n",
              "<table border=\"1\" class=\"dataframe\">\n",
              "  <thead>\n",
              "    <tr style=\"text-align: right;\">\n",
              "      <th></th>\n",
              "      <th>0</th>\n",
              "      <th>1</th>\n",
              "      <th>2</th>\n",
              "      <th>3</th>\n",
              "      <th>4</th>\n",
              "      <th>5</th>\n",
              "      <th>6</th>\n",
              "      <th>7</th>\n",
              "      <th>8</th>\n",
              "      <th>9</th>\n",
              "      <th>...</th>\n",
              "      <th>ENC3</th>\n",
              "      <th>ENC4</th>\n",
              "      <th>ENC5</th>\n",
              "      <th>BUTTON</th>\n",
              "      <th>SYNC</th>\n",
              "      <th>ts</th>\n",
              "      <th>sample_type</th>\n",
              "      <th>gest</th>\n",
              "      <th>name</th>\n",
              "      <th>pilot</th>\n",
              "    </tr>\n",
              "  </thead>\n",
              "  <tbody>\n",
              "    <tr>\n",
              "      <th>0</th>\n",
              "      <td>6</td>\n",
              "      <td>3</td>\n",
              "      <td>11</td>\n",
              "      <td>2455</td>\n",
              "      <td>3160</td>\n",
              "      <td>1</td>\n",
              "      <td>1573</td>\n",
              "      <td>7</td>\n",
              "      <td>4</td>\n",
              "      <td>1</td>\n",
              "      <td>...</td>\n",
              "      <td>0</td>\n",
              "      <td>0</td>\n",
              "      <td>0</td>\n",
              "      <td>0</td>\n",
              "      <td>0</td>\n",
              "      <td>129186</td>\n",
              "      <td>train</td>\n",
              "      <td>0.0</td>\n",
              "      <td>2023-05-15_17-12-24.palm.protocol.csv</td>\n",
              "      <td>1</td>\n",
              "    </tr>\n",
              "    <tr>\n",
              "      <th>1</th>\n",
              "      <td>6</td>\n",
              "      <td>0</td>\n",
              "      <td>12</td>\n",
              "      <td>2454</td>\n",
              "      <td>3158</td>\n",
              "      <td>1</td>\n",
              "      <td>1574</td>\n",
              "      <td>8</td>\n",
              "      <td>12</td>\n",
              "      <td>6</td>\n",
              "      <td>...</td>\n",
              "      <td>0</td>\n",
              "      <td>0</td>\n",
              "      <td>0</td>\n",
              "      <td>0</td>\n",
              "      <td>0</td>\n",
              "      <td>129219</td>\n",
              "      <td>train</td>\n",
              "      <td>0.0</td>\n",
              "      <td>2023-05-15_17-12-24.palm.protocol.csv</td>\n",
              "      <td>1</td>\n",
              "    </tr>\n",
              "    <tr>\n",
              "      <th>2</th>\n",
              "      <td>10</td>\n",
              "      <td>2</td>\n",
              "      <td>13</td>\n",
              "      <td>2461</td>\n",
              "      <td>3165</td>\n",
              "      <td>1</td>\n",
              "      <td>1579</td>\n",
              "      <td>9</td>\n",
              "      <td>5</td>\n",
              "      <td>4</td>\n",
              "      <td>...</td>\n",
              "      <td>0</td>\n",
              "      <td>0</td>\n",
              "      <td>0</td>\n",
              "      <td>0</td>\n",
              "      <td>0</td>\n",
              "      <td>129252</td>\n",
              "      <td>train</td>\n",
              "      <td>0.0</td>\n",
              "      <td>2023-05-15_17-12-24.palm.protocol.csv</td>\n",
              "      <td>1</td>\n",
              "    </tr>\n",
              "    <tr>\n",
              "      <th>3</th>\n",
              "      <td>5</td>\n",
              "      <td>4</td>\n",
              "      <td>10</td>\n",
              "      <td>2453</td>\n",
              "      <td>3160</td>\n",
              "      <td>11</td>\n",
              "      <td>1575</td>\n",
              "      <td>8</td>\n",
              "      <td>12</td>\n",
              "      <td>5</td>\n",
              "      <td>...</td>\n",
              "      <td>0</td>\n",
              "      <td>0</td>\n",
              "      <td>0</td>\n",
              "      <td>0</td>\n",
              "      <td>0</td>\n",
              "      <td>129285</td>\n",
              "      <td>train</td>\n",
              "      <td>0.0</td>\n",
              "      <td>2023-05-15_17-12-24.palm.protocol.csv</td>\n",
              "      <td>1</td>\n",
              "    </tr>\n",
              "    <tr>\n",
              "      <th>4</th>\n",
              "      <td>7</td>\n",
              "      <td>3</td>\n",
              "      <td>15</td>\n",
              "      <td>2454</td>\n",
              "      <td>3157</td>\n",
              "      <td>1</td>\n",
              "      <td>1575</td>\n",
              "      <td>8</td>\n",
              "      <td>8</td>\n",
              "      <td>2</td>\n",
              "      <td>...</td>\n",
              "      <td>0</td>\n",
              "      <td>0</td>\n",
              "      <td>0</td>\n",
              "      <td>0</td>\n",
              "      <td>0</td>\n",
              "      <td>129318</td>\n",
              "      <td>train</td>\n",
              "      <td>0.0</td>\n",
              "      <td>2023-05-15_17-12-24.palm.protocol.csv</td>\n",
              "      <td>1</td>\n",
              "    </tr>\n",
              "    <tr>\n",
              "      <th>...</th>\n",
              "      <td>...</td>\n",
              "      <td>...</td>\n",
              "      <td>...</td>\n",
              "      <td>...</td>\n",
              "      <td>...</td>\n",
              "      <td>...</td>\n",
              "      <td>...</td>\n",
              "      <td>...</td>\n",
              "      <td>...</td>\n",
              "      <td>...</td>\n",
              "      <td>...</td>\n",
              "      <td>...</td>\n",
              "      <td>...</td>\n",
              "      <td>...</td>\n",
              "      <td>...</td>\n",
              "      <td>...</td>\n",
              "      <td>...</td>\n",
              "      <td>...</td>\n",
              "      <td>...</td>\n",
              "      <td>...</td>\n",
              "      <td>...</td>\n",
              "    </tr>\n",
              "    <tr>\n",
              "      <th>22356</th>\n",
              "      <td>9</td>\n",
              "      <td>5</td>\n",
              "      <td>5</td>\n",
              "      <td>2349</td>\n",
              "      <td>2709</td>\n",
              "      <td>2477</td>\n",
              "      <td>2366</td>\n",
              "      <td>4</td>\n",
              "      <td>6</td>\n",
              "      <td>5</td>\n",
              "      <td>...</td>\n",
              "      <td>0</td>\n",
              "      <td>0</td>\n",
              "      <td>0</td>\n",
              "      <td>0</td>\n",
              "      <td>0</td>\n",
              "      <td>808557</td>\n",
              "      <td>test</td>\n",
              "      <td>2.0</td>\n",
              "      <td>2023-06-20_13-30-15.palm.protocol.csv</td>\n",
              "      <td>1</td>\n",
              "    </tr>\n",
              "    <tr>\n",
              "      <th>22357</th>\n",
              "      <td>8</td>\n",
              "      <td>5</td>\n",
              "      <td>5</td>\n",
              "      <td>2375</td>\n",
              "      <td>2675</td>\n",
              "      <td>2495</td>\n",
              "      <td>2613</td>\n",
              "      <td>4</td>\n",
              "      <td>7</td>\n",
              "      <td>6</td>\n",
              "      <td>...</td>\n",
              "      <td>0</td>\n",
              "      <td>0</td>\n",
              "      <td>0</td>\n",
              "      <td>0</td>\n",
              "      <td>0</td>\n",
              "      <td>808590</td>\n",
              "      <td>test</td>\n",
              "      <td>2.0</td>\n",
              "      <td>2023-06-20_13-30-15.palm.protocol.csv</td>\n",
              "      <td>1</td>\n",
              "    </tr>\n",
              "    <tr>\n",
              "      <th>22358</th>\n",
              "      <td>9</td>\n",
              "      <td>0</td>\n",
              "      <td>5</td>\n",
              "      <td>2402</td>\n",
              "      <td>2678</td>\n",
              "      <td>2521</td>\n",
              "      <td>2711</td>\n",
              "      <td>4</td>\n",
              "      <td>8</td>\n",
              "      <td>6</td>\n",
              "      <td>...</td>\n",
              "      <td>0</td>\n",
              "      <td>0</td>\n",
              "      <td>0</td>\n",
              "      <td>0</td>\n",
              "      <td>0</td>\n",
              "      <td>808623</td>\n",
              "      <td>test</td>\n",
              "      <td>2.0</td>\n",
              "      <td>2023-06-20_13-30-15.palm.protocol.csv</td>\n",
              "      <td>1</td>\n",
              "    </tr>\n",
              "    <tr>\n",
              "      <th>22359</th>\n",
              "      <td>8</td>\n",
              "      <td>5</td>\n",
              "      <td>5</td>\n",
              "      <td>2429</td>\n",
              "      <td>2675</td>\n",
              "      <td>2541</td>\n",
              "      <td>2895</td>\n",
              "      <td>5</td>\n",
              "      <td>6</td>\n",
              "      <td>6</td>\n",
              "      <td>...</td>\n",
              "      <td>0</td>\n",
              "      <td>0</td>\n",
              "      <td>0</td>\n",
              "      <td>0</td>\n",
              "      <td>0</td>\n",
              "      <td>808656</td>\n",
              "      <td>test</td>\n",
              "      <td>2.0</td>\n",
              "      <td>2023-06-20_13-30-15.palm.protocol.csv</td>\n",
              "      <td>1</td>\n",
              "    </tr>\n",
              "    <tr>\n",
              "      <th>22360</th>\n",
              "      <td>8</td>\n",
              "      <td>6</td>\n",
              "      <td>5</td>\n",
              "      <td>2471</td>\n",
              "      <td>2653</td>\n",
              "      <td>2568</td>\n",
              "      <td>3189</td>\n",
              "      <td>4</td>\n",
              "      <td>7</td>\n",
              "      <td>5</td>\n",
              "      <td>...</td>\n",
              "      <td>0</td>\n",
              "      <td>0</td>\n",
              "      <td>0</td>\n",
              "      <td>0</td>\n",
              "      <td>0</td>\n",
              "      <td>808689</td>\n",
              "      <td>test</td>\n",
              "      <td>2.0</td>\n",
              "      <td>2023-06-20_13-30-15.palm.protocol.csv</td>\n",
              "      <td>1</td>\n",
              "    </tr>\n",
              "  </tbody>\n",
              "</table>\n",
              "<p>169790 rows × 69 columns</p>\n",
              "</div>\n",
              "    <div class=\"colab-df-buttons\">\n",
              "\n",
              "  <div class=\"colab-df-container\">\n",
              "    <button class=\"colab-df-convert\" onclick=\"convertToInteractive('df-a8f3d98a-3f61-4641-a2cb-2bc75a772c64')\"\n",
              "            title=\"Convert this dataframe to an interactive table.\"\n",
              "            style=\"display:none;\">\n",
              "\n",
              "  <svg xmlns=\"http://www.w3.org/2000/svg\" height=\"24px\" viewBox=\"0 -960 960 960\">\n",
              "    <path d=\"M120-120v-720h720v720H120Zm60-500h600v-160H180v160Zm220 220h160v-160H400v160Zm0 220h160v-160H400v160ZM180-400h160v-160H180v160Zm440 0h160v-160H620v160ZM180-180h160v-160H180v160Zm440 0h160v-160H620v160Z\"/>\n",
              "  </svg>\n",
              "    </button>\n",
              "\n",
              "  <style>\n",
              "    .colab-df-container {\n",
              "      display:flex;\n",
              "      gap: 12px;\n",
              "    }\n",
              "\n",
              "    .colab-df-convert {\n",
              "      background-color: #E8F0FE;\n",
              "      border: none;\n",
              "      border-radius: 50%;\n",
              "      cursor: pointer;\n",
              "      display: none;\n",
              "      fill: #1967D2;\n",
              "      height: 32px;\n",
              "      padding: 0 0 0 0;\n",
              "      width: 32px;\n",
              "    }\n",
              "\n",
              "    .colab-df-convert:hover {\n",
              "      background-color: #E2EBFA;\n",
              "      box-shadow: 0px 1px 2px rgba(60, 64, 67, 0.3), 0px 1px 3px 1px rgba(60, 64, 67, 0.15);\n",
              "      fill: #174EA6;\n",
              "    }\n",
              "\n",
              "    .colab-df-buttons div {\n",
              "      margin-bottom: 4px;\n",
              "    }\n",
              "\n",
              "    [theme=dark] .colab-df-convert {\n",
              "      background-color: #3B4455;\n",
              "      fill: #D2E3FC;\n",
              "    }\n",
              "\n",
              "    [theme=dark] .colab-df-convert:hover {\n",
              "      background-color: #434B5C;\n",
              "      box-shadow: 0px 1px 3px 1px rgba(0, 0, 0, 0.15);\n",
              "      filter: drop-shadow(0px 1px 2px rgba(0, 0, 0, 0.3));\n",
              "      fill: #FFFFFF;\n",
              "    }\n",
              "  </style>\n",
              "\n",
              "    <script>\n",
              "      const buttonEl =\n",
              "        document.querySelector('#df-a8f3d98a-3f61-4641-a2cb-2bc75a772c64 button.colab-df-convert');\n",
              "      buttonEl.style.display =\n",
              "        google.colab.kernel.accessAllowed ? 'block' : 'none';\n",
              "\n",
              "      async function convertToInteractive(key) {\n",
              "        const element = document.querySelector('#df-a8f3d98a-3f61-4641-a2cb-2bc75a772c64');\n",
              "        const dataTable =\n",
              "          await google.colab.kernel.invokeFunction('convertToInteractive',\n",
              "                                                    [key], {});\n",
              "        if (!dataTable) return;\n",
              "\n",
              "        const docLinkHtml = 'Like what you see? Visit the ' +\n",
              "          '<a target=\"_blank\" href=https://colab.research.google.com/notebooks/data_table.ipynb>data table notebook</a>'\n",
              "          + ' to learn more about interactive tables.';\n",
              "        element.innerHTML = '';\n",
              "        dataTable['output_type'] = 'display_data';\n",
              "        await google.colab.output.renderOutput(dataTable, element);\n",
              "        const docLink = document.createElement('div');\n",
              "        docLink.innerHTML = docLinkHtml;\n",
              "        element.appendChild(docLink);\n",
              "      }\n",
              "    </script>\n",
              "  </div>\n",
              "\n",
              "\n",
              "<div id=\"df-22941e98-9467-42ad-9222-6a980c1af439\">\n",
              "  <button class=\"colab-df-quickchart\" onclick=\"quickchart('df-22941e98-9467-42ad-9222-6a980c1af439')\"\n",
              "            title=\"Suggest charts\"\n",
              "            style=\"display:none;\">\n",
              "\n",
              "<svg xmlns=\"http://www.w3.org/2000/svg\" height=\"24px\"viewBox=\"0 0 24 24\"\n",
              "     width=\"24px\">\n",
              "    <g>\n",
              "        <path d=\"M19 3H5c-1.1 0-2 .9-2 2v14c0 1.1.9 2 2 2h14c1.1 0 2-.9 2-2V5c0-1.1-.9-2-2-2zM9 17H7v-7h2v7zm4 0h-2V7h2v10zm4 0h-2v-4h2v4z\"/>\n",
              "    </g>\n",
              "</svg>\n",
              "  </button>\n",
              "\n",
              "<style>\n",
              "  .colab-df-quickchart {\n",
              "      --bg-color: #E8F0FE;\n",
              "      --fill-color: #1967D2;\n",
              "      --hover-bg-color: #E2EBFA;\n",
              "      --hover-fill-color: #174EA6;\n",
              "      --disabled-fill-color: #AAA;\n",
              "      --disabled-bg-color: #DDD;\n",
              "  }\n",
              "\n",
              "  [theme=dark] .colab-df-quickchart {\n",
              "      --bg-color: #3B4455;\n",
              "      --fill-color: #D2E3FC;\n",
              "      --hover-bg-color: #434B5C;\n",
              "      --hover-fill-color: #FFFFFF;\n",
              "      --disabled-bg-color: #3B4455;\n",
              "      --disabled-fill-color: #666;\n",
              "  }\n",
              "\n",
              "  .colab-df-quickchart {\n",
              "    background-color: var(--bg-color);\n",
              "    border: none;\n",
              "    border-radius: 50%;\n",
              "    cursor: pointer;\n",
              "    display: none;\n",
              "    fill: var(--fill-color);\n",
              "    height: 32px;\n",
              "    padding: 0;\n",
              "    width: 32px;\n",
              "  }\n",
              "\n",
              "  .colab-df-quickchart:hover {\n",
              "    background-color: var(--hover-bg-color);\n",
              "    box-shadow: 0 1px 2px rgba(60, 64, 67, 0.3), 0 1px 3px 1px rgba(60, 64, 67, 0.15);\n",
              "    fill: var(--button-hover-fill-color);\n",
              "  }\n",
              "\n",
              "  .colab-df-quickchart-complete:disabled,\n",
              "  .colab-df-quickchart-complete:disabled:hover {\n",
              "    background-color: var(--disabled-bg-color);\n",
              "    fill: var(--disabled-fill-color);\n",
              "    box-shadow: none;\n",
              "  }\n",
              "\n",
              "  .colab-df-spinner {\n",
              "    border: 2px solid var(--fill-color);\n",
              "    border-color: transparent;\n",
              "    border-bottom-color: var(--fill-color);\n",
              "    animation:\n",
              "      spin 1s steps(1) infinite;\n",
              "  }\n",
              "\n",
              "  @keyframes spin {\n",
              "    0% {\n",
              "      border-color: transparent;\n",
              "      border-bottom-color: var(--fill-color);\n",
              "      border-left-color: var(--fill-color);\n",
              "    }\n",
              "    20% {\n",
              "      border-color: transparent;\n",
              "      border-left-color: var(--fill-color);\n",
              "      border-top-color: var(--fill-color);\n",
              "    }\n",
              "    30% {\n",
              "      border-color: transparent;\n",
              "      border-left-color: var(--fill-color);\n",
              "      border-top-color: var(--fill-color);\n",
              "      border-right-color: var(--fill-color);\n",
              "    }\n",
              "    40% {\n",
              "      border-color: transparent;\n",
              "      border-right-color: var(--fill-color);\n",
              "      border-top-color: var(--fill-color);\n",
              "    }\n",
              "    60% {\n",
              "      border-color: transparent;\n",
              "      border-right-color: var(--fill-color);\n",
              "    }\n",
              "    80% {\n",
              "      border-color: transparent;\n",
              "      border-right-color: var(--fill-color);\n",
              "      border-bottom-color: var(--fill-color);\n",
              "    }\n",
              "    90% {\n",
              "      border-color: transparent;\n",
              "      border-bottom-color: var(--fill-color);\n",
              "    }\n",
              "  }\n",
              "</style>\n",
              "\n",
              "  <script>\n",
              "    async function quickchart(key) {\n",
              "      const quickchartButtonEl =\n",
              "        document.querySelector('#' + key + ' button');\n",
              "      quickchartButtonEl.disabled = true;  // To prevent multiple clicks.\n",
              "      quickchartButtonEl.classList.add('colab-df-spinner');\n",
              "      try {\n",
              "        const charts = await google.colab.kernel.invokeFunction(\n",
              "            'suggestCharts', [key], {});\n",
              "      } catch (error) {\n",
              "        console.error('Error during call to suggestCharts:', error);\n",
              "      }\n",
              "      quickchartButtonEl.classList.remove('colab-df-spinner');\n",
              "      quickchartButtonEl.classList.add('colab-df-quickchart-complete');\n",
              "    }\n",
              "    (() => {\n",
              "      let quickchartButtonEl =\n",
              "        document.querySelector('#df-22941e98-9467-42ad-9222-6a980c1af439 button');\n",
              "      quickchartButtonEl.style.display =\n",
              "        google.colab.kernel.accessAllowed ? 'block' : 'none';\n",
              "    })();\n",
              "  </script>\n",
              "</div>\n",
              "    </div>\n",
              "  </div>\n"
            ],
            "application/vnd.google.colaboratory.intrinsic+json": {
              "type": "dataframe",
              "variable_name": "table_1"
            }
          },
          "metadata": {},
          "execution_count": 20
        }
      ]
    },
    {
      "cell_type": "code",
      "source": [
        "all_samples = pd.concat([table_1, table_2, table_3, table_4], axis = 0)\n",
        "all_samples.shape"
      ],
      "metadata": {
        "colab": {
          "base_uri": "https://localhost:8080/"
        },
        "id": "5mAmAe5MtPei",
        "outputId": "55772589-ac12-43aa-b599-9621debb3cc8"
      },
      "execution_count": 21,
      "outputs": [
        {
          "output_type": "execute_result",
          "data": {
            "text/plain": [
              "(526105, 69)"
            ]
          },
          "metadata": {},
          "execution_count": 21
        }
      ]
    },
    {
      "cell_type": "markdown",
      "metadata": {
        "id": "abP3o4NdPoe5"
      },
      "source": [
        "# Поиск аномалий"
      ]
    },
    {
      "cell_type": "code",
      "execution_count": 22,
      "metadata": {
        "id": "WMKizq2EVIGx",
        "colab": {
          "base_uri": "https://localhost:8080/"
        },
        "outputId": "20b7613c-b140-4c58-fd52-eb63a3907b1b"
      },
      "outputs": [
        {
          "output_type": "execute_result",
          "data": {
            "text/plain": [
              "0.0    103628\n",
              "1.0     13266\n",
              "5.0     13246\n",
              "4.0     13238\n",
              "3.0     13228\n",
              "2.0     13184\n",
              "Name: gest, dtype: int64"
            ]
          },
          "metadata": {},
          "execution_count": 22
        }
      ],
      "source": [
        "table_1['gest'].value_counts()"
      ]
    },
    {
      "cell_type": "code",
      "execution_count": 23,
      "metadata": {
        "id": "CjMi4Lp5VeXQ"
      },
      "outputs": [],
      "source": [
        "table_1.drop(columns = ['ENC1','ENC2','ENC3', 'ENC4', 'ENC5', 'BUTTON', 'SYNC', 'ts'], inplace=True)"
      ]
    },
    {
      "cell_type": "code",
      "execution_count": 24,
      "metadata": {
        "id": "i8WzTrrZW3ga",
        "colab": {
          "base_uri": "https://localhost:8080/"
        },
        "outputId": "de259d10-f23b-4125-926d-5a9da3759747"
      },
      "outputs": [
        {
          "output_type": "execute_result",
          "data": {
            "text/plain": [
              "0.0    103628\n",
              "Name: gest, dtype: int64"
            ]
          },
          "metadata": {},
          "execution_count": 24
        }
      ],
      "source": [
        "table_1_0 = table_1[table_1['gest'] == 0.0]\n",
        "table_1_1 = table_1[table_1['gest'] == 1.0]\n",
        "table_1_2 = table_1[table_1['gest'] == 2.0]\n",
        "table_1_3 = table_1[table_1['gest'] == 3.0]\n",
        "table_1_4 = table_1[table_1['gest'] == 4.0]\n",
        "table_1_5 = table_1[table_1['gest'] == 5.0]\n",
        "table_1_0['gest'].value_counts()\n"
      ]
    },
    {
      "cell_type": "code",
      "execution_count": 25,
      "metadata": {
        "id": "OgvRzJH4buh3",
        "colab": {
          "base_uri": "https://localhost:8080/"
        },
        "outputId": "c570ebc9-1f72-4a30-ed21-6146d0bf2b0a"
      },
      "outputs": [
        {
          "output_type": "execute_result",
          "data": {
            "text/plain": [
              "Index(['0', '1', '2', '3', '4', '5', '6', '7', '8', '9', '10', '11', '12',\n",
              "       '13', '14', '15', '16', '17', '18', '19', '20', '21', '22', '23', '24',\n",
              "       '25', '26', '27', '28', '29', '30', '31', '32', '33', '34', '35', '36',\n",
              "       '37', '38', '39', '40', '41', '42', '43', '44', '45', '46', '47', '48',\n",
              "       '49', 'ACC0', 'ACC1', 'ACC2', 'GYR0', 'GYR1', 'GYR2', 'ENC0',\n",
              "       'sample_type', 'gest', 'name', 'pilot'],\n",
              "      dtype='object')"
            ]
          },
          "metadata": {},
          "execution_count": 25
        }
      ],
      "source": [
        "table_1_0.columns"
      ]
    },
    {
      "cell_type": "code",
      "execution_count": 26,
      "metadata": {
        "id": "lINYtSTX1TtA"
      },
      "outputs": [],
      "source": [
        "scaler = StandardScaler()"
      ]
    },
    {
      "cell_type": "code",
      "execution_count": 27,
      "metadata": {
        "id": "CJ_ndnT8fJH5",
        "colab": {
          "base_uri": "https://localhost:8080/"
        },
        "outputId": "397c843d-1838-402a-83c0-3eba5018b1b0"
      },
      "outputs": [
        {
          "output_type": "stream",
          "name": "stderr",
          "text": [
            "<ipython-input-27-2d29dd8ed96a>:6: SettingWithCopyWarning: \n",
            "A value is trying to be set on a copy of a slice from a DataFrame.\n",
            "Try using .loc[row_indexer,col_indexer] = value instead\n",
            "\n",
            "See the caveats in the documentation: https://pandas.pydata.org/pandas-docs/stable/user_guide/indexing.html#returning-a-view-versus-a-copy\n",
            "  table_1_0.loc[:, 'sum']= scaler.fit_transform(table_1_0[cols]).sum(axis=1)\n",
            "<ipython-input-27-2d29dd8ed96a>:7: SettingWithCopyWarning: \n",
            "A value is trying to be set on a copy of a slice from a DataFrame.\n",
            "Try using .loc[row_indexer,col_indexer] = value instead\n",
            "\n",
            "See the caveats in the documentation: https://pandas.pydata.org/pandas-docs/stable/user_guide/indexing.html#returning-a-view-versus-a-copy\n",
            "  table_1_1.loc[:, 'sum']= scaler.fit_transform(table_1_1[cols]).sum(axis=1)\n",
            "<ipython-input-27-2d29dd8ed96a>:8: SettingWithCopyWarning: \n",
            "A value is trying to be set on a copy of a slice from a DataFrame.\n",
            "Try using .loc[row_indexer,col_indexer] = value instead\n",
            "\n",
            "See the caveats in the documentation: https://pandas.pydata.org/pandas-docs/stable/user_guide/indexing.html#returning-a-view-versus-a-copy\n",
            "  table_1_2.loc[:, 'sum']= scaler.fit_transform(table_1_2[cols]).sum(axis=1)\n",
            "<ipython-input-27-2d29dd8ed96a>:9: SettingWithCopyWarning: \n",
            "A value is trying to be set on a copy of a slice from a DataFrame.\n",
            "Try using .loc[row_indexer,col_indexer] = value instead\n",
            "\n",
            "See the caveats in the documentation: https://pandas.pydata.org/pandas-docs/stable/user_guide/indexing.html#returning-a-view-versus-a-copy\n",
            "  table_1_3.loc[:, 'sum']= scaler.fit_transform(table_1_3[cols]).sum(axis=1)\n",
            "<ipython-input-27-2d29dd8ed96a>:10: SettingWithCopyWarning: \n",
            "A value is trying to be set on a copy of a slice from a DataFrame.\n",
            "Try using .loc[row_indexer,col_indexer] = value instead\n",
            "\n",
            "See the caveats in the documentation: https://pandas.pydata.org/pandas-docs/stable/user_guide/indexing.html#returning-a-view-versus-a-copy\n",
            "  table_1_4.loc[:, 'sum']= scaler.fit_transform(table_1_4[cols]).sum(axis=1)\n",
            "<ipython-input-27-2d29dd8ed96a>:11: SettingWithCopyWarning: \n",
            "A value is trying to be set on a copy of a slice from a DataFrame.\n",
            "Try using .loc[row_indexer,col_indexer] = value instead\n",
            "\n",
            "See the caveats in the documentation: https://pandas.pydata.org/pandas-docs/stable/user_guide/indexing.html#returning-a-view-versus-a-copy\n",
            "  table_1_5.loc[:, 'sum']= scaler.fit_transform(table_1_5[cols]).sum(axis=1)\n",
            "<ipython-input-27-2d29dd8ed96a>:12: SettingWithCopyWarning: \n",
            "A value is trying to be set on a copy of a slice from a DataFrame\n",
            "\n",
            "See the caveats in the documentation: https://pandas.pydata.org/pandas-docs/stable/user_guide/indexing.html#returning-a-view-versus-a-copy\n",
            "  table_1_0.drop(columns =cols, inplace = True)\n"
          ]
        }
      ],
      "source": [
        "cols = ['0', '1', '2', '3', '4', '5', '6', '7', '8', '9', '10', '11', '12',\n",
        "       '13', '14', '15', '16', '17', '18', '19', '20', '21', '22', '23', '24',\n",
        "       '25', '26', '27', '28', '29', '30', '31', '32', '33', '34', '35', '36',\n",
        "       '37', '38', '39', '40', '41', '42', '43', '44', '45', '46', '47', '48',\n",
        "       '49', 'ACC0', 'ACC1', 'ACC2', 'GYR0', 'GYR1', 'GYR2', 'ENC0']\n",
        "table_1_0.loc[:, 'sum']= scaler.fit_transform(table_1_0[cols]).sum(axis=1)\n",
        "table_1_1.loc[:, 'sum']= scaler.fit_transform(table_1_1[cols]).sum(axis=1)\n",
        "table_1_2.loc[:, 'sum']= scaler.fit_transform(table_1_2[cols]).sum(axis=1)\n",
        "table_1_3.loc[:, 'sum']= scaler.fit_transform(table_1_3[cols]).sum(axis=1)\n",
        "table_1_4.loc[:, 'sum']= scaler.fit_transform(table_1_4[cols]).sum(axis=1)\n",
        "table_1_5.loc[:, 'sum']= scaler.fit_transform(table_1_5[cols]).sum(axis=1)\n",
        "table_1_0.drop(columns =cols, inplace = True)"
      ]
    },
    {
      "cell_type": "code",
      "execution_count": 28,
      "metadata": {
        "id": "u16Q6_hVdkrj",
        "colab": {
          "base_uri": "https://localhost:8080/"
        },
        "outputId": "daad3da2-5217-483f-a3e7-f57d53ad9a15"
      },
      "outputs": [
        {
          "output_type": "execute_result",
          "data": {
            "text/plain": [
              "2023-05-15_16-16-08.palm.protocol.csv    18898\n",
              "2023-05-15_17-12-24.palm.protocol.csv    18862\n",
              "2023-06-05_16-12-38.palm.protocol.csv    13295\n",
              "2023-06-20_14-43-11.palm.protocol.csv    13278\n",
              "2023-06-20_13-30-15.palm.protocol.csv    13178\n",
              "2023-06-05_17-53-01.palm.protocol.csv    13065\n",
              "2023-06-20_12-34-17.palm.protocol.csv    13052\n",
              "Name: name, dtype: int64"
            ]
          },
          "metadata": {},
          "execution_count": 28
        }
      ],
      "source": [
        "table_1_0['name'].value_counts()"
      ]
    },
    {
      "cell_type": "markdown",
      "metadata": {
        "id": "1WTxlV3NEt_W"
      },
      "source": [
        "# DBSCAN"
      ]
    },
    {
      "cell_type": "code",
      "execution_count": 29,
      "metadata": {
        "id": "fZl_qvxH2OoX"
      },
      "outputs": [],
      "source": [
        "from sklearn.cluster import DBSCAN\n",
        "from sklearn.cluster import AgglomerativeClustering"
      ]
    },
    {
      "cell_type": "code",
      "execution_count": 30,
      "metadata": {
        "id": "Y7BUnzCD2bTA"
      },
      "outputs": [],
      "source": [
        "dbscan = DBSCAN()"
      ]
    },
    {
      "cell_type": "markdown",
      "source": [
        "## 1 пилот"
      ],
      "metadata": {
        "id": "dTCHtwouhyeG"
      }
    },
    {
      "cell_type": "code",
      "execution_count": 31,
      "metadata": {
        "id": "zK9tVmfB2ipX",
        "colab": {
          "base_uri": "https://localhost:8080/",
          "height": 831
        },
        "outputId": "cf9e2d48-829a-4aa6-9bd9-0e8b02772f43"
      },
      "outputs": [
        {
          "output_type": "stream",
          "name": "stderr",
          "text": [
            "<ipython-input-31-44d284a50742>:1: SettingWithCopyWarning: \n",
            "A value is trying to be set on a copy of a slice from a DataFrame.\n",
            "Try using .loc[row_indexer,col_indexer] = value instead\n",
            "\n",
            "See the caveats in the documentation: https://pandas.pydata.org/pandas-docs/stable/user_guide/indexing.html#returning-a-view-versus-a-copy\n",
            "  table_1_0.loc[:, 'prediction_dbscan_1'] = dbscan.fit_predict(table_1_0['sum'].values.reshape(-1, 1))\n",
            "<ipython-input-31-44d284a50742>:2: SettingWithCopyWarning: \n",
            "A value is trying to be set on a copy of a slice from a DataFrame.\n",
            "Try using .loc[row_indexer,col_indexer] = value instead\n",
            "\n",
            "See the caveats in the documentation: https://pandas.pydata.org/pandas-docs/stable/user_guide/indexing.html#returning-a-view-versus-a-copy\n",
            "  table_1_1.loc[:, 'prediction_dbscan_1'] = dbscan.fit_predict(table_1_1['sum'].values.reshape(-1, 1))\n",
            "<ipython-input-31-44d284a50742>:3: SettingWithCopyWarning: \n",
            "A value is trying to be set on a copy of a slice from a DataFrame.\n",
            "Try using .loc[row_indexer,col_indexer] = value instead\n",
            "\n",
            "See the caveats in the documentation: https://pandas.pydata.org/pandas-docs/stable/user_guide/indexing.html#returning-a-view-versus-a-copy\n",
            "  table_1_2.loc[:, 'prediction_dbscan_1'] = dbscan.fit_predict(table_1_2['sum'].values.reshape(-1, 1))\n",
            "<ipython-input-31-44d284a50742>:4: SettingWithCopyWarning: \n",
            "A value is trying to be set on a copy of a slice from a DataFrame.\n",
            "Try using .loc[row_indexer,col_indexer] = value instead\n",
            "\n",
            "See the caveats in the documentation: https://pandas.pydata.org/pandas-docs/stable/user_guide/indexing.html#returning-a-view-versus-a-copy\n",
            "  table_1_3.loc[:, 'prediction_dbscan_1'] = dbscan.fit_predict(table_1_3['sum'].values.reshape(-1, 1))\n",
            "<ipython-input-31-44d284a50742>:5: SettingWithCopyWarning: \n",
            "A value is trying to be set on a copy of a slice from a DataFrame.\n",
            "Try using .loc[row_indexer,col_indexer] = value instead\n",
            "\n",
            "See the caveats in the documentation: https://pandas.pydata.org/pandas-docs/stable/user_guide/indexing.html#returning-a-view-versus-a-copy\n",
            "  table_1_4.loc[:, 'prediction_dbscan_1'] = dbscan.fit_predict(table_1_4['sum'].values.reshape(-1, 1))\n",
            "<ipython-input-31-44d284a50742>:6: SettingWithCopyWarning: \n",
            "A value is trying to be set on a copy of a slice from a DataFrame.\n",
            "Try using .loc[row_indexer,col_indexer] = value instead\n",
            "\n",
            "See the caveats in the documentation: https://pandas.pydata.org/pandas-docs/stable/user_guide/indexing.html#returning-a-view-versus-a-copy\n",
            "  table_1_5.loc[:, 'prediction_dbscan_1'] = dbscan.fit_predict(table_1_5['sum'].values.reshape(-1, 1))\n"
          ]
        },
        {
          "output_type": "execute_result",
          "data": {
            "text/plain": [
              "  sample_type  gest                                   name  pilot        sum  \\\n",
              "0       train   0.0  2023-05-15_17-12-24.palm.protocol.csv      1  15.905201   \n",
              "1       train   0.0  2023-05-15_17-12-24.palm.protocol.csv      1  34.442600   \n",
              "2       train   0.0  2023-05-15_17-12-24.palm.protocol.csv      1  23.653133   \n",
              "3       train   0.0  2023-05-15_17-12-24.palm.protocol.csv      1  24.678049   \n",
              "4       train   0.0  2023-05-15_17-12-24.palm.protocol.csv      1  30.142179   \n",
              "\n",
              "   prediction_dbscan_1  \n",
              "0                    0  \n",
              "1                    0  \n",
              "2                    0  \n",
              "3                    0  \n",
              "4                    0  "
            ],
            "text/html": [
              "\n",
              "  <div id=\"df-b7579601-0700-4dc8-b6ad-629b98eccdb0\" class=\"colab-df-container\">\n",
              "    <div>\n",
              "<style scoped>\n",
              "    .dataframe tbody tr th:only-of-type {\n",
              "        vertical-align: middle;\n",
              "    }\n",
              "\n",
              "    .dataframe tbody tr th {\n",
              "        vertical-align: top;\n",
              "    }\n",
              "\n",
              "    .dataframe thead th {\n",
              "        text-align: right;\n",
              "    }\n",
              "</style>\n",
              "<table border=\"1\" class=\"dataframe\">\n",
              "  <thead>\n",
              "    <tr style=\"text-align: right;\">\n",
              "      <th></th>\n",
              "      <th>sample_type</th>\n",
              "      <th>gest</th>\n",
              "      <th>name</th>\n",
              "      <th>pilot</th>\n",
              "      <th>sum</th>\n",
              "      <th>prediction_dbscan_1</th>\n",
              "    </tr>\n",
              "  </thead>\n",
              "  <tbody>\n",
              "    <tr>\n",
              "      <th>0</th>\n",
              "      <td>train</td>\n",
              "      <td>0.0</td>\n",
              "      <td>2023-05-15_17-12-24.palm.protocol.csv</td>\n",
              "      <td>1</td>\n",
              "      <td>15.905201</td>\n",
              "      <td>0</td>\n",
              "    </tr>\n",
              "    <tr>\n",
              "      <th>1</th>\n",
              "      <td>train</td>\n",
              "      <td>0.0</td>\n",
              "      <td>2023-05-15_17-12-24.palm.protocol.csv</td>\n",
              "      <td>1</td>\n",
              "      <td>34.442600</td>\n",
              "      <td>0</td>\n",
              "    </tr>\n",
              "    <tr>\n",
              "      <th>2</th>\n",
              "      <td>train</td>\n",
              "      <td>0.0</td>\n",
              "      <td>2023-05-15_17-12-24.palm.protocol.csv</td>\n",
              "      <td>1</td>\n",
              "      <td>23.653133</td>\n",
              "      <td>0</td>\n",
              "    </tr>\n",
              "    <tr>\n",
              "      <th>3</th>\n",
              "      <td>train</td>\n",
              "      <td>0.0</td>\n",
              "      <td>2023-05-15_17-12-24.palm.protocol.csv</td>\n",
              "      <td>1</td>\n",
              "      <td>24.678049</td>\n",
              "      <td>0</td>\n",
              "    </tr>\n",
              "    <tr>\n",
              "      <th>4</th>\n",
              "      <td>train</td>\n",
              "      <td>0.0</td>\n",
              "      <td>2023-05-15_17-12-24.palm.protocol.csv</td>\n",
              "      <td>1</td>\n",
              "      <td>30.142179</td>\n",
              "      <td>0</td>\n",
              "    </tr>\n",
              "  </tbody>\n",
              "</table>\n",
              "</div>\n",
              "    <div class=\"colab-df-buttons\">\n",
              "\n",
              "  <div class=\"colab-df-container\">\n",
              "    <button class=\"colab-df-convert\" onclick=\"convertToInteractive('df-b7579601-0700-4dc8-b6ad-629b98eccdb0')\"\n",
              "            title=\"Convert this dataframe to an interactive table.\"\n",
              "            style=\"display:none;\">\n",
              "\n",
              "  <svg xmlns=\"http://www.w3.org/2000/svg\" height=\"24px\" viewBox=\"0 -960 960 960\">\n",
              "    <path d=\"M120-120v-720h720v720H120Zm60-500h600v-160H180v160Zm220 220h160v-160H400v160Zm0 220h160v-160H400v160ZM180-400h160v-160H180v160Zm440 0h160v-160H620v160ZM180-180h160v-160H180v160Zm440 0h160v-160H620v160Z\"/>\n",
              "  </svg>\n",
              "    </button>\n",
              "\n",
              "  <style>\n",
              "    .colab-df-container {\n",
              "      display:flex;\n",
              "      gap: 12px;\n",
              "    }\n",
              "\n",
              "    .colab-df-convert {\n",
              "      background-color: #E8F0FE;\n",
              "      border: none;\n",
              "      border-radius: 50%;\n",
              "      cursor: pointer;\n",
              "      display: none;\n",
              "      fill: #1967D2;\n",
              "      height: 32px;\n",
              "      padding: 0 0 0 0;\n",
              "      width: 32px;\n",
              "    }\n",
              "\n",
              "    .colab-df-convert:hover {\n",
              "      background-color: #E2EBFA;\n",
              "      box-shadow: 0px 1px 2px rgba(60, 64, 67, 0.3), 0px 1px 3px 1px rgba(60, 64, 67, 0.15);\n",
              "      fill: #174EA6;\n",
              "    }\n",
              "\n",
              "    .colab-df-buttons div {\n",
              "      margin-bottom: 4px;\n",
              "    }\n",
              "\n",
              "    [theme=dark] .colab-df-convert {\n",
              "      background-color: #3B4455;\n",
              "      fill: #D2E3FC;\n",
              "    }\n",
              "\n",
              "    [theme=dark] .colab-df-convert:hover {\n",
              "      background-color: #434B5C;\n",
              "      box-shadow: 0px 1px 3px 1px rgba(0, 0, 0, 0.15);\n",
              "      filter: drop-shadow(0px 1px 2px rgba(0, 0, 0, 0.3));\n",
              "      fill: #FFFFFF;\n",
              "    }\n",
              "  </style>\n",
              "\n",
              "    <script>\n",
              "      const buttonEl =\n",
              "        document.querySelector('#df-b7579601-0700-4dc8-b6ad-629b98eccdb0 button.colab-df-convert');\n",
              "      buttonEl.style.display =\n",
              "        google.colab.kernel.accessAllowed ? 'block' : 'none';\n",
              "\n",
              "      async function convertToInteractive(key) {\n",
              "        const element = document.querySelector('#df-b7579601-0700-4dc8-b6ad-629b98eccdb0');\n",
              "        const dataTable =\n",
              "          await google.colab.kernel.invokeFunction('convertToInteractive',\n",
              "                                                    [key], {});\n",
              "        if (!dataTable) return;\n",
              "\n",
              "        const docLinkHtml = 'Like what you see? Visit the ' +\n",
              "          '<a target=\"_blank\" href=https://colab.research.google.com/notebooks/data_table.ipynb>data table notebook</a>'\n",
              "          + ' to learn more about interactive tables.';\n",
              "        element.innerHTML = '';\n",
              "        dataTable['output_type'] = 'display_data';\n",
              "        await google.colab.output.renderOutput(dataTable, element);\n",
              "        const docLink = document.createElement('div');\n",
              "        docLink.innerHTML = docLinkHtml;\n",
              "        element.appendChild(docLink);\n",
              "      }\n",
              "    </script>\n",
              "  </div>\n",
              "\n",
              "\n",
              "<div id=\"df-08979ef1-1556-488d-b7d4-c5c7d821c470\">\n",
              "  <button class=\"colab-df-quickchart\" onclick=\"quickchart('df-08979ef1-1556-488d-b7d4-c5c7d821c470')\"\n",
              "            title=\"Suggest charts\"\n",
              "            style=\"display:none;\">\n",
              "\n",
              "<svg xmlns=\"http://www.w3.org/2000/svg\" height=\"24px\"viewBox=\"0 0 24 24\"\n",
              "     width=\"24px\">\n",
              "    <g>\n",
              "        <path d=\"M19 3H5c-1.1 0-2 .9-2 2v14c0 1.1.9 2 2 2h14c1.1 0 2-.9 2-2V5c0-1.1-.9-2-2-2zM9 17H7v-7h2v7zm4 0h-2V7h2v10zm4 0h-2v-4h2v4z\"/>\n",
              "    </g>\n",
              "</svg>\n",
              "  </button>\n",
              "\n",
              "<style>\n",
              "  .colab-df-quickchart {\n",
              "      --bg-color: #E8F0FE;\n",
              "      --fill-color: #1967D2;\n",
              "      --hover-bg-color: #E2EBFA;\n",
              "      --hover-fill-color: #174EA6;\n",
              "      --disabled-fill-color: #AAA;\n",
              "      --disabled-bg-color: #DDD;\n",
              "  }\n",
              "\n",
              "  [theme=dark] .colab-df-quickchart {\n",
              "      --bg-color: #3B4455;\n",
              "      --fill-color: #D2E3FC;\n",
              "      --hover-bg-color: #434B5C;\n",
              "      --hover-fill-color: #FFFFFF;\n",
              "      --disabled-bg-color: #3B4455;\n",
              "      --disabled-fill-color: #666;\n",
              "  }\n",
              "\n",
              "  .colab-df-quickchart {\n",
              "    background-color: var(--bg-color);\n",
              "    border: none;\n",
              "    border-radius: 50%;\n",
              "    cursor: pointer;\n",
              "    display: none;\n",
              "    fill: var(--fill-color);\n",
              "    height: 32px;\n",
              "    padding: 0;\n",
              "    width: 32px;\n",
              "  }\n",
              "\n",
              "  .colab-df-quickchart:hover {\n",
              "    background-color: var(--hover-bg-color);\n",
              "    box-shadow: 0 1px 2px rgba(60, 64, 67, 0.3), 0 1px 3px 1px rgba(60, 64, 67, 0.15);\n",
              "    fill: var(--button-hover-fill-color);\n",
              "  }\n",
              "\n",
              "  .colab-df-quickchart-complete:disabled,\n",
              "  .colab-df-quickchart-complete:disabled:hover {\n",
              "    background-color: var(--disabled-bg-color);\n",
              "    fill: var(--disabled-fill-color);\n",
              "    box-shadow: none;\n",
              "  }\n",
              "\n",
              "  .colab-df-spinner {\n",
              "    border: 2px solid var(--fill-color);\n",
              "    border-color: transparent;\n",
              "    border-bottom-color: var(--fill-color);\n",
              "    animation:\n",
              "      spin 1s steps(1) infinite;\n",
              "  }\n",
              "\n",
              "  @keyframes spin {\n",
              "    0% {\n",
              "      border-color: transparent;\n",
              "      border-bottom-color: var(--fill-color);\n",
              "      border-left-color: var(--fill-color);\n",
              "    }\n",
              "    20% {\n",
              "      border-color: transparent;\n",
              "      border-left-color: var(--fill-color);\n",
              "      border-top-color: var(--fill-color);\n",
              "    }\n",
              "    30% {\n",
              "      border-color: transparent;\n",
              "      border-left-color: var(--fill-color);\n",
              "      border-top-color: var(--fill-color);\n",
              "      border-right-color: var(--fill-color);\n",
              "    }\n",
              "    40% {\n",
              "      border-color: transparent;\n",
              "      border-right-color: var(--fill-color);\n",
              "      border-top-color: var(--fill-color);\n",
              "    }\n",
              "    60% {\n",
              "      border-color: transparent;\n",
              "      border-right-color: var(--fill-color);\n",
              "    }\n",
              "    80% {\n",
              "      border-color: transparent;\n",
              "      border-right-color: var(--fill-color);\n",
              "      border-bottom-color: var(--fill-color);\n",
              "    }\n",
              "    90% {\n",
              "      border-color: transparent;\n",
              "      border-bottom-color: var(--fill-color);\n",
              "    }\n",
              "  }\n",
              "</style>\n",
              "\n",
              "  <script>\n",
              "    async function quickchart(key) {\n",
              "      const quickchartButtonEl =\n",
              "        document.querySelector('#' + key + ' button');\n",
              "      quickchartButtonEl.disabled = true;  // To prevent multiple clicks.\n",
              "      quickchartButtonEl.classList.add('colab-df-spinner');\n",
              "      try {\n",
              "        const charts = await google.colab.kernel.invokeFunction(\n",
              "            'suggestCharts', [key], {});\n",
              "      } catch (error) {\n",
              "        console.error('Error during call to suggestCharts:', error);\n",
              "      }\n",
              "      quickchartButtonEl.classList.remove('colab-df-spinner');\n",
              "      quickchartButtonEl.classList.add('colab-df-quickchart-complete');\n",
              "    }\n",
              "    (() => {\n",
              "      let quickchartButtonEl =\n",
              "        document.querySelector('#df-08979ef1-1556-488d-b7d4-c5c7d821c470 button');\n",
              "      quickchartButtonEl.style.display =\n",
              "        google.colab.kernel.accessAllowed ? 'block' : 'none';\n",
              "    })();\n",
              "  </script>\n",
              "</div>\n",
              "    </div>\n",
              "  </div>\n"
            ],
            "application/vnd.google.colaboratory.intrinsic+json": {
              "type": "dataframe",
              "variable_name": "table_1_0"
            }
          },
          "metadata": {},
          "execution_count": 31
        }
      ],
      "source": [
        "table_1_0.loc[:, 'prediction_dbscan_1'] = dbscan.fit_predict(table_1_0['sum'].values.reshape(-1, 1))\n",
        "table_1_1.loc[:, 'prediction_dbscan_1'] = dbscan.fit_predict(table_1_1['sum'].values.reshape(-1, 1))\n",
        "table_1_2.loc[:, 'prediction_dbscan_1'] = dbscan.fit_predict(table_1_2['sum'].values.reshape(-1, 1))\n",
        "table_1_3.loc[:, 'prediction_dbscan_1'] = dbscan.fit_predict(table_1_3['sum'].values.reshape(-1, 1))\n",
        "table_1_4.loc[:, 'prediction_dbscan_1'] = dbscan.fit_predict(table_1_4['sum'].values.reshape(-1, 1))\n",
        "table_1_5.loc[:, 'prediction_dbscan_1'] = dbscan.fit_predict(table_1_5['sum'].values.reshape(-1, 1))\n",
        "table_1_0.head()"
      ]
    },
    {
      "cell_type": "code",
      "execution_count": 32,
      "metadata": {
        "id": "2_oSYdhMAOPb"
      },
      "outputs": [],
      "source": [
        "table_dbscan_1 = pd.concat([table_1_0,table_1_1,table_1_2,table_1_3,table_1_4,table_1_5], ignore_index= True)"
      ]
    },
    {
      "cell_type": "code",
      "execution_count": 33,
      "metadata": {
        "id": "DZhPSUv4BsHF",
        "colab": {
          "base_uri": "https://localhost:8080/"
        },
        "outputId": "34a61d6a-9782-4690-95fc-d3dfc39d88b6"
      },
      "outputs": [
        {
          "output_type": "execute_result",
          "data": {
            "text/plain": [
              "2023-05-15_17-12-24.palm.protocol.csv    55\n",
              "2023-06-20_12-34-17.palm.protocol.csv    16\n",
              "2023-06-20_14-43-11.palm.protocol.csv    13\n",
              "2023-05-15_16-16-08.palm.protocol.csv    11\n",
              "2023-06-20_13-30-15.palm.protocol.csv     7\n",
              "Name: name, dtype: int64"
            ]
          },
          "metadata": {},
          "execution_count": 33
        }
      ],
      "source": [
        "table_dbscan_1[table_dbscan_1.prediction_dbscan_1 < 0]['name'].value_counts()"
      ]
    },
    {
      "cell_type": "markdown",
      "metadata": {
        "id": "3h7vHTA6PaRb"
      },
      "source": [
        "## 2 пилот"
      ]
    },
    {
      "cell_type": "code",
      "execution_count": null,
      "metadata": {
        "id": "LqXz4qMmEfWq",
        "colab": {
          "base_uri": "https://localhost:8080/"
        },
        "outputId": "efd38463-46cd-4428-f5f0-1202eb64ccfe"
      },
      "outputs": [
        {
          "output_type": "stream",
          "name": "stderr",
          "text": [
            "<ipython-input-34-fcfd61fe9548>:10: SettingWithCopyWarning: \n",
            "A value is trying to be set on a copy of a slice from a DataFrame.\n",
            "Try using .loc[row_indexer,col_indexer] = value instead\n",
            "\n",
            "See the caveats in the documentation: https://pandas.pydata.org/pandas-docs/stable/user_guide/indexing.html#returning-a-view-versus-a-copy\n",
            "  table_2_0.loc[:, 'sum']= scaler.fit_transform(table_2_0[cols]).sum(axis=1)\n",
            "<ipython-input-34-fcfd61fe9548>:11: SettingWithCopyWarning: \n",
            "A value is trying to be set on a copy of a slice from a DataFrame.\n",
            "Try using .loc[row_indexer,col_indexer] = value instead\n",
            "\n",
            "See the caveats in the documentation: https://pandas.pydata.org/pandas-docs/stable/user_guide/indexing.html#returning-a-view-versus-a-copy\n",
            "  table_2_1.loc[:, 'sum']= scaler.fit_transform(table_2_1[cols]).sum(axis=1)\n",
            "<ipython-input-34-fcfd61fe9548>:12: SettingWithCopyWarning: \n",
            "A value is trying to be set on a copy of a slice from a DataFrame.\n",
            "Try using .loc[row_indexer,col_indexer] = value instead\n",
            "\n",
            "See the caveats in the documentation: https://pandas.pydata.org/pandas-docs/stable/user_guide/indexing.html#returning-a-view-versus-a-copy\n",
            "  table_2_2.loc[:, 'sum']= scaler.fit_transform(table_2_2[cols]).sum(axis=1)\n",
            "<ipython-input-34-fcfd61fe9548>:13: SettingWithCopyWarning: \n",
            "A value is trying to be set on a copy of a slice from a DataFrame.\n",
            "Try using .loc[row_indexer,col_indexer] = value instead\n",
            "\n",
            "See the caveats in the documentation: https://pandas.pydata.org/pandas-docs/stable/user_guide/indexing.html#returning-a-view-versus-a-copy\n",
            "  table_2_3.loc[:, 'sum']= scaler.fit_transform(table_2_3[cols]).sum(axis=1)\n",
            "<ipython-input-34-fcfd61fe9548>:14: SettingWithCopyWarning: \n",
            "A value is trying to be set on a copy of a slice from a DataFrame.\n",
            "Try using .loc[row_indexer,col_indexer] = value instead\n",
            "\n",
            "See the caveats in the documentation: https://pandas.pydata.org/pandas-docs/stable/user_guide/indexing.html#returning-a-view-versus-a-copy\n",
            "  table_2_4.loc[:, 'sum']= scaler.fit_transform(table_2_4[cols]).sum(axis=1)\n",
            "<ipython-input-34-fcfd61fe9548>:15: SettingWithCopyWarning: \n",
            "A value is trying to be set on a copy of a slice from a DataFrame.\n",
            "Try using .loc[row_indexer,col_indexer] = value instead\n",
            "\n",
            "See the caveats in the documentation: https://pandas.pydata.org/pandas-docs/stable/user_guide/indexing.html#returning-a-view-versus-a-copy\n",
            "  table_2_5.loc[:, 'sum']= scaler.fit_transform(table_2_5[cols]).sum(axis=1)\n",
            "<ipython-input-34-fcfd61fe9548>:16: SettingWithCopyWarning: \n",
            "A value is trying to be set on a copy of a slice from a DataFrame\n",
            "\n",
            "See the caveats in the documentation: https://pandas.pydata.org/pandas-docs/stable/user_guide/indexing.html#returning-a-view-versus-a-copy\n",
            "  table_2_0.drop(columns =cols, inplace = True)\n"
          ]
        }
      ],
      "source": [
        "table_2.drop(columns = ['ENC1','ENC2','ENC3', 'ENC4', 'ENC5', 'BUTTON', 'SYNC', 'ts'], inplace=True)\n",
        "\n",
        "table_2_0 = table_2[table_2['gest'] == 0.0]\n",
        "table_2_1 = table_2[table_2['gest'] == 1.0]\n",
        "table_2_2 = table_2[table_2['gest'] == 2.0]\n",
        "table_2_3 = table_2[table_2['gest'] == 3.0]\n",
        "table_2_4 = table_2[table_2['gest'] == 4.0]\n",
        "table_2_5 = table_2[table_2['gest'] == 5.0]\n",
        "\n",
        "table_2_0.loc[:, 'sum']= scaler.fit_transform(table_2_0[cols]).sum(axis=1)\n",
        "table_2_1.loc[:, 'sum']= scaler.fit_transform(table_2_1[cols]).sum(axis=1)\n",
        "table_2_2.loc[:, 'sum']= scaler.fit_transform(table_2_2[cols]).sum(axis=1)\n",
        "table_2_3.loc[:, 'sum']= scaler.fit_transform(table_2_3[cols]).sum(axis=1)\n",
        "table_2_4.loc[:, 'sum']= scaler.fit_transform(table_2_4[cols]).sum(axis=1)\n",
        "table_2_5.loc[:, 'sum']= scaler.fit_transform(table_2_5[cols]).sum(axis=1)\n",
        "table_2_0.drop(columns =cols, inplace = True)\n",
        "\n",
        "table_2_0['prediction_dbscan_2'] = dbscan.fit_predict(table_2_0['sum'].values.reshape(-1, 1))\n",
        "table_2_1['prediction_dbscan_2'] = dbscan.fit_predict(table_2_1['sum'].values.reshape(-1, 1))\n",
        "table_2_2['prediction_dbscan_2'] = dbscan.fit_predict(table_2_2['sum'].values.reshape(-1, 1))\n",
        "table_2_3['prediction_dbscan_2'] = dbscan.fit_predict(table_2_3['sum'].values.reshape(-1, 1))\n",
        "table_2_4['prediction_dbscan_2'] = dbscan.fit_predict(table_2_4['sum'].values.reshape(-1, 1))\n",
        "table_2_5['prediction_dbscan_2'] = dbscan.fit_predict(table_2_5['sum'].values.reshape(-1, 1))\n",
        "\n",
        "table_dbscan_2 = pd.concat([table_2_0,table_2_1,table_2_2,table_2_3,table_2_4,table_2_5], ignore_index= True)\n",
        "\n",
        "table_dbscan_2[table_dbscan_2.prediction_dbscan_2 < 0]['name'].value_counts()"
      ]
    },
    {
      "cell_type": "markdown",
      "source": [
        "## 3 пилот"
      ],
      "metadata": {
        "id": "MqgUfXKCf0df"
      }
    },
    {
      "cell_type": "code",
      "execution_count": 1,
      "metadata": {
        "id": "C7kUm1AQRFgz",
        "colab": {
          "base_uri": "https://localhost:8080/",
          "height": 211
        },
        "outputId": "843fe2d1-37ad-4590-b79b-0212f61a60ec"
      },
      "outputs": [
        {
          "output_type": "error",
          "ename": "NameError",
          "evalue": "name 'table_3' is not defined",
          "traceback": [
            "\u001b[0;31m---------------------------------------------------------------------------\u001b[0m",
            "\u001b[0;31mNameError\u001b[0m                                 Traceback (most recent call last)",
            "\u001b[0;32m<ipython-input-1-418787558cf2>\u001b[0m in \u001b[0;36m<cell line: 1>\u001b[0;34m()\u001b[0m\n\u001b[0;32m----> 1\u001b[0;31m \u001b[0mtable_3\u001b[0m\u001b[0;34m.\u001b[0m\u001b[0mdrop\u001b[0m\u001b[0;34m(\u001b[0m\u001b[0mcolumns\u001b[0m \u001b[0;34m=\u001b[0m \u001b[0;34m[\u001b[0m\u001b[0;34m'ENC1'\u001b[0m\u001b[0;34m,\u001b[0m\u001b[0;34m'ENC2'\u001b[0m\u001b[0;34m,\u001b[0m\u001b[0;34m'ENC3'\u001b[0m\u001b[0;34m,\u001b[0m \u001b[0;34m'ENC4'\u001b[0m\u001b[0;34m,\u001b[0m \u001b[0;34m'ENC5'\u001b[0m\u001b[0;34m,\u001b[0m \u001b[0;34m'BUTTON'\u001b[0m\u001b[0;34m,\u001b[0m \u001b[0;34m'SYNC'\u001b[0m\u001b[0;34m,\u001b[0m \u001b[0;34m'ts'\u001b[0m\u001b[0;34m]\u001b[0m\u001b[0;34m,\u001b[0m \u001b[0minplace\u001b[0m\u001b[0;34m=\u001b[0m\u001b[0;32mTrue\u001b[0m\u001b[0;34m)\u001b[0m\u001b[0;34m\u001b[0m\u001b[0;34m\u001b[0m\u001b[0m\n\u001b[0m\u001b[1;32m      2\u001b[0m \u001b[0;34m\u001b[0m\u001b[0m\n\u001b[1;32m      3\u001b[0m \u001b[0mtable_3_0\u001b[0m \u001b[0;34m=\u001b[0m \u001b[0mtable_3\u001b[0m\u001b[0;34m[\u001b[0m\u001b[0mtable_3\u001b[0m\u001b[0;34m[\u001b[0m\u001b[0;34m'gest'\u001b[0m\u001b[0;34m]\u001b[0m \u001b[0;34m==\u001b[0m \u001b[0;36m0.0\u001b[0m\u001b[0;34m]\u001b[0m\u001b[0;34m\u001b[0m\u001b[0;34m\u001b[0m\u001b[0m\n\u001b[1;32m      4\u001b[0m \u001b[0mtable_3_1\u001b[0m \u001b[0;34m=\u001b[0m \u001b[0mtable_3\u001b[0m\u001b[0;34m[\u001b[0m\u001b[0mtable_3\u001b[0m\u001b[0;34m[\u001b[0m\u001b[0;34m'gest'\u001b[0m\u001b[0;34m]\u001b[0m \u001b[0;34m==\u001b[0m \u001b[0;36m1.0\u001b[0m\u001b[0;34m]\u001b[0m\u001b[0;34m\u001b[0m\u001b[0;34m\u001b[0m\u001b[0m\n\u001b[1;32m      5\u001b[0m \u001b[0mtable_3_2\u001b[0m \u001b[0;34m=\u001b[0m \u001b[0mtable_3\u001b[0m\u001b[0;34m[\u001b[0m\u001b[0mtable_3\u001b[0m\u001b[0;34m[\u001b[0m\u001b[0;34m'gest'\u001b[0m\u001b[0;34m]\u001b[0m \u001b[0;34m==\u001b[0m \u001b[0;36m2.0\u001b[0m\u001b[0;34m]\u001b[0m\u001b[0;34m\u001b[0m\u001b[0;34m\u001b[0m\u001b[0m\n",
            "\u001b[0;31mNameError\u001b[0m: name 'table_3' is not defined"
          ]
        }
      ],
      "source": [
        "table_3.drop(columns = ['ENC1','ENC2','ENC3', 'ENC4', 'ENC5', 'BUTTON', 'SYNC', 'ts'], inplace=True)\n",
        "\n",
        "table_3_0 = table_3[table_3['gest'] == 0.0]\n",
        "table_3_1 = table_3[table_3['gest'] == 1.0]\n",
        "table_3_2 = table_3[table_3['gest'] == 2.0]\n",
        "table_3_3 = table_3[table_3['gest'] == 3.0]\n",
        "table_3_4 = table_3[table_3['gest'] == 4.0]\n",
        "table_3_5 = table_3[table_3['gest'] == 5.0]\n",
        "\n",
        "table_3_0.loc[:, 'sum']= scaler.fit_transform(table_3_0[cols]).sum(axis=1)\n",
        "table_3_1.loc[:, 'sum']= scaler.fit_transform(table_3_1[cols]).sum(axis=1)\n",
        "table_3_2.loc[:, 'sum']= scaler.fit_transform(table_3_2[cols]).sum(axis=1)\n",
        "table_3_3.loc[:, 'sum']= scaler.fit_transform(table_3_3[cols]).sum(axis=1)\n",
        "table_3_4.loc[:, 'sum']= scaler.fit_transform(table_3_4[cols]).sum(axis=1)\n",
        "table_3_5.loc[:, 'sum']= scaler.fit_transform(table_3_5[cols]).sum(axis=1)\n",
        "table_3_0.drop(columns =cols, inplace = True)\n",
        "\n",
        "table_3_0['prediction_dbscan_3'] = dbscan.fit_predict(table_3_0['sum'].values.reshape(-1, 1))\n",
        "table_3_1['prediction_dbscan_3'] = dbscan.fit_predict(table_3_1['sum'].values.reshape(-1, 1))\n",
        "table_3_2['prediction_dbscan_3'] = dbscan.fit_predict(table_3_2['sum'].values.reshape(-1, 1))\n",
        "table_3_3['prediction_dbscan_3'] = dbscan.fit_predict(table_3_3['sum'].values.reshape(-1, 1))\n",
        "table_3_4['prediction_dbscan_3'] = dbscan.fit_predict(table_3_4['sum'].values.reshape(-1, 1))\n",
        "table_3_5['prediction_dbscan_3'] = dbscan.fit_predict(table_3_5['sum'].values.reshape(-1, 1))\n",
        "\n",
        "table_dbscan_3 = pd.concat([table_3_0,table_3_1,table_3_2,table_3_3,table_3_4,table_3_5], ignore_index= True)\n",
        "\n",
        "table_dbscan_3[table_dbscan_3.prediction_dbscan_3 < 0]['name'].value_counts()"
      ]
    },
    {
      "cell_type": "markdown",
      "source": [
        "## 4 пилот"
      ],
      "metadata": {
        "id": "zd4fJBp0f7Fo"
      }
    },
    {
      "cell_type": "code",
      "execution_count": null,
      "metadata": {
        "id": "R2Gf9zsjRP-H"
      },
      "outputs": [],
      "source": [
        "table_4.drop(columns = ['ENC1','ENC2','ENC3', 'ENC4', 'ENC5', 'BUTTON', 'SYNC', 'ts'], inplace=True)\n",
        "\n",
        "table_4_0 = table_4[table_4['gest'] == 0.0]\n",
        "table_4_1 = table_4[table_4['gest'] == 1.0]\n",
        "table_4_2 = table_4[table_4['gest'] == 2.0]\n",
        "table_4_3 = table_4[table_4['gest'] == 3.0]\n",
        "table_4_4 = table_4[table_4['gest'] == 4.0]\n",
        "table_4_5 = table_4[table_4['gest'] == 5.0]\n",
        "\n",
        "table_4_0.loc[:, 'sum']= scaler.fit_transform(table_4_0[cols]).sum(axis=1)\n",
        "table_4_1.loc[:, 'sum']= scaler.fit_transform(table_4_1[cols]).sum(axis=1)\n",
        "table_4_2.loc[:, 'sum']= scaler.fit_transform(table_4_2[cols]).sum(axis=1)\n",
        "table_4_3.loc[:, 'sum']= scaler.fit_transform(table_4_3[cols]).sum(axis=1)\n",
        "table_4_4.loc[:, 'sum']= scaler.fit_transform(table_4_4[cols]).sum(axis=1)\n",
        "table_4_5.loc[:, 'sum']= scaler.fit_transform(table_4_5[cols]).sum(axis=1)\n",
        "table_4_0.drop(columns =cols, inplace = True)\n",
        "\n",
        "table_4_0['prediction_dbscan_4'] = dbscan.fit_predict(table_4_0['sum'].values.reshape(-1, 1))\n",
        "table_4_1['prediction_dbscan_4'] = dbscan.fit_predict(table_4_1['sum'].values.reshape(-1, 1))\n",
        "table_4_2['prediction_dbscan_4'] = dbscan.fit_predict(table_4_2['sum'].values.reshape(-1, 1))\n",
        "table_4_3['prediction_dbscan_4'] = dbscan.fit_predict(table_4_3['sum'].values.reshape(-1, 1))\n",
        "table_4_4['prediction_dbscan_4'] = dbscan.fit_predict(table_4_4['sum'].values.reshape(-1, 1))\n",
        "table_4_5['prediction_dbscan_4'] = dbscan.fit_predict(table_4_5['sum'].values.reshape(-1, 1))\n",
        "\n",
        "table_dbscan_4 = pd.concat([table_4_0,table_4_1,table_4_2,table_4_3,table_4_4,table_4_5], ignore_index= True)\n",
        "\n",
        "table_dbscan_4[table_dbscan_4.prediction_dbscan_4 < 0]['name'].value_counts()"
      ]
    },
    {
      "cell_type": "markdown",
      "source": [
        "## Выводы: С помощью метода DBSCAN больше всего аномалий обнаружилось в наблюдениях 2023-05-05_17-57-30.palm (5232), 2023-04-18_19-08-47 gestures train.palm(3656), 2023-05-07_16-54-27.palm(3126), 2023-05-19_12-04-02.palm(2831)."
      ],
      "metadata": {
        "id": "N81_J9NwgDHF"
      }
    },
    {
      "cell_type": "code",
      "source": [
        "observ = set(all_samples['name'])\n",
        "weigths_start = np.ones(len(observ))\n",
        "def set_to_dict(samples, weights):\n",
        "    keys = list(samples)\n",
        "    values = weights\n",
        "    return {k: v for k, v in zip(keys, values)}\n",
        "\n",
        "s_weight = set_to_dict(observ, weigths_start)\n",
        "s_weight['2023-05-05_17-57-30.palm.protocol.csv'] = 0\n",
        "s_weight['2023-04-18_19-08-47 gestures train.palm.protocol.csv'] = 0\n",
        "s_weight['2023-05-07_16-54-27.palm.protocol.csv'] = 0\n",
        "s_weight['2023-05-19_12-04-02.palm.protocol.csv'] = 0\n",
        "print(s_weight)\n"
      ],
      "metadata": {
        "id": "PPgGt5GQqQWB"
      },
      "execution_count": null,
      "outputs": []
    },
    {
      "cell_type": "code",
      "source": [
        "observ"
      ],
      "metadata": {
        "id": "lxJnIDlRkdih"
      },
      "execution_count": null,
      "outputs": []
    },
    {
      "cell_type": "code",
      "source": [
        "sample_weights = all_samples['name'].map(s_weight)\n",
        "sample_weights.value_counts()"
      ],
      "metadata": {
        "id": "2tDjsq0nz14A"
      },
      "execution_count": null,
      "outputs": []
    },
    {
      "cell_type": "code",
      "source": [
        "all_samples.head()"
      ],
      "metadata": {
        "id": "KVjxyfmbpZo9"
      },
      "execution_count": null,
      "outputs": []
    },
    {
      "cell_type": "code",
      "source": [
        "all_samples.dropna(0)"
      ],
      "metadata": {
        "id": "N6VAaMCQ2kSO"
      },
      "execution_count": null,
      "outputs": []
    },
    {
      "cell_type": "code",
      "source": [
        "all_samples.describe()"
      ],
      "metadata": {
        "id": "Zhu_IK4c231Y"
      },
      "execution_count": null,
      "outputs": []
    },
    {
      "cell_type": "code",
      "source": [
        "all_samples.drop(columns = ['ENC1', 'ENC2', 'ENC3', 'ENC4', 'ENC5', 'SYNC', 'ts'], inplace = True)"
      ],
      "metadata": {
        "id": "p46zdb_32dK2"
      },
      "execution_count": null,
      "outputs": []
    },
    {
      "cell_type": "markdown",
      "source": [
        "# Train/test"
      ],
      "metadata": {
        "id": "5khEHG9qffcY"
      }
    },
    {
      "cell_type": "code",
      "source": [
        "X_train = all_samples[all_samples['sample_type'] == 'train']\n",
        "X_test = all_samples[all_samples['sample_type'] == 'test']\n",
        "print(X_train.shape, X_test.shape)\n",
        "\n",
        "y_train = X_train['gest']\n",
        "y_test = X_test['gest']\n",
        "\n",
        "X_train.drop(columns = ['gest', 'sample_type'], inplace =True)\n",
        "X_test.drop(columns = ['gest', 'sample_type'], inplace =True)"
      ],
      "metadata": {
        "id": "EBDfzQKUj7Bw"
      },
      "execution_count": null,
      "outputs": []
    },
    {
      "cell_type": "markdown",
      "source": [
        "# Preprocessing"
      ],
      "metadata": {
        "id": "ih_YsNGe50pZ"
      }
    },
    {
      "cell_type": "markdown",
      "metadata": {
        "id": "28B_e0wnxeoU"
      },
      "source": [
        "## Добавление признака с экспоненциально взвешенными скользящими средними"
      ]
    },
    {
      "cell_type": "code",
      "execution_count": null,
      "metadata": {
        "id": "br22BWnHxG4D"
      },
      "outputs": [],
      "source": [
        "def add_ewm_feature(df, span=10):\n",
        "    \"\"\"\n",
        "    Функция для добавления столбцов с экспоненциально взвешенными скользящими\n",
        "    средними (ewm) для каждого признака в DataFrame.\n",
        "\n",
        "    Args:\n",
        "        df (DataFrame): Исходный DataFrame\n",
        "        span (int): Параметр span для расчета ewm (по умолчанию 10)\n",
        "    Returns:\n",
        "        DataFrame: DataFrame с добавленными столбцами 'ewm' для каждого признака\n",
        "    \"\"\"\n",
        "    df_temp = df.copy()\n",
        "    df_col = list(df_temp.columns)\n",
        "    for col in df_col:\n",
        "        col_add = f'{col}_ewm' #название для нового признака\n",
        "        df_temp[col_add] = df_temp[col].ewm(span=span, adjust=False).mean()\n",
        "    df_temp.drop(df_col, axis = 1, inplace = True)\n",
        "\n",
        "    return df_temp"
      ]
    },
    {
      "cell_type": "markdown",
      "metadata": {
        "id": "_y4X53qmbOBd"
      },
      "source": [
        "## Добавление суммы изменений признака за последние несколько временных шагов."
      ]
    },
    {
      "cell_type": "code",
      "execution_count": null,
      "metadata": {
        "id": "pnMIL08Jcu82"
      },
      "outputs": [],
      "source": [
        "def add_weight_sum(df, size = 5, win_type = 'triang'):\n",
        "  \"\"\"Функция для добавления признака скользящей суммы, c весами значений\n",
        "\n",
        "    Args:\n",
        "        df (DataFrame): выборка\n",
        "        df_col(str): список признаков из общей выборки для обработки\n",
        "        size(int): размер окна\n",
        "        metod(str): веса. Действительная оконная функция scipy.signal\n",
        "\n",
        "    Returns:\n",
        "        df_log(DataFrame): датасет с добавленным признаком скользящей суммы, c весами значений\n",
        "  \"\"\"\n",
        "  df_temp = df.copy()\n",
        "  df_col = list(df_temp.columns)\n",
        "  for i in df_col:\n",
        "    col_add = f'add_{size}_{i}' #название для нового признака\n",
        "    df_temp[col_add] = round(df_temp[i].rolling(window = size, win_type = win_type).sum()) #создаем признак\n",
        "    df_temp.fillna(0, inplace = True) #удаляем нули\n",
        "  df_temp.drop(df_col, axis = 1, inplace = True)\n",
        "\n",
        "  return df_temp"
      ]
    },
    {
      "cell_type": "markdown",
      "metadata": {
        "id": "vKb4hsMfcXwv"
      },
      "source": [
        "## Добавление лагов"
      ]
    },
    {
      "cell_type": "code",
      "execution_count": null,
      "metadata": {
        "id": "bh3E727UzQek"
      },
      "outputs": [],
      "source": [
        "def add_lag(df, step = 3, lag_n = 7):\n",
        "  \"\"\"Функция для добавления временных лагов в выборку с шагом\n",
        "\n",
        "    Args:\n",
        "        df (DataFrame): выборка\n",
        "        lag_n(int): количество временных лагов\n",
        "        step(int): шаг сдвига по признакам\n",
        "\n",
        "    Returns:\n",
        "        df_temp(DataFrame): датасет с добавленными временными лагами, пропуски заполнены 0\n",
        "  \"\"\"\n",
        "\n",
        "  df_temp = df.copy() #coздаем новый датасет для добавления новых признаков\n",
        "  df_col = list(df_temp.columns) #исходный список признаков\n",
        "  col_step = [] #список признаков с шагом\n",
        "  for i in range(0, len(df_col), step): #перебираем признаки\n",
        "    col_step.append(df_col[i]) #формируем список признаков с шагом\n",
        "  for _, col in enumerate(col_step): #перебираем список признаков с шагом\n",
        "    for n, v in enumerate(range(1,lag_n)): #перебираем лаги\n",
        "      col_lag = f'{col}_lag_{v}' #название для нового признака\n",
        "      df_temp[col_lag] = df_temp.loc[:, col].shift(v, fill_value = 0) #создаем новый признак\n",
        "  df_temp.drop(df_col, axis = 1, inplace = True)\n",
        "\n",
        "  return df_temp"
      ]
    },
    {
      "cell_type": "code",
      "source": [
        "def x_preprocessing(data):\n",
        "  # data_columns = list(data.columns)\n",
        "  df_prev = pd.DataFrame()\n",
        "  for obs in list(observ):\n",
        "    data_n = data[data['name'] == obs]\n",
        "    # print(x_temp.shape)\n",
        "    data_n.drop(columns= ['name', 'pilot'], inplace = True)\n",
        "    # Добавление признака с экспоненциально взвешенными скользящими средними\n",
        "    data_add_ewm = add_ewm_feature(data_n)\n",
        "    # Добавление суммы изменений признака за последние несколько временных шагов.\n",
        "    data_weight_sum = add_weight_sum(data_n, size = 5, win_type = 'triang')\n",
        "    # Добавление лагов\n",
        "    data_add_lag = add_lag(data_n, step = 2, lag_n = 3) #выполняем функцию сдвига признаков с лагом\n",
        "    # объединение преобразований\n",
        "    df = pd.concat([data_n, data_add_ewm, data_weight_sum, data_add_lag], axis=1)\n",
        "    # df = pd.concat([data_n, data_weight_sum, data_add_lag], axis=1)\n",
        "    df1 = pd.concat([df, df_prev], axis = 0)\n",
        "    df_prev = df1.copy()\n",
        "  df1 = StandardScaler().fit_transform(df1)\n",
        "  return df1"
      ],
      "metadata": {
        "id": "uO9ufv3PdBS4"
      },
      "execution_count": null,
      "outputs": []
    },
    {
      "cell_type": "code",
      "source": [
        "print(X_train.shape, X_test.shape)"
      ],
      "metadata": {
        "id": "IrHktpjz10Hk"
      },
      "execution_count": null,
      "outputs": []
    },
    {
      "cell_type": "code",
      "source": [
        "X_train = x_preprocessing(X_train)\n",
        "X_test = x_preprocessing(X_test)\n",
        "print(X_train.shape, X_test.shape)"
      ],
      "metadata": {
        "id": "TznKRGpzd0I9"
      },
      "execution_count": null,
      "outputs": []
    },
    {
      "cell_type": "markdown",
      "source": [
        "# Моделирование"
      ],
      "metadata": {
        "id": "QsBnAhlC5ZkI"
      }
    },
    {
      "cell_type": "markdown",
      "metadata": {
        "id": "yv0aLymLCF7p"
      },
      "source": [
        "# Метод опорных векторов(SVC)"
      ]
    },
    {
      "cell_type": "code",
      "execution_count": null,
      "metadata": {
        "id": "QteUJD1LBZva"
      },
      "outputs": [],
      "source": [
        "from sklearn import svm\n",
        "model = svm.SVC(kernel='rbf', gamma='scale', C=1000, break_ties=True, decision_function_shape='ovr', max_iter = -1)\n",
        "y_train = y_train.ravel()\n",
        "model.fit(\n",
        "    X=X_train,\n",
        "    y=y_train,\n",
        "    sample_weight=sample_weights\n",
        ")"
      ]
    },
    {
      "cell_type": "code",
      "source": [
        "import pickle\n",
        "with open('model', 'wb') as fp:\n",
        "    pickle.dump(model, fp)\n",
        "# Скачивание из colab на локальный компьютер\n",
        "from google.colab import files\n",
        "files.download('model')"
      ],
      "metadata": {
        "id": "_vay0enQSDa3"
      },
      "execution_count": null,
      "outputs": []
    },
    {
      "cell_type": "markdown",
      "metadata": {
        "id": "VHMlU63Scu9m"
      },
      "source": [
        "## Prediction"
      ]
    },
    {
      "cell_type": "code",
      "execution_count": null,
      "metadata": {
        "id": "o4Mn92WAvDo0"
      },
      "outputs": [],
      "source": [
        "# сделаем предсказание на обучающей выборке\n",
        "y_pred_h = model.predict(X_train)\n",
        "y_pred_test = model.predict(X_test)"
      ]
    },
    {
      "cell_type": "code",
      "source": [
        "GESTURES = ['Neutral', 'Open', 'Pistol', 'Thumb', 'OK', 'Grab']\n",
        "GESTURES"
      ],
      "metadata": {
        "id": "pthaLx_a6x5w"
      },
      "execution_count": null,
      "outputs": []
    },
    {
      "cell_type": "markdown",
      "source": [
        "### Train"
      ],
      "metadata": {
        "id": "T1GKoWSE6_tB"
      }
    },
    {
      "cell_type": "code",
      "execution_count": null,
      "metadata": {
        "id": "r5Akt402cu9o"
      },
      "outputs": [],
      "source": [
        "# определим метрики\n",
        "report = classification_report(y_train, y_pred_h)\n",
        "print(\"Classification Report:\\n\", report)\n",
        "\n",
        "# определим метрики\n",
        "# f1 = f1_score(y_train, y_pred_h, average='micro')\n",
        "# print(\"mean f_score:\\n\", f1)"
      ]
    },
    {
      "cell_type": "code",
      "execution_count": null,
      "metadata": {
        "id": "CjO5_csgSCyx"
      },
      "outputs": [],
      "source": [
        "#confusion matrix\n",
        "confusion_mtx = confusion_matrix(y_train, y_pred_h)\n",
        "\n",
        "#plot of the confusion matrix\n",
        "f,ax = plt.subplots(figsize=(10, 10))\n",
        "sns.heatmap(confusion_mtx, annot=True, linewidths=0.01,cmap=\"Greens\",linecolor=\"gray\", fmt= '.1f',ax=ax)\n",
        "plt.xlabel(\"Predicted Label\")\n",
        "plt.ylabel(\"True Label\")\n",
        "plt.title(\"Confusion Matrix\")\n",
        "plt.show()"
      ]
    },
    {
      "cell_type": "markdown",
      "metadata": {
        "id": "7U-qui-qcu9w"
      },
      "source": [
        "### Test"
      ]
    },
    {
      "cell_type": "code",
      "execution_count": null,
      "metadata": {
        "id": "yCSzm6bWcu9x"
      },
      "outputs": [],
      "source": [
        "print(classification_report(y_test, y_pred_test, target_names=GESTURES))\n",
        "\n",
        "#confusion matrix\n",
        "confusion_mtx = confusion_matrix(y_test, y_pred_test)\n",
        "\n",
        "#plot of the confusion matrix\n",
        "f,ax = plt.subplots(figsize=(8, 8))\n",
        "sns.heatmap(confusion_mtx, annot=True, linewidths=0.01,cmap=\"Greens\",linecolor=\"gray\", fmt= '.1f',ax=ax)\n",
        "plt.xlabel(\"Predicted Label\")\n",
        "plt.ylabel(\"True Label\")\n",
        "plt.title(\"Confusion Matrix\")\n",
        "plt.show()"
      ]
    },
    {
      "cell_type": "code",
      "execution_count": null,
      "metadata": {
        "id": "G-fKTACx8Td5"
      },
      "outputs": [],
      "source": [
        "fig = plt.figure(figsize=(10, 4))\n",
        "plt.plot(y_test,  c='C0', label='y_true')\n",
        "plt.plot(y_pred_test, c='C1', label='y_pred')\n",
        "\n",
        "plt.yticks(np.arange(len(GESTURES)), GESTURES)\n",
        "plt.grid()\n",
        "plt.xlabel('Timesteps')\n",
        "plt.legend()\n",
        "plt.title('Test')\n",
        "plt.tight_layout()"
      ]
    },
    {
      "cell_type": "code",
      "execution_count": null,
      "metadata": {
        "id": "2zFUzBHVWmQF"
      },
      "outputs": [],
      "source": [
        "# Сериализация\n",
        "import pickle\n",
        "with open('table_1', 'wb') as fp:\n",
        "    pickle.dump(table_1, fp)\n",
        "with open('table_2', 'wb') as fp:\n",
        "    pickle.dump(table_2, fp)\n",
        "with open('table_3', 'wb') as fp:\n",
        "    pickle.dump(table_3, fp)\n",
        "with open('table_4', 'wb') as fp:\n",
        "    pickle.dump(table_4, fp)\n",
        "with open('all_samples', 'wb') as fp:\n",
        "    pickle.dump(all_samples, fp)\n",
        "\n",
        "# Скачивание из colab на локальный компьютер\n",
        "from google.colab import files\n",
        "files.download('table_1')\n",
        "files.download('table_2')\n",
        "files.download('table_3')\n",
        "files.download('table_4')\n",
        "files.download('all_samples')"
      ]
    }
  ],
  "metadata": {
    "colab": {
      "provenance": [],
      "collapsed_sections": [
        "3h7vHTA6PaRb",
        "MqgUfXKCf0df",
        "zd4fJBp0f7Fo"
      ]
    },
    "kernelspec": {
      "display_name": "Python 3",
      "name": "python3"
    },
    "language_info": {
      "name": "python"
    }
  },
  "nbformat": 4,
  "nbformat_minor": 0
}