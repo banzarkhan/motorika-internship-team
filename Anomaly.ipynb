{
  "cells": [
    {
      "cell_type": "code",
      "execution_count": 51,
      "metadata": {
        "id": "xqRrCDBvI6xV"
      },
      "outputs": [],
      "source": [
        "import numpy as np\n",
        "import pandas as pd\n",
        "from matplotlib import pyplot as plt\n",
        "\n",
        "from sklearn.cluster import DBSCAN\n",
        "from sklearn.cluster import AgglomerativeClustering\n",
        "\n",
        "from sklearn.preprocessing import RobustScaler, StandardScaler, MinMaxScaler\n",
        "from sklearn.model_selection import TimeSeriesSplit\n",
        "from sklearn.preprocessing import LabelEncoder\n",
        "\n",
        "import statsmodels.graphics.tsaplots as sgt\n",
        "import scipy.stats as stats\n",
        "\n",
        "from warnings import simplefilter\n",
        "simplefilter(action=\"ignore\", category=pd.errors.PerformanceWarning)\n",
        "\n",
        "# отключение предупреждений\n",
        "import warnings\n",
        "warnings.filterwarnings('ignore')\n",
        "\n",
        "import seaborn as sns\n",
        "\n",
        "from matplotlib import pyplot as plt\n",
        "\n",
        "from sklearn.preprocessing import RobustScaler, StandardScaler\n",
        "from sklearn.metrics import classification_report, f1_score, confusion_matrix\n",
        "from sklearn.utils.class_weight import compute_class_weight\n",
        "from sklearn.model_selection import cross_validate\n",
        "\n",
        "le = LabelEncoder()\n",
        "# from catboost import CatBoostClassifier, Pool\n",
        "from sklearn.neighbors import KNeighborsClassifier\n",
        "from sklearn.naive_bayes import BernoulliNB\n",
        "from sklearn.naive_bayes import GaussianNB\n",
        "from sklearn.linear_model import LogisticRegression\n",
        "\n",
        "from sklearn.ensemble import RandomForestClassifier\n",
        "from sklearn.ensemble import StackingClassifier\n",
        "from sklearn.svm import SVC\n",
        "\n",
        "from sklearn.model_selection import cross_val_score, StratifiedKFold\n",
        "from sklearn.linear_model import LogisticRegression\n",
        "from sklearn.tree import DecisionTreeClassifier\n",
        "from sklearn.preprocessing import StandardScaler, OneHotEncoder\n",
        "from sklearn.pipeline import Pipeline\n",
        "from sklearn.impute import SimpleImputer\n",
        "from sklearn.compose import ColumnTransformer\n",
        "\n",
        "from functools import partial\n",
        "from sklearn.model_selection import StratifiedKFold\n",
        "from sklearn.model_selection import cross_val_score\n",
        "# from hyperopt import hp, fmin, tpe, Trials, STATUS_OK\n",
        "# from hyperopt import hp, fmin, tpe, Trials, STATUS_OK\n",
        "# fmin - основная функция, она будет минимизировать наш функционал\n",
        "# tpe - алгоритм оптимизации\n",
        "# hp - включает набор методов для объявления пространства поиска гиперпараметров\n",
        "# trails - используется для логирования результатов\n",
        "\n",
        "%matplotlib inline\n",
        "sns.set_context(\"talk\")\n",
        "\n",
        "# random state\n",
        "RS = 1\n",
        "# %matplotlib widget"
      ]
    },
    {
      "cell_type": "markdown",
      "metadata": {
        "id": "NpTbkmKRnAvA"
      },
      "source": [
        "ТЗ: При разработке модели необходимо проверить, возможно ли обучить ее на данных предыдущих пилотов для последующего их использования новыми пилотами;"
      ]
    },
    {
      "cell_type": "code",
      "execution_count": 52,
      "metadata": {},
      "outputs": [],
      "source": [
        "table_1 = pd.read_pickle('/home/user/Загрузки/table_1') \n",
        "table_2 = pd.read_pickle('/home/user/Загрузки/table_2') \n",
        "table_3 = pd.read_pickle('/home/user/Загрузки/table_3') \n",
        "table_4 = pd.read_pickle('/home/user/Загрузки/table_4') "
      ]
    },
    {
      "cell_type": "code",
      "execution_count": 53,
      "metadata": {
        "colab": {
          "base_uri": "https://localhost:8080/",
          "height": 236
        },
        "id": "cu7zNeu3SvR7",
        "outputId": "83ff2f68-14ca-4b0f-80c8-51a9ab975f74"
      },
      "outputs": [
        {
          "data": {
            "text/html": [
              "<div>\n",
              "<style scoped>\n",
              "    .dataframe tbody tr th:only-of-type {\n",
              "        vertical-align: middle;\n",
              "    }\n",
              "\n",
              "    .dataframe tbody tr th {\n",
              "        vertical-align: top;\n",
              "    }\n",
              "\n",
              "    .dataframe thead th {\n",
              "        text-align: right;\n",
              "    }\n",
              "</style>\n",
              "<table border=\"1\" class=\"dataframe\">\n",
              "  <thead>\n",
              "    <tr style=\"text-align: right;\">\n",
              "      <th></th>\n",
              "      <th>0</th>\n",
              "      <th>1</th>\n",
              "      <th>2</th>\n",
              "      <th>3</th>\n",
              "      <th>4</th>\n",
              "      <th>5</th>\n",
              "      <th>6</th>\n",
              "      <th>7</th>\n",
              "      <th>8</th>\n",
              "      <th>9</th>\n",
              "      <th>...</th>\n",
              "      <th>ENC1</th>\n",
              "      <th>ENC2</th>\n",
              "      <th>ENC3</th>\n",
              "      <th>ENC4</th>\n",
              "      <th>ENC5</th>\n",
              "      <th>BUTTON</th>\n",
              "      <th>SYNC</th>\n",
              "      <th>ts</th>\n",
              "      <th>gest</th>\n",
              "      <th>name</th>\n",
              "    </tr>\n",
              "  </thead>\n",
              "  <tbody>\n",
              "    <tr>\n",
              "      <th>0</th>\n",
              "      <td>6</td>\n",
              "      <td>3</td>\n",
              "      <td>11</td>\n",
              "      <td>2455</td>\n",
              "      <td>3160</td>\n",
              "      <td>1</td>\n",
              "      <td>1573</td>\n",
              "      <td>7</td>\n",
              "      <td>4</td>\n",
              "      <td>1</td>\n",
              "      <td>...</td>\n",
              "      <td>0</td>\n",
              "      <td>0</td>\n",
              "      <td>0</td>\n",
              "      <td>0</td>\n",
              "      <td>0</td>\n",
              "      <td>0</td>\n",
              "      <td>0</td>\n",
              "      <td>129186</td>\n",
              "      <td>0.0</td>\n",
              "      <td>12-24</td>\n",
              "    </tr>\n",
              "    <tr>\n",
              "      <th>1</th>\n",
              "      <td>6</td>\n",
              "      <td>0</td>\n",
              "      <td>12</td>\n",
              "      <td>2454</td>\n",
              "      <td>3158</td>\n",
              "      <td>1</td>\n",
              "      <td>1574</td>\n",
              "      <td>8</td>\n",
              "      <td>12</td>\n",
              "      <td>6</td>\n",
              "      <td>...</td>\n",
              "      <td>0</td>\n",
              "      <td>0</td>\n",
              "      <td>0</td>\n",
              "      <td>0</td>\n",
              "      <td>0</td>\n",
              "      <td>0</td>\n",
              "      <td>0</td>\n",
              "      <td>129219</td>\n",
              "      <td>0.0</td>\n",
              "      <td>12-24</td>\n",
              "    </tr>\n",
              "    <tr>\n",
              "      <th>2</th>\n",
              "      <td>10</td>\n",
              "      <td>2</td>\n",
              "      <td>13</td>\n",
              "      <td>2461</td>\n",
              "      <td>3165</td>\n",
              "      <td>1</td>\n",
              "      <td>1579</td>\n",
              "      <td>9</td>\n",
              "      <td>5</td>\n",
              "      <td>4</td>\n",
              "      <td>...</td>\n",
              "      <td>0</td>\n",
              "      <td>0</td>\n",
              "      <td>0</td>\n",
              "      <td>0</td>\n",
              "      <td>0</td>\n",
              "      <td>0</td>\n",
              "      <td>0</td>\n",
              "      <td>129252</td>\n",
              "      <td>0.0</td>\n",
              "      <td>12-24</td>\n",
              "    </tr>\n",
              "    <tr>\n",
              "      <th>3</th>\n",
              "      <td>5</td>\n",
              "      <td>4</td>\n",
              "      <td>10</td>\n",
              "      <td>2453</td>\n",
              "      <td>3160</td>\n",
              "      <td>11</td>\n",
              "      <td>1575</td>\n",
              "      <td>8</td>\n",
              "      <td>12</td>\n",
              "      <td>5</td>\n",
              "      <td>...</td>\n",
              "      <td>0</td>\n",
              "      <td>0</td>\n",
              "      <td>0</td>\n",
              "      <td>0</td>\n",
              "      <td>0</td>\n",
              "      <td>0</td>\n",
              "      <td>0</td>\n",
              "      <td>129285</td>\n",
              "      <td>0.0</td>\n",
              "      <td>12-24</td>\n",
              "    </tr>\n",
              "    <tr>\n",
              "      <th>4</th>\n",
              "      <td>7</td>\n",
              "      <td>3</td>\n",
              "      <td>15</td>\n",
              "      <td>2454</td>\n",
              "      <td>3157</td>\n",
              "      <td>1</td>\n",
              "      <td>1575</td>\n",
              "      <td>8</td>\n",
              "      <td>8</td>\n",
              "      <td>2</td>\n",
              "      <td>...</td>\n",
              "      <td>0</td>\n",
              "      <td>0</td>\n",
              "      <td>0</td>\n",
              "      <td>0</td>\n",
              "      <td>0</td>\n",
              "      <td>0</td>\n",
              "      <td>0</td>\n",
              "      <td>129318</td>\n",
              "      <td>0.0</td>\n",
              "      <td>12-24</td>\n",
              "    </tr>\n",
              "  </tbody>\n",
              "</table>\n",
              "<p>5 rows × 67 columns</p>\n",
              "</div>"
            ],
            "text/plain": [
              "    0  1   2     3     4   5     6  7   8  9  ...  ENC1  ENC2  ENC3  ENC4  \\\n",
              "0   6  3  11  2455  3160   1  1573  7   4  1  ...     0     0     0     0   \n",
              "1   6  0  12  2454  3158   1  1574  8  12  6  ...     0     0     0     0   \n",
              "2  10  2  13  2461  3165   1  1579  9   5  4  ...     0     0     0     0   \n",
              "3   5  4  10  2453  3160  11  1575  8  12  5  ...     0     0     0     0   \n",
              "4   7  3  15  2454  3157   1  1575  8   8  2  ...     0     0     0     0   \n",
              "\n",
              "   ENC5  BUTTON  SYNC      ts  gest   name  \n",
              "0     0       0     0  129186   0.0  12-24  \n",
              "1     0       0     0  129219   0.0  12-24  \n",
              "2     0       0     0  129252   0.0  12-24  \n",
              "3     0       0     0  129285   0.0  12-24  \n",
              "4     0       0     0  129318   0.0  12-24  \n",
              "\n",
              "[5 rows x 67 columns]"
            ]
          },
          "execution_count": 53,
          "metadata": {},
          "output_type": "execute_result"
        }
      ],
      "source": [
        "table_1.head()"
      ]
    },
    {
      "cell_type": "code",
      "execution_count": 54,
      "metadata": {
        "colab": {
          "base_uri": "https://localhost:8080/"
        },
        "id": "WMKizq2EVIGx",
        "outputId": "0ceab498-f469-4185-efc3-28735e15f61e"
      },
      "outputs": [
        {
          "data": {
            "text/plain": [
              "gest\n",
              "0.0    103628\n",
              "1.0     13266\n",
              "5.0     13246\n",
              "4.0     13238\n",
              "3.0     13228\n",
              "2.0     13184\n",
              "Name: count, dtype: int64"
            ]
          },
          "execution_count": 54,
          "metadata": {},
          "output_type": "execute_result"
        }
      ],
      "source": [
        "table_1['gest'].value_counts()"
      ]
    },
    {
      "cell_type": "code",
      "execution_count": 55,
      "metadata": {
        "id": "CjMi4Lp5VeXQ"
      },
      "outputs": [],
      "source": [
        "scaler = StandardScaler()"
      ]
    },
    {
      "cell_type": "code",
      "execution_count": 56,
      "metadata": {
        "colab": {
          "base_uri": "https://localhost:8080/"
        },
        "id": "i8WzTrrZW3ga",
        "outputId": "6f845c43-d366-4c53-9495-7a04db4ac8f9"
      },
      "outputs": [],
      "source": [
        "table_1.drop(columns = ['ENC1','ENC2','ENC3', 'ENC4', 'ENC5', 'BUTTON', 'SYNC', 'ts'], inplace=True)\n",
        "\n",
        "table_1_0 = table_1[table_1['gest'] == 0.0]\n",
        "table_1_1 = table_1[table_1['gest'] == 1.0]\n",
        "table_1_2 = table_1[table_1['gest'] == 2.0]\n",
        "table_1_3 = table_1[table_1['gest'] == 3.0]\n",
        "table_1_4 = table_1[table_1['gest'] == 4.0]\n",
        "table_1_5 = table_1[table_1['gest'] == 5.0]\n",
        "\n",
        "cols = ['0', '1', '2', '3', '4', '5', '6', '7', '8', '9', '10', '11', '12',\n",
        "       '13', '14', '15', '16', '17', '18', '19', '20', '21', '22', '23', '24',\n",
        "       '25', '26', '27', '28', '29', '30', '31', '32', '33', '34', '35', '36',\n",
        "       '37', '38', '39', '40', '41', '42', '43', '44', '45', '46', '47', '48',\n",
        "       '49', 'ACC0', 'ACC1', 'ACC2', 'GYR0', 'GYR1', 'GYR2', 'ENC0']\n",
        "table_1_0.loc[:, 'sum']= np.abs(table_1_0[cols]).diff().sum(axis=1)\n",
        "table_1_1.loc[:, 'sum']= np.abs(table_1_1[cols]).diff().sum(axis=1)\n",
        "table_1_2.loc[:, 'sum']= np.abs(table_1_2[cols]).diff().sum(axis=1)\n",
        "table_1_3.loc[:, 'sum']= np.abs(table_1_3[cols]).diff().sum(axis=1)\n",
        "table_1_4.loc[:, 'sum']= np.abs(table_1_4[cols]).diff().sum(axis=1)\n",
        "table_1_5.loc[:, 'sum']= np.abs(table_1_5[cols]).diff().sum(axis=1)\n",
        "table_1_0.drop(columns =cols, inplace = True)"
      ]
    },
    {
      "cell_type": "code",
      "execution_count": 58,
      "metadata": {
        "colab": {
          "base_uri": "https://localhost:8080/"
        },
        "id": "u16Q6_hVdkrj",
        "outputId": "74f6357c-e665-41b2-fc41-a0ad2029fe7a"
      },
      "outputs": [
        {
          "data": {
            "text/plain": [
              "name\n",
              "16-08    18898\n",
              "12-24    18862\n",
              "12-38    13295\n",
              "43-11    13278\n",
              "30-15    13178\n",
              "53-01    13065\n",
              "34-17    13052\n",
              "Name: count, dtype: int64"
            ]
          },
          "execution_count": 58,
          "metadata": {},
          "output_type": "execute_result"
        }
      ],
      "source": [
        "table_1_0['name'].value_counts()"
      ]
    },
    {
      "cell_type": "code",
      "execution_count": 59,
      "metadata": {
        "colab": {
          "base_uri": "https://localhost:8080/",
          "height": 471
        },
        "id": "mnwIBsZJs7P9",
        "outputId": "9bd46774-3075-48ea-88cc-dbae6440bf6d"
      },
      "outputs": [
        {
          "data": {
            "text/plain": [
              "<AxesSubplot:>"
            ]
          },
          "execution_count": 59,
          "metadata": {},
          "output_type": "execute_result"
        },
        {
          "data": {
            "image/png": "[encoded data removed]",
            "text/plain": [
              "<Figure size 432x288 with 1 Axes>"
            ]
          },
          "metadata": {
            "needs_background": "light"
          },
          "output_type": "display_data"
        }
      ],
      "source": [
        "table_1_0[table_1_0['name'] == '12-24']['sum'].plot()\n",
        "table_1_0[table_1_0['name'] == '30-15']['sum'].plot()\n",
        "table_1_0[table_1_0['name'] == '16-08']['sum'].plot()\n",
        "table_1_0[table_1_0['name'] == '43-11']['sum'].plot()"
      ]
    },
    {
      "cell_type": "markdown",
      "metadata": {
        "id": "1WTxlV3NEt_W"
      },
      "source": [
        "## DBSCAN"
      ]
    },
    {
      "cell_type": "code",
      "execution_count": 60,
      "metadata": {
        "id": "Y7BUnzCD2bTA"
      },
      "outputs": [],
      "source": [
        "dbscan = DBSCAN()"
      ]
    },
    {
      "cell_type": "code",
      "execution_count": 61,
      "metadata": {
        "colab": {
          "base_uri": "https://localhost:8080/",
          "height": 831
        },
        "id": "zK9tVmfB2ipX",
        "outputId": "39465068-362b-4b08-ff36-ffc7fce93066"
      },
      "outputs": [
        {
          "data": {
            "text/html": [
              "<div>\n",
              "<style scoped>\n",
              "    .dataframe tbody tr th:only-of-type {\n",
              "        vertical-align: middle;\n",
              "    }\n",
              "\n",
              "    .dataframe tbody tr th {\n",
              "        vertical-align: top;\n",
              "    }\n",
              "\n",
              "    .dataframe thead th {\n",
              "        text-align: right;\n",
              "    }\n",
              "</style>\n",
              "<table border=\"1\" class=\"dataframe\">\n",
              "  <thead>\n",
              "    <tr style=\"text-align: right;\">\n",
              "      <th></th>\n",
              "      <th>gest</th>\n",
              "      <th>name</th>\n",
              "      <th>sum</th>\n",
              "      <th>prediction_dbscan_1</th>\n",
              "    </tr>\n",
              "  </thead>\n",
              "  <tbody>\n",
              "    <tr>\n",
              "      <th>0</th>\n",
              "      <td>0.0</td>\n",
              "      <td>12-24</td>\n",
              "      <td>0.0</td>\n",
              "      <td>0</td>\n",
              "    </tr>\n",
              "    <tr>\n",
              "      <th>1</th>\n",
              "      <td>0.0</td>\n",
              "      <td>12-24</td>\n",
              "      <td>72.0</td>\n",
              "      <td>1</td>\n",
              "    </tr>\n",
              "    <tr>\n",
              "      <th>2</th>\n",
              "      <td>0.0</td>\n",
              "      <td>12-24</td>\n",
              "      <td>18.0</td>\n",
              "      <td>2</td>\n",
              "    </tr>\n",
              "    <tr>\n",
              "      <th>3</th>\n",
              "      <td>0.0</td>\n",
              "      <td>12-24</td>\n",
              "      <td>-6.0</td>\n",
              "      <td>3</td>\n",
              "    </tr>\n",
              "    <tr>\n",
              "      <th>4</th>\n",
              "      <td>0.0</td>\n",
              "      <td>12-24</td>\n",
              "      <td>31.0</td>\n",
              "      <td>4</td>\n",
              "    </tr>\n",
              "  </tbody>\n",
              "</table>\n",
              "</div>"
            ],
            "text/plain": [
              "   gest   name   sum  prediction_dbscan_1\n",
              "0   0.0  12-24   0.0                    0\n",
              "1   0.0  12-24  72.0                    1\n",
              "2   0.0  12-24  18.0                    2\n",
              "3   0.0  12-24  -6.0                    3\n",
              "4   0.0  12-24  31.0                    4"
            ]
          },
          "execution_count": 61,
          "metadata": {},
          "output_type": "execute_result"
        }
      ],
      "source": [
        "table_1_0['prediction_dbscan_1'] = dbscan.fit_predict(table_1_0['sum'].values.reshape(-1, 1))\n",
        "table_1_1['prediction_dbscan_1'] = dbscan.fit_predict(table_1_1['sum'].values.reshape(-1, 1))\n",
        "table_1_2['prediction_dbscan_1'] = dbscan.fit_predict(table_1_2['sum'].values.reshape(-1, 1))\n",
        "table_1_3['prediction_dbscan_1'] = dbscan.fit_predict(table_1_3['sum'].values.reshape(-1, 1))\n",
        "table_1_4['prediction_dbscan_1'] = dbscan.fit_predict(table_1_4['sum'].values.reshape(-1, 1))\n",
        "table_1_5['prediction_dbscan_1'] = dbscan.fit_predict(table_1_5['sum'].values.reshape(-1, 1))\n",
        "table_1_0.head()"
      ]
    },
    {
      "cell_type": "markdown",
      "metadata": {},
      "source": [
        "# 1 пилот"
      ]
    },
    {
      "cell_type": "code",
      "execution_count": 62,
      "metadata": {
        "id": "2_oSYdhMAOPb"
      },
      "outputs": [
        {
          "data": {
            "text/plain": [
              "name\n",
              "43-11    1718\n",
              "34-17    1675\n",
              "30-15    1376\n",
              "53-01    1019\n",
              "16-08     879\n",
              "12-38     829\n",
              "12-24     476\n",
              "Name: count, dtype: int64"
            ]
          },
          "execution_count": 62,
          "metadata": {},
          "output_type": "execute_result"
        }
      ],
      "source": [
        "table_dbscan_1 = pd.concat([table_1_0,table_1_1,table_1_2,table_1_3,table_1_4,table_1_5], ignore_index= True)\n",
        "table_dbscan_1[table_dbscan_1.prediction_dbscan_1 < 0]['name'].value_counts()"
      ]
    },
    {
      "cell_type": "markdown",
      "metadata": {
        "id": "3h7vHTA6PaRb"
      },
      "source": [
        "# 2 пилот"
      ]
    },
    {
      "cell_type": "code",
      "execution_count": 63,
      "metadata": {
        "colab": {
          "base_uri": "https://localhost:8080/"
        },
        "id": "LqXz4qMmEfWq",
        "outputId": "9a12abc6-4864-4a80-8614-556254d98f0c"
      },
      "outputs": [
        {
          "name": "stdout",
          "output_type": "stream",
          "text": [
            "name\n",
            "04-02    2831\n",
            "04-29    2311\n",
            "22-01    2188\n",
            "59-23    1194\n",
            "44-02     904\n",
            "55-22     642\n",
            "52-30     364\n",
            "23-02     264\n",
            "Name: count, dtype: int64\n"
          ]
        },
        {
          "data": {
            "text/plain": [
              "name\n",
              "03-50    1713\n",
              "14-05    1677\n",
              "20-47    1422\n",
              "06-44    1413\n",
              "14-41    1135\n",
              "46-37     769\n",
              "55-22     609\n",
              "11-45     475\n",
              "08-46     397\n",
              "16-21     280\n",
              "07-13     276\n",
              "05-29     108\n",
              "Name: count, dtype: int64"
            ]
          },
          "execution_count": 63,
          "metadata": {},
          "output_type": "execute_result"
        }
      ],
      "source": [
        "table_2.drop(columns = ['ENC1','ENC2','ENC3', 'ENC4', 'ENC5', 'BUTTON', 'SYNC', 'ts'], inplace=True)\n",
        "table_2 = table_2[:120000]\n",
        "\n",
        "table_2_0 = table_2[table_2['gest'] == 0.0][:100000]\n",
        "table_2_1 = table_2[table_2['gest'] == 1.0][:100000]\n",
        "table_2_2 = table_2[table_2['gest'] == 2.0][:100000]\n",
        "table_2_3 = table_2[table_2['gest'] == 3.0][:100000]\n",
        "table_2_4 = table_2[table_2['gest'] == 4.0][:100000]\n",
        "table_2_5 = table_2[table_2['gest'] == 5.0][:100000]\n",
        "\n",
        "table_2_0.loc[:, 'sum']= np.abs(table_2_0[cols]).diff().sum(axis=1)\n",
        "table_2_1.loc[:, 'sum']= np.abs(table_2_1[cols]).diff().sum(axis=1)\n",
        "table_2_2.loc[:, 'sum']= np.abs(table_2_2[cols]).diff().sum(axis=1)\n",
        "table_2_3.loc[:, 'sum']= np.abs(table_2_3[cols]).diff().sum(axis=1)\n",
        "table_2_4.loc[:, 'sum']= np.abs(table_2_4[cols]).diff().sum(axis=1)\n",
        "table_2_5.loc[:, 'sum']= np.abs(table_2_5[cols]).diff().sum(axis=1)\n",
        "table_2_0.drop(columns =cols, inplace = True)\n",
        "\n",
        "table_2_0['prediction_dbscan_2'] = dbscan.fit_predict(table_2_0['sum'].values.reshape(-1, 1))\n",
        "table_2_1['prediction_dbscan_2'] = dbscan.fit_predict(table_2_1['sum'].values.reshape(-1, 1))\n",
        "table_2_2['prediction_dbscan_2'] = dbscan.fit_predict(table_2_2['sum'].values.reshape(-1, 1))\n",
        "table_2_3['prediction_dbscan_2'] = dbscan.fit_predict(table_2_3['sum'].values.reshape(-1, 1))\n",
        "table_2_4['prediction_dbscan_2'] = dbscan.fit_predict(table_2_4['sum'].values.reshape(-1, 1))\n",
        "table_2_5['prediction_dbscan_2'] = dbscan.fit_predict(table_2_5['sum'].values.reshape(-1, 1))\n",
        "\n",
        "table_dbscan_2 = pd.concat([table_2_0,table_2_1,table_2_2,table_2_3,table_2_4,table_2_5], ignore_index= True) \n",
        "\n",
        "print(table_dbscan_2[table_dbscan_2.prediction_dbscan_2 < 0]['name'].value_counts())\n",
        "\n",
        "table_2 = pd.read_pickle('/home/user/Загрузки/table_2')\n",
        "table_2.drop(columns = ['ENC1','ENC2','ENC3', 'ENC4', 'ENC5', 'BUTTON', 'SYNC', 'ts'], inplace=True)\n",
        "table_2 = table_2[120001:250000]\n",
        "\n",
        "table_2_0 = table_2[table_2['gest'] == 0.0]\n",
        "table_2_1 = table_2[table_2['gest'] == 1.0]\n",
        "table_2_2 = table_2[table_2['gest'] == 2.0]\n",
        "table_2_3 = table_2[table_2['gest'] == 3.0]\n",
        "table_2_4 = table_2[table_2['gest'] == 4.0]\n",
        "table_2_5 = table_2[table_2['gest'] == 5.0]\n",
        "\n",
        "table_2_0.loc[:, 'sum']= np.abs(table_2_0[cols]).diff().sum(axis=1)\n",
        "table_2_1.loc[:, 'sum']= np.abs(table_2_1[cols]).diff().sum(axis=1)\n",
        "table_2_2.loc[:, 'sum']= np.abs(table_2_2[cols]).diff().sum(axis=1)\n",
        "table_2_3.loc[:, 'sum']= np.abs(table_2_3[cols]).diff().sum(axis=1)\n",
        "table_2_4.loc[:, 'sum']= np.abs(table_2_4[cols]).diff().sum(axis=1)\n",
        "table_2_5.loc[:, 'sum']= np.abs(table_2_5[cols]).diff().sum(axis=1)\n",
        "table_2_0.drop(columns =cols, inplace = True)\n",
        "\n",
        "table_2_0['prediction_dbscan_2'] = dbscan.fit_predict(table_2_0['sum'].values.reshape(-1, 1))\n",
        "table_2_1['prediction_dbscan_2'] = dbscan.fit_predict(table_2_1['sum'].values.reshape(-1, 1))\n",
        "table_2_2['prediction_dbscan_2'] = dbscan.fit_predict(table_2_2['sum'].values.reshape(-1, 1))\n",
        "table_2_3['prediction_dbscan_2'] = dbscan.fit_predict(table_2_3['sum'].values.reshape(-1, 1))\n",
        "table_2_4['prediction_dbscan_2'] = dbscan.fit_predict(table_2_4['sum'].values.reshape(-1, 1))\n",
        "table_2_5['prediction_dbscan_2'] = dbscan.fit_predict(table_2_5['sum'].values.reshape(-1, 1))\n",
        "\n",
        "table_dbscan_2 = pd.concat([table_2_0,table_2_1,table_2_2,table_2_3,table_2_4,table_2_5], ignore_index= True)\n",
        "# table_dbscan_2 = pd.concat([table_2_0, table_2_2,table_2_3,table_2_4,table_2_5], ignore_index= True)\n",
        "\n",
        "table_dbscan_2[table_dbscan_2.prediction_dbscan_2 < 0]['name'].value_counts()"
      ]
    },
    {
      "cell_type": "markdown",
      "metadata": {},
      "source": [
        "# 3 пилот"
      ]
    },
    {
      "cell_type": "code",
      "execution_count": 64,
      "metadata": {
        "id": "C7kUm1AQRFgz"
      },
      "outputs": [
        {
          "data": {
            "text/plain": [
              "name\n",
              "train    3656\n",
              "54-27    3126\n",
              "19-05    1739\n",
              "17-00    1544\n",
              "Name: count, dtype: int64"
            ]
          },
          "execution_count": 64,
          "metadata": {},
          "output_type": "execute_result"
        }
      ],
      "source": [
        "table_3.drop(columns = ['ENC1','ENC2','ENC3', 'ENC4', 'ENC5', 'BUTTON', 'SYNC', 'ts'], inplace=True)\n",
        "\n",
        "table_3_0 = table_3[table_3['gest'] == 0.0]\n",
        "table_3_1 = table_3[table_3['gest'] == 1.0]\n",
        "table_3_2 = table_3[table_3['gest'] == 2.0]\n",
        "table_3_3 = table_3[table_3['gest'] == 3.0]\n",
        "table_3_4 = table_3[table_3['gest'] == 4.0]\n",
        "table_3_5 = table_3[table_3['gest'] == 5.0]\n",
        "\n",
        "table_3_0.loc[:, 'sum']= np.abs(table_3_0[cols]).diff().sum(axis=1)\n",
        "table_3_1.loc[:, 'sum']= np.abs(table_3_1[cols]).diff().sum(axis=1)\n",
        "table_3_2.loc[:, 'sum']= np.abs(table_3_2[cols]).diff().sum(axis=1)\n",
        "table_3_3.loc[:, 'sum']= np.abs(table_3_3[cols]).diff().sum(axis=1)\n",
        "table_3_4.loc[:, 'sum']= np.abs(table_3_4[cols]).diff().sum(axis=1)\n",
        "table_3_5.loc[:, 'sum']= np.abs(table_3_5[cols]).diff().sum(axis=1)\n",
        "table_3_0.drop(columns =cols, inplace = True)\n",
        "\n",
        "table_3_0['prediction_dbscan_3'] = dbscan.fit_predict(table_3_0['sum'].values.reshape(-1, 1))\n",
        "table_3_1['prediction_dbscan_3'] = dbscan.fit_predict(table_3_1['sum'].values.reshape(-1, 1))\n",
        "table_3_2['prediction_dbscan_3'] = dbscan.fit_predict(table_3_2['sum'].values.reshape(-1, 1))\n",
        "table_3_3['prediction_dbscan_3'] = dbscan.fit_predict(table_3_3['sum'].values.reshape(-1, 1))\n",
        "table_3_4['prediction_dbscan_3'] = dbscan.fit_predict(table_3_4['sum'].values.reshape(-1, 1))\n",
        "table_3_5['prediction_dbscan_3'] = dbscan.fit_predict(table_3_5['sum'].values.reshape(-1, 1))\n",
        "\n",
        "table_dbscan_3 = pd.concat([table_3_0,table_3_1,table_3_2,table_3_3,table_3_4,table_3_5], ignore_index= True)\n",
        "\n",
        "table_dbscan_3[table_dbscan_3.prediction_dbscan_3 < 0]['name'].value_counts()"
      ]
    },
    {
      "cell_type": "markdown",
      "metadata": {},
      "source": [
        "# 4 пилот"
      ]
    },
    {
      "cell_type": "code",
      "execution_count": 65,
      "metadata": {
        "id": "R2Gf9zsjRP-H"
      },
      "outputs": [
        {
          "data": {
            "text/plain": [
              "name\n",
              "57-30    5232\n",
              "Name: count, dtype: int64"
            ]
          },
          "execution_count": 65,
          "metadata": {},
          "output_type": "execute_result"
        }
      ],
      "source": [
        "table_4.drop(columns = ['ENC1','ENC2','ENC3', 'ENC4', 'ENC5', 'BUTTON', 'SYNC', 'ts'], inplace=True)\n",
        "\n",
        "table_4_0 = table_4[table_4['gest'] == 0.0]\n",
        "table_4_1 = table_4[table_4['gest'] == 1.0]\n",
        "table_4_2 = table_4[table_4['gest'] == 2.0]\n",
        "table_4_3 = table_4[table_4['gest'] == 3.0]\n",
        "table_4_4 = table_4[table_4['gest'] == 4.0]\n",
        "table_4_5 = table_4[table_4['gest'] == 5.0]\n",
        "\n",
        "table_4_0.loc[:, 'sum']= np.abs(table_4_0[cols]).diff().sum(axis=1)\n",
        "table_4_1.loc[:, 'sum']= np.abs(table_4_1[cols]).diff().sum(axis=1)\n",
        "table_4_2.loc[:, 'sum']= np.abs(table_4_2[cols]).diff().sum(axis=1)\n",
        "table_4_3.loc[:, 'sum']= np.abs(table_4_3[cols]).diff().sum(axis=1)\n",
        "table_4_4.loc[:, 'sum']= np.abs(table_4_4[cols]).diff().sum(axis=1)\n",
        "table_4_5.loc[:, 'sum']= np.abs(table_4_5[cols]).diff().sum(axis=1)\n",
        "table_4_0.drop(columns =cols, inplace = True)\n",
        "\n",
        "table_4_0['prediction_dbscan_4'] = dbscan.fit_predict(table_4_0['sum'].values.reshape(-1, 1))\n",
        "table_4_1['prediction_dbscan_4'] = dbscan.fit_predict(table_4_1['sum'].values.reshape(-1, 1))\n",
        "table_4_2['prediction_dbscan_4'] = dbscan.fit_predict(table_4_2['sum'].values.reshape(-1, 1))\n",
        "table_4_3['prediction_dbscan_4'] = dbscan.fit_predict(table_4_3['sum'].values.reshape(-1, 1))\n",
        "table_4_4['prediction_dbscan_4'] = dbscan.fit_predict(table_4_4['sum'].values.reshape(-1, 1))\n",
        "table_4_5['prediction_dbscan_4'] = dbscan.fit_predict(table_4_5['sum'].values.reshape(-1, 1))\n",
        "\n",
        "table_dbscan_4 = pd.concat([table_4_0,table_4_1,table_4_2,table_4_3,table_4_4,table_4_5], ignore_index= True)\n",
        "\n",
        "table_dbscan_4[table_dbscan_4.prediction_dbscan_4 < 0]['name'].value_counts()"
      ]
    },
    {
      "cell_type": "markdown",
      "metadata": {},
      "source": [
        "Вывод:\n",
        "С помощью метода DBSCAN больше всего аномалий обнаружилось в наблюдениях 2023-05-05_17-57-30.palm (5232), 2023-04-18_19-08-47 gestures train.palm(3656), 2023-05-07_16-54-27.palm(3126), 2023-05-19_12-04-02.palm(2831). "
      ]
    },
    {
      "cell_type": "markdown",
      "metadata": {
        "id": "U56nARVMEgbc"
      },
      "source": [
        "## Агломеративная кластеризация"
      ]
    },
    {
      "cell_type": "code",
      "execution_count": null,
      "metadata": {},
      "outputs": [],
      "source": [
        "# table_1 = pd.read_pickle('/home/user/Загрузки/table_1') \n",
        "# table_2 = pd.read_pickle('/home/user/Загрузки/table_2') \n",
        "# table_3 = pd.read_pickle('/home/user/Загрузки/table_3') \n",
        "# table_4 = pd.read_pickle('/home/user/Загрузки/table_4') \n",
        "\n",
        "# table_1.drop(columns = ['ENC1','ENC2','ENC3', 'ENC4', 'ENC5', 'BUTTON', 'SYNC', 'ts'], inplace=True)\n",
        "\n",
        "# table_1_0 = table_1[table_1['gest'] == 0.0]\n",
        "# table_1_1 = table_1[table_1['gest'] == 1.0]\n",
        "# table_1_2 = table_1[table_1['gest'] == 2.0]\n",
        "# table_1_3 = table_1[table_1['gest'] == 3.0]\n",
        "# table_1_4 = table_1[table_1['gest'] == 4.0]\n",
        "# table_1_5 = table_1[table_1['gest'] == 5.0]\n",
        "\n",
        "# cols = ['0', '1', '2', '3', '4', '5', '6', '7', '8', '9', '10', '11', '12',\n",
        "#        '13', '14', '15', '16', '17', '18', '19', '20', '21', '22', '23', '24',\n",
        "#        '25', '26', '27', '28', '29', '30', '31', '32', '33', '34', '35', '36',\n",
        "#        '37', '38', '39', '40', '41', '42', '43', '44', '45', '46', '47', '48',\n",
        "#        '49', 'ACC0', 'ACC1', 'ACC2', 'GYR0', 'GYR1', 'GYR2', 'ENC0']\n",
        "# table_1_0.loc[:, 'sum']= scaler.fit_transform(table_1_0[cols]).sum(axis=1)\n",
        "# table_1_1.loc[:, 'sum']= scaler.fit_transform(table_1_1[cols]).sum(axis=1)\n",
        "# table_1_2.loc[:, 'sum']= scaler.fit_transform(table_1_2[cols]).sum(axis=1)\n",
        "# table_1_3.loc[:, 'sum']= scaler.fit_transform(table_1_3[cols]).sum(axis=1)\n",
        "# table_1_4.loc[:, 'sum']= scaler.fit_transform(table_1_4[cols]).sum(axis=1)\n",
        "# table_1_5.loc[:, 'sum']= scaler.fit_transform(table_1_5[cols]).sum(axis=1)\n",
        "# table_1_0.drop(columns =cols, inplace = True)"
      ]
    },
    {
      "cell_type": "code",
      "execution_count": null,
      "metadata": {},
      "outputs": [],
      "source": [
        "# table_1_0['sum'] = table_1_0['sum'].astype(int)\n",
        "# table_1_0"
      ]
    },
    {
      "cell_type": "code",
      "execution_count": null,
      "metadata": {
        "id": "USeBrcvbEU7Z"
      },
      "outputs": [],
      "source": [
        "# agglom = AgglomerativeClustering()"
      ]
    },
    {
      "cell_type": "code",
      "execution_count": null,
      "metadata": {
        "id": "7jgOB3x3EbuG"
      },
      "outputs": [],
      "source": [
        "# table_1_0['sum'] = table_1_0['sum'].astype(int)\n",
        "# table_1_0['prediction_agglom_1'] = agglom.fit_predict(table_1_0['sum'].values.reshape(-1, 1))\n",
        "# table_1_1['prediction_agglom_1'] = agglom.fit_predict(table_1_1['sum'].values.reshape(-1, 1))\n",
        "# table_1_2['prediction_agglom_1'] = agglom.fit_predict(table_1_2['sum'].values.reshape(-1, 1))\n",
        "# table_1_3['prediction_agglom_1'] = agglom.fit_predict(table_1_3['sum'].values.reshape(-1, 1))\n",
        "# table_1_4['prediction_agglom_1'] = agglom.fit_predict(table_1_4['sum'].values.reshape(-1, 1))\n",
        "# table_1_5['prediction_agglom_1'] = agglom.fit_predict(table_1_5['sum'].values.reshape(-1, 1))\n",
        "# table_1_0.head()"
      ]
    },
    {
      "cell_type": "code",
      "execution_count": null,
      "metadata": {
        "id": "3G2YeC0yFCmm"
      },
      "outputs": [],
      "source": [
        "# table_agglom_1 = pd.concat([table_1_0,table_1_1,table_1_2,table_1_3,table_1_4,table_1_5], ignore_index= True)"
      ]
    },
    {
      "cell_type": "code",
      "execution_count": null,
      "metadata": {
        "id": "XPyLo0SxGGeg"
      },
      "outputs": [],
      "source": [
        "# valcount = table_agglom_1['prediction_agglom_1'].value_counts()\n",
        "# valcount = set(valcount[valcount == 1].index)\n",
        "# table_agglom_1[table_agglom_1.prediction_agglom_1.isin(valcount)]['name'].value_counts()"
      ]
    },
    {
      "cell_type": "markdown",
      "metadata": {},
      "source": [
        "# KMeans"
      ]
    },
    {
      "cell_type": "code",
      "execution_count": null,
      "metadata": {},
      "outputs": [],
      "source": [
        "table_1 = pd.read_pickle('/home/user/Загрузки/table_1') \n",
        "table_2 = pd.read_pickle('/home/user/Загрузки/table_2') \n",
        "table_3 = pd.read_pickle('/home/user/Загрузки/table_3') \n",
        "table_4 = pd.read_pickle('/home/user/Загрузки/table_4') \n",
        "\n",
        "table_1.drop(columns = ['ENC1','ENC2','ENC3', 'ENC4', 'ENC5', 'BUTTON', 'SYNC', 'ts'], inplace=True)\n",
        "\n",
        "le = LabelEncoder()\n",
        "table_1['name'] = le.fit_transform(table_1['name'])\n",
        "table_2['name'] = le.fit_transform(table_2['name'])\n",
        "table_3['name'] = le.fit_transform(table_3['name'])\n",
        "table_4['name'] = le.fit_transform(table_4['name'])\n",
        "\n",
        "table_1_0 = table_1[table_1['gest'] == 0.0]\n",
        "table_1_1 = table_1[table_1['gest'] == 1.0]\n",
        "table_1_2 = table_1[table_1['gest'] == 2.0]\n",
        "table_1_3 = table_1[table_1['gest'] == 3.0]\n",
        "table_1_4 = table_1[table_1['gest'] == 4.0]\n",
        "table_1_5 = table_1[table_1['gest'] == 5.0]\n",
        "\n",
        "cols = ['0', '1', '2', '3', '4', '5', '6', '7', '8', '9', '10', '11', '12',\n",
        "       '13', '14', '15', '16', '17', '18', '19', '20', '21', '22', '23', '24',\n",
        "       '25', '26', '27', '28', '29', '30', '31', '32', '33', '34', '35', '36',\n",
        "       '37', '38', '39', '40', '41', '42', '43', '44', '45', '46', '47', '48',\n",
        "       '49', 'ACC0', 'ACC1', 'ACC2', 'GYR0', 'GYR1', 'GYR2', 'ENC0']\n",
        "table_1.loc[:, 'sum']= scaler.fit_transform(table_1[cols]).sum(axis=1)\n",
        "table_2.loc[:, 'sum']= scaler.fit_transform(table_2[cols]).sum(axis=1)\n",
        "table_3.loc[:, 'sum']= scaler.fit_transform(table_3[cols]).sum(axis=1)\n",
        "table_4.loc[:, 'sum']= scaler.fit_transform(table_4[cols]).sum(axis=1)\n",
        "\n",
        "table_1.loc[:, 'sum']= np.abs(table_1[cols]).diff().sum(axis=1)\n",
        "table_2.loc[:, 'sum']= np.abs(table_1[cols]).diff().sum(axis=1)\n",
        "table_3.loc[:, 'sum']= np.abs(table_1[cols]).diff().sum(axis=1)\n",
        "table_4.loc[:, 'sum']= np.abs(table_1[cols]).diff().sum(axis=1)\n",
        "\n",
        "table_1.drop(columns=cols, inplace = True)\n",
        "table_2.drop(columns=cols, inplace = True)\n",
        "table_3.drop(columns=cols, inplace = True)\n",
        "table_4.drop(columns=cols, inplace = True)"
      ]
    },
    {
      "cell_type": "code",
      "execution_count": null,
      "metadata": {},
      "outputs": [],
      "source": [
        "from sklearn.decomposition import PCA\n",
        "from sklearn.cluster import KMeans"
      ]
    },
    {
      "cell_type": "code",
      "execution_count": null,
      "metadata": {},
      "outputs": [
        {
          "name": "stdout",
          "output_type": "stream",
          "text": [
            "<class 'pandas.core.frame.DataFrame'>\n",
            "Index: 169790 entries, 0 to 22360\n",
            "Data columns (total 3 columns):\n",
            " #   Column  Non-Null Count   Dtype  \n",
            "---  ------  --------------   -----  \n",
            " 0   gest    169790 non-null  float64\n",
            " 1   name    169790 non-null  int64  \n",
            " 2   sum     169790 non-null  float64\n",
            "dtypes: float64(2), int64(1)\n",
            "memory usage: 5.2 MB\n"
          ]
        }
      ],
      "source": [
        "table_1.info()"
      ]
    },
    {
      "cell_type": "code",
      "execution_count": null,
      "metadata": {},
      "outputs": [],
      "source": [
        "# Уменьшим количество компонент\n",
        "pca = PCA(n_components=2)\n",
        "data = pca.fit_transform(table_1)\n",
        "\n",
        "min_max_scaler = MinMaxScaler().fit(data)\n",
        "np_scaled = min_max_scaler.transform(data)\n",
        "data = pd.DataFrame(np_scaled).fillna(0)"
      ]
    },
    {
      "cell_type": "code",
      "execution_count": null,
      "metadata": {},
      "outputs": [
        {
          "name": "stderr",
          "output_type": "stream",
          "text": [
            "Exception ignored on calling ctypes callback function: <function _ThreadpoolInfo._find_modules_with_dl_iterate_phdr.<locals>.match_module_callback at 0x7fa5882b4e50>\n",
            "Traceback (most recent call last):\n",
            "  File \"/home/user/anaconda3/lib/python3.9/site-packages/threadpoolctl.py\", line 400, in match_module_callback\n",
            "    self._make_module_from_path(filepath)\n",
            "  File \"/home/user/anaconda3/lib/python3.9/site-packages/threadpoolctl.py\", line 515, in _make_module_from_path\n",
            "    module = module_class(filepath, prefix, user_api, internal_api)\n",
            "  File \"/home/user/anaconda3/lib/python3.9/site-packages/threadpoolctl.py\", line 606, in __init__\n",
            "    self.version = self.get_version()\n",
            "  File \"/home/user/anaconda3/lib/python3.9/site-packages/threadpoolctl.py\", line 646, in get_version\n",
            "    config = get_config().split()\n",
            "AttributeError: 'NoneType' object has no attribute 'split'\n",
            "Exception ignored on calling ctypes callback function: <function _ThreadpoolInfo._find_modules_with_dl_iterate_phdr.<locals>.match_module_callback at 0x7fa5882b4e50>\n",
            "Traceback (most recent call last):\n",
            "  File \"/home/user/anaconda3/lib/python3.9/site-packages/threadpoolctl.py\", line 400, in match_module_callback\n",
            "    self._make_module_from_path(filepath)\n",
            "  File \"/home/user/anaconda3/lib/python3.9/site-packages/threadpoolctl.py\", line 515, in _make_module_from_path\n",
            "    module = module_class(filepath, prefix, user_api, internal_api)\n",
            "  File \"/home/user/anaconda3/lib/python3.9/site-packages/threadpoolctl.py\", line 606, in __init__\n",
            "    self.version = self.get_version()\n",
            "  File \"/home/user/anaconda3/lib/python3.9/site-packages/threadpoolctl.py\", line 646, in get_version\n",
            "    config = get_config().split()\n",
            "AttributeError: 'NoneType' object has no attribute 'split'\n",
            "Exception ignored on calling ctypes callback function: <function _ThreadpoolInfo._find_modules_with_dl_iterate_phdr.<locals>.match_module_callback at 0x7fa5882b4e50>\n",
            "Traceback (most recent call last):\n",
            "  File \"/home/user/anaconda3/lib/python3.9/site-packages/threadpoolctl.py\", line 400, in match_module_callback\n",
            "    self._make_module_from_path(filepath)\n",
            "  File \"/home/user/anaconda3/lib/python3.9/site-packages/threadpoolctl.py\", line 515, in _make_module_from_path\n",
            "    module = module_class(filepath, prefix, user_api, internal_api)\n",
            "  File \"/home/user/anaconda3/lib/python3.9/site-packages/threadpoolctl.py\", line 606, in __init__\n",
            "    self.version = self.get_version()\n",
            "  File \"/home/user/anaconda3/lib/python3.9/site-packages/threadpoolctl.py\", line 646, in get_version\n",
            "    config = get_config().split()\n",
            "AttributeError: 'NoneType' object has no attribute 'split'\n",
            "Exception ignored on calling ctypes callback function: <function _ThreadpoolInfo._find_modules_with_dl_iterate_phdr.<locals>.match_module_callback at 0x7fa5885621f0>\n",
            "Traceback (most recent call last):\n",
            "  File \"/home/user/anaconda3/lib/python3.9/site-packages/threadpoolctl.py\", line 400, in match_module_callback\n",
            "    self._make_module_from_path(filepath)\n",
            "  File \"/home/user/anaconda3/lib/python3.9/site-packages/threadpoolctl.py\", line 515, in _make_module_from_path\n",
            "    module = module_class(filepath, prefix, user_api, internal_api)\n",
            "  File \"/home/user/anaconda3/lib/python3.9/site-packages/threadpoolctl.py\", line 606, in __init__\n",
            "    self.version = self.get_version()\n",
            "  File \"/home/user/anaconda3/lib/python3.9/site-packages/threadpoolctl.py\", line 646, in get_version\n",
            "    config = get_config().split()\n",
            "AttributeError: 'NoneType' object has no attribute 'split'\n",
            "Exception ignored on calling ctypes callback function: <function _ThreadpoolInfo._find_modules_with_dl_iterate_phdr.<locals>.match_module_callback at 0x7fa5885621f0>\n",
            "Traceback (most recent call last):\n",
            "  File \"/home/user/anaconda3/lib/python3.9/site-packages/threadpoolctl.py\", line 400, in match_module_callback\n",
            "    self._make_module_from_path(filepath)\n",
            "  File \"/home/user/anaconda3/lib/python3.9/site-packages/threadpoolctl.py\", line 515, in _make_module_from_path\n",
            "    module = module_class(filepath, prefix, user_api, internal_api)\n",
            "  File \"/home/user/anaconda3/lib/python3.9/site-packages/threadpoolctl.py\", line 606, in __init__\n",
            "    self.version = self.get_version()\n",
            "  File \"/home/user/anaconda3/lib/python3.9/site-packages/threadpoolctl.py\", line 646, in get_version\n",
            "    config = get_config().split()\n",
            "AttributeError: 'NoneType' object has no attribute 'split'\n",
            "Exception ignored on calling ctypes callback function: <function _ThreadpoolInfo._find_modules_with_dl_iterate_phdr.<locals>.match_module_callback at 0x7fa5882b4e50>\n",
            "Traceback (most recent call last):\n",
            "  File \"/home/user/anaconda3/lib/python3.9/site-packages/threadpoolctl.py\", line 400, in match_module_callback\n",
            "    self._make_module_from_path(filepath)\n",
            "  File \"/home/user/anaconda3/lib/python3.9/site-packages/threadpoolctl.py\", line 515, in _make_module_from_path\n",
            "    module = module_class(filepath, prefix, user_api, internal_api)\n",
            "  File \"/home/user/anaconda3/lib/python3.9/site-packages/threadpoolctl.py\", line 606, in __init__\n",
            "    self.version = self.get_version()\n",
            "  File \"/home/user/anaconda3/lib/python3.9/site-packages/threadpoolctl.py\", line 646, in get_version\n",
            "    config = get_config().split()\n",
            "AttributeError: 'NoneType' object has no attribute 'split'\n",
            "Exception ignored on calling ctypes callback function: <function _ThreadpoolInfo._find_modules_with_dl_iterate_phdr.<locals>.match_module_callback at 0x7fa5885621f0>\n",
            "Traceback (most recent call last):\n",
            "  File \"/home/user/anaconda3/lib/python3.9/site-packages/threadpoolctl.py\", line 400, in match_module_callback\n",
            "    self._make_module_from_path(filepath)\n",
            "  File \"/home/user/anaconda3/lib/python3.9/site-packages/threadpoolctl.py\", line 515, in _make_module_from_path\n",
            "    module = module_class(filepath, prefix, user_api, internal_api)\n",
            "  File \"/home/user/anaconda3/lib/python3.9/site-packages/threadpoolctl.py\", line 606, in __init__\n",
            "    self.version = self.get_version()\n",
            "  File \"/home/user/anaconda3/lib/python3.9/site-packages/threadpoolctl.py\", line 646, in get_version\n",
            "    config = get_config().split()\n",
            "AttributeError: 'NoneType' object has no attribute 'split'\n",
            "Exception ignored on calling ctypes callback function: <function _ThreadpoolInfo._find_modules_with_dl_iterate_phdr.<locals>.match_module_callback at 0x7fa5882b4e50>\n",
            "Traceback (most recent call last):\n",
            "  File \"/home/user/anaconda3/lib/python3.9/site-packages/threadpoolctl.py\", line 400, in match_module_callback\n",
            "    self._make_module_from_path(filepath)\n",
            "  File \"/home/user/anaconda3/lib/python3.9/site-packages/threadpoolctl.py\", line 515, in _make_module_from_path\n",
            "    module = module_class(filepath, prefix, user_api, internal_api)\n",
            "  File \"/home/user/anaconda3/lib/python3.9/site-packages/threadpoolctl.py\", line 606, in __init__\n",
            "    self.version = self.get_version()\n",
            "  File \"/home/user/anaconda3/lib/python3.9/site-packages/threadpoolctl.py\", line 646, in get_version\n",
            "    config = get_config().split()\n",
            "AttributeError: 'NoneType' object has no attribute 'split'\n"
          ]
        },
        {
          "name": "stderr",
          "output_type": "stream",
          "text": [
            "Exception ignored on calling ctypes callback function: <function _ThreadpoolInfo._find_modules_with_dl_iterate_phdr.<locals>.match_module_callback at 0x7fa5885621f0>\n",
            "Traceback (most recent call last):\n",
            "  File \"/home/user/anaconda3/lib/python3.9/site-packages/threadpoolctl.py\", line 400, in match_module_callback\n",
            "    self._make_module_from_path(filepath)\n",
            "  File \"/home/user/anaconda3/lib/python3.9/site-packages/threadpoolctl.py\", line 515, in _make_module_from_path\n",
            "    module = module_class(filepath, prefix, user_api, internal_api)\n",
            "  File \"/home/user/anaconda3/lib/python3.9/site-packages/threadpoolctl.py\", line 606, in __init__\n",
            "    self.version = self.get_version()\n",
            "  File \"/home/user/anaconda3/lib/python3.9/site-packages/threadpoolctl.py\", line 646, in get_version\n",
            "    config = get_config().split()\n",
            "AttributeError: 'NoneType' object has no attribute 'split'\n",
            "Exception ignored on calling ctypes callback function: <function _ThreadpoolInfo._find_modules_with_dl_iterate_phdr.<locals>.match_module_callback at 0x7fa5882b4e50>\n",
            "Traceback (most recent call last):\n",
            "  File \"/home/user/anaconda3/lib/python3.9/site-packages/threadpoolctl.py\", line 400, in match_module_callback\n",
            "    self._make_module_from_path(filepath)\n",
            "  File \"/home/user/anaconda3/lib/python3.9/site-packages/threadpoolctl.py\", line 515, in _make_module_from_path\n",
            "    module = module_class(filepath, prefix, user_api, internal_api)\n",
            "  File \"/home/user/anaconda3/lib/python3.9/site-packages/threadpoolctl.py\", line 606, in __init__\n",
            "    self.version = self.get_version()\n",
            "  File \"/home/user/anaconda3/lib/python3.9/site-packages/threadpoolctl.py\", line 646, in get_version\n",
            "    config = get_config().split()\n",
            "AttributeError: 'NoneType' object has no attribute 'split'\n"
          ]
        },
        {
          "data": {
            "image/png": "[encoded data removed]",
            "text/plain": [
              "<Figure size 432x288 with 1 Axes>"
            ]
          },
          "metadata": {
            "needs_background": "light"
          },
          "output_type": "display_data"
        }
      ],
      "source": [
        "# создаем список количества кластеров 1-19\n",
        "n_cluster = range(1, 10)\n",
        "#подберем оптимальное число кластеров k-means\n",
        "#для этого обучим алгоритм KMeans для заданных чисел кластеров\n",
        "kmeans = [KMeans(n_clusters=j).fit(data) for j in n_cluster]\n",
        "# получим отрицательную инерцию(score) для разных значений кластеров\n",
        "scores = [km.score(data) for km in kmeans]\n",
        "\n",
        "#Подберём число кластеров\n",
        "fig, ax = plt.subplots()\n",
        "ax.plot(n_cluster, scores)\n",
        "\n",
        "ax.scatter(n_cluster, scores)\n",
        "\n",
        "ax.set(xlim=(0, 10), xticks=np.arange(1, 10))\n",
        "\n",
        "plt.title(\"Зависимость KMeans-scores от числа кластеров\")\n",
        "plt.xlabel(\"Число кластеров\")\n",
        "plt.ylabel(\"Отрицательная инерция(KMeans-scores)\")\n",
        "plt.show()"
      ]
    },
    {
      "cell_type": "code",
      "execution_count": null,
      "metadata": {},
      "outputs": [],
      "source": [
        "kmeans = KMeans(n_clusters=4).fit(data)"
      ]
    },
    {
      "cell_type": "code",
      "execution_count": null,
      "metadata": {},
      "outputs": [
        {
          "data": {
            "text/plain": [
              "cluster\n",
              "0    46055\n",
              "1    44579\n",
              "2    44561\n",
              "3    34595\n",
              "Name: count, dtype: int64"
            ]
          },
          "execution_count": 143,
          "metadata": {},
          "output_type": "execute_result"
        }
      ],
      "source": [
        "# кластеризуем подготовленные данные\n",
        "table_1['cluster'] = kmeans.predict(data)\n",
        "\n",
        "# разделим главные компоненты\n",
        "table_1['principal_feature1'] = data[0]\n",
        "table_1['principal_feature2'] = data[1]\n",
        "\n",
        "# определим количество наблюдений в каждом кластере\n",
        "table_1['cluster'].value_counts()"
      ]
    },
    {
      "cell_type": "code",
      "execution_count": null,
      "metadata": {},
      "outputs": [
        {
          "data": {
            "text/html": [
              "<div>\n",
              "<style scoped>\n",
              "    .dataframe tbody tr th:only-of-type {\n",
              "        vertical-align: middle;\n",
              "    }\n",
              "\n",
              "    .dataframe tbody tr th {\n",
              "        vertical-align: top;\n",
              "    }\n",
              "\n",
              "    .dataframe thead th {\n",
              "        text-align: right;\n",
              "    }\n",
              "</style>\n",
              "<table border=\"1\" class=\"dataframe\">\n",
              "  <thead>\n",
              "    <tr style=\"text-align: right;\">\n",
              "      <th></th>\n",
              "      <th>gest</th>\n",
              "      <th>name</th>\n",
              "      <th>sum</th>\n",
              "      <th>cluster</th>\n",
              "      <th>principal_feature1</th>\n",
              "      <th>principal_feature2</th>\n",
              "    </tr>\n",
              "  </thead>\n",
              "  <tbody>\n",
              "    <tr>\n",
              "      <th>0</th>\n",
              "      <td>0.0</td>\n",
              "      <td>0</td>\n",
              "      <td>0.0</td>\n",
              "      <td>0</td>\n",
              "      <td>0.451989</td>\n",
              "      <td>0.001262</td>\n",
              "    </tr>\n",
              "    <tr>\n",
              "      <th>1</th>\n",
              "      <td>0.0</td>\n",
              "      <td>0</td>\n",
              "      <td>72.0</td>\n",
              "      <td>0</td>\n",
              "      <td>0.456868</td>\n",
              "      <td>0.001407</td>\n",
              "    </tr>\n",
              "    <tr>\n",
              "      <th>2</th>\n",
              "      <td>0.0</td>\n",
              "      <td>0</td>\n",
              "      <td>18.0</td>\n",
              "      <td>0</td>\n",
              "      <td>0.453209</td>\n",
              "      <td>0.001298</td>\n",
              "    </tr>\n",
              "    <tr>\n",
              "      <th>3</th>\n",
              "      <td>0.0</td>\n",
              "      <td>0</td>\n",
              "      <td>-6.0</td>\n",
              "      <td>0</td>\n",
              "      <td>0.451582</td>\n",
              "      <td>0.001249</td>\n",
              "    </tr>\n",
              "    <tr>\n",
              "      <th>4</th>\n",
              "      <td>0.0</td>\n",
              "      <td>0</td>\n",
              "      <td>31.0</td>\n",
              "      <td>0</td>\n",
              "      <td>0.454090</td>\n",
              "      <td>0.001324</td>\n",
              "    </tr>\n",
              "    <tr>\n",
              "      <th>...</th>\n",
              "      <td>...</td>\n",
              "      <td>...</td>\n",
              "      <td>...</td>\n",
              "      <td>...</td>\n",
              "      <td>...</td>\n",
              "      <td>...</td>\n",
              "    </tr>\n",
              "    <tr>\n",
              "      <th>22356</th>\n",
              "      <td>2.0</td>\n",
              "      <td>3</td>\n",
              "      <td>52.0</td>\n",
              "      <td>2</td>\n",
              "      <td>0.441689</td>\n",
              "      <td>0.000954</td>\n",
              "    </tr>\n",
              "    <tr>\n",
              "      <th>22357</th>\n",
              "      <td>2.0</td>\n",
              "      <td>3</td>\n",
              "      <td>222.0</td>\n",
              "      <td>2</td>\n",
              "      <td>0.462967</td>\n",
              "      <td>0.076945</td>\n",
              "    </tr>\n",
              "    <tr>\n",
              "      <th>22358</th>\n",
              "      <td>2.0</td>\n",
              "      <td>3</td>\n",
              "      <td>32.0</td>\n",
              "      <td>2</td>\n",
              "      <td>0.448194</td>\n",
              "      <td>0.076504</td>\n",
              "    </tr>\n",
              "    <tr>\n",
              "      <th>22359</th>\n",
              "      <td>2.0</td>\n",
              "      <td>3</td>\n",
              "      <td>348.0</td>\n",
              "      <td>2</td>\n",
              "      <td>0.447855</td>\n",
              "      <td>0.076493</td>\n",
              "    </tr>\n",
              "    <tr>\n",
              "      <th>22360</th>\n",
              "      <td>2.0</td>\n",
              "      <td>3</td>\n",
              "      <td>225.0</td>\n",
              "      <td>2</td>\n",
              "      <td>0.451447</td>\n",
              "      <td>0.076601</td>\n",
              "    </tr>\n",
              "  </tbody>\n",
              "</table>\n",
              "<p>169790 rows × 6 columns</p>\n",
              "</div>"
            ],
            "text/plain": [
              "       gest  name    sum  cluster  principal_feature1  principal_feature2\n",
              "0       0.0     0    0.0        0            0.451989            0.001262\n",
              "1       0.0     0   72.0        0            0.456868            0.001407\n",
              "2       0.0     0   18.0        0            0.453209            0.001298\n",
              "3       0.0     0   -6.0        0            0.451582            0.001249\n",
              "4       0.0     0   31.0        0            0.454090            0.001324\n",
              "...     ...   ...    ...      ...                 ...                 ...\n",
              "22356   2.0     3   52.0        2            0.441689            0.000954\n",
              "22357   2.0     3  222.0        2            0.462967            0.076945\n",
              "22358   2.0     3   32.0        2            0.448194            0.076504\n",
              "22359   2.0     3  348.0        2            0.447855            0.076493\n",
              "22360   2.0     3  225.0        2            0.451447            0.076601\n",
              "\n",
              "[169790 rows x 6 columns]"
            ]
          },
          "execution_count": 144,
          "metadata": {},
          "output_type": "execute_result"
        }
      ],
      "source": [
        "table_1"
      ]
    },
    {
      "cell_type": "code",
      "execution_count": null,
      "metadata": {},
      "outputs": [
        {
          "data": {
            "image/png": "[encoded data removed]",
            "text/plain": [
              "<Figure size 432x288 with 1 Axes>"
            ]
          },
          "metadata": {
            "needs_background": "light"
          },
          "output_type": "display_data"
        }
      ],
      "source": [
        "# визуализируем полученные кластеры\n",
        "fig, ax = plt.subplots()\n",
        "# data5 = data.iloc[7262:7264,:]\n",
        "colors = {0:'red', 1:'blue', 2:'green', 3:'pink', 4:'black', 5:'orange', 6:'cyan', 7:'yellow', 8:'brown', 9:'purple', 10:'white', 11: 'grey', 12:'lightblue', 13:'lightgreen', 14: 'darkgrey'}\n",
        "ax.scatter(table_1['principal_feature1'], table_1['principal_feature2'], c=table_1[\"cluster\"].apply(lambda x: colors[x]))\n",
        "ax.scatter(kmeans.cluster_centers_[:,0], kmeans.cluster_centers_[:,1], c = 'black')\n",
        "plt.show()"
      ]
    },
    {
      "cell_type": "code",
      "execution_count": null,
      "metadata": {},
      "outputs": [],
      "source": [
        "# Несколько вспомогательных методов\n",
        "\n",
        "def getDistanceByPoint(data, model):\n",
        "    \"\"\"Расчет расстояний от точек до центров кластеров\n",
        "\n",
        "    Args:\n",
        "        data (DataFrame): подготовленные данные\n",
        "        model (sklearn.cluster.KMeans): обученная модель KMeans\n",
        "\n",
        "    Returns:\n",
        "       Series: Список расстояний до центров кластеров\n",
        "    \"\"\"\n",
        "    # список расстояний\n",
        "    distance = []\n",
        "    # для каждого наблюдения\n",
        "    for i in range(0,len(data)):\n",
        "        # координаты признака данного наблюдения\n",
        "        Xa = np.array(data.loc[i])\n",
        "        # координаты центра кластера данного наблюдения\n",
        "        Xb = model.cluster_centers_[model.labels_[i]]\n",
        "        # рассчитываем норму(длину) вектора от исходной точки до центра кластера\n",
        "        distance.append(np.linalg.norm(Xa-Xb))\n",
        "    distance = pd.Series(distance)\n",
        "    return distance"
      ]
    },
    {
      "cell_type": "code",
      "execution_count": null,
      "metadata": {},
      "outputs": [
        {
          "data": {
            "text/html": [
              "<div>\n",
              "<style scoped>\n",
              "    .dataframe tbody tr th:only-of-type {\n",
              "        vertical-align: middle;\n",
              "    }\n",
              "\n",
              "    .dataframe tbody tr th {\n",
              "        vertical-align: top;\n",
              "    }\n",
              "\n",
              "    .dataframe thead th {\n",
              "        text-align: right;\n",
              "    }\n",
              "</style>\n",
              "<table border=\"1\" class=\"dataframe\">\n",
              "  <thead>\n",
              "    <tr style=\"text-align: right;\">\n",
              "      <th></th>\n",
              "      <th>0</th>\n",
              "      <th>1</th>\n",
              "    </tr>\n",
              "  </thead>\n",
              "  <tbody>\n",
              "    <tr>\n",
              "      <th>0</th>\n",
              "      <td>0.451989</td>\n",
              "      <td>0.001262</td>\n",
              "    </tr>\n",
              "    <tr>\n",
              "      <th>1</th>\n",
              "      <td>0.456868</td>\n",
              "      <td>0.001407</td>\n",
              "    </tr>\n",
              "    <tr>\n",
              "      <th>2</th>\n",
              "      <td>0.453209</td>\n",
              "      <td>0.001298</td>\n",
              "    </tr>\n",
              "    <tr>\n",
              "      <th>3</th>\n",
              "      <td>0.451582</td>\n",
              "      <td>0.001249</td>\n",
              "    </tr>\n",
              "    <tr>\n",
              "      <th>4</th>\n",
              "      <td>0.454090</td>\n",
              "      <td>0.001324</td>\n",
              "    </tr>\n",
              "    <tr>\n",
              "      <th>...</th>\n",
              "      <td>...</td>\n",
              "      <td>...</td>\n",
              "    </tr>\n",
              "    <tr>\n",
              "      <th>169785</th>\n",
              "      <td>0.455513</td>\n",
              "      <td>0.491794</td>\n",
              "    </tr>\n",
              "    <tr>\n",
              "      <th>169786</th>\n",
              "      <td>0.467033</td>\n",
              "      <td>0.492138</td>\n",
              "    </tr>\n",
              "    <tr>\n",
              "      <th>169787</th>\n",
              "      <td>0.454157</td>\n",
              "      <td>0.491754</td>\n",
              "    </tr>\n",
              "    <tr>\n",
              "      <th>169788</th>\n",
              "      <td>0.475571</td>\n",
              "      <td>0.492394</td>\n",
              "    </tr>\n",
              "    <tr>\n",
              "      <th>169789</th>\n",
              "      <td>0.467236</td>\n",
              "      <td>0.492145</td>\n",
              "    </tr>\n",
              "  </tbody>\n",
              "</table>\n",
              "<p>169790 rows × 2 columns</p>\n",
              "</div>"
            ],
            "text/plain": [
              "               0         1\n",
              "0       0.451989  0.001262\n",
              "1       0.456868  0.001407\n",
              "2       0.453209  0.001298\n",
              "3       0.451582  0.001249\n",
              "4       0.454090  0.001324\n",
              "...          ...       ...\n",
              "169785  0.455513  0.491794\n",
              "169786  0.467033  0.492138\n",
              "169787  0.454157  0.491754\n",
              "169788  0.475571  0.492394\n",
              "169789  0.467236  0.492145\n",
              "\n",
              "[169790 rows x 2 columns]"
            ]
          },
          "execution_count": 147,
          "metadata": {},
          "output_type": "execute_result"
        }
      ],
      "source": [
        "data"
      ]
    },
    {
      "cell_type": "code",
      "execution_count": null,
      "metadata": {},
      "outputs": [],
      "source": [
        "# определим дистанции от точек до центров соседних кластеров\n",
        "distance = getDistanceByPoint(data, kmeans)\n",
        "# доля выбросов\n",
        "outliers_fraction = 0.2\n",
        "# количество выбросов\n",
        "number_of_outliers = int(outliers_fraction*len(distance))\n",
        "# минимальное значение из 72 наибольших значений дистанции\n",
        "threshold = distance.nlargest(number_of_outliers).min()\n",
        "\n",
        "# Считаем точку аномалией, если расстояние до центра кластера больше порога\n",
        "table_1['anomaly21'] = (distance >= threshold).astype(int)\n",
        "\n",
        "# # визуализируем аномалии на точечном графике\n",
        "# fig, ax = plt.subplots()\n",
        "# colors = {0:'blue', 1:'red'}\n",
        "# # окрашиваем точки в зависимости от того, аномалия это или нет\n",
        "# ax.scatter(table_1['principal_feature1'], table_1['principal_feature2'], c=table_1[\"anomaly21\"].apply(lambda x: colors[x]))\n",
        "# ax.scatter(kmeans.cluster_centers_[0], kmeans.cluster_centers_[1], c = 'black')\n",
        "# plt.show()\n",
        "# # визуализируем аномалии на точечном графике\n",
        "# fig, ax = plt.subplots()\n",
        "# a = table_1.loc[table_1['anomaly21'] == 1, ['sum']] #данные об аномальных наблюдениях\n"
      ]
    },
    {
      "cell_type": "code",
      "execution_count": null,
      "metadata": {},
      "outputs": [
        {
          "data": {
            "image/png": "[encoded data removed]",
            "text/plain": [
              "<Figure size 432x288 with 1 Axes>"
            ]
          },
          "metadata": {
            "needs_background": "light"
          },
          "output_type": "display_data"
        }
      ],
      "source": [
        "# визуализируем аномалии на точечном графике\n",
        "fig, ax = plt.subplots()\n",
        "colors = {0:'blue', 1:'red'}\n",
        "# окрашиваем точки в зависимости от того, аномалия это или нет\n",
        "ax.scatter(table_1['principal_feature1'], table_1['principal_feature2'], c=table_1[\"anomaly21\"].apply(lambda x: colors[x]))\n",
        "ax.scatter(kmeans.cluster_centers_[0], kmeans.cluster_centers_[1], c = 'black')\n",
        "plt.show()"
      ]
    },
    {
      "cell_type": "code",
      "execution_count": null,
      "metadata": {},
      "outputs": [
        {
          "data": {
            "image/png": "[encoded data removed]",
            "text/plain": [
              "<Figure size 432x288 with 1 Axes>"
            ]
          },
          "metadata": {
            "needs_background": "light"
          },
          "output_type": "display_data"
        }
      ],
      "source": [
        "fig, ax = plt.subplots()\n",
        "a = table_1.loc[table_1['anomaly21'] == 1, ['sum']] #данные об аномальных наблюдениях\n",
        "# линейный график наблюдений\n",
        "ax.plot(table_1['sum'], color='blue')\n",
        "# точечный график аномалий\n",
        "ax.scatter(a.index, a['sum'], color='red')\n",
        "plt.show()"
      ]
    },
    {
      "cell_type": "code",
      "execution_count": null,
      "metadata": {},
      "outputs": [
        {
          "data": {
            "text/plain": [
              "name\n",
              "2    1\n",
              "Name: count, dtype: int64"
            ]
          },
          "execution_count": 151,
          "metadata": {},
          "output_type": "execute_result"
        }
      ],
      "source": [
        "table_1[table_1['anomaly21'] == 1]['name'].value_counts()"
      ]
    },
    {
      "cell_type": "markdown",
      "metadata": {},
      "source": [
        "# Метод Тьюки "
      ]
    },
    {
      "cell_type": "code",
      "execution_count": null,
      "metadata": {},
      "outputs": [],
      "source": [
        "table_1 = pd.read_pickle('/home/user/Загрузки/table_1') \n",
        "table_2 = pd.read_pickle('/home/user/Загрузки/table_2') \n",
        "table_3 = pd.read_pickle('/home/user/Загрузки/table_3') \n",
        "table_4 = pd.read_pickle('/home/user/Загрузки/table_4') \n",
        "\n",
        "table_1.drop(columns = ['ENC1','ENC2','ENC3', 'ENC4', 'ENC5', 'BUTTON', 'SYNC', 'ts'], inplace=True)\n",
        "\n",
        "cols = ['0', '1', '2', '3', '4', '5', '6', '7', '8', '9', '10', '11', '12',\n",
        "       '13', '14', '15', '16', '17', '18', '19', '20', '21', '22', '23', '24',\n",
        "       '25', '26', '27', '28', '29', '30', '31', '32', '33', '34', '35', '36',\n",
        "       '37', '38', '39', '40', '41', '42', '43', '44', '45', '46', '47', '48',\n",
        "       '49', 'ACC0', 'ACC1', 'ACC2', 'GYR0', 'GYR1', 'GYR2', 'ENC0']\n",
        "\n",
        "table_1.loc[:, 'sum']= np.abs(table_1[cols]).diff().sum(axis=1)\n",
        "table_2.loc[:, 'sum']= np.abs(table_2[cols]).diff().sum(axis=1)\n",
        "table_3.loc[:, 'sum']= np.abs(table_3[cols]).diff().sum(axis=1)\n",
        "table_4.loc[:, 'sum']= np.abs(table_4[cols]).diff().sum(axis=1)\n"
      ]
    },
    {
      "cell_type": "code",
      "execution_count": null,
      "metadata": {},
      "outputs": [
        {
          "name": "stdout",
          "output_type": "stream",
          "text": [
            "[('43-11', 1774), ('34-17', 1545), ('30-15', 1211)]\n",
            "Число выбросов по методу Тьюки: 6835\n",
            "Результирующее число записей: 162955\n"
          ]
        },
        {
          "name": "stdout",
          "output_type": "stream",
          "text": [
            "[('04-02', 4273), ('04-29', 3356), ('22-01', 2685)]\n",
            "Число выбросов по методу Тьюки: 26693\n",
            "Результирующее число записей: 225972\n",
            "[('54-27', 2600), ('train', 2520), ('19-05', 1119)]\n",
            "Число выбросов по методу Тьюки: 6895\n",
            "Результирующее число записей: 70107\n",
            "[('57-30', 1285)]\n",
            "Число выбросов по методу Тьюки: 1285\n",
            "Результирующее число записей: 25363\n"
          ]
        }
      ],
      "source": [
        "from collections import Counter\n",
        "\n",
        "def outliers_iqr(data, feature):\n",
        "    name_outliers= []\n",
        "    x = data[feature]\n",
        "    quartile_1, quartile_3 = x.quantile(0.25), x.quantile(0.75),\n",
        "    iqr = quartile_3 - quartile_1\n",
        "    lower_bound = quartile_1 - (iqr * 1.5)\n",
        "    upper_bound = quartile_3 + (iqr * 1.5)\n",
        "    outliers = data[(x < lower_bound) | (x > upper_bound)]\n",
        "    name_outliers = Counter(outliers['name'])\n",
        "    cleaned = data[(x >= lower_bound) & (x <= upper_bound)]\n",
        "    return outliers, cleaned, name_outliers.most_common(3)\n",
        "\n",
        "# data = pd.DataFrame(data)\n",
        "outliers_abs, cleaned, name_outliers = outliers_iqr(table_1, 'sum')\n",
        "print(name_outliers)\n",
        "print(f'Число выбросов по методу Тьюки: {outliers_abs.shape[0]}')\n",
        "print(f'Результирующее число записей: {cleaned.shape[0]}')\n",
        "\n",
        "outliers_abs, cleaned, name_outliers = outliers_iqr(table_2, 'sum')\n",
        "print(name_outliers)\n",
        "print(f'Число выбросов по методу Тьюки: {outliers_abs.shape[0]}')\n",
        "print(f'Результирующее число записей: {cleaned.shape[0]}')\n",
        "\n",
        "outliers_abs, cleaned, name_outliers = outliers_iqr(table_3, 'sum')\n",
        "print(name_outliers)\n",
        "print(f'Число выбросов по методу Тьюки: {outliers_abs.shape[0]}')\n",
        "print(f'Результирующее число записей: {cleaned.shape[0]}')\n",
        "\n",
        "outliers_abs, cleaned, name_outliers = outliers_iqr(table_4, 'sum')\n",
        "print(name_outliers)\n",
        "print(f'Число выбросов по методу Тьюки: {outliers_abs.shape[0]}')\n",
        "print(f'Результирующее число записей: {cleaned.shape[0]}')"
      ]
    },
    {
      "cell_type": "markdown",
      "metadata": {},
      "source": [
        "Вывод:\n",
        "С помощью метода Тьюки больше всего аномалий обнаружилось в наблюдениях 2023-05-19_12-04-02.palm(4273), 2023-05-22_17-04-29.palm(3356), 2023-05-22_20-22-01.palm(2685), 2023-05-07_16-54-27.palm(2600), "
      ]
    }
  ],
  "metadata": {
    "colab": {
      "provenance": [],
      "toc_visible": true
    },
    "kernelspec": {
      "display_name": "Python 3",
      "name": "python3"
    },
    "language_info": {
      "codemirror_mode": {
        "name": "ipython",
        "version": 3
      },
      "file_extension": ".py",
      "mimetype": "text/x-python",
      "name": "python",
      "nbconvert_exporter": "python",
      "pygments_lexer": "ipython3",
      "version": "3.9.7"
    }
  },
  "nbformat": 4,
  "nbformat_minor": 0
}
