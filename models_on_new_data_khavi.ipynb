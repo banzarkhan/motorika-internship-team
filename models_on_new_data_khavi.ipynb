{
 "cells": [
  {
   "cell_type": "code",
   "execution_count": 1,
   "metadata": {
    "tags": []
   },
   "outputs": [],
   "source": [
    "import numpy as np\n",
    "import pandas as pd\n",
    "from matplotlib import pyplot as plt\n",
    "from sklearn import decomposition\n",
    "from sklearn import preprocessing\n",
    "from sklearn import model_selection\n",
    "from sklearn import metrics\n",
    "from sklearn import naive_bayes\n",
    "from sklearn import linear_model\n",
    "from sklearn import svm\n",
    "from sklearn import neighbors\n",
    "from sklearn import neural_network\n",
    "from sklearn import tree\n",
    "from sklearn import ensemble\n",
    "\n",
    "from scipy import signal\n",
    "import warnings\n",
    "import xgboost as xgb\n",
    "import catboost as cb\n",
    "import optuna\n",
    "from tqdm import tqdm\n",
    "import joblib"
   ]
  },
  {
   "cell_type": "markdown",
   "metadata": {},
   "source": [
    "# IO utils\n"
   ]
  },
  {
   "cell_type": "markdown",
   "metadata": {},
   "source": [
    "# Data"
   ]
  },
  {
   "cell_type": "code",
   "execution_count": 2,
   "metadata": {
    "tags": []
   },
   "outputs": [
    {
     "name": "stdout",
     "output_type": "stream",
     "text": [
      "(2545, 56)\n"
     ]
    },
    {
     "data": {
      "text/html": [
       "<div>\n",
       "<style scoped>\n",
       "    .dataframe tbody tr th:only-of-type {\n",
       "        vertical-align: middle;\n",
       "    }\n",
       "\n",
       "    .dataframe tbody tr th {\n",
       "        vertical-align: top;\n",
       "    }\n",
       "\n",
       "    .dataframe thead th {\n",
       "        text-align: right;\n",
       "    }\n",
       "</style>\n",
       "<table border=\"1\" class=\"dataframe\">\n",
       "  <thead>\n",
       "    <tr style=\"text-align: right;\">\n",
       "      <th></th>\n",
       "      <th>ts</th>\n",
       "      <th>td</th>\n",
       "      <th>0</th>\n",
       "      <th>1</th>\n",
       "      <th>2</th>\n",
       "      <th>3</th>\n",
       "      <th>4</th>\n",
       "      <th>5</th>\n",
       "      <th>6</th>\n",
       "      <th>7</th>\n",
       "      <th>...</th>\n",
       "      <th>44</th>\n",
       "      <th>45</th>\n",
       "      <th>46</th>\n",
       "      <th>47</th>\n",
       "      <th>48</th>\n",
       "      <th>49</th>\n",
       "      <th>prot</th>\n",
       "      <th>state</th>\n",
       "      <th>id</th>\n",
       "      <th>now</th>\n",
       "    </tr>\n",
       "  </thead>\n",
       "  <tbody>\n",
       "    <tr>\n",
       "      <th>0</th>\n",
       "      <td>134045.0</td>\n",
       "      <td>33.0</td>\n",
       "      <td>2931.0</td>\n",
       "      <td>2943.0</td>\n",
       "      <td>2932.0</td>\n",
       "      <td>2921.0</td>\n",
       "      <td>2933.0</td>\n",
       "      <td>2934.0</td>\n",
       "      <td>2934.0</td>\n",
       "      <td>2931.0</td>\n",
       "      <td>...</td>\n",
       "      <td>2974.0</td>\n",
       "      <td>2975.0</td>\n",
       "      <td>2975.0</td>\n",
       "      <td>2973.0</td>\n",
       "      <td>2978.0</td>\n",
       "      <td>2969.0</td>\n",
       "      <td>1</td>\n",
       "      <td>Neutral</td>\n",
       "      <td>0</td>\n",
       "      <td>5.02</td>\n",
       "    </tr>\n",
       "    <tr>\n",
       "      <th>1</th>\n",
       "      <td>134078.0</td>\n",
       "      <td>33.0</td>\n",
       "      <td>2931.0</td>\n",
       "      <td>2943.0</td>\n",
       "      <td>2932.0</td>\n",
       "      <td>2921.0</td>\n",
       "      <td>2933.0</td>\n",
       "      <td>2934.0</td>\n",
       "      <td>2933.0</td>\n",
       "      <td>2931.0</td>\n",
       "      <td>...</td>\n",
       "      <td>2975.0</td>\n",
       "      <td>2975.0</td>\n",
       "      <td>2975.0</td>\n",
       "      <td>2973.0</td>\n",
       "      <td>2978.0</td>\n",
       "      <td>2969.0</td>\n",
       "      <td>1</td>\n",
       "      <td>Neutral</td>\n",
       "      <td>0</td>\n",
       "      <td>5.05</td>\n",
       "    </tr>\n",
       "    <tr>\n",
       "      <th>2</th>\n",
       "      <td>134111.0</td>\n",
       "      <td>33.0</td>\n",
       "      <td>2931.0</td>\n",
       "      <td>2943.0</td>\n",
       "      <td>2932.0</td>\n",
       "      <td>2921.0</td>\n",
       "      <td>2933.0</td>\n",
       "      <td>2934.0</td>\n",
       "      <td>2934.0</td>\n",
       "      <td>2931.0</td>\n",
       "      <td>...</td>\n",
       "      <td>2975.0</td>\n",
       "      <td>2975.0</td>\n",
       "      <td>2975.0</td>\n",
       "      <td>2974.0</td>\n",
       "      <td>2978.0</td>\n",
       "      <td>2969.0</td>\n",
       "      <td>1</td>\n",
       "      <td>Neutral</td>\n",
       "      <td>0</td>\n",
       "      <td>5.08</td>\n",
       "    </tr>\n",
       "    <tr>\n",
       "      <th>3</th>\n",
       "      <td>134144.0</td>\n",
       "      <td>33.0</td>\n",
       "      <td>2931.0</td>\n",
       "      <td>2943.0</td>\n",
       "      <td>2932.0</td>\n",
       "      <td>2920.0</td>\n",
       "      <td>2933.0</td>\n",
       "      <td>2935.0</td>\n",
       "      <td>2934.0</td>\n",
       "      <td>2932.0</td>\n",
       "      <td>...</td>\n",
       "      <td>2974.0</td>\n",
       "      <td>2975.0</td>\n",
       "      <td>2975.0</td>\n",
       "      <td>2973.0</td>\n",
       "      <td>2978.0</td>\n",
       "      <td>2969.0</td>\n",
       "      <td>1</td>\n",
       "      <td>Neutral</td>\n",
       "      <td>0</td>\n",
       "      <td>5.12</td>\n",
       "    </tr>\n",
       "    <tr>\n",
       "      <th>4</th>\n",
       "      <td>134177.0</td>\n",
       "      <td>33.0</td>\n",
       "      <td>2931.0</td>\n",
       "      <td>2943.0</td>\n",
       "      <td>2932.0</td>\n",
       "      <td>2920.0</td>\n",
       "      <td>2934.0</td>\n",
       "      <td>2934.0</td>\n",
       "      <td>2934.0</td>\n",
       "      <td>2931.0</td>\n",
       "      <td>...</td>\n",
       "      <td>2975.0</td>\n",
       "      <td>2975.0</td>\n",
       "      <td>2975.0</td>\n",
       "      <td>2973.0</td>\n",
       "      <td>2978.0</td>\n",
       "      <td>2969.0</td>\n",
       "      <td>1</td>\n",
       "      <td>Neutral</td>\n",
       "      <td>0</td>\n",
       "      <td>5.15</td>\n",
       "    </tr>\n",
       "  </tbody>\n",
       "</table>\n",
       "<p>5 rows × 56 columns</p>\n",
       "</div>"
      ],
      "text/plain": [
       "         ts    td       0       1       2       3       4       5       6  \\\n",
       "0  134045.0  33.0  2931.0  2943.0  2932.0  2921.0  2933.0  2934.0  2934.0   \n",
       "1  134078.0  33.0  2931.0  2943.0  2932.0  2921.0  2933.0  2934.0  2933.0   \n",
       "2  134111.0  33.0  2931.0  2943.0  2932.0  2921.0  2933.0  2934.0  2934.0   \n",
       "3  134144.0  33.0  2931.0  2943.0  2932.0  2920.0  2933.0  2935.0  2934.0   \n",
       "4  134177.0  33.0  2931.0  2943.0  2932.0  2920.0  2934.0  2934.0  2934.0   \n",
       "\n",
       "        7  ...      44      45      46      47      48      49  prot    state  \\\n",
       "0  2931.0  ...  2974.0  2975.0  2975.0  2973.0  2978.0  2969.0     1  Neutral   \n",
       "1  2931.0  ...  2975.0  2975.0  2975.0  2973.0  2978.0  2969.0     1  Neutral   \n",
       "2  2931.0  ...  2975.0  2975.0  2975.0  2974.0  2978.0  2969.0     1  Neutral   \n",
       "3  2932.0  ...  2974.0  2975.0  2975.0  2973.0  2978.0  2969.0     1  Neutral   \n",
       "4  2931.0  ...  2975.0  2975.0  2975.0  2973.0  2978.0  2969.0     1  Neutral   \n",
       "\n",
       "   id   now  \n",
       "0   0  5.02  \n",
       "1   0  5.05  \n",
       "2   0  5.08  \n",
       "3   0  5.12  \n",
       "4   0  5.15  \n",
       "\n",
       "[5 rows x 56 columns]"
      ]
     },
     "execution_count": 2,
     "metadata": {},
     "output_type": "execute_result"
    }
   ],
   "source": [
    "palm_files = [\n",
    "    './temp/2024-03-04_08-17-49.emg8',\n",
    "    './temp/2024-03-04_10-00-21.emg8',\n",
    "    './temp/2024-03-04_11-11-02.emg8'\n",
    "]\n",
    "palm_file = palm_files[2] # change index [0, 1, 2]\n",
    "gestures = pd.read_csv(palm_file, sep=' ', on_bad_lines='skip')\n",
    "gestures = gestures[~gestures['state'].isin(['Baseline', 'Finish'])]\n",
    "gestures.sort_index(inplace=True)\n",
    "gestures.reset_index(drop=True, inplace=True)\n",
    "\n",
    "print(gestures.shape)\n",
    "gestures.head()"
   ]
  },
  {
   "cell_type": "code",
   "execution_count": 3,
   "metadata": {},
   "outputs": [],
   "source": [
    "OMG_CH = np.arange(50).astype(str)"
   ]
  },
  {
   "cell_type": "code",
   "execution_count": 4,
   "metadata": {
    "tags": []
   },
   "outputs": [
    {
     "data": {
      "text/plain": [
       "Index(['ts', 'td', '0', '1', '2', '3', '4', '5', '6', '7', '8', '9', '10',\n",
       "       '11', '12', '13', '14', '15', '16', '17', '18', '19', '20', '21', '22',\n",
       "       '23', '24', '25', '26', '27', '28', '29', '30', '31', '32', '33', '34',\n",
       "       '35', '36', '37', '38', '39', '40', '41', '42', '43', '44', '45', '46',\n",
       "       '47', '48', '49', 'prot', 'state', 'id', 'now'],\n",
       "      dtype='object')"
      ]
     },
     "execution_count": 4,
     "metadata": {},
     "output_type": "execute_result"
    }
   ],
   "source": [
    "# [X features] '0', ..., '49' - каналы OMG датчиков\n",
    "# 'ts' - метка времени\n",
    "gestures.columns"
   ]
  },
  {
   "cell_type": "code",
   "execution_count": 5,
   "metadata": {
    "tags": []
   },
   "outputs": [
    {
     "data": {
      "image/png": "[encoded data removed]",
      "text/plain": [
       "<Figure size 900x300 with 1 Axes>"
      ]
     },
     "metadata": {},
     "output_type": "display_data"
    }
   ],
   "source": [
    "fig = plt.figure(figsize=(9, 3))\n",
    "plt.plot(gestures[OMG_CH].values)\n",
    "plt.title('OMG')\n",
    "plt.xlabel('Timesteps')\n",
    "plt.tight_layout()"
   ]
  },
  {
   "cell_type": "code",
   "execution_count": 6,
   "metadata": {},
   "outputs": [
    {
     "data": {
      "text/plain": [
       "array([[0, 'Close'],\n",
       "       [1, 'Indication'],\n",
       "       [2, 'Neutral'],\n",
       "       [3, 'Open'],\n",
       "       [4, 'Pinch'],\n",
       "       [5, 'ThumbFingers']], dtype=object)"
      ]
     },
     "metadata": {},
     "output_type": "display_data"
    },
    {
     "name": "stdout",
     "output_type": "stream",
     "text": [
      "(2545, 50) (2545,)\n"
     ]
    }
   ],
   "source": [
    "X = gestures[OMG_CH].values\n",
    "\n",
    "le = preprocessing.LabelEncoder()\n",
    "state = gestures['state'].values\n",
    "y_cmd = le.fit_transform(state)\n",
    "\n",
    "display(np.c_[le.transform(le.classes_), le.classes_])\n",
    "\n",
    "print(X.shape, y_cmd.shape)"
   ]
  },
  {
   "cell_type": "code",
   "execution_count": 7,
   "metadata": {
    "tags": []
   },
   "outputs": [
    {
     "data": {
      "text/plain": [
       "array(['Close', 'Indication', 'Neutral', 'Open', 'Pinch', 'ThumbFingers'],\n",
       "      dtype=object)"
      ]
     },
     "execution_count": 7,
     "metadata": {},
     "output_type": "execute_result"
    }
   ],
   "source": [
    "GESTURES = le.classes_\n",
    "GESTURES"
   ]
  },
  {
   "cell_type": "code",
   "execution_count": 8,
   "metadata": {
    "tags": []
   },
   "outputs": [
    {
     "data": {
      "image/png": "[encoded data removed]",
      "text/plain": [
       "<Figure size 800x400 with 2 Axes>"
      ]
     },
     "metadata": {},
     "output_type": "display_data"
    }
   ],
   "source": [
    "fig, axx = plt.subplots(2, 1, sharex=True, figsize=(8, 4))\n",
    "plt.sca(axx[0])\n",
    "plt.plot(gestures[OMG_CH].values)\n",
    "plt.title('OMG')\n",
    "\n",
    "plt.sca(axx[1])\n",
    "plt.plot(y_cmd)\n",
    "plt.grid()\n",
    "plt.yticks(np.arange(len(GESTURES)), GESTURES)\n",
    "plt.xlabel('Timesteps')\n",
    "plt.title('Protocol')\n",
    "\n",
    "plt.suptitle('OMG and Protocol')\n",
    "plt.tight_layout()"
   ]
  },
  {
   "cell_type": "markdown",
   "metadata": {},
   "source": [
    "---\n",
    "---\n",
    "---"
   ]
  },
  {
   "cell_type": "markdown",
   "metadata": {},
   "source": [
    "# Preprocessing"
   ]
  },
  {
   "cell_type": "code",
   "execution_count": 9,
   "metadata": {},
   "outputs": [],
   "source": [
    "# Функция для отрисовки графики \"OMG and Protocol\" для заданного интервала\n",
    "def get_graphs(X_array, y_array, start=1000, end=1500):\n",
    "    \n",
    "    _, ax1 = plt.subplots(sharex=True, figsize=(12, 4))\n",
    "    plt.suptitle(f'OMG and Protocol {start}:{end}')\n",
    "    ax1.plot(X_array[start:end])\n",
    "    ax1.set_xlabel('Timesteps')\n",
    "    ax1.set_ylabel('OMG')\n",
    "    ax2 = ax1.twinx()\n",
    "    ax2.plot(y_array[start:end], 'b-')\n",
    "    ax2.set_ylabel('y_cmd')\n",
    "    plt.grid(axis='y')\n",
    "    plt.yticks(np.arange(len(GESTURES)), GESTURES)\n",
    "    plt.show()"
   ]
  },
  {
   "cell_type": "code",
   "execution_count": 10,
   "metadata": {},
   "outputs": [
    {
     "data": {
      "image/png": "[encoded data removed]",
      "text/plain": [
       "<Figure size 1200x400 with 2 Axes>"
      ]
     },
     "metadata": {},
     "output_type": "display_data"
    }
   ],
   "source": [
    "get_graphs(gestures[OMG_CH].values, y_cmd, start=0, end=1000)"
   ]
  },
  {
   "cell_type": "markdown",
   "metadata": {},
   "source": [
    "Данные с датчиков будто немного отстают от команд. Оператор, что естественно, делает жест с некоторым лагом. Чтобы обучить модель определять тип жеста по данным, нм необходимо немного сдвинуть таргет: это может повысить качество обучающих данных."
   ]
  },
  {
   "cell_type": "markdown",
   "metadata": {},
   "source": [
    "## Устранение лага между сигналами датчиков и таргетом"
   ]
  },
  {
   "cell_type": "code",
   "execution_count": 11,
   "metadata": {},
   "outputs": [],
   "source": [
    "def get_naive_centering(X_arr, y_arr, gap=500, inter=1000, window=20, use_m=True, model=svm.SVC()):\n",
    "    \"\"\"Функция для устранения глобального лага между сигналами датчиков и таргетом.\n",
    "\n",
    "    Args:\n",
    "        X_arr (ndarray): Массив данных.\n",
    "        y_arr (ndarray): Вектор целевого признака.\n",
    "        gap (int, optional): Размеры концевых отступов. Defaults to 500.\n",
    "        inter (int, optional): Величина концевых выборок. Defaults to 1000.\n",
    "        window (int, optional): Величина окна поиска оптимального сдвига. Defaults to 20.\n",
    "        use_m (bool, optional): Использование модели для поиска оптимального сдвига.\n",
    "            Defaults to True. False: поиск сдвига по корреляции таргета с вектором\n",
    "            суммы модулей дифференциалов векторов признаков массива данных.\n",
    "        model (_type_, optional): Алгоритм scikit-learn. Defaults to svm.SVC().\n",
    "\n",
    "    Returns:\n",
    "        tuple():\n",
    "            ndarray: Вектор сдвинутого таргета.\n",
    "            list: Строки отчета по проделанным операциям.\n",
    "    \"\"\"\n",
    "    # part of the data from the beginning\n",
    "    X_part1 = X_arr[gap:gap+inter]\n",
    "    y_part1 = y_arr[gap:gap+inter]\n",
    "    # part of the data from the end\n",
    "    X_part2 = X_arr[-gap-inter:-gap]\n",
    "    y_part2 = y_arr[-gap-inter:-gap]\n",
    "    \n",
    "    # Функция для сдвига таргета\n",
    "    def shifter(y_arr, shift=1):\n",
    "        first_element = y_arr[0]\n",
    "        prefix = np.full(shift, first_element)\n",
    "        y_arr_shifted = np.concatenate((prefix, y_arr))[:-shift]\n",
    "    \n",
    "        return y_arr_shifted\n",
    "    \n",
    "    # Функция для расчета точности модели\n",
    "    def get_score(X, y, model=model):\n",
    "        model = model\n",
    "        model.fit(X, y)\n",
    "        preds = model.predict(X)\n",
    "        \n",
    "        return metrics.accuracy_score(y, preds)\n",
    "    \n",
    "    # Функция для расчета корреляции\n",
    "    def get_corr(X, y):\n",
    "        x_diff = pd.DataFrame(X).diff().abs().sum(axis=1)\n",
    "        correlation = np.corrcoef(x_diff, y)[0, 1]\n",
    "        \n",
    "        return abs(correlation)\n",
    "    \n",
    "    \n",
    "    max_score1, current_score1 = 0, 0\n",
    "    max_score2, current_score2 = 0, 0\n",
    "    s1, s2 = 1, 1\n",
    "    \n",
    "    for i in range(1, window+1):\n",
    "        y_a = shifter(y_part1, shift=i)\n",
    "        y_b = shifter(y_part2, shift=i)\n",
    "        \n",
    "        if use_m:\n",
    "            current_score1 = get_score(X_part1, y_a)\n",
    "            current_score2 = get_score(X_part2, y_b)\n",
    "        else:\n",
    "            current_score1 = get_corr(X_part1, y_a)\n",
    "            current_score2 = get_corr(X_part2, y_b)\n",
    "        \n",
    "        if current_score1 > max_score1:\n",
    "            max_score1, current_score1 = current_score1, max_score1\n",
    "            s1 = i\n",
    "        \n",
    "        if current_score2 > max_score2:\n",
    "            max_score2, current_score2 = current_score2, max_score2\n",
    "            s2 = i\n",
    "    \n",
    "    optimal_shift = round((s1+s2)/2)\n",
    "    y_arr_shifted = shifter(y_arr, shift=optimal_shift)\n",
    "    summary = [\n",
    "        f'Оптимальные свдиги для концевых выборок:   {s1} и {s2}\\n',\n",
    "        f'Accuracy/correlation на концевых выборках: {max_score1}; {max_score2}\\n',\n",
    "        f'Размер оптимального сдвига (как среднего): {optimal_shift}'\n",
    "    ]\n",
    "    \n",
    "    return y_arr_shifted, summary"
   ]
  },
  {
   "cell_type": "code",
   "execution_count": 12,
   "metadata": {},
   "outputs": [
    {
     "name": "stdout",
     "output_type": "stream",
     "text": [
      "Test sample shifting\n",
      "Оптимальные свдиги для концевых выборок:   20 и 20\n",
      "Accuracy/correlation на концевых выборках: 0.5084627615290539; 0.19722203710354114\n",
      "Размер оптимального сдвига (как среднего): 20\n"
     ]
    }
   ],
   "source": [
    "X = gestures[OMG_CH].values\n",
    "fitting_model = svm.LinearSVC(dual='auto')\n",
    "y_shifted, summary = get_naive_centering(X, y_cmd, gap=20, inter=100, use_m=False, model=fitting_model)\n",
    "\n",
    "print('Test sample shifting\\n', *summary, sep='')"
   ]
  },
  {
   "cell_type": "code",
   "execution_count": 13,
   "metadata": {},
   "outputs": [
    {
     "data": {
      "image/png": "[encoded data removed]",
      "text/plain": [
       "<Figure size 1200x400 with 2 Axes>"
      ]
     },
     "metadata": {},
     "output_type": "display_data"
    }
   ],
   "source": [
    "get_graphs(X, y_shifted, start=0, end=2000)"
   ]
  },
  {
   "cell_type": "markdown",
   "metadata": {},
   "source": [
    "## Сэмплирование"
   ]
  },
  {
   "cell_type": "code",
   "execution_count": 14,
   "metadata": {},
   "outputs": [
    {
     "name": "stdout",
     "output_type": "stream",
     "text": [
      "(2037, 50) (2037,)\n",
      "(508, 50) (508,)\n"
     ]
    }
   ],
   "source": [
    "X_train = X[:int(X.shape[0] * 0.8)+1]\n",
    "X_valid = X[int(X.shape[0] * 0.8)+1:]\n",
    "\n",
    "y_train = y_shifted[:int(X.shape[0] * 0.8)+1]\n",
    "y_valid = y_shifted[int(X.shape[0] * 0.8)+1:]\n",
    "\n",
    "print(X_train.shape, y_train.shape)\n",
    "print(X_valid.shape, y_valid.shape)"
   ]
  },
  {
   "cell_type": "markdown",
   "metadata": {},
   "source": [
    "## Корреляционный анализ"
   ]
  },
  {
   "cell_type": "code",
   "execution_count": 15,
   "metadata": {},
   "outputs": [],
   "source": [
    "def find_highly_correlated_features(data, threshold=0.9):\n",
    "    \"\"\"Функция корреляционного анализа\n",
    "\n",
    "    Args:\n",
    "        data (ndarray): Массив данных.\n",
    "        threshold (float, optional): Порог корреляции. Defaults to 0.9.\n",
    "\n",
    "    Returns:\n",
    "        tuple:\n",
    "            list: Спсиок пар номеров высоко скореллированных признаков.\n",
    "            set: Множество оптимально-отобранных номеров признаков из\n",
    "                высоко скореллированных пар.\n",
    "    \"\"\"\n",
    "    # Строим корреляционную матрицу\n",
    "    corr_matrix = np.corrcoef(data, rowvar=False)\n",
    "    \n",
    "    # Находим индексы нижнего треугольника корреляционной матрицы\n",
    "    lower_triangle_indices = np.tril_indices(corr_matrix.shape[0], k=-1)\n",
    "    \n",
    "    # Находим пары высоко скоррелированных признаков\n",
    "    high_corr_features = [\n",
    "        [j, i] for i, j in zip(\n",
    "            lower_triangle_indices[0], lower_triangle_indices[1]\n",
    "        ) if abs(corr_matrix[i, j]) > threshold\n",
    "    ]\n",
    "\n",
    "    hcf_copy = high_corr_features.copy()\n",
    "    # Определяем features_to_remove\n",
    "    features_to_remove = []\n",
    "    while True:\n",
    "        dct = {}\n",
    "        for el in hcf_copy:\n",
    "            for num in el:\n",
    "                cnt = 0\n",
    "                for l in hcf_copy:\n",
    "                    if (num in l) and (len(l) == 2):\n",
    "                        cnt += 1\n",
    "                dct[num] = cnt\n",
    "        \n",
    "        if (len(set(dct.values())) == 1) and list(dct.values())[0] == 0:\n",
    "            break\n",
    "        \n",
    "        if not dct:\n",
    "            break\n",
    "\n",
    "        num_tb_dltd = max(dct, key=dct.get)\n",
    "        features_to_remove.append(num_tb_dltd)\n",
    "\n",
    "        hcf_copy = [\n",
    "            [x for x in inner_list if x != num_tb_dltd]\n",
    "            for inner_list in hcf_copy\n",
    "        ]\n",
    "\n",
    "    return high_corr_features, list(set(features_to_remove))"
   ]
  },
  {
   "cell_type": "code",
   "execution_count": 16,
   "metadata": {},
   "outputs": [],
   "source": [
    "# high_corr_features, features_to_remove = find_highly_correlated_features(X_train, threshold=0.9)\n",
    "# print(high_corr_features)\n",
    "# print(features_to_remove)\n",
    "# print(f'Всего отобрано уникальных признаков на удаление: {len(features_to_remove)}')"
   ]
  },
  {
   "cell_type": "markdown",
   "metadata": {},
   "source": [
    "Однако простое удаление этого ряда признаков нечасто приводит к улучшению качества прогнозирования. Это может быть следствием того, что среди удаляемых признаков могут случайно оказаться те, что хорошо скоррелированы с целевым признаком. Этот момент необходимо исследовать отдельно."
   ]
  },
  {
   "cell_type": "code",
   "execution_count": 17,
   "metadata": {},
   "outputs": [],
   "source": [
    "# def find_weakly_correlated_features(features, target, threshold):\n",
    "#     # Вычисляем коэффициент корреляции для каждого признака\n",
    "#     corr_values = np.abs(np.corrcoef(features, target, rowvar=False)[:-1, -1])  \n",
    "#     # Находим индексы признаков с корреляцией ниже порога\n",
    "#     weakly_correlated_features = np.where(corr_values < threshold)[0]  \n",
    "\n",
    "#     return weakly_correlated_features"
   ]
  },
  {
   "cell_type": "code",
   "execution_count": 18,
   "metadata": {},
   "outputs": [],
   "source": [
    "# # Порог корреляции\n",
    "# threshold = 0.2\n",
    "\n",
    "# # Поиск плохо скоррелированных признаков\n",
    "# weakly_corr_fs = find_weakly_correlated_features(X_train, y_train, threshold)\n",
    "# print(list(weakly_corr_fs))\n",
    "# print(len(weakly_corr_fs))"
   ]
  },
  {
   "cell_type": "markdown",
   "metadata": {},
   "source": [
    "Теперь остается найти пересечения между рядами высоко скоррелированных между собой признаков и списком тех, что плохо скоррелированны с целевой переменной."
   ]
  },
  {
   "cell_type": "code",
   "execution_count": 19,
   "metadata": {},
   "outputs": [],
   "source": [
    "# bad_features = list(set(weakly_corr_fs) & set(features_to_remove))\n",
    "# print(bad_features)\n",
    "# print(len(bad_features))"
   ]
  },
  {
   "cell_type": "markdown",
   "metadata": {},
   "source": [
    "Но даже столь организованный подбор признаков для удаления может не дасть хороших результатов, и даже ухудшить их."
   ]
  },
  {
   "cell_type": "code",
   "execution_count": 20,
   "metadata": {},
   "outputs": [],
   "source": [
    "# X_train_cd = np.delete(X_train, bad_features, axis=1)\n",
    "# X_valid_cd = np.delete(X_valid, bad_features, axis=1)"
   ]
  },
  {
   "cell_type": "markdown",
   "metadata": {},
   "source": [
    "## Стандартизация"
   ]
  },
  {
   "cell_type": "code",
   "execution_count": 21,
   "metadata": {},
   "outputs": [],
   "source": [
    "std_scaler = preprocessing.StandardScaler()\n",
    "\n",
    "# X_train_scaled = std_scaler.fit_transform(X_train_cd)\n",
    "# X_valid_scaled = std_scaler.transform(X_valid_cd)\n",
    "\n",
    "X_train_scaled = std_scaler.fit_transform(X_train)\n",
    "X_valid_scaled = std_scaler.transform(X_valid)"
   ]
  },
  {
   "cell_type": "markdown",
   "metadata": {},
   "source": [
    "## Генерация признаков\n",
    "### Скользящая аппроксимация временного ряда линейным методом"
   ]
  },
  {
   "cell_type": "code",
   "execution_count": 22,
   "metadata": {},
   "outputs": [],
   "source": [
    "def get_sliding_approximation(X, n_ftrs=10, inference=False, prev=None):\n",
    "    \"\"\"Функция для формирования признакового описания \n",
    "       с использованием линейной регрессии\n",
    "\n",
    "    Args:\n",
    "        X (_type_): массив данных.\n",
    "        n_ftrs (int, optional): размер сэмпла. Defaults to 10.\n",
    "        inference (bool, optional): опция инференса. Defaults to False.\n",
    "        prev (_type_, optional): окно данных для расчета\n",
    "        коэффициентов. Defaults to None.\n",
    "\n",
    "    Returns:\n",
    "        ndarray: массив коэффициентов модели регрессии.\n",
    "    \"\"\"\n",
    "\n",
    "    w_g = np.zeros((0, n_ftrs))\n",
    "    if not inference:\n",
    "        prev = np.zeros((n_ftrs+1, X.shape[-1]))\n",
    "    else:\n",
    "        prev = prev\n",
    "    \n",
    "    for i in range(X.shape[0]):\n",
    "        if not np.sum(prev[0]):\n",
    "            prev[0, :] = X[i]\n",
    "        else:\n",
    "            prev[1:, :] = prev[:-1, :]\n",
    "            prev[0, :] = X[i]\n",
    "\n",
    "        # Разделение данных на признаки и целевую переменную для текущего сегмента\n",
    "        segments_X = prev[1:, :].T\n",
    "        segments_y = prev[0, :]\n",
    "        \n",
    "        # Обучение модели линейной регрессии для текущего сегмента\n",
    "        model = linear_model.Ridge()\n",
    "        model.fit(segments_X, segments_y)\n",
    "        \n",
    "        # Получение оптимальных параметров модели для текущего сегмента\n",
    "        coefs = model.coef_\n",
    "        w_g = np.vstack((w_g, coefs))\n",
    "    \n",
    "    return w_g"
   ]
  },
  {
   "cell_type": "code",
   "execution_count": 23,
   "metadata": {},
   "outputs": [
    {
     "data": {
      "text/plain": [
       "((2037, 5), (508, 5))"
      ]
     },
     "execution_count": 23,
     "metadata": {},
     "output_type": "execute_result"
    }
   ],
   "source": [
    "X_train_approx = get_sliding_approximation(X_train_scaled, n_ftrs=5)\n",
    "X_valid_approx = get_sliding_approximation(X_valid_scaled, n_ftrs=5)\n",
    "\n",
    "X_train_approx.shape, X_valid_approx.shape"
   ]
  },
  {
   "cell_type": "markdown",
   "metadata": {},
   "source": [
    "### Скользящая аппроксимация временного ряда авторегрессионным методом"
   ]
  },
  {
   "cell_type": "code",
   "execution_count": 24,
   "metadata": {},
   "outputs": [],
   "source": [
    "def create_AR_features(array, p=5):\n",
    "    new_features = np.zeros((array.shape[0],0))\n",
    "    \n",
    "    for i in range(array.shape[1]):\n",
    "        data = np.hstack((np.zeros(p), array[:, i]))\n",
    "        t = len(data)\n",
    "        w_massive = np.zeros((0, p+1))\n",
    "        \n",
    "        for j in range(p, t):\n",
    "            features = data[j-p:j]\n",
    "            labels = np.array(data[j]).reshape(-1, 1)\n",
    "        \n",
    "            # Решение системы уравнений методом наименьших квадратов\n",
    "            X = np.hstack((np.ones(1), features)).reshape(1, -1)\n",
    "            w = np.linalg.lstsq(X, labels, rcond=None)[0]\n",
    "            \n",
    "            w_massive = np.vstack((w_massive, w.reshape(1, -1)))\n",
    "            \n",
    "        new_features = np.hstack((new_features, w_massive))\n",
    "        \n",
    "    return new_features"
   ]
  },
  {
   "cell_type": "code",
   "execution_count": 25,
   "metadata": {},
   "outputs": [
    {
     "data": {
      "text/plain": [
       "((2037, 300), (508, 300))"
      ]
     },
     "execution_count": 25,
     "metadata": {},
     "output_type": "execute_result"
    }
   ],
   "source": [
    "X_train_ar = create_AR_features(X_train_scaled, p=5)\n",
    "X_valid_ar = create_AR_features(X_valid_scaled, p=5)\n",
    "\n",
    "X_train_ar.shape, X_valid_ar.shape"
   ]
  },
  {
   "cell_type": "markdown",
   "metadata": {},
   "source": [
    "## Выбор типа предобработки"
   ]
  },
  {
   "cell_type": "code",
   "execution_count": 26,
   "metadata": {},
   "outputs": [],
   "source": [
    "X_train_new = X_train_scaled\n",
    "X_valid_new = X_valid_scaled\n",
    "\n",
    "# X_train_new = X_train_ar\n",
    "# X_valid_new = X_valid_ar\n",
    "\n",
    "# X_train_new = np.hstack((X_train_approx, X_train_ar))\n",
    "# X_valid_new = np.hstack((X_valid_approx, X_valid_ar))\n",
    "\n",
    "# X_train_new = np.hstack((X_train_ar, X_train_scaled))\n",
    "# X_valid_new = np.hstack((X_valid_ar, X_valid_scaled))\n",
    "\n",
    "# X_train_new = np.hstack((X_train_approx, X_train_ar, X_train_scaled))\n",
    "# X_valid_new = np.hstack((X_valid_approx, X_valid_ar, X_valid_scaled))"
   ]
  },
  {
   "cell_type": "markdown",
   "metadata": {},
   "source": [
    "## Понижение размерности"
   ]
  },
  {
   "cell_type": "code",
   "execution_count": 27,
   "metadata": {},
   "outputs": [
    {
     "name": "stdout",
     "output_type": "stream",
     "text": [
      "Число столбцов: 50\n",
      "Ранг матрицы:   50\n",
      "Определитель:   3.959147632252146e-113\n"
     ]
    }
   ],
   "source": [
    "# Включаем предупреждениe как исключениe\n",
    "warnings.simplefilter('error', RuntimeWarning)\n",
    "\n",
    "# Матрица корреляций\n",
    "corr_mtrx = pd.DataFrame(data=X_train_new).corr()\n",
    "\n",
    "# Параметры матрицы\n",
    "print('Число столбцов:', corr_mtrx.shape[1])\n",
    "\n",
    "# Расчет ранга матрицы либо перехват исключения\n",
    "try:\n",
    "    matrix_rank = np.linalg.matrix_rank(corr_mtrx)\n",
    "except Exception as e:\n",
    "    print('Ошибка:', e)\n",
    "else:\n",
    "    print('Ранг матрицы:  ', np.linalg.matrix_rank(corr_mtrx))\n",
    "    \n",
    "# Расчет определителя либо перехват предупреждения\n",
    "try:\n",
    "    det = np.linalg.det(corr_mtrx)\n",
    "except RuntimeWarning as rw:\n",
    "    print(f\"\"\"Ошибка вычисления определителя: {rw}\n",
    "Матрица корреляций является вырожденной\"\"\")\n",
    "else:\n",
    "    print('Определитель:  ', np.linalg.det(corr_mtrx))"
   ]
  },
  {
   "cell_type": "code",
   "execution_count": 28,
   "metadata": {},
   "outputs": [
    {
     "name": "stdout",
     "output_type": "stream",
     "text": [
      "Число компонент: 34\n"
     ]
    }
   ],
   "source": [
    "# Определяем метод таким образом, чтобы отобранные им\n",
    "# компоненты объясняли не менее 99,99 % разброса данных\n",
    "pca = decomposition.PCA(n_components=0.9999, random_state=42).fit(X_train_new)\n",
    "# Обучаем алгоритм на наших данных\n",
    "print(f'Число компонент: {len(pca.components_)}')"
   ]
  },
  {
   "cell_type": "code",
   "execution_count": 29,
   "metadata": {},
   "outputs": [
    {
     "name": "stdout",
     "output_type": "stream",
     "text": [
      "Число столбцов: 34\n",
      "Ранг матрицы:   34\n",
      "Определитель:   0.9999999999999991\n"
     ]
    }
   ],
   "source": [
    "X_train_pca = pca.transform(X_train_new)\n",
    "X_valid_pca = pca.transform(X_valid_new)\n",
    "# Матрица корреляций\n",
    "corr_mtrx = np.corrcoef(X_train_pca.transpose())\n",
    "\n",
    "# Параметры матрицы\n",
    "print('Число столбцов:', corr_mtrx.shape[1])\n",
    "print('Ранг матрицы:  ', np.linalg.matrix_rank(corr_mtrx))\n",
    "print('Определитель:  ', np.linalg.det(corr_mtrx))"
   ]
  },
  {
   "cell_type": "markdown",
   "metadata": {},
   "source": [
    "## Экспоненциальное сглаживаение"
   ]
  },
  {
   "cell_type": "code",
   "execution_count": 30,
   "metadata": {},
   "outputs": [],
   "source": [
    "def get_convolve(data, M=10, tau=3, sym=True):\n",
    "    win = signal.windows.exponential(M, tau=tau, sym=sym)\n",
    "    data_result = np.zeros((data.shape[0]))\n",
    "    for i in range(data.shape[1]):\n",
    "        sig = data[:, i]\n",
    "        filtered = signal.convolve(sig, win, mode='same') / sum(win)\n",
    "        data_result = np.column_stack((data_result, filtered))\n",
    "        \n",
    "    return data_result[:, 1:]"
   ]
  },
  {
   "cell_type": "code",
   "execution_count": 31,
   "metadata": {},
   "outputs": [],
   "source": [
    "X_train_ce = get_convolve(X_train_pca, M=10, tau=1, sym=False)\n",
    "X_valid_ce = get_convolve(X_valid_pca, M=10, tau=1, sym=False)"
   ]
  },
  {
   "cell_type": "code",
   "execution_count": 32,
   "metadata": {},
   "outputs": [
    {
     "data": {
      "image/png": "[encoded data removed]",
      "text/plain": [
       "<Figure size 1200x400 with 2 Axes>"
      ]
     },
     "metadata": {},
     "output_type": "display_data"
    }
   ],
   "source": [
    "get_graphs(X_train_ce, y_train, start=0, end=2000)"
   ]
  },
  {
   "cell_type": "markdown",
   "metadata": {},
   "source": [
    "---\n",
    "---\n",
    "---"
   ]
  },
  {
   "cell_type": "markdown",
   "metadata": {},
   "source": [
    "# Modeling"
   ]
  },
  {
   "cell_type": "markdown",
   "metadata": {},
   "source": [
    "---\n",
    "### GaussianNB\n",
    "\n",
    "#### Baseline"
   ]
  },
  {
   "cell_type": "code",
   "execution_count": 33,
   "metadata": {},
   "outputs": [],
   "source": [
    "# model = naive_bayes.GaussianNB()\n",
    "# model.fit(X_train_ce, y_train)\n",
    "# model.score(X_train_ce, y_train)"
   ]
  },
  {
   "cell_type": "markdown",
   "metadata": {},
   "source": [
    "#### Optimized"
   ]
  },
  {
   "cell_type": "code",
   "execution_count": 34,
   "metadata": {},
   "outputs": [],
   "source": [
    "# # Определение функции для оптимизации\n",
    "# def optuna_gnb(trial):\n",
    "#     \"\"\"Функция, обучающая модель GaussianNB по переданным гиперпараметрам\n",
    "#     Args:\n",
    "#         trial : класс, от которого вызываются гиперпараметры\n",
    "#     Returns:\n",
    "#         score(float): метрика F1-weighted\n",
    "#     \"\"\"\n",
    "#     # Задаем пространство поиска гиперпараметров\n",
    "#     var_smoothing = trial.suggest_float('var_smoothing', 1e-10, 1e-1)\n",
    "    \n",
    "#     # Инициализация GaussianNB с оптимизируемыми гиперпараметрами\n",
    "#     clf = naive_bayes.GaussianNB(\n",
    "#         var_smoothing=var_smoothing\n",
    "#     )\n",
    "#     # Рассчитываем метрику на кросс-валидации\n",
    "#     score = model_selection.cross_val_score(\n",
    "#         clf, X_train_ce, y_train, cv=10, scoring=\"f1_weighted\", n_jobs=-1\n",
    "#     ).mean()\n",
    "\n",
    "#     return score\n",
    "\n",
    "\n",
    "# # Создание и запуск оптимизации с отображением прогресса с помощью tqdm\n",
    "# study_gnb = optuna.create_study(study_name=\"gnb_opt\", direction='maximize')\n",
    "# # Подавляем логирование\n",
    "# optuna.logging.set_verbosity(optuna.logging.WARNING)\n",
    "# # Мониторим прогресс оптимизации\n",
    "# with tqdm(total=3000, desc=\"Optimizing\") as pbar:\n",
    "#     def update(study, trial):\n",
    "#         pbar.update(1)\n",
    "#     # Ищем лучшую комбинацию гиперпараметров n_trials раз\n",
    "#     study_gnb.optimize(optuna_gnb, n_trials=3000, callbacks=[update])\n",
    "\n",
    "# # Получение оптимальных гиперпараметров\n",
    "# print(\"Лучшие гиперпараметры:\", study_gnb.best_params)\n",
    "\n",
    "# # Передаем модели коллекцию оптимальных гиперпараметров\n",
    "# model = naive_bayes.GaussianNB(**study_gnb.best_params)\n",
    "# # Обучение\n",
    "# model.fit(X_train_ce, y_train)\n",
    "# model.score(X_train_ce, y_train)"
   ]
  },
  {
   "cell_type": "code",
   "execution_count": 35,
   "metadata": {},
   "outputs": [],
   "source": [
    "# Сохранение модели\n",
    "# joblib.dump(model, \"models/0_opt_gnb.pkl\")\n",
    "# joblib.dump(model, \"models/1_opt_gnb.pkl\")\n",
    "# joblib.dump(model, \"models/2_opt_gnb.pkl\")"
   ]
  },
  {
   "cell_type": "markdown",
   "metadata": {},
   "source": [
    "---\n",
    "### LogisticRegression\n",
    "\n",
    "#### Baseline"
   ]
  },
  {
   "cell_type": "code",
   "execution_count": 36,
   "metadata": {},
   "outputs": [],
   "source": [
    "# model = linear_model.LogisticRegression(\n",
    "#     max_iter=10000,\n",
    "#     random_state=42\n",
    "# )\n",
    "\n",
    "# model.fit(X_train_ce, y_train)\n",
    "# model.score(X_train_ce, y_train)"
   ]
  },
  {
   "cell_type": "markdown",
   "metadata": {},
   "source": [
    "#### Optimized"
   ]
  },
  {
   "cell_type": "code",
   "execution_count": 37,
   "metadata": {},
   "outputs": [],
   "source": [
    "# # Определение функции для оптимизации\n",
    "# def optuna_lr(trial):\n",
    "#     \"\"\"Функция, обучающая модель LogisticRegression по переданным гиперпараметрам\n",
    "#     Args:\n",
    "#         trial : класс, от которого вызываются гиперпараметры\n",
    "#     Returns:\n",
    "#         score(float): метрика F1-weighted\n",
    "#     \"\"\"\n",
    "#     # Задаем пространство поиска гиперпараметров\n",
    "#     C = trial.suggest_float('C', 1e-5, 1e2)\n",
    "#     penalty = trial.suggest_categorical('penalty', ['l1', 'l2', 'elasticnet'])\n",
    "    \n",
    "#     if penalty == 'elasticnet':\n",
    "#         l1_ratio = trial.suggest_float('l1_ratio', 0, 1)\n",
    "#     else:\n",
    "#         l1_ratio = None\n",
    "\n",
    "#     solver = trial.suggest_categorical('solver', ['newton-cg', 'lbfgs', 'liblinear', 'saga'])\n",
    "\n",
    "#     if penalty == 'l1' and solver in ['newton-cg', 'lbfgs', 'sag']:\n",
    "#         return 0.0 # 'l1' penalty is not supported by these solvers\n",
    "#     elif penalty == 'elasticnet' and solver not in ['saga']:\n",
    "#         return 0.0 # 'elasticnet' penalty is supported only by 'saga' solver\n",
    "    \n",
    "#     # Инициализация LogisticRegression с оптимизируемыми гиперпараметрами\n",
    "#     clf = linear_model.LogisticRegression(\n",
    "#         C=C, penalty=penalty, solver=solver,\n",
    "#         l1_ratio=l1_ratio, max_iter=10000,\n",
    "#         random_state=42\n",
    "#     )\n",
    "#     # Рассчитываем метрику на кросс-валидации\n",
    "#     score = model_selection.cross_val_score(\n",
    "#         clf, X_train_ce, y_train, cv=5, scoring=\"f1_weighted\", n_jobs=-1\n",
    "#     ).mean()\n",
    "\n",
    "#     return score\n",
    "\n",
    "\n",
    "# # Создание и запуск оптимизации с отображением прогресса с помощью tqdm\n",
    "# study_lr = optuna.create_study(study_name=\"lr_opt\", direction='maximize')\n",
    "# # Подавляем логирование\n",
    "# optuna.logging.set_verbosity(optuna.logging.WARNING)\n",
    "# # Мониторим прогресс оптимизации\n",
    "# with tqdm(total=50, desc=\"Optimizing\") as pbar:\n",
    "#     def update(study, trial):\n",
    "#         pbar.update(1)\n",
    "#     # Ищем лучшую комбинацию гиперпараметров n_trials раз\n",
    "#     study_lr.optimize(optuna_lr, n_trials=50, callbacks=[update])\n",
    "\n",
    "# # Получение оптимальных гиперпараметров\n",
    "# print(\"Лучшие гиперпараметры:\", study_lr.best_params)\n",
    "\n",
    "# # Передаем модели коллекцию оптимальных гиперпараметров\n",
    "# model = linear_model.LogisticRegression(\n",
    "#     **study_lr.best_params,\n",
    "#     max_iter=10000,\n",
    "#     random_state=42\n",
    "# )\n",
    "# # Обучение\n",
    "# model.fit(X_train_ce, y_train)\n",
    "# model.score(X_train_ce, y_train)"
   ]
  },
  {
   "cell_type": "code",
   "execution_count": 38,
   "metadata": {},
   "outputs": [],
   "source": [
    "# Сохранение модели\n",
    "# joblib.dump(model, \"models/0_opt_lr.pkl\")\n",
    "# joblib.dump(model, \"models/1_opt_lr.pkl\")\n",
    "# joblib.dump(model, \"models/2_opt_lr.pkl\")"
   ]
  },
  {
   "cell_type": "markdown",
   "metadata": {},
   "source": [
    "---\n",
    "### PassiveAggressiveClassifier\n",
    "\n",
    "#### Baseline"
   ]
  },
  {
   "cell_type": "code",
   "execution_count": 39,
   "metadata": {},
   "outputs": [],
   "source": [
    "# model = linear_model.PassiveAggressiveClassifier(random_state=42)\n",
    "# model.fit(X_train_ce, y_train)\n",
    "# model.score(X_train_ce, y_train)"
   ]
  },
  {
   "cell_type": "markdown",
   "metadata": {},
   "source": [
    "#### Optimized"
   ]
  },
  {
   "cell_type": "code",
   "execution_count": 40,
   "metadata": {},
   "outputs": [],
   "source": [
    "# # Определение функции для оптимизации\n",
    "# def optuna_pac(trial):\n",
    "#     \"\"\"Функция, обучающая модель PassiveAggressive по переданным гиперпараметрам\n",
    "#     Args:\n",
    "#         trial : класс, от которого вызываются гиперпараметры\n",
    "#     Returns:\n",
    "#         score(float): метрика F1-weighted\n",
    "#     \"\"\"\n",
    "#     # Задаем пространство поиска гиперпараметров\n",
    "#     params = {\n",
    "#         'C': trial.suggest_float('C', 1e-5, 1e5),\n",
    "#         'max_iter': trial.suggest_int('max_iter', 100, 3000),\n",
    "#         'early_stopping': True,\n",
    "#         'n_jobs': -1\n",
    "#     }\n",
    "\n",
    "#     # Инициализация PassiveAggressive с оптимизируемыми гиперпараметрами\n",
    "#     clf = linear_model.PassiveAggressiveClassifier(\n",
    "#         **params,\n",
    "#         random_state=42\n",
    "#     )\n",
    "#     # Рассчитываем метрику на кросс-валидации\n",
    "#     score = model_selection.cross_val_score(\n",
    "#         clf, X_train_ce, y_train, cv=5, scoring=\"f1_weighted\", n_jobs=-1\n",
    "#     ).mean()\n",
    "\n",
    "#     return score\n",
    "\n",
    "\n",
    "# # Создание и запуск оптимизации с отображением прогресса с помощью tqdm\n",
    "# study_pac = optuna.create_study(study_name=\"pac_opt\", direction='maximize')\n",
    "# # Подавляем логирование\n",
    "# optuna.logging.set_verbosity(optuna.logging.WARNING)\n",
    "# # Мониторим прогресс оптимизации\n",
    "# with tqdm(total=1000, desc=\"Optimizing\") as pbar:\n",
    "#     def update(study, trial):\n",
    "#         pbar.update(1)\n",
    "#     # Ищем лучшую комбинацию гиперпараметров n_trials раз\n",
    "#     study_pac.optimize(optuna_pac, n_trials=1000, callbacks=[update])\n",
    "\n",
    "# # Получение оптимальных гиперпараметров\n",
    "# print(\"Лучшие гиперпараметры:\", study_pac.best_params)\n",
    "\n",
    "# # Передаем модели коллекцию оптимальных гиперпараметров\n",
    "# model = linear_model.PassiveAggressiveClassifier(\n",
    "#     **study_pac.best_params,\n",
    "#     random_state=42\n",
    "# )\n",
    "# # Обучение\n",
    "# model.fit(X_train_ce, y_train)\n",
    "# model.score(X_train_ce, y_train)"
   ]
  },
  {
   "cell_type": "code",
   "execution_count": 41,
   "metadata": {},
   "outputs": [],
   "source": [
    "# Сохранение модели\n",
    "# joblib.dump(model, \"models/0_opt_pac.pkl\")\n",
    "# joblib.dump(model, \"models/1_opt_pac.pkl\")\n",
    "# joblib.dump(model, \"models/2_opt_pac.pkl\")"
   ]
  },
  {
   "cell_type": "markdown",
   "metadata": {},
   "source": [
    "---\n",
    "### Perceptron\n",
    "\n",
    "#### Baseline"
   ]
  },
  {
   "cell_type": "code",
   "execution_count": 42,
   "metadata": {},
   "outputs": [],
   "source": [
    "# model = linear_model.Perceptron(random_state=42)\n",
    "# model.fit(X_train_ce, y_train)\n",
    "# model.score(X_train_ce, y_train)"
   ]
  },
  {
   "cell_type": "markdown",
   "metadata": {},
   "source": [
    "#### Optimized"
   ]
  },
  {
   "cell_type": "code",
   "execution_count": 43,
   "metadata": {},
   "outputs": [],
   "source": [
    "# # Определение функции для оптимизации\n",
    "# def optuna_pct(trial):\n",
    "#     \"\"\"Функция, обучающая модель Perceptron по переданным гиперпараметрам\n",
    "#     Args:\n",
    "#         trial : класс, от которого вызываются гиперпараметры\n",
    "#     Returns:\n",
    "#         score(float): метрика F1-weighted\n",
    "#     \"\"\"\n",
    "#     # Задаем пространство поиска гиперпараметров\n",
    "#     params = {\n",
    "#         'penalty': trial.suggest_categorical('penalty', [None, 'l2', 'l1', 'elasticnet']),\n",
    "#         'alpha': trial.suggest_float('alpha', 1e-5, 1e5),\n",
    "#         'l1_ratio': trial.suggest_float('l1_ratio', 1e-5, 1),\n",
    "#         'max_iter': trial.suggest_int('max_iter', 100, 3000),\n",
    "#         'early_stopping': True,\n",
    "#         'n_jobs': -1\n",
    "#     }\n",
    "\n",
    "#     # Инициализация Perceptron с оптимизируемыми гиперпараметрами\n",
    "#     clf = linear_model.Perceptron(\n",
    "#         **params,\n",
    "#         random_state=42\n",
    "#     )\n",
    "#     # Рассчитываем метрику на кросс-валидации\n",
    "#     score = model_selection.cross_val_score(\n",
    "#         clf, X_train_ce, y_train, cv=10, scoring=\"f1_weighted\", n_jobs=-1\n",
    "#     ).mean()\n",
    "\n",
    "#     return score\n",
    "\n",
    "\n",
    "# # Создание и запуск оптимизации с отображением прогресса с помощью tqdm\n",
    "# study_pct = optuna.create_study(study_name=\"pct_opt\", direction='maximize')\n",
    "# # Подавляем логирование\n",
    "# optuna.logging.set_verbosity(optuna.logging.WARNING)\n",
    "# # Мониторим прогресс оптимизации\n",
    "# with tqdm(total=2000, desc=\"Optimizing\") as pbar:\n",
    "#     def update(study, trial):\n",
    "#         pbar.update(1)\n",
    "#     # Ищем лучшую комбинацию гиперпараметров n_trials раз\n",
    "#     study_pct.optimize(optuna_pct, n_trials=2000, callbacks=[update])\n",
    "\n",
    "# # Получение оптимальных гиперпараметров\n",
    "# print(\"Лучшие гиперпараметры:\", study_pct.best_params)\n",
    "\n",
    "# # Передаем модели коллекцию оптимальных гиперпараметров\n",
    "# model = linear_model.Perceptron(\n",
    "#     **study_pct.best_params,\n",
    "#     random_state=42\n",
    "# )\n",
    "# # Обучение\n",
    "# model.fit(X_train_ce, y_train)\n",
    "# model.score(X_train_ce, y_train)"
   ]
  },
  {
   "cell_type": "code",
   "execution_count": 44,
   "metadata": {},
   "outputs": [],
   "source": [
    "# Сохранение модели\n",
    "# joblib.dump(model, \"models/0_opt_pct.pkl\")\n",
    "# joblib.dump(model, \"models/1_opt_pct.pkl\")\n",
    "# joblib.dump(model, \"models/2_opt_pct.pkl\")"
   ]
  },
  {
   "cell_type": "markdown",
   "metadata": {},
   "source": [
    "---\n",
    "### RidgeClassifier\n",
    "\n",
    "#### Baseline"
   ]
  },
  {
   "cell_type": "code",
   "execution_count": 45,
   "metadata": {},
   "outputs": [],
   "source": [
    "# model = linear_model.RidgeClassifier(random_state=42)\n",
    "# model.fit(X_train_ce, y_train)\n",
    "# model.score(X_train_ce, y_train)"
   ]
  },
  {
   "cell_type": "markdown",
   "metadata": {},
   "source": [
    "#### Optimized"
   ]
  },
  {
   "cell_type": "code",
   "execution_count": 46,
   "metadata": {},
   "outputs": [],
   "source": [
    "# # Определение функции для оптимизации\n",
    "# def optuna_rdg(trial):\n",
    "#     \"\"\"Функция, обучающая модель Ridge по переданным гиперпараметрам\n",
    "#     Args:\n",
    "#         trial : класс, от которого вызываются гиперпараметры\n",
    "#     Returns:\n",
    "#         score(float): метрика F1-weighted\n",
    "#     \"\"\"\n",
    "#     # Задаем пространство поиска гиперпараметров\n",
    "#     params = {\n",
    "#         'alpha': trial.suggest_float('alpha', 1e-5, 1e-1),\n",
    "#         'solver': trial.suggest_categorical('solver',\n",
    "#             ['auto', 'svd', 'cholesky', 'lsqr', 'sparse_cg', 'sag', 'saga'])\n",
    "#     }\n",
    "    \n",
    "#     # Инициализация Ridge с оптимизируемыми гиперпараметрами\n",
    "#     clf = linear_model.RidgeClassifier(\n",
    "#         **params,\n",
    "#         random_state=42\n",
    "#     )\n",
    "#     # Рассчитываем метрику на кросс-валидации\n",
    "#     score = model_selection.cross_val_score(\n",
    "#         clf, X_train_ce, y_train, cv=10, scoring=\"f1_weighted\", n_jobs=-1\n",
    "#     ).mean()\n",
    "\n",
    "#     return score\n",
    "\n",
    "\n",
    "# # Создание и запуск оптимизации с отображением прогресса с помощью tqdm\n",
    "# study_rdg = optuna.create_study(study_name=\"rdg_opt\", direction='maximize')\n",
    "# # Подавляем логирование\n",
    "# optuna.logging.set_verbosity(optuna.logging.WARNING)\n",
    "# # Мониторим прогресс оптимизации\n",
    "# with tqdm(total=300, desc=\"Optimizing\") as pbar:\n",
    "#     def update(study, trial):\n",
    "#         pbar.update(1)\n",
    "#     # Ищем лучшую комбинацию гиперпараметров n_trials раз\n",
    "#     study_rdg.optimize(optuna_rdg, n_trials=300, callbacks=[update])\n",
    "\n",
    "# # Получение оптимальных гиперпараметров\n",
    "# print(\"Лучшие гиперпараметры:\", study_rdg.best_params)\n",
    "\n",
    "# # Передаем модели коллекцию оптимальных гиперпараметров\n",
    "# model = linear_model.RidgeClassifier(\n",
    "#     **study_rdg.best_params,\n",
    "#     random_state=42\n",
    "# )\n",
    "# # Обучение\n",
    "# model.fit(X_train_ce, y_train)\n",
    "# model.score(X_train_ce, y_train)"
   ]
  },
  {
   "cell_type": "code",
   "execution_count": 47,
   "metadata": {},
   "outputs": [],
   "source": [
    "# Сохранение модели\n",
    "# joblib.dump(model, \"models/0_opt_rdg.pkl\")\n",
    "# joblib.dump(model, \"models/1_opt_rdg.pkl\")\n",
    "# joblib.dump(model, \"models/2_opt_rdg.pkl\")"
   ]
  },
  {
   "cell_type": "markdown",
   "metadata": {},
   "source": [
    "---\n",
    "### SGDClassifier\n",
    "\n",
    "#### Baseline"
   ]
  },
  {
   "cell_type": "code",
   "execution_count": 48,
   "metadata": {},
   "outputs": [],
   "source": [
    "# model = linear_model.SGDClassifier(random_state=42)\n",
    "# model.fit(X_train_ce, y_train)\n",
    "# model.score(X_train_ce, y_train)"
   ]
  },
  {
   "cell_type": "markdown",
   "metadata": {},
   "source": [
    "#### Optimized"
   ]
  },
  {
   "cell_type": "code",
   "execution_count": 49,
   "metadata": {},
   "outputs": [],
   "source": [
    "# # Определение функции для оптимизации\n",
    "# def optuna_sgdc(trial):\n",
    "#     \"\"\"Функция, обучающая модель SGD по переданным гиперпараметрам\n",
    "#     Args:\n",
    "#         trial : класс, от которого вызываются гиперпараметры\n",
    "#     Returns:\n",
    "#         score(float): метрика F1-weighted\n",
    "#     \"\"\"\n",
    "#     # Задаем пространство поиска гиперпараметров\n",
    "#     params = {\n",
    "#         'loss': trial.suggest_categorical('loss',\n",
    "#             ['hinge', 'log_loss', 'huber', 'modified_huber', 'squared_hinge', 'perceptron']),\n",
    "#         'penalty': trial.suggest_categorical('penalty', ['l2', 'l1', 'elasticnet']),\n",
    "#         'alpha': trial.suggest_float('alpha', 1e-5, 1e-1),\n",
    "#         'l1_ratio': trial.suggest_float('l1_ratio', 1e-5, 1),\n",
    "#         'max_iter': trial.suggest_int('max_iter', 100, 1000),\n",
    "#         'n_jobs': -1,\n",
    "#         'early_stopping': True,\n",
    "#     }\n",
    "    \n",
    "#     # Инициализация SGD с оптимизируемыми гиперпараметрами\n",
    "#     clf = linear_model.SGDClassifier(\n",
    "#         **params,\n",
    "#         random_state=42\n",
    "#     )\n",
    "#     # Рассчитываем метрику на кросс-валидации\n",
    "#     score = model_selection.cross_val_score(\n",
    "#         clf, X_train_ce, y_train, cv=10, scoring=\"f1_weighted\", n_jobs=-1\n",
    "#     ).mean()\n",
    "\n",
    "#     return score\n",
    "\n",
    "\n",
    "# # Создание и запуск оптимизации с отображением прогресса с помощью tqdm\n",
    "# study_sgdc = optuna.create_study(study_name=\"sgdc_opt\", direction='maximize')\n",
    "# # Подавляем логирование\n",
    "# optuna.logging.set_verbosity(optuna.logging.WARNING)\n",
    "# # Мониторим прогресс оптимизации\n",
    "# with tqdm(total=500, desc=\"Optimizing\") as pbar:\n",
    "#     def update(study, trial):\n",
    "#         pbar.update(1)\n",
    "#     # Ищем лучшую комбинацию гиперпараметров n_trials раз\n",
    "#     study_sgdc.optimize(optuna_sgdc, n_trials=500, callbacks=[update])\n",
    "\n",
    "# # Получение оптимальных гиперпараметров\n",
    "# print(\"Лучшие гиперпараметры:\", study_sgdc.best_params)\n",
    "\n",
    "# # Передаем модели коллекцию оптимальных гиперпараметров\n",
    "# model = linear_model.SGDClassifier(\n",
    "#     **study_sgdc.best_params,\n",
    "#     random_state=42\n",
    "# )\n",
    "# # Обучение\n",
    "# model.fit(X_train_ce, y_train)\n",
    "# model.score(X_train_ce, y_train)"
   ]
  },
  {
   "cell_type": "code",
   "execution_count": 50,
   "metadata": {},
   "outputs": [],
   "source": [
    "# Сохранение модели\n",
    "# joblib.dump(model, \"models/0_opt_sgdc.pkl\")\n",
    "# joblib.dump(model, \"models/1_opt_sgdc.pkl\")\n",
    "# joblib.dump(model, \"models/2_opt_sgdc.pkl\")"
   ]
  },
  {
   "cell_type": "markdown",
   "metadata": {},
   "source": [
    "---\n",
    "### LinearSVC\n",
    "\n",
    "#### Baseline"
   ]
  },
  {
   "cell_type": "code",
   "execution_count": 51,
   "metadata": {},
   "outputs": [],
   "source": [
    "# model = svm.LinearSVC(\n",
    "#     dual='auto',\n",
    "#     random_state=42,\n",
    "#     max_iter=2000\n",
    "# )\n",
    "# model.fit(X_train_ce, y_train)\n",
    "# model.score(X_train_ce, y_train)"
   ]
  },
  {
   "cell_type": "markdown",
   "metadata": {},
   "source": [
    "#### Optimized"
   ]
  },
  {
   "cell_type": "code",
   "execution_count": 52,
   "metadata": {},
   "outputs": [],
   "source": [
    "# # Определение функции для оптимизации\n",
    "# def optuna_lsvc(trial):\n",
    "#     \"\"\"Функция, обучающая модель LinearSVC по переданным гиперпараметрам\n",
    "#     Args:\n",
    "#         trial : класс, от которого вызываются гиперпараметры\n",
    "#     Returns:\n",
    "#         score(float): метрика F1-weighted\n",
    "#     \"\"\"\n",
    "#     # Задаем пространство поиска гиперпараметров\n",
    "#     penalty = trial.suggest_categorical('penalty', ['l2', 'l1'])\n",
    "#     C = trial.suggest_float('C', 1e-5, 1e2)\n",
    "#     multi_class = trial.suggest_categorical('multi_class', ['ovr', 'crammer_singer'])\n",
    "    \n",
    "#     if penalty == 'l1':\n",
    "#         loss = 'squared_hinge'\n",
    "#     else:\n",
    "#         loss = trial.suggest_categorical('loss', ['hinge', 'squared_hinge'])\n",
    "\n",
    "#     clf = svm.LinearSVC(\n",
    "#         penalty=penalty, loss=loss, dual='auto',\n",
    "#         C=C, multi_class=multi_class,\n",
    "#         random_state=42, max_iter=10000\n",
    "#     )\n",
    "#     # Рассчитываем метрику на кросс-валидации\n",
    "#     score = model_selection.cross_val_score(\n",
    "#         clf, X_train_ce, y_train, cv=5, scoring=\"f1_weighted\", n_jobs=-1\n",
    "#     ).mean()\n",
    "\n",
    "#     return score\n",
    "\n",
    "\n",
    "# # Создание и запуск оптимизации с отображением прогресса с помощью tqdm\n",
    "# study_lsvc = optuna.create_study(study_name=\"lsvc_opt\", direction='maximize')\n",
    "# # Подавляем логирование\n",
    "# optuna.logging.set_verbosity(optuna.logging.WARNING)\n",
    "# # Мониторим прогресс оптимизации\n",
    "# with tqdm(total=100, desc=\"Optimizing\") as pbar:\n",
    "#     def update(study, trial):\n",
    "#         pbar.update(1)\n",
    "#     # Ищем лучшую комбинацию гиперпараметров n_trials раз\n",
    "#     study_lsvc.optimize(optuna_lsvc, n_trials=100, callbacks=[update])\n",
    "\n",
    "# # Получение оптимальных гиперпараметров\n",
    "# print(\"Лучшие гиперпараметры:\", study_lsvc.best_params)\n",
    "\n",
    "# # Передаем модели коллекцию оптимальных гиперпараметров\n",
    "# model = svm.LinearSVC(\n",
    "#     **study_lsvc.best_params,\n",
    "#     dual='auto',\n",
    "#     random_state=42,\n",
    "#     max_iter=10000\n",
    "# )\n",
    "# # Обучение\n",
    "# model.fit(X_train_ce, y_train)\n",
    "# model.score(X_train_ce, y_train)"
   ]
  },
  {
   "cell_type": "code",
   "execution_count": 53,
   "metadata": {},
   "outputs": [],
   "source": [
    "# Сохранение модели\n",
    "# joblib.dump(model, \"models/0_opt_lsvc.pkl\")\n",
    "# joblib.dump(model, \"models/1_opt_lsvc.pkl\")\n",
    "# joblib.dump(model, \"models/2_opt_lsvc.pkl\")"
   ]
  },
  {
   "cell_type": "markdown",
   "metadata": {},
   "source": [
    "---\n",
    "### SVC\n",
    "\n",
    "#### Baseline"
   ]
  },
  {
   "cell_type": "code",
   "execution_count": 54,
   "metadata": {},
   "outputs": [],
   "source": [
    "# model = svm.SVC(random_state=42)\n",
    "# model.fit(X_train_ce, y_train)\n",
    "# model.score(X_train_ce, y_train)"
   ]
  },
  {
   "cell_type": "markdown",
   "metadata": {},
   "source": [
    "#### Optimized"
   ]
  },
  {
   "cell_type": "code",
   "execution_count": 55,
   "metadata": {},
   "outputs": [],
   "source": [
    "# # Определение функции для оптимизации\n",
    "# def optuna_svc(trial):\n",
    "#     \"\"\"Функция, обучающая модель SVC по переданным гиперпараметрам\n",
    "#     Args:\n",
    "#         trial : класс, от которого вызываются гиперпараметры\n",
    "#     Returns:\n",
    "#         score(float): метрика F1-weighted\n",
    "#     \"\"\"\n",
    "#     # Задаем пространство поиска гиперпараметров\n",
    "#     params = {\n",
    "#         'C': trial.suggest_float('C', 1e-5, 1e2),\n",
    "#         'degree': trial.suggest_int('degree', 0, 20)\n",
    "#     }\n",
    "\n",
    "#     clf = svm.SVC(\n",
    "#         **params,\n",
    "#         random_state=42\n",
    "#     )\n",
    "#     # Рассчитываем метрику на кросс-валидации\n",
    "#     score = model_selection.cross_val_score(\n",
    "#         clf, X_train_ce, y_train, cv=5, scoring=\"f1_weighted\", n_jobs=-1\n",
    "#     ).mean()\n",
    "\n",
    "#     return score\n",
    "\n",
    "\n",
    "# # Создание и запуск оптимизации с отображением прогресса с помощью tqdm\n",
    "# study_svc = optuna.create_study(study_name=\"svc_opt\", direction='maximize')\n",
    "# # Подавляем логирование\n",
    "# optuna.logging.set_verbosity(optuna.logging.WARNING)\n",
    "# # Мониторим прогресс оптимизации\n",
    "# with tqdm(total=50, desc=\"Optimizing\") as pbar:\n",
    "#     def update(study, trial):\n",
    "#         pbar.update(1)\n",
    "#     # Ищем лучшую комбинацию гиперпараметров n_trials раз\n",
    "#     study_svc.optimize(optuna_svc, n_trials=50, callbacks=[update])\n",
    "\n",
    "# # Получение оптимальных гиперпараметров\n",
    "# print(\"Лучшие гиперпараметры:\", study_svc.best_params)\n",
    "\n",
    "# # Передаем модели коллекцию оптимальных гиперпараметров\n",
    "# model = svm.SVC(\n",
    "#     **study_svc.best_params,\n",
    "#     random_state=42\n",
    "# )\n",
    "# # Обучение\n",
    "# model.fit(X_train_ce, y_train)\n",
    "# model.score(X_train_ce, y_train)"
   ]
  },
  {
   "cell_type": "code",
   "execution_count": 56,
   "metadata": {},
   "outputs": [],
   "source": [
    "# Сохранение модели\n",
    "# joblib.dump(model, \"models/0_opt_svc.pkl\")\n",
    "# joblib.dump(model, \"models/1_opt_svc.pkl\")\n",
    "# joblib.dump(model, \"models/2_opt_svc.pkl\")"
   ]
  },
  {
   "cell_type": "markdown",
   "metadata": {},
   "source": [
    "---\n",
    "### KNeighborsClassifier\n",
    "\n",
    "#### Baseline"
   ]
  },
  {
   "cell_type": "code",
   "execution_count": 57,
   "metadata": {},
   "outputs": [],
   "source": [
    "# model = neighbors.KNeighborsClassifier()\n",
    "# model.fit(X_train_ce, y_train)\n",
    "# model.score(X_train_ce, y_train)"
   ]
  },
  {
   "cell_type": "markdown",
   "metadata": {},
   "source": [
    "#### Optimized"
   ]
  },
  {
   "cell_type": "code",
   "execution_count": 58,
   "metadata": {},
   "outputs": [],
   "source": [
    "# # Напишем функцию для оптимизации\n",
    "# def optuna_knc(trial):\n",
    "#     \"\"\"Функция, обучающая модель KNeighborsClassifier по переданным гиперпараметрам\n",
    "#     Args:\n",
    "#         trial : класс, от которого вызываются гиперпараметры\n",
    "#     Returns:\n",
    "#         score(float): метрика F1-weighted\n",
    "#     \"\"\"\n",
    "#     # Задаем пространство поиска гиперпараметров\n",
    "#     params = {\n",
    "#         'n_neighbors': trial.suggest_int('n_neighbors', 1, 30),\n",
    "#         'weights': trial.suggest_categorical('weights', ['uniform', 'distance']),\n",
    "#         'p': trial.suggest_int('p', 1, 2),\n",
    "#         'algorithm': trial.suggest_categorical('algorithm', ['auto', 'ball_tree', 'kd_tree', 'brute']),\n",
    "#         'leaf_size': trial.suggest_int('leaf_size', 10, 50)\n",
    "#     }\n",
    "\n",
    "#     clf = neighbors.KNeighborsClassifier(**params)\n",
    "#     # Рассчитываем метрику на кросс-валидации\n",
    "#     score = model_selection.cross_val_score(\n",
    "#         clf, X_train_ce, y_train, cv=10, scoring=\"f1_weighted\", n_jobs=-1\n",
    "#     ).mean()\n",
    "\n",
    "#     return score\n",
    "\n",
    "\n",
    "# # Создание и запуск оптимизации с отображением прогресса с помощью tqdm\n",
    "# study_knc = optuna.create_study(study_name=\"knc_opt\", direction='maximize')\n",
    "# # Подавляем логирование\n",
    "# optuna.logging.set_verbosity(optuna.logging.WARNING)\n",
    "# # Мониторим прогресс оптимизации\n",
    "# with tqdm(total=200, desc=\"Optimizing\") as pbar:\n",
    "#     def update(study, trial):\n",
    "#         pbar.update(1)\n",
    "#     # Ищем лучшую комбинацию гиперпараметров n_trials раз\n",
    "#     study_knc.optimize(optuna_knc, n_trials=200, callbacks=[update])\n",
    "\n",
    "# # Получение оптимальных гиперпараметров\n",
    "# print(\"Лучшие гиперпараметры:\", study_knc.best_params)\n",
    "\n",
    "# # Передаем модели коллекцию оптимальных гиперпараметров\n",
    "# model = neighbors.KNeighborsClassifier(**study_knc.best_params)\n",
    "# # Обучение\n",
    "# model.fit(X_train_ce, y_train)\n",
    "# model.score(X_train_ce, y_train)"
   ]
  },
  {
   "cell_type": "code",
   "execution_count": 59,
   "metadata": {},
   "outputs": [],
   "source": [
    "# Сохранение модели\n",
    "# joblib.dump(model, \"models/0_opt_knc.pkl\")\n",
    "# joblib.dump(model, \"models/1_opt_knc.pkl\")\n",
    "# joblib.dump(model, \"models/2_opt_knc.pkl\")"
   ]
  },
  {
   "cell_type": "markdown",
   "metadata": {},
   "source": [
    "---\n",
    "### MLPClassifier\n",
    "\n",
    "#### Baseline"
   ]
  },
  {
   "cell_type": "code",
   "execution_count": 60,
   "metadata": {},
   "outputs": [],
   "source": [
    "# model = neural_network.MLPClassifier(\n",
    "#     max_iter=2000,\n",
    "#     random_state=42\n",
    "# )\n",
    "# model.fit(X_train_ce, y_train)\n",
    "# model.score(X_train_ce, y_train)"
   ]
  },
  {
   "cell_type": "markdown",
   "metadata": {},
   "source": [
    "#### Optimized"
   ]
  },
  {
   "cell_type": "code",
   "execution_count": 61,
   "metadata": {},
   "outputs": [],
   "source": [
    "# # Напишем функцию для оптимизации\n",
    "# def optuna_mlp(trial):\n",
    "#     \"\"\"Функция, обучающая модель MLPClassifier по переданным гиперпараметрам\n",
    "#     Args:\n",
    "#         trial : класс, от которого вызываются гиперпараметры\n",
    "#     Returns:\n",
    "#         score(float): метрика F1-weighted\n",
    "#     \"\"\"\n",
    "#     # Задаем пространство поиска гиперпараметров\n",
    "#     params = {\n",
    "#         'activation': trial.suggest_categorical('activation', ['identity', 'logistic', 'tanh', 'relu']),\n",
    "#         'alpha': trial.suggest_float('alpha', 1e-5, 1e-2),\n",
    "#         'learning_rate': trial.suggest_categorical('learning_rate', ['constant', 'adaptive'])\n",
    "#     }\n",
    "    \n",
    "#     if trial.suggest_categorical('use_second_hidden_layer', [True, False]):\n",
    "#         params['hidden_layer_sizes'] = (trial.suggest_int('n_units1', 1, 200),\n",
    "#                                          trial.suggest_int('n_units2', 1, 200))\n",
    "#     else:\n",
    "#         params['hidden_layer_sizes'] = (trial.suggest_int('n_units1', 1, 200),)\n",
    "    \n",
    "#     # Инициализация MLPClassifier с оптимизируемыми гиперпараметрами\n",
    "#     clf = neural_network.MLPClassifier(\n",
    "#         **params,\n",
    "#         max_iter=3000,\n",
    "#         random_state=42\n",
    "#     )\n",
    "\n",
    "#     # Рассчитываем метрику на кросс-валидации\n",
    "#     score = model_selection.cross_val_score(\n",
    "#         clf, X_train_ce, y_train, cv=10, scoring=\"f1_weighted\", n_jobs=-1\n",
    "#     ).mean()\n",
    "    \n",
    "#     return score\n",
    "\n",
    "\n",
    "# # Создаем объект исследования для первого набора гиперпараметров\n",
    "# # Укажем, что нам необходимо максимизировать метрику direction=\"maximize\"\n",
    "# study_mlp = optuna.create_study(study_name=\"mlp_opt\", direction='maximize')\n",
    "# # Подавляем логирование\n",
    "# optuna.logging.set_verbosity(optuna.logging.WARNING)\n",
    "# # Мониторим прогресс оптимизации\n",
    "# with tqdm(total=50, desc=\"Optimizing\") as pbar:\n",
    "#     def update(study, trial):\n",
    "#         pbar.update()\n",
    "#     # Ищем лучшую комбинацию гиперпараметров n_trials раз\n",
    "#     study_mlp.optimize(optuna_mlp, n_trials=50, callbacks=[update])\n",
    "\n",
    "# # Получение оптимальных гиперпараметров\n",
    "# print(\"Лучшие гиперпараметры:\", study_mlp.best_params)\n",
    "\n",
    "# best_params = study_mlp.best_params\n",
    "# n_units1 = best_params.pop('n_units1')\n",
    "# flag = best_params.pop('use_second_hidden_layer')\n",
    "# if flag:\n",
    "#     n_units2 = best_params.pop('n_units2')\n",
    "#     hidden_layer_sizes = (n_units1, n_units2)\n",
    "# else:\n",
    "#     hidden_layer_sizes = (n_units1,)\n",
    "\n",
    "# # Передаем модели коллекцию оптимальных гиперпараметров\n",
    "# model = neural_network.MLPClassifier(\n",
    "#     hidden_layer_sizes=hidden_layer_sizes,\n",
    "#     **best_params,\n",
    "#     max_iter=3000,\n",
    "#     random_state=42\n",
    "# )\n",
    "# # Обучение\n",
    "# model.fit(X_train_ce, y_train)\n",
    "# model.score(X_train_ce, y_train)"
   ]
  },
  {
   "cell_type": "code",
   "execution_count": 62,
   "metadata": {},
   "outputs": [],
   "source": [
    "# Сохранение модели\n",
    "# joblib.dump(model, \"models/0_opt_mlp.pkl\")\n",
    "# joblib.dump(model, \"models/1_opt_mlp.pkl\")\n",
    "# joblib.dump(model, \"models/2_opt_mlp.pkl\")"
   ]
  },
  {
   "cell_type": "markdown",
   "metadata": {},
   "source": [
    "---\n",
    "### DecisionTreeClassifier\n",
    "\n",
    "#### Baseline"
   ]
  },
  {
   "cell_type": "code",
   "execution_count": 63,
   "metadata": {},
   "outputs": [],
   "source": [
    "# model = tree.DecisionTreeClassifier(random_state=42)\n",
    "# model.fit(X_train_ce, y_train)\n",
    "# model.score(X_train_ce, y_train)"
   ]
  },
  {
   "cell_type": "markdown",
   "metadata": {},
   "source": [
    "#### Optimized"
   ]
  },
  {
   "cell_type": "code",
   "execution_count": 64,
   "metadata": {},
   "outputs": [],
   "source": [
    "# # Напишем функцию для оптимизации\n",
    "# def optuna_dtc(trial):\n",
    "#     \"\"\"Функция, обучающая модель DecisionTreeClassifier по переданным гиперпараметрам\n",
    "#     Args:\n",
    "#         trial : класс, от которого вызываются гиперпараметры\n",
    "#     Returns:\n",
    "#         score(float): метрика F1-weighted\n",
    "#     \"\"\"\n",
    "#     # Задаем пространство поиска гиперпараметров\n",
    "#     params = {\n",
    "#         'criterion': trial.suggest_categorical('criterion', ['gini', 'entropy']),\n",
    "#         'splitter': trial.suggest_categorical('splitter', ['best', 'random']),\n",
    "#         'max_depth': trial.suggest_int('max_depth', 2, 32),\n",
    "#         'min_samples_split': trial.suggest_int('min_samples_split', 2, 10),\n",
    "#         'min_samples_leaf': trial.suggest_int('min_samples_leaf', 1, 10)\n",
    "#     }\n",
    "#     # Инициализация DecisionTreeClassifier с оптимизируемыми гиперпараметрами\n",
    "#     clf = tree.DecisionTreeClassifier(\n",
    "#         **params, random_state=42\n",
    "#     )\n",
    "#     # Рассчитываем метрику на кросс-валидации\n",
    "#     score = model_selection.cross_val_score(\n",
    "#         clf, X_train_ce, y_train, cv=10, scoring=\"f1_weighted\", n_jobs=-1\n",
    "#     ).mean()\n",
    "    \n",
    "#     return score\n",
    "\n",
    "\n",
    "# # Создаем объект исследования для первого набора гиперпараметров\n",
    "# # Укажем, что нам необходимо максимизировать метрику direction=\"maximize\"\n",
    "# study_dtc = optuna.create_study(study_name=\"dtc_opt\", direction='maximize')\n",
    "# # Подавляем логирование\n",
    "# optuna.logging.set_verbosity(optuna.logging.WARNING)\n",
    "# # Мониторим прогресс оптимизации\n",
    "# with tqdm(total=200, desc=\"Optimizing\") as pbar:\n",
    "#     def update(study, trial):\n",
    "#         pbar.update()\n",
    "#     # Ищем лучшую комбинацию гиперпараметров n_trials раз\n",
    "#     study_dtc.optimize(optuna_dtc, n_trials=200, callbacks=[update])\n",
    "\n",
    "# # Получение оптимальных гиперпараметров\n",
    "# print(\"Лучшие гиперпараметры:\", study_dtc.best_params)\n",
    "\n",
    "# # Передаем модели коллекцию оптимальных гиперпараметров\n",
    "# model = tree.DecisionTreeClassifier(\n",
    "#     **study_dtc.best_params,\n",
    "#     random_state=42\n",
    "# )\n",
    "# # Обучение\n",
    "# model.fit(X_train_ce, y_train)\n",
    "# model.score(X_train_ce, y_train)"
   ]
  },
  {
   "cell_type": "code",
   "execution_count": 65,
   "metadata": {},
   "outputs": [],
   "source": [
    "# Сохранение модели\n",
    "# joblib.dump(model, \"models/0_opt_dtc.pkl\")\n",
    "# joblib.dump(model, \"models/1_opt_dtc.pkl\")\n",
    "# joblib.dump(model, \"models/2_opt_dtc.pkl\")"
   ]
  },
  {
   "cell_type": "markdown",
   "metadata": {},
   "source": [
    "---\n",
    "### AdaBoostClassifier\n",
    "\n",
    "#### Baseline"
   ]
  },
  {
   "cell_type": "code",
   "execution_count": 66,
   "metadata": {},
   "outputs": [],
   "source": [
    "# model = ensemble.AdaBoostClassifier(\n",
    "#     estimator=tree.DecisionTreeClassifier(),\n",
    "#     algorithm='SAMME',\n",
    "#     random_state=42\n",
    "# )\n",
    "# model.fit(X_train_ce, y_train)\n",
    "# model.score(X_train_ce, y_train)"
   ]
  },
  {
   "cell_type": "markdown",
   "metadata": {},
   "source": [
    "#### Optimized"
   ]
  },
  {
   "cell_type": "code",
   "execution_count": 67,
   "metadata": {},
   "outputs": [],
   "source": [
    "# # Напишем функцию для оптимизации\n",
    "# def optuna_abc(trial):\n",
    "#     \"\"\"Функция, обучающая модель AdaBoostClassifier по переданным гиперпараметрам\n",
    "#     Args:\n",
    "#         trial : класс, от которого вызываются гиперпараметры\n",
    "#     Returns:\n",
    "#         score(float): метрика F1-weighted\n",
    "#     \"\"\"\n",
    "#     # Задаем пространство поиска гиперпараметров\n",
    "#     n_estimators = trial.suggest_int('n_estimators', 50, 200)\n",
    "#     learning_rate = trial.suggest_float('learning_rate', 0.01, 1.0)\n",
    "    \n",
    "#     estimator = tree.DecisionTreeClassifier(\n",
    "#         max_depth=trial.suggest_int('max_depth', 1, 18),\n",
    "#         criterion=trial.suggest_categorical('criterion', ['gini', 'entropy']),\n",
    "#         splitter=trial.suggest_categorical('splitter', ['best', 'random']),\n",
    "#         min_samples_split=trial.suggest_int('min_samples_split', 2, 12),\n",
    "#         min_samples_leaf=trial.suggest_int('min_samples_leaf', 1, 12)\n",
    "#     )\n",
    "#     # Инициализация AdaBoost с оптимизируемыми гиперпараметрами\n",
    "#     clf = ensemble.AdaBoostClassifier(\n",
    "#         estimator=estimator,\n",
    "#         n_estimators=n_estimators,\n",
    "#         learning_rate=learning_rate,\n",
    "#         random_state=42\n",
    "#     )\n",
    "#     # Рассчитываем метрику на кросс-валидации\n",
    "#     score = model_selection.cross_val_score(\n",
    "#         clf, X_train_ce, y_train, cv=5, scoring=\"f1_weighted\", n_jobs=-1\n",
    "#     ).mean()\n",
    "    \n",
    "#     return score\n",
    "\n",
    "\n",
    "# # Создаем объект исследования для первого набора гиперпараметров\n",
    "# # Укажем, что нам необходимо максимизировать метрику direction=\"maximize\"\n",
    "# study_abc = optuna.create_study(study_name=\"abc_opt\", direction='maximize')\n",
    "# # Подавляем логирование\n",
    "# optuna.logging.set_verbosity(optuna.logging.WARNING)\n",
    "# # Мониторим прогресс оптимизации\n",
    "# with tqdm(total=50, desc=\"Optimizing\") as pbar:\n",
    "#     def update(study, trial):\n",
    "#         pbar.update()\n",
    "#     # Ищем лучшую комбинацию гиперпараметров n_trials раз\n",
    "#     study_abc.optimize(optuna_abc, n_trials=50, callbacks=[update])\n",
    "\n",
    "# # Получение оптимальных гиперпараметров\n",
    "# print(\"Лучшие гиперпараметры:\", study_abc.best_params)\n",
    "# best_params = study_abc.best_params\n",
    "# n_estimators = best_params.pop('n_estimators')\n",
    "# learning_rate = best_params.pop('learning_rate')\n",
    "\n",
    "# # Передаем модели коллекцию оптимальных гиперпараметров\n",
    "# model = ensemble.AdaBoostClassifier(\n",
    "#     estimator=tree.DecisionTreeClassifier(**best_params),\n",
    "#     n_estimators=n_estimators,\n",
    "#     learning_rate=learning_rate,\n",
    "#     random_state=42\n",
    "# )\n",
    "# # Обучение\n",
    "# model.fit(X_train_ce, y_train)\n",
    "# model.score(X_train_ce, y_train)"
   ]
  },
  {
   "cell_type": "code",
   "execution_count": 68,
   "metadata": {},
   "outputs": [],
   "source": [
    "# Сохранение модели\n",
    "# joblib.dump(model, \"models/0_opt_abc.pkl\")\n",
    "# joblib.dump(model, \"models/1_opt_abc.pkl\")\n",
    "# joblib.dump(model, \"models/2_opt_abc.pkl\")"
   ]
  },
  {
   "cell_type": "markdown",
   "metadata": {},
   "source": [
    "---\n",
    "### BaggingClassifier\n",
    "\n",
    "#### Baseline"
   ]
  },
  {
   "cell_type": "code",
   "execution_count": 69,
   "metadata": {},
   "outputs": [],
   "source": [
    "# model = ensemble.BaggingClassifier(\n",
    "#     estimator=tree.DecisionTreeClassifier(),\n",
    "#     n_jobs=-1,\n",
    "#     random_state=42\n",
    "# )\n",
    "# model.fit(X_train_ce, y_train)\n",
    "# model.score(X_train_ce, y_train)"
   ]
  },
  {
   "cell_type": "markdown",
   "metadata": {},
   "source": [
    "#### Optimized"
   ]
  },
  {
   "cell_type": "code",
   "execution_count": 70,
   "metadata": {},
   "outputs": [],
   "source": [
    "# # Напишем функцию для оптимизации\n",
    "# def optuna_bc(trial):\n",
    "#     \"\"\"Функция, обучающая модель BaggingClassifier по переданным гиперпараметрам\n",
    "#     Args:\n",
    "#         trial : класс, от которого вызываются гиперпараметры\n",
    "#     Returns:\n",
    "#         score(float): метрика F1-weighted\n",
    "#     \"\"\"\n",
    "#     # Задаем пространство поиска гиперпараметров\n",
    "#     n_estimators = trial.suggest_int('n_estimators', 10, 200)\n",
    "#     max_samples = trial.suggest_float('max_samples', 0.1, 1.0)\n",
    "#     max_features = trial.suggest_float('max_features', 0.1, 1.0)\n",
    "    \n",
    "#     # estimator = tree.DecisionTreeClassifier(\n",
    "#     #     max_depth=trial.suggest_int('max_depth', 1, 18),\n",
    "#     #     criterion=trial.suggest_categorical('criterion', ['gini', 'entropy']),\n",
    "#     #     splitter=trial.suggest_categorical('splitter', ['best', 'random']),\n",
    "#     #     min_samples_split=trial.suggest_int('min_samples_split', 2, 12),\n",
    "#     #     min_samples_leaf=trial.suggest_int('min_samples_leaf', 1, 12)\n",
    "#     # )\n",
    "#     # Инициализация BaggingClassifier с оптимизируемыми гиперпараметрами\n",
    "#     clf = ensemble.BaggingClassifier(\n",
    "#         # estimator=estimator,\n",
    "#         n_estimators=n_estimators,\n",
    "#         max_samples=max_samples,\n",
    "#         max_features=max_features,\n",
    "#         n_jobs=-1,\n",
    "#         random_state=42\n",
    "#     )\n",
    "#     # Рассчитываем метрику на кросс-валидации\n",
    "#     score = model_selection.cross_val_score(\n",
    "#         clf, X_train_ce, y_train, cv=5, scoring=\"f1_weighted\", n_jobs=-1\n",
    "#     ).mean()\n",
    "    \n",
    "#     return score\n",
    "\n",
    "\n",
    "# # Создаем объект исследования для первого набора гиперпараметров\n",
    "# # Укажем, что нам необходимо максимизировать метрику direction=\"maximize\"\n",
    "# study_bc = optuna.create_study(study_name=\"bc_opt\", direction='maximize')\n",
    "# # Подавляем логирование\n",
    "# optuna.logging.set_verbosity(optuna.logging.WARNING)\n",
    "# # Мониторим прогресс оптимизации\n",
    "# with tqdm(total=100, desc=\"Optimizing\") as pbar:\n",
    "#     def update(study, trial):\n",
    "#         pbar.update()\n",
    "#     # Ищем лучшую комбинацию гиперпараметров n_trials раз\n",
    "#     study_bc.optimize(optuna_bc, n_trials=100, callbacks=[update])\n",
    "\n",
    "# # Получение оптимальных гиперпараметров\n",
    "# print(\"Лучшие гиперпараметры:\", study_bc.best_params)\n",
    "# # best_params = study_bc.best_params\n",
    "# # n_estimators = best_params.pop('n_estimators')\n",
    "# # learning_rate = best_params.pop('learning_rate')\n",
    "\n",
    "# # Передаем модели коллекцию оптимальных гиперпараметров\n",
    "# model = ensemble.BaggingClassifier(\n",
    "#     # estimator=tree.DecisionTreeClassifier(**best_params),\n",
    "#     **study_bc.best_params,\n",
    "#     n_jobs=-1,\n",
    "#     random_state=42\n",
    "# )\n",
    "# # Обучение\n",
    "# model.fit(X_train_ce, y_train)\n",
    "# model.score(X_train_ce, y_train)"
   ]
  },
  {
   "cell_type": "code",
   "execution_count": 71,
   "metadata": {},
   "outputs": [],
   "source": [
    "# Сохранение модели\n",
    "# joblib.dump(model, \"models/0_opt_bc.pkl\")\n",
    "# joblib.dump(model, \"models/1_opt_bc.pkl\")\n",
    "# joblib.dump(model, \"models/2_opt_bc.pkl\")"
   ]
  },
  {
   "cell_type": "markdown",
   "metadata": {},
   "source": [
    "---\n",
    "### ExtraTreesClassifier\n",
    "\n",
    "#### Baseline"
   ]
  },
  {
   "cell_type": "code",
   "execution_count": 72,
   "metadata": {},
   "outputs": [],
   "source": [
    "# model = ensemble.ExtraTreesClassifier(\n",
    "#     n_jobs=-1,\n",
    "#     random_state=42\n",
    "# )\n",
    "# model.fit(X_train_ce, y_train)\n",
    "# model.score(X_train_ce, y_train)"
   ]
  },
  {
   "cell_type": "markdown",
   "metadata": {},
   "source": [
    "#### Optimized"
   ]
  },
  {
   "cell_type": "code",
   "execution_count": 73,
   "metadata": {},
   "outputs": [],
   "source": [
    "# # Напишем функцию для оптимизации\n",
    "# def optuna_etc(trial):\n",
    "#     \"\"\"Функция, обучающая модель ExtraTreesClassifier по переданным гиперпараметрам\n",
    "#     Args:\n",
    "#         trial : класс, от которого вызываются гиперпараметры\n",
    "#     Returns:\n",
    "#         score(float): метрика F1-weighted\n",
    "#     \"\"\"\n",
    "#     # Задаем пространство поиска гиперпараметров\n",
    "#     params = {\n",
    "#         'n_estimators': trial.suggest_int('n_estimators', 100, 1000),\n",
    "#         'criterion': trial.suggest_categorical('criterion', ['gini', 'entropy']),\n",
    "#         'min_samples_split': trial.suggest_int('min_samples_split', 2, 10),\n",
    "#         'min_samples_leaf': trial.suggest_int('min_samples_leaf', 1, 10)\n",
    "#     }\n",
    "    \n",
    "#     # Инициализация ExtraTrees с оптимизируемыми гиперпараметрами\n",
    "#     clf = ensemble.ExtraTreesClassifier(\n",
    "#         **params,\n",
    "#         n_jobs=-1,\n",
    "#         random_state=42\n",
    "#     )\n",
    "#     # Рассчитываем метрику на кросс-валидации\n",
    "#     score = model_selection.cross_val_score(\n",
    "#         clf, X_train_ce, y_train, cv=10, scoring=\"f1_weighted\", n_jobs=-1\n",
    "#     ).mean()\n",
    "    \n",
    "#     return score\n",
    "\n",
    "\n",
    "# # Создаем объект исследования для первого набора гиперпараметров\n",
    "# # Укажем, что нам необходимо максимизировать метрику direction=\"maximize\"\n",
    "# study_etc = optuna.create_study(study_name=\"etc_opt\", direction='maximize')\n",
    "# # Подавляем логирование\n",
    "# optuna.logging.set_verbosity(optuna.logging.WARNING)\n",
    "# # Мониторим прогресс оптимизации\n",
    "# with tqdm(total=100, desc=\"Optimizing\") as pbar:\n",
    "#     def update(study, trial):\n",
    "#         pbar.update()\n",
    "#     # Ищем лучшую комбинацию гиперпараметров n_trials раз\n",
    "#     study_etc.optimize(optuna_etc, n_trials=100, callbacks=[update])\n",
    "\n",
    "# # Получение оптимальных гиперпараметров\n",
    "# print(\"Лучшие гиперпараметры:\", study_etc.best_params)\n",
    "\n",
    "# # Передаем модели коллекцию оптимальных гиперпараметров\n",
    "# model = ensemble.ExtraTreesClassifier(\n",
    "#     **study_etc.best_params,\n",
    "#     n_jobs=-1,\n",
    "#     random_state=42\n",
    "# )\n",
    "# # Обучение\n",
    "# model.fit(X_train_ce, y_train)\n",
    "# model.score(X_train_ce, y_train)"
   ]
  },
  {
   "cell_type": "code",
   "execution_count": 74,
   "metadata": {},
   "outputs": [],
   "source": [
    "# Сохранение модели\n",
    "# joblib.dump(model, \"models/0_opt_etc.pkl\")\n",
    "# joblib.dump(model, \"models/1_opt_etc.pkl\")\n",
    "# joblib.dump(model, \"models/2_opt_etc.pkl\")"
   ]
  },
  {
   "cell_type": "markdown",
   "metadata": {},
   "source": [
    "---\n",
    "### GradientBoostingClassifier\n",
    "\n",
    "#### Baseline"
   ]
  },
  {
   "cell_type": "code",
   "execution_count": 75,
   "metadata": {},
   "outputs": [],
   "source": [
    "# %%time\n",
    "# model = ensemble.GradientBoostingClassifier(random_state=42)\n",
    "# model.fit(X_train_ce, y_train)\n",
    "# model.score(X_train_ce, y_train)"
   ]
  },
  {
   "cell_type": "markdown",
   "metadata": {},
   "source": [
    "#### Optimized"
   ]
  },
  {
   "cell_type": "code",
   "execution_count": 76,
   "metadata": {},
   "outputs": [],
   "source": [
    "# # Напишем функцию для оптимизации\n",
    "# def optuna_gbc(trial):\n",
    "#     \"\"\"Функция, обучающая модель GradientBoosting по переданным гиперпараметрам\n",
    "#     Args:\n",
    "#         trial : класс, от которого вызываются гиперпараметры\n",
    "#     Returns:\n",
    "#         score(float): метрика F1-weighted\n",
    "#     \"\"\"\n",
    "#     # Задаем пространство поиска гиперпараметров\n",
    "#     params = {\n",
    "#         'learning_rate': trial.suggest_float('learning_rate', 0.01, 0.5),\n",
    "#         'n_estimators': trial.suggest_int('n_estimators', 100, 1000),\n",
    "#         'min_samples_split': trial.suggest_int('min_samples_split', 2, 10),\n",
    "#         'min_samples_leaf': trial.suggest_int('min_samples_leaf', 1, 10),\n",
    "#         'max_depth': trial.suggest_int('max_depth', 3, 10)\n",
    "#     }\n",
    "    \n",
    "#     # Инициализация GradientBoosting с оптимизируемыми гиперпараметрами\n",
    "#     clf = ensemble.GradientBoostingClassifier(\n",
    "#         **params,\n",
    "#         random_state=42\n",
    "#     )\n",
    "#     # Рассчитываем метрику на кросс-валидации\n",
    "#     score = model_selection.cross_val_score(\n",
    "#         clf, X_train_ce, y_train, cv=5, scoring=\"f1_weighted\", n_jobs=-1\n",
    "#     ).mean()\n",
    "    \n",
    "#     return score\n",
    "\n",
    "\n",
    "# # Создаем объект исследования для первого набора гиперпараметров\n",
    "# # Укажем, что нам необходимо максимизировать метрику direction=\"maximize\"\n",
    "# study_gbc = optuna.create_study(study_name=\"gbc_opt\", direction='maximize')\n",
    "# # Подавляем логирование\n",
    "# optuna.logging.set_verbosity(optuna.logging.WARNING)\n",
    "# # Мониторим прогресс оптимизации\n",
    "# with tqdm(total=50, desc=\"Optimizing\") as pbar:\n",
    "#     def update(study, trial):\n",
    "#         pbar.update()\n",
    "#     # Ищем лучшую комбинацию гиперпараметров n_trials раз\n",
    "#     study_gbc.optimize(optuna_gbc, n_trials=50, callbacks=[update])\n",
    "\n",
    "# # Получение оптимальных гиперпараметров\n",
    "# print(\"Лучшие гиперпараметры:\", study_gbc.best_params)\n",
    "\n",
    "# # Передаем модели коллекцию оптимальных гиперпараметров\n",
    "# model = ensemble.GradientBoostingClassifier(\n",
    "#     **study_gbc.best_params,\n",
    "#     random_state=42\n",
    "# )\n",
    "# # Обучение\n",
    "# model.fit(X_train_ce, y_train)\n",
    "# model.score(X_train_ce, y_train)"
   ]
  },
  {
   "cell_type": "code",
   "execution_count": 77,
   "metadata": {},
   "outputs": [],
   "source": [
    "# Сохранение модели\n",
    "# joblib.dump(model, \"models/0_opt_gbc.pkl\")\n",
    "# joblib.dump(model, \"models/1_opt_gbc.pkl\")\n",
    "# joblib.dump(model, \"models/2_opt_gbc.pkl\")"
   ]
  },
  {
   "cell_type": "markdown",
   "metadata": {},
   "source": [
    "---\n",
    "### RandomForestClassifier\n",
    "\n",
    "#### Baseline"
   ]
  },
  {
   "cell_type": "code",
   "execution_count": 78,
   "metadata": {},
   "outputs": [],
   "source": [
    "# model = ensemble.RandomForestClassifier(\n",
    "#     n_jobs=-1,\n",
    "#     random_state=42\n",
    "# )\n",
    "# model.fit(X_train_ce, y_train)\n",
    "# model.score(X_train_ce, y_train)"
   ]
  },
  {
   "cell_type": "markdown",
   "metadata": {},
   "source": [
    "#### Optimized"
   ]
  },
  {
   "cell_type": "code",
   "execution_count": 79,
   "metadata": {},
   "outputs": [],
   "source": [
    "# # Напишем функцию для оптимизации\n",
    "# def optuna_rfc(trial):\n",
    "#     \"\"\"Функция, обучающая модель RandomForest по переданным гиперпараметрам\n",
    "#     Args:\n",
    "#         trial : класс, от которого вызываются гиперпараметры\n",
    "#     Returns:\n",
    "#         score(float): метрика F1-weighted\n",
    "#     \"\"\"\n",
    "#     # Задаем пространство поиска гиперпараметров\n",
    "#     params = {\n",
    "#         'n_estimators': trial.suggest_int('n_estimators', 100, 500),\n",
    "#         'criterion': trial.suggest_categorical('criterion', ['gini', 'entropy']),\n",
    "#         'max_depth': trial.suggest_int('max_depth', 3, 45),\n",
    "#         'min_samples_split': trial.suggest_int('min_samples_split', 2, 10),\n",
    "#         'min_samples_leaf': trial.suggest_int('min_samples_leaf', 1, 10)\n",
    "#     }\n",
    "    \n",
    "#     # Инициализация RandomForest с оптимизируемыми гиперпараметрами\n",
    "#     clf = ensemble.RandomForestClassifier(\n",
    "#         **params,\n",
    "#         n_jobs=-1,\n",
    "#         random_state=42\n",
    "#     )\n",
    "#     # Рассчитываем метрику на кросс-валидации\n",
    "#     score = model_selection.cross_val_score(\n",
    "#         clf, X_train_ce, y_train, cv=5, scoring=\"f1_weighted\", n_jobs=-1\n",
    "#     ).mean()\n",
    "    \n",
    "#     return score\n",
    "\n",
    "\n",
    "# # Создаем объект исследования для первого набора гиперпараметров\n",
    "# # Укажем, что нам необходимо максимизировать метрику direction=\"maximize\"\n",
    "# study_rfc = optuna.create_study(study_name=\"rfc_opt\", direction='maximize')\n",
    "# # Подавляем логирование\n",
    "# optuna.logging.set_verbosity(optuna.logging.WARNING)\n",
    "# # Мониторим прогресс оптимизации\n",
    "# with tqdm(total=50, desc=\"Optimizing\") as pbar:\n",
    "#     def update(study, trial):\n",
    "#         pbar.update()\n",
    "#     # Ищем лучшую комбинацию гиперпараметров n_trials раз\n",
    "#     study_rfc.optimize(optuna_rfc, n_trials=50, callbacks=[update])\n",
    "\n",
    "# # Получение оптимальных гиперпараметров\n",
    "# print(\"Лучшие гиперпараметры:\", study_rfc.best_params)\n",
    "\n",
    "# # Передаем модели коллекцию оптимальных гиперпараметров\n",
    "# model = ensemble.RandomForestClassifier(\n",
    "#     **study_rfc.best_params,\n",
    "#     n_jobs=-1,\n",
    "#     random_state=42\n",
    "# )\n",
    "# # Обучение\n",
    "# model.fit(X_train_ce, y_train)\n",
    "# model.score(X_train_ce, y_train)"
   ]
  },
  {
   "cell_type": "code",
   "execution_count": 80,
   "metadata": {},
   "outputs": [],
   "source": [
    "# Сохранение модели\n",
    "# joblib.dump(model, \"models/0_opt_rfc.pkl\")\n",
    "# joblib.dump(model, \"models/1_opt_rfc.pkl\")\n",
    "# joblib.dump(model, \"models/2_opt_rfc.pkl\")"
   ]
  },
  {
   "cell_type": "markdown",
   "metadata": {},
   "source": [
    "---\n",
    "### HistGradientBoostingClassifier\n",
    "\n",
    "#### Baseline"
   ]
  },
  {
   "cell_type": "code",
   "execution_count": 81,
   "metadata": {},
   "outputs": [],
   "source": [
    "# model = ensemble.HistGradientBoostingClassifier(random_state=42)\n",
    "# model.fit(X_train_ce, y_train)\n",
    "# model.score(X_train_ce, y_train)"
   ]
  },
  {
   "cell_type": "markdown",
   "metadata": {},
   "source": [
    "#### Optimized"
   ]
  },
  {
   "cell_type": "code",
   "execution_count": 82,
   "metadata": {},
   "outputs": [],
   "source": [
    "# # Напишем функцию для оптимизации\n",
    "# def optuna_hgbc(trial):\n",
    "#     \"\"\"Функция, обучающая модель HistGradientBoosting по переданным гиперпараметрам\n",
    "#     Args:\n",
    "#         trial : класс, от которого вызываются гиперпараметры\n",
    "#     Returns:\n",
    "#         score(float): метрика F1-weighted\n",
    "#     \"\"\"\n",
    "#     # Задаем пространство поиска гиперпараметров\n",
    "#     params = {\n",
    "#         'learning_rate': trial.suggest_float('learning_rate', 0.01, 1.0),\n",
    "#         'max_iter': trial.suggest_int('max_iter', 10, 300),\n",
    "#         'max_leaf_nodes': trial.suggest_int('max_leaf_nodes', 10, 50),\n",
    "#         'max_depth': trial.suggest_int('max_depth', 3, 10),\n",
    "#         'min_samples_leaf': trial.suggest_int('min_samples_leaf', 5, 30),\n",
    "#         'l2_regularization': trial.suggest_float('l2_regularization', 0, 100) \n",
    "#     }\n",
    "    \n",
    "#     # Инициализация HistGradientBoosting с оптимизируемыми гиперпараметрами\n",
    "#     clf = ensemble.HistGradientBoostingClassifier(\n",
    "#         **params,\n",
    "#         random_state=42\n",
    "#     )\n",
    "#     # Рассчитываем метрику на кросс-валидации\n",
    "#     score = model_selection.cross_val_score(\n",
    "#         clf, X_train_ce, y_train, cv=5, scoring=\"f1_weighted\", n_jobs=-1\n",
    "#     ).mean()\n",
    "    \n",
    "#     return score\n",
    "\n",
    "\n",
    "# # Создаем объект исследования для первого набора гиперпараметров\n",
    "# # Укажем, что нам необходимо максимизировать метрику direction=\"maximize\"\n",
    "# study_hgbc = optuna.create_study(study_name=\"hgbc_opt\", direction='maximize')\n",
    "# # Подавляем логирование\n",
    "# optuna.logging.set_verbosity(optuna.logging.WARNING)\n",
    "# # Мониторим прогресс оптимизации\n",
    "# with tqdm(total=100, desc=\"Optimizing\") as pbar:\n",
    "#     def update(study, trial):\n",
    "#         pbar.update()\n",
    "#     # Ищем лучшую комбинацию гиперпараметров n_trials раз\n",
    "#     study_hgbc.optimize(optuna_hgbc, n_trials=100, callbacks=[update])\n",
    "\n",
    "# # Получение оптимальных гиперпараметров\n",
    "# print(\"Лучшие гиперпараметры:\", study_hgbc.best_params)\n",
    "\n",
    "# # Передаем модели коллекцию оптимальных гиперпараметров\n",
    "# model = ensemble.HistGradientBoostingClassifier(\n",
    "#     **study_hgbc.best_params,\n",
    "#     random_state=42\n",
    "# )\n",
    "# # Обучение\n",
    "# model.fit(X_train_ce, y_train)\n",
    "# model.score(X_train_ce, y_train)"
   ]
  },
  {
   "cell_type": "code",
   "execution_count": 83,
   "metadata": {},
   "outputs": [],
   "source": [
    "# Сохранение модели\n",
    "# joblib.dump(model, \"models/0_opt_hgbc.pkl\")\n",
    "# joblib.dump(model, \"models/1_opt_hgbc.pkl\")\n",
    "# joblib.dump(model, \"models/2_opt_hgbc.pkl\")"
   ]
  },
  {
   "cell_type": "markdown",
   "metadata": {},
   "source": [
    "---\n",
    "### XGBClassifier\n",
    "\n",
    "#### Baseline"
   ]
  },
  {
   "cell_type": "code",
   "execution_count": 84,
   "metadata": {},
   "outputs": [],
   "source": [
    "# model = xgb.XGBClassifier(seed=42, n_jobs=-1)\n",
    "# model.fit(X_train_ce, y_train)\n",
    "# model.score(X_train_ce, y_train)"
   ]
  },
  {
   "cell_type": "markdown",
   "metadata": {},
   "source": [
    "#### Optimized"
   ]
  },
  {
   "cell_type": "code",
   "execution_count": 85,
   "metadata": {},
   "outputs": [],
   "source": [
    "# # Напишем функцию для оптимизации\n",
    "# def optuna_xgbc(trial):\n",
    "#     \"\"\"Функция, обучающая модель XGB по переданным гиперпараметрам\n",
    "#     Args:\n",
    "#         trial : класс, от которого вызываются гиперпараметры\n",
    "#     Returns:\n",
    "#         score(float): метрика F1-weighted\n",
    "#     \"\"\"\n",
    "#     # Задаем пространство поиска гиперпараметров\n",
    "#     param = {\n",
    "#         'objective': 'multi:softmax',\n",
    "#         'num_class': 6,\n",
    "#         'eval_metric': 'mlogloss',\n",
    "#         'booster': trial.suggest_categorical('booster', ['gbtree', 'gblinear', 'dart']),\n",
    "#         'verbosity': 0,\n",
    "#         'subsample': 0.5,\n",
    "#         'learning_rate': trial.suggest_float('learning_rate', 0, 0.3),\n",
    "#         'max_depth': trial.suggest_int('max_depth', 3, 10),\n",
    "#         'n_estimators': trial.suggest_int('n_estimators', 100, 1000, step=100),\n",
    "#         'min_child_weight': trial.suggest_int('min_child_weight', 1, 10),\n",
    "#         'alpha': trial.suggest_float('alpha', 0.01, 50.0, log=True),\n",
    "#         'lambda': trial.suggest_float('lambda', 0.01, 50.0, log=True),\n",
    "#         'subsample': trial.suggest_float('subsample', 0.5, 1.0),\n",
    "#         'colsample_bytree': trial.suggest_float('colsample_bytree', 0.2, 1.0),\n",
    "#         'gamma': trial.suggest_float('gamma', 0, 50)\n",
    "#     }\n",
    "    \n",
    "#     # Инициализация XGB с оптимизируемыми гиперпараметрами\n",
    "#     clf = xgb.XGBClassifier(**param, random_state=42, n_jobs=-1)\n",
    "#     # Рассчитываем метрику на кросс-валидации\n",
    "#     score = model_selection.cross_val_score(\n",
    "#         clf, X_train_ce, y_train, cv=5, scoring=\"f1_weighted\", n_jobs=-1\n",
    "#     ).mean()\n",
    "    \n",
    "#     return score\n",
    "\n",
    "\n",
    "# # Создаем объект исследования для первого набора гиперпараметров\n",
    "# # Укажем, что нам необходимо максимизировать метрику direction=\"maximize\"\n",
    "# study_xgbc = optuna.create_study(study_name=\"xgbc_opt\", direction='maximize')\n",
    "# # Подавляем логирование\n",
    "# optuna.logging.set_verbosity(optuna.logging.WARNING)\n",
    "# # Мониторим прогресс оптимизации\n",
    "# with tqdm(total=10, desc=\"Optimizing\") as pbar:\n",
    "#     def update(study, trial):\n",
    "#         pbar.update()\n",
    "#     # Ищем лучшую комбинацию гиперпараметров n_trials раз\n",
    "#     study_xgbc.optimize(optuna_xgbc, n_trials=10, callbacks=[update])\n",
    "\n",
    "# # Получение оптимальных гиперпараметров\n",
    "# print(\"Лучшие гиперпараметры:\", study_xgbc.best_params)\n",
    "\n",
    "# # Передаем модели коллекцию оптимальных гиперпараметров\n",
    "# model = xgb.XGBClassifier(\n",
    "#     **study_xgbc.best_params,\n",
    "#     random_state=42, n_jobs=-1\n",
    "# )\n",
    "# # Обучение\n",
    "# model.fit(X_train_ce, y_train)\n",
    "# model.score(X_train_ce, y_train)"
   ]
  },
  {
   "cell_type": "code",
   "execution_count": 86,
   "metadata": {},
   "outputs": [],
   "source": [
    "# Сохранение модели\n",
    "# joblib.dump(model, \"models/0_opt_xgbc.pkl\")\n",
    "# joblib.dump(model, \"models/1_opt_xgbc.pkl\")\n",
    "# joblib.dump(model, \"models/2_opt_xgbc.pkl\")"
   ]
  },
  {
   "cell_type": "markdown",
   "metadata": {},
   "source": [
    "---\n",
    "### CatBoostClassifier\n",
    "\n",
    "#### Baseline"
   ]
  },
  {
   "cell_type": "code",
   "execution_count": 87,
   "metadata": {},
   "outputs": [],
   "source": [
    "# model = cb.CatBoostClassifier(verbose=False, random_seed=42)\n",
    "# model.fit(X_train_ce, y_train)\n",
    "# model.score(X_train_ce, y_train)"
   ]
  },
  {
   "cell_type": "markdown",
   "metadata": {},
   "source": [
    "#### Optimized"
   ]
  },
  {
   "cell_type": "code",
   "execution_count": 88,
   "metadata": {},
   "outputs": [],
   "source": [
    "# # Напишем функцию для оптимизации\n",
    "# def optuna_cbc(trial):\n",
    "#     \"\"\"Функция, обучающая модель XGB по переданным гиперпараметрам\n",
    "#     Args:\n",
    "#         trial : класс, от которого вызываются гиперпараметры\n",
    "#     Returns:\n",
    "#         score(float): метрика F1-weighted\n",
    "#     \"\"\"\n",
    "#     # Задаем пространство поиска гиперпараметров\n",
    "#     # params = {\n",
    "#     #     'depth': trial.suggest_int('depth', 4, 10),\n",
    "#     #     'learning_rate': trial.suggest_float('learning_rate', 0.01, 0.3),\n",
    "#     #     'bagging_temperature': trial.suggest_float('bagging_temperature', 0, 1),\n",
    "#     #     'random_strength': trial.suggest_float('random_strength', 1, 15),\n",
    "#     #     'l2_leaf_reg': trial.suggest_float('l2_leaf_reg', 1, 15),\n",
    "#     # }\n",
    "    \n",
    "#     params = {\n",
    "#         # \"objective\": \"MultiClass\",\n",
    "#         # \"colsample_bylevel\": trial.suggest_float(\"colsample_bylevel\", 0.01, 0.1),\n",
    "#         'learning_rate': trial.suggest_float('learning_rate', 0.01, 0.3),\n",
    "#         'l2_leaf_reg': trial.suggest_float('l2_leaf_reg', 1, 15),\n",
    "#         \"depth\": trial.suggest_int(\"depth\", 1, 12),\n",
    "#         # \"boosting_type\": trial.suggest_categorical(\"boosting_type\", [\"Ordered\", \"Plain\"]),\n",
    "#         # \"bootstrap_type\": trial.suggest_categorical(\"bootstrap_type\", [\"Bayesian\", \"Bernoulli\", \"MVS\"]),\n",
    "#         # \"used_ram_limit\": \"3gb\",\n",
    "#     }\n",
    "\n",
    "#     # if params[\"bootstrap_type\"] == \"Bayesian\":\n",
    "#     #     params[\"bagging_temperature\"] = trial.suggest_float(\"bagging_temperature\", 0, 10)\n",
    "#     # elif params[\"bootstrap_type\"] == \"Bernoulli\":\n",
    "#     #     params[\"subsample\"] = trial.suggest_float(\"subsample\", 0.1, 1)\n",
    "    \n",
    "#     clf = cb.CatBoostClassifier(**params, verbose=False, random_seed=42)\n",
    "\n",
    "#     # pruning_callback = CatBoostPruningCallback(trial, \"MultiClass\")\n",
    "#     # clf.fit(\n",
    "#     #     X_train_ce,\n",
    "#     #     y_train,\n",
    "#     #     verbose=0,\n",
    "#         # eval_set=[(X_valid_ce, y_valid)],\n",
    "#         # early_stopping_rounds=100,\n",
    "#         # callbacks=[pruning_callback],\n",
    "#     # )\n",
    "\n",
    "#     # # evoke pruning manually.\n",
    "#     # pruning_callback.check_pruned()\n",
    "    \n",
    "#     # Рассчитываем метрику на кросс-валидации\n",
    "#     score = model_selection.cross_val_score(\n",
    "#         clf, X_train_ce, y_train, cv=5, scoring=\"f1_weighted\", n_jobs=-1\n",
    "#     ).mean()\n",
    "    \n",
    "#     return score\n",
    "\n",
    "\n",
    "# # Создаем объект исследования для первого набора гиперпараметров\n",
    "# # Укажем, что нам необходимо максимизировать метрику direction=\"maximize\"\n",
    "# study_cbc = optuna.create_study(study_name=\"cbc_opt\", direction='maximize')\n",
    "# # Подавляем логирование\n",
    "# optuna.logging.set_verbosity(optuna.logging.WARNING)\n",
    "# # Мониторим прогресс оптимизации\n",
    "# with tqdm(total=10, desc=\"Optimizing\") as pbar:\n",
    "#     def update(study, trial):\n",
    "#         pbar.update()\n",
    "#     # Ищем лучшую комбинацию гиперпараметров n_trials раз\n",
    "#     study_cbc.optimize(optuna_cbc, n_trials=10, callbacks=[update])\n",
    "\n",
    "# # Получение оптимальных гиперпараметров\n",
    "# print(\"Лучшие гиперпараметры:\", study_cbc.best_params)\n",
    "\n",
    "# # Передаем модели коллекцию оптимальных гиперпараметров\n",
    "# model = cb.CatBoostClassifier(\n",
    "#     **study_cbc.best_params,\n",
    "#     verbose=False,\n",
    "#     random_seed=42\n",
    "# )\n",
    "# # Обучение\n",
    "# model.fit(X_train_ce, y_train)\n",
    "# model.score(X_train_ce, y_train)"
   ]
  },
  {
   "cell_type": "code",
   "execution_count": 89,
   "metadata": {},
   "outputs": [],
   "source": [
    "# Сохранение модели\n",
    "# joblib.dump(model, \"models/0_opt_cbc.pkl\")\n",
    "# joblib.dump(model, \"models/1_opt_cbc.pkl\")\n",
    "# joblib.dump(model, \"models/2_opt_cbc.pkl\")"
   ]
  },
  {
   "cell_type": "markdown",
   "metadata": {},
   "source": [
    "## Prediction"
   ]
  },
  {
   "cell_type": "code",
   "execution_count": 90,
   "metadata": {},
   "outputs": [
    {
     "data": {
      "text/html": [
       "<style>#sk-container-id-1 {\n",
       "  /* Definition of color scheme common for light and dark mode */\n",
       "  --sklearn-color-text: black;\n",
       "  --sklearn-color-line: gray;\n",
       "  /* Definition of color scheme for unfitted estimators */\n",
       "  --sklearn-color-unfitted-level-0: #fff5e6;\n",
       "  --sklearn-color-unfitted-level-1: #f6e4d2;\n",
       "  --sklearn-color-unfitted-level-2: #ffe0b3;\n",
       "  --sklearn-color-unfitted-level-3: chocolate;\n",
       "  /* Definition of color scheme for fitted estimators */\n",
       "  --sklearn-color-fitted-level-0: #f0f8ff;\n",
       "  --sklearn-color-fitted-level-1: #d4ebff;\n",
       "  --sklearn-color-fitted-level-2: #b3dbfd;\n",
       "  --sklearn-color-fitted-level-3: cornflowerblue;\n",
       "\n",
       "  /* Specific color for light theme */\n",
       "  --sklearn-color-text-on-default-background: var(--sg-text-color, var(--theme-code-foreground, var(--jp-content-font-color1, black)));\n",
       "  --sklearn-color-background: var(--sg-background-color, var(--theme-background, var(--jp-layout-color0, white)));\n",
       "  --sklearn-color-border-box: var(--sg-text-color, var(--theme-code-foreground, var(--jp-content-font-color1, black)));\n",
       "  --sklearn-color-icon: #696969;\n",
       "\n",
       "  @media (prefers-color-scheme: dark) {\n",
       "    /* Redefinition of color scheme for dark theme */\n",
       "    --sklearn-color-text-on-default-background: var(--sg-text-color, var(--theme-code-foreground, var(--jp-content-font-color1, white)));\n",
       "    --sklearn-color-background: var(--sg-background-color, var(--theme-background, var(--jp-layout-color0, #111)));\n",
       "    --sklearn-color-border-box: var(--sg-text-color, var(--theme-code-foreground, var(--jp-content-font-color1, white)));\n",
       "    --sklearn-color-icon: #878787;\n",
       "  }\n",
       "}\n",
       "\n",
       "#sk-container-id-1 {\n",
       "  color: var(--sklearn-color-text);\n",
       "}\n",
       "\n",
       "#sk-container-id-1 pre {\n",
       "  padding: 0;\n",
       "}\n",
       "\n",
       "#sk-container-id-1 input.sk-hidden--visually {\n",
       "  border: 0;\n",
       "  clip: rect(1px 1px 1px 1px);\n",
       "  clip: rect(1px, 1px, 1px, 1px);\n",
       "  height: 1px;\n",
       "  margin: -1px;\n",
       "  overflow: hidden;\n",
       "  padding: 0;\n",
       "  position: absolute;\n",
       "  width: 1px;\n",
       "}\n",
       "\n",
       "#sk-container-id-1 div.sk-dashed-wrapped {\n",
       "  border: 1px dashed var(--sklearn-color-line);\n",
       "  margin: 0 0.4em 0.5em 0.4em;\n",
       "  box-sizing: border-box;\n",
       "  padding-bottom: 0.4em;\n",
       "  background-color: var(--sklearn-color-background);\n",
       "}\n",
       "\n",
       "#sk-container-id-1 div.sk-container {\n",
       "  /* jupyter's `normalize.less` sets `[hidden] { display: none; }`\n",
       "     but bootstrap.min.css set `[hidden] { display: none !important; }`\n",
       "     so we also need the `!important` here to be able to override the\n",
       "     default hidden behavior on the sphinx rendered scikit-learn.org.\n",
       "     See: https://github.com/scikit-learn/scikit-learn/issues/21755 */\n",
       "  display: inline-block !important;\n",
       "  position: relative;\n",
       "}\n",
       "\n",
       "#sk-container-id-1 div.sk-text-repr-fallback {\n",
       "  display: none;\n",
       "}\n",
       "\n",
       "div.sk-parallel-item,\n",
       "div.sk-serial,\n",
       "div.sk-item {\n",
       "  /* draw centered vertical line to link estimators */\n",
       "  background-image: linear-gradient(var(--sklearn-color-text-on-default-background), var(--sklearn-color-text-on-default-background));\n",
       "  background-size: 2px 100%;\n",
       "  background-repeat: no-repeat;\n",
       "  background-position: center center;\n",
       "}\n",
       "\n",
       "/* Parallel-specific style estimator block */\n",
       "\n",
       "#sk-container-id-1 div.sk-parallel-item::after {\n",
       "  content: \"\";\n",
       "  width: 100%;\n",
       "  border-bottom: 2px solid var(--sklearn-color-text-on-default-background);\n",
       "  flex-grow: 1;\n",
       "}\n",
       "\n",
       "#sk-container-id-1 div.sk-parallel {\n",
       "  display: flex;\n",
       "  align-items: stretch;\n",
       "  justify-content: center;\n",
       "  background-color: var(--sklearn-color-background);\n",
       "  position: relative;\n",
       "}\n",
       "\n",
       "#sk-container-id-1 div.sk-parallel-item {\n",
       "  display: flex;\n",
       "  flex-direction: column;\n",
       "}\n",
       "\n",
       "#sk-container-id-1 div.sk-parallel-item:first-child::after {\n",
       "  align-self: flex-end;\n",
       "  width: 50%;\n",
       "}\n",
       "\n",
       "#sk-container-id-1 div.sk-parallel-item:last-child::after {\n",
       "  align-self: flex-start;\n",
       "  width: 50%;\n",
       "}\n",
       "\n",
       "#sk-container-id-1 div.sk-parallel-item:only-child::after {\n",
       "  width: 0;\n",
       "}\n",
       "\n",
       "/* Serial-specific style estimator block */\n",
       "\n",
       "#sk-container-id-1 div.sk-serial {\n",
       "  display: flex;\n",
       "  flex-direction: column;\n",
       "  align-items: center;\n",
       "  background-color: var(--sklearn-color-background);\n",
       "  padding-right: 1em;\n",
       "  padding-left: 1em;\n",
       "}\n",
       "\n",
       "\n",
       "/* Toggleable style: style used for estimator/Pipeline/ColumnTransformer box that is\n",
       "clickable and can be expanded/collapsed.\n",
       "- Pipeline and ColumnTransformer use this feature and define the default style\n",
       "- Estimators will overwrite some part of the style using the `sk-estimator` class\n",
       "*/\n",
       "\n",
       "/* Pipeline and ColumnTransformer style (default) */\n",
       "\n",
       "#sk-container-id-1 div.sk-toggleable {\n",
       "  /* Default theme specific background. It is overwritten whether we have a\n",
       "  specific estimator or a Pipeline/ColumnTransformer */\n",
       "  background-color: var(--sklearn-color-background);\n",
       "}\n",
       "\n",
       "/* Toggleable label */\n",
       "#sk-container-id-1 label.sk-toggleable__label {\n",
       "  cursor: pointer;\n",
       "  display: block;\n",
       "  width: 100%;\n",
       "  margin-bottom: 0;\n",
       "  padding: 0.5em;\n",
       "  box-sizing: border-box;\n",
       "  text-align: center;\n",
       "}\n",
       "\n",
       "#sk-container-id-1 label.sk-toggleable__label-arrow:before {\n",
       "  /* Arrow on the left of the label */\n",
       "  content: \"▸\";\n",
       "  float: left;\n",
       "  margin-right: 0.25em;\n",
       "  color: var(--sklearn-color-icon);\n",
       "}\n",
       "\n",
       "#sk-container-id-1 label.sk-toggleable__label-arrow:hover:before {\n",
       "  color: var(--sklearn-color-text);\n",
       "}\n",
       "\n",
       "/* Toggleable content - dropdown */\n",
       "\n",
       "#sk-container-id-1 div.sk-toggleable__content {\n",
       "  max-height: 0;\n",
       "  max-width: 0;\n",
       "  overflow: hidden;\n",
       "  text-align: left;\n",
       "  /* unfitted */\n",
       "  background-color: var(--sklearn-color-unfitted-level-0);\n",
       "}\n",
       "\n",
       "#sk-container-id-1 div.sk-toggleable__content.fitted {\n",
       "  /* fitted */\n",
       "  background-color: var(--sklearn-color-fitted-level-0);\n",
       "}\n",
       "\n",
       "#sk-container-id-1 div.sk-toggleable__content pre {\n",
       "  margin: 0.2em;\n",
       "  border-radius: 0.25em;\n",
       "  color: var(--sklearn-color-text);\n",
       "  /* unfitted */\n",
       "  background-color: var(--sklearn-color-unfitted-level-0);\n",
       "}\n",
       "\n",
       "#sk-container-id-1 div.sk-toggleable__content.fitted pre {\n",
       "  /* unfitted */\n",
       "  background-color: var(--sklearn-color-fitted-level-0);\n",
       "}\n",
       "\n",
       "#sk-container-id-1 input.sk-toggleable__control:checked~div.sk-toggleable__content {\n",
       "  /* Expand drop-down */\n",
       "  max-height: 200px;\n",
       "  max-width: 100%;\n",
       "  overflow: auto;\n",
       "}\n",
       "\n",
       "#sk-container-id-1 input.sk-toggleable__control:checked~label.sk-toggleable__label-arrow:before {\n",
       "  content: \"▾\";\n",
       "}\n",
       "\n",
       "/* Pipeline/ColumnTransformer-specific style */\n",
       "\n",
       "#sk-container-id-1 div.sk-label input.sk-toggleable__control:checked~label.sk-toggleable__label {\n",
       "  color: var(--sklearn-color-text);\n",
       "  background-color: var(--sklearn-color-unfitted-level-2);\n",
       "}\n",
       "\n",
       "#sk-container-id-1 div.sk-label.fitted input.sk-toggleable__control:checked~label.sk-toggleable__label {\n",
       "  background-color: var(--sklearn-color-fitted-level-2);\n",
       "}\n",
       "\n",
       "/* Estimator-specific style */\n",
       "\n",
       "/* Colorize estimator box */\n",
       "#sk-container-id-1 div.sk-estimator input.sk-toggleable__control:checked~label.sk-toggleable__label {\n",
       "  /* unfitted */\n",
       "  background-color: var(--sklearn-color-unfitted-level-2);\n",
       "}\n",
       "\n",
       "#sk-container-id-1 div.sk-estimator.fitted input.sk-toggleable__control:checked~label.sk-toggleable__label {\n",
       "  /* fitted */\n",
       "  background-color: var(--sklearn-color-fitted-level-2);\n",
       "}\n",
       "\n",
       "#sk-container-id-1 div.sk-label label.sk-toggleable__label,\n",
       "#sk-container-id-1 div.sk-label label {\n",
       "  /* The background is the default theme color */\n",
       "  color: var(--sklearn-color-text-on-default-background);\n",
       "}\n",
       "\n",
       "/* On hover, darken the color of the background */\n",
       "#sk-container-id-1 div.sk-label:hover label.sk-toggleable__label {\n",
       "  color: var(--sklearn-color-text);\n",
       "  background-color: var(--sklearn-color-unfitted-level-2);\n",
       "}\n",
       "\n",
       "/* Label box, darken color on hover, fitted */\n",
       "#sk-container-id-1 div.sk-label.fitted:hover label.sk-toggleable__label.fitted {\n",
       "  color: var(--sklearn-color-text);\n",
       "  background-color: var(--sklearn-color-fitted-level-2);\n",
       "}\n",
       "\n",
       "/* Estimator label */\n",
       "\n",
       "#sk-container-id-1 div.sk-label label {\n",
       "  font-family: monospace;\n",
       "  font-weight: bold;\n",
       "  display: inline-block;\n",
       "  line-height: 1.2em;\n",
       "}\n",
       "\n",
       "#sk-container-id-1 div.sk-label-container {\n",
       "  text-align: center;\n",
       "}\n",
       "\n",
       "/* Estimator-specific */\n",
       "#sk-container-id-1 div.sk-estimator {\n",
       "  font-family: monospace;\n",
       "  border: 1px dotted var(--sklearn-color-border-box);\n",
       "  border-radius: 0.25em;\n",
       "  box-sizing: border-box;\n",
       "  margin-bottom: 0.5em;\n",
       "  /* unfitted */\n",
       "  background-color: var(--sklearn-color-unfitted-level-0);\n",
       "}\n",
       "\n",
       "#sk-container-id-1 div.sk-estimator.fitted {\n",
       "  /* fitted */\n",
       "  background-color: var(--sklearn-color-fitted-level-0);\n",
       "}\n",
       "\n",
       "/* on hover */\n",
       "#sk-container-id-1 div.sk-estimator:hover {\n",
       "  /* unfitted */\n",
       "  background-color: var(--sklearn-color-unfitted-level-2);\n",
       "}\n",
       "\n",
       "#sk-container-id-1 div.sk-estimator.fitted:hover {\n",
       "  /* fitted */\n",
       "  background-color: var(--sklearn-color-fitted-level-2);\n",
       "}\n",
       "\n",
       "/* Specification for estimator info (e.g. \"i\" and \"?\") */\n",
       "\n",
       "/* Common style for \"i\" and \"?\" */\n",
       "\n",
       ".sk-estimator-doc-link,\n",
       "a:link.sk-estimator-doc-link,\n",
       "a:visited.sk-estimator-doc-link {\n",
       "  float: right;\n",
       "  font-size: smaller;\n",
       "  line-height: 1em;\n",
       "  font-family: monospace;\n",
       "  background-color: var(--sklearn-color-background);\n",
       "  border-radius: 1em;\n",
       "  height: 1em;\n",
       "  width: 1em;\n",
       "  text-decoration: none !important;\n",
       "  margin-left: 1ex;\n",
       "  /* unfitted */\n",
       "  border: var(--sklearn-color-unfitted-level-1) 1pt solid;\n",
       "  color: var(--sklearn-color-unfitted-level-1);\n",
       "}\n",
       "\n",
       ".sk-estimator-doc-link.fitted,\n",
       "a:link.sk-estimator-doc-link.fitted,\n",
       "a:visited.sk-estimator-doc-link.fitted {\n",
       "  /* fitted */\n",
       "  border: var(--sklearn-color-fitted-level-1) 1pt solid;\n",
       "  color: var(--sklearn-color-fitted-level-1);\n",
       "}\n",
       "\n",
       "/* On hover */\n",
       "div.sk-estimator:hover .sk-estimator-doc-link:hover,\n",
       ".sk-estimator-doc-link:hover,\n",
       "div.sk-label-container:hover .sk-estimator-doc-link:hover,\n",
       ".sk-estimator-doc-link:hover {\n",
       "  /* unfitted */\n",
       "  background-color: var(--sklearn-color-unfitted-level-3);\n",
       "  color: var(--sklearn-color-background);\n",
       "  text-decoration: none;\n",
       "}\n",
       "\n",
       "div.sk-estimator.fitted:hover .sk-estimator-doc-link.fitted:hover,\n",
       ".sk-estimator-doc-link.fitted:hover,\n",
       "div.sk-label-container:hover .sk-estimator-doc-link.fitted:hover,\n",
       ".sk-estimator-doc-link.fitted:hover {\n",
       "  /* fitted */\n",
       "  background-color: var(--sklearn-color-fitted-level-3);\n",
       "  color: var(--sklearn-color-background);\n",
       "  text-decoration: none;\n",
       "}\n",
       "\n",
       "/* Span, style for the box shown on hovering the info icon */\n",
       ".sk-estimator-doc-link span {\n",
       "  display: none;\n",
       "  z-index: 9999;\n",
       "  position: relative;\n",
       "  font-weight: normal;\n",
       "  right: .2ex;\n",
       "  padding: .5ex;\n",
       "  margin: .5ex;\n",
       "  width: min-content;\n",
       "  min-width: 20ex;\n",
       "  max-width: 50ex;\n",
       "  color: var(--sklearn-color-text);\n",
       "  box-shadow: 2pt 2pt 4pt #999;\n",
       "  /* unfitted */\n",
       "  background: var(--sklearn-color-unfitted-level-0);\n",
       "  border: .5pt solid var(--sklearn-color-unfitted-level-3);\n",
       "}\n",
       "\n",
       ".sk-estimator-doc-link.fitted span {\n",
       "  /* fitted */\n",
       "  background: var(--sklearn-color-fitted-level-0);\n",
       "  border: var(--sklearn-color-fitted-level-3);\n",
       "}\n",
       "\n",
       ".sk-estimator-doc-link:hover span {\n",
       "  display: block;\n",
       "}\n",
       "\n",
       "/* \"?\"-specific style due to the `<a>` HTML tag */\n",
       "\n",
       "#sk-container-id-1 a.estimator_doc_link {\n",
       "  float: right;\n",
       "  font-size: 1rem;\n",
       "  line-height: 1em;\n",
       "  font-family: monospace;\n",
       "  background-color: var(--sklearn-color-background);\n",
       "  border-radius: 1rem;\n",
       "  height: 1rem;\n",
       "  width: 1rem;\n",
       "  text-decoration: none;\n",
       "  /* unfitted */\n",
       "  color: var(--sklearn-color-unfitted-level-1);\n",
       "  border: var(--sklearn-color-unfitted-level-1) 1pt solid;\n",
       "}\n",
       "\n",
       "#sk-container-id-1 a.estimator_doc_link.fitted {\n",
       "  /* fitted */\n",
       "  border: var(--sklearn-color-fitted-level-1) 1pt solid;\n",
       "  color: var(--sklearn-color-fitted-level-1);\n",
       "}\n",
       "\n",
       "/* On hover */\n",
       "#sk-container-id-1 a.estimator_doc_link:hover {\n",
       "  /* unfitted */\n",
       "  background-color: var(--sklearn-color-unfitted-level-3);\n",
       "  color: var(--sklearn-color-background);\n",
       "  text-decoration: none;\n",
       "}\n",
       "\n",
       "#sk-container-id-1 a.estimator_doc_link.fitted:hover {\n",
       "  /* fitted */\n",
       "  background-color: var(--sklearn-color-fitted-level-3);\n",
       "}\n",
       "</style><div id=\"sk-container-id-1\" class=\"sk-top-container\"><div class=\"sk-text-repr-fallback\"><pre>PassiveAggressiveClassifier(C=6.138544680664353, max_iter=1084, random_state=42)</pre><b>In a Jupyter environment, please rerun this cell to show the HTML representation or trust the notebook. <br />On GitHub, the HTML representation is unable to render, please try loading this page with nbviewer.org.</b></div><div class=\"sk-container\" hidden><div class=\"sk-item\"><div class=\"sk-estimator fitted sk-toggleable\"><input class=\"sk-toggleable__control sk-hidden--visually\" id=\"sk-estimator-id-1\" type=\"checkbox\" checked><label for=\"sk-estimator-id-1\" class=\"sk-toggleable__label fitted sk-toggleable__label-arrow fitted\">&nbsp;&nbsp;PassiveAggressiveClassifier<a class=\"sk-estimator-doc-link fitted\" rel=\"noreferrer\" target=\"_blank\" href=\"https://scikit-learn.org/1.4/modules/generated/sklearn.linear_model.PassiveAggressiveClassifier.html\">?<span>Documentation for PassiveAggressiveClassifier</span></a><span class=\"sk-estimator-doc-link fitted\">i<span>Fitted</span></span></label><div class=\"sk-toggleable__content fitted\"><pre>PassiveAggressiveClassifier(C=6.138544680664353, max_iter=1084, random_state=42)</pre></div> </div></div></div></div>"
      ],
      "text/plain": [
       "PassiveAggressiveClassifier(C=6.138544680664353, max_iter=1084, random_state=42)"
      ]
     },
     "execution_count": 90,
     "metadata": {},
     "output_type": "execute_result"
    }
   ],
   "source": [
    "# # Предсказание загружаемой модели\n",
    "# model = joblib.load(\"models/0_opt_mlp.pkl\")\n",
    "# model = joblib.load(\"models/1_opt_cbc.pkl\")\n",
    "# model = joblib.load(\"models/2_opt_pac.pkl\")\n",
    "model"
   ]
  },
  {
   "cell_type": "code",
   "execution_count": 91,
   "metadata": {},
   "outputs": [],
   "source": [
    "preds_train = model.predict(X_train_ce)\n",
    "preds_valid = model.predict(X_valid_ce)"
   ]
  },
  {
   "cell_type": "code",
   "execution_count": 92,
   "metadata": {},
   "outputs": [
    {
     "data": {
      "image/png": "[encoded data removed]",
      "text/plain": [
       "<Figure size 1200x300 with 1 Axes>"
      ]
     },
     "metadata": {},
     "output_type": "display_data"
    }
   ],
   "source": [
    "fig = plt.figure(figsize=(12, 3))\n",
    "plt.plot(y_train, label='y_true')\n",
    "plt.plot(preds_train, label='y_pred')\n",
    "\n",
    "plt.yticks(np.arange(len(GESTURES)), GESTURES)\n",
    "plt.grid()\n",
    "plt.xlabel('Timesteps')\n",
    "plt.legend()\n",
    "plt.title('Train')\n",
    "plt.tight_layout()"
   ]
  },
  {
   "cell_type": "code",
   "execution_count": 93,
   "metadata": {},
   "outputs": [
    {
     "data": {
      "image/png": "[encoded data removed]",
      "text/plain": [
       "<Figure size 900x300 with 1 Axes>"
      ]
     },
     "metadata": {},
     "output_type": "display_data"
    }
   ],
   "source": [
    "fig = plt.figure(figsize=(9, 3))\n",
    "plt.plot(y_valid, label='y_true')\n",
    "plt.plot(preds_valid, label='y_pred')\n",
    "\n",
    "plt.yticks(np.arange(len(GESTURES)), GESTURES)\n",
    "plt.grid()\n",
    "plt.xlabel('Timesteps')\n",
    "plt.legend()\n",
    "plt.title('Test')\n",
    "plt.tight_layout()"
   ]
  },
  {
   "cell_type": "markdown",
   "metadata": {},
   "source": [
    "## Metrics"
   ]
  },
  {
   "cell_type": "code",
   "execution_count": 94,
   "metadata": {},
   "outputs": [
    {
     "name": "stdout",
     "output_type": "stream",
     "text": [
      "Train preds metrics report:\n",
      "              precision    recall  f1-score   support\n",
      "\n",
      "       Close     0.9876    0.8785    0.9298       181\n",
      "  Indication     1.0000    0.9011    0.9480       182\n",
      "     Neutral     0.8887    0.9972    0.9398      1081\n",
      "        Open     0.9926    0.7418    0.8491       182\n",
      "       Pinch     1.0000    0.8681    0.9294       182\n",
      "ThumbFingers     1.0000    0.8952    0.9447       229\n",
      "\n",
      "    accuracy                         0.9323      2037\n",
      "   macro avg     0.9782    0.8803    0.9235      2037\n",
      "weighted avg     0.9392    0.9323    0.9312      2037\n",
      "\n",
      "-------------------------------------------------------\n",
      "Test preds metrics report:\n",
      "              precision    recall  f1-score   support\n",
      "\n",
      "       Close     1.0000    0.7000    0.8235        60\n",
      "  Indication     1.0000    0.8167    0.8991        60\n",
      "     Neutral     0.8339    0.9921    0.9061       253\n",
      "        Open     1.0000    0.8033    0.8909        61\n",
      "       Pinch     0.9655    0.9180    0.9412        61\n",
      "ThumbFingers     1.0000    0.6923    0.8182        13\n",
      "\n",
      "    accuracy                         0.8976       508\n",
      "   macro avg     0.9666    0.8204    0.8798       508\n",
      "weighted avg     0.9131    0.8976    0.8957       508\n",
      "\n"
     ]
    },
    {
     "data": {
      "text/html": [
       "<div>\n",
       "<style scoped>\n",
       "    .dataframe tbody tr th:only-of-type {\n",
       "        vertical-align: middle;\n",
       "    }\n",
       "\n",
       "    .dataframe tbody tr th {\n",
       "        vertical-align: top;\n",
       "    }\n",
       "\n",
       "    .dataframe thead th {\n",
       "        text-align: right;\n",
       "    }\n",
       "</style>\n",
       "<table border=\"1\" class=\"dataframe\">\n",
       "  <thead>\n",
       "    <tr style=\"text-align: right;\">\n",
       "      <th></th>\n",
       "      <th>Close</th>\n",
       "      <th>Indication</th>\n",
       "      <th>Neutral</th>\n",
       "      <th>Open</th>\n",
       "      <th>Pinch</th>\n",
       "      <th>ThumbFingers</th>\n",
       "    </tr>\n",
       "  </thead>\n",
       "  <tbody>\n",
       "    <tr>\n",
       "      <th>Close</th>\n",
       "      <td>42</td>\n",
       "      <td>0</td>\n",
       "      <td>18</td>\n",
       "      <td>0</td>\n",
       "      <td>0</td>\n",
       "      <td>0</td>\n",
       "    </tr>\n",
       "    <tr>\n",
       "      <th>Indication</th>\n",
       "      <td>0</td>\n",
       "      <td>49</td>\n",
       "      <td>11</td>\n",
       "      <td>0</td>\n",
       "      <td>0</td>\n",
       "      <td>0</td>\n",
       "    </tr>\n",
       "    <tr>\n",
       "      <th>Neutral</th>\n",
       "      <td>0</td>\n",
       "      <td>0</td>\n",
       "      <td>251</td>\n",
       "      <td>0</td>\n",
       "      <td>2</td>\n",
       "      <td>0</td>\n",
       "    </tr>\n",
       "    <tr>\n",
       "      <th>Open</th>\n",
       "      <td>0</td>\n",
       "      <td>0</td>\n",
       "      <td>12</td>\n",
       "      <td>49</td>\n",
       "      <td>0</td>\n",
       "      <td>0</td>\n",
       "    </tr>\n",
       "    <tr>\n",
       "      <th>Pinch</th>\n",
       "      <td>0</td>\n",
       "      <td>0</td>\n",
       "      <td>5</td>\n",
       "      <td>0</td>\n",
       "      <td>56</td>\n",
       "      <td>0</td>\n",
       "    </tr>\n",
       "    <tr>\n",
       "      <th>ThumbFingers</th>\n",
       "      <td>0</td>\n",
       "      <td>0</td>\n",
       "      <td>4</td>\n",
       "      <td>0</td>\n",
       "      <td>0</td>\n",
       "      <td>9</td>\n",
       "    </tr>\n",
       "  </tbody>\n",
       "</table>\n",
       "</div>"
      ],
      "text/plain": [
       "              Close  Indication  Neutral  Open  Pinch  ThumbFingers\n",
       "Close            42           0       18     0      0             0\n",
       "Indication        0          49       11     0      0             0\n",
       "Neutral           0           0      251     0      2             0\n",
       "Open              0           0       12    49      0             0\n",
       "Pinch             0           0        5     0     56             0\n",
       "ThumbFingers      0           0        4     0      0             9"
      ]
     },
     "metadata": {},
     "output_type": "display_data"
    }
   ],
   "source": [
    "print('Train preds metrics report:')\n",
    "print(metrics.classification_report(\n",
    "    y_train, preds_train, target_names=GESTURES, digits=4, zero_division=0))\n",
    "print('-'*55)\n",
    "print('Test preds metrics report:')\n",
    "print(metrics.classification_report(\n",
    "    y_valid, preds_valid, target_names=GESTURES, digits=4, zero_division=0))\n",
    "\n",
    "# создаём таблицу сопряжённости\n",
    "ct = pd.crosstab(y_valid, preds_valid.reshape(-1))\n",
    "if not list(ct.index) == list(ct.columns):\n",
    "    set1, set2 = set(ct.index), set(ct.columns)\n",
    "    diff = set1.difference(set2)\n",
    "    if len(diff) == 1:\n",
    "        specific_index = list(ct.index).index(list(diff)[0])\n",
    "        new_column_name = str(diff)\n",
    "        ct.insert(specific_index, new_column_name, 0)\n",
    "        # определяем название активностей\n",
    "        ct.index = ct.columns = GESTURES\n",
    "        display(ct)\n",
    "    else:\n",
    "        print('Более чем один жест моделью не распознается!')\n",
    "else:\n",
    "    ct.index = ct.columns = GESTURES\n",
    "    display(ct)"
   ]
  },
  {
   "cell_type": "markdown",
   "metadata": {},
   "source": [
    "F1-weighted scores\n",
    "\n",
    "|model|set1_bl|set2_bl|set3_bl|set1_opt|set2_opt|set3_opt|\n",
    "|-|-|-|-|-|-|-|\n",
    "|`GaussianNB`|0.7715|0.6758|0.8930|0.7889|0.6756|0.8907|\n",
    "|`LogisticRegression`|0.5438|0.4887|0.8828|0.5777|0.4902|0.8935|\n",
    "|`PassiveAggressive`|0.6912|0.4053|0.8996|0.6631|0.4838|0.8957|\n",
    "|`Perceptron`|0.5642|0.5215|0.8934|0.5642|0.5215|0.8934|\n",
    "|`Ridge`|0.4852|0.4685|0.7349|0.4901|0.4685|0.7469|\n",
    "|`SGD`|0.6954|0.5304|0.8976|0.5729|0.5014|0.8956|\n",
    "|`LinearSVC`|0.4921|0.4752|0.8895|0.6502|0.5548|0.8935|\n",
    "|`SVC`|0.8560|0.7791|0.8681|0.8871|0.8022|0.8914|\n",
    "|`KNeighbors`|0.9170|0.8098|0.8565|0.9153|0.8176|0.8783|\n",
    "|`MLP`|0.8957|0.8292|0.8758|0.9273|0.8249|0.8976|\n",
    "|`DecisionTree`|0.8476|0.7101|0.8407|0.8366|0.7209|0.8749|\n",
    "|`AdaBoost`|0.8522|0.7037|0.8426|0.9096|0.8018|0.8893|\n",
    "|`Bagging`|0.8846|0.7820|0.8628|0.9072|0.8145|0.8759|\n",
    "|`ExtraTrees`|0.8809|0.8251|0.8954|0.8777|0.8226|0.8685|\n",
    "|`GradientBoosting`|0.9202|0.7771|0.8920|0.9146|0.8073|0.8869|\n",
    "|`RandomForest`|0.9046|0.8234|0.8897|0.9062|0.8216|0.8724|\n",
    "|`HistGradientBoosting`|0.9128|0.8300|0.8901|0.9072|0.8131|0.8721|\n",
    "|`XGB`|0.8985|0.8092|0.9057|0.9034|0.7821|0.8862|\n",
    "|`CatBoost`|0.9108|0.8353|0.9014|0.9147|0.8421|0.8934|"
   ]
  },
  {
   "cell_type": "markdown",
   "metadata": {},
   "source": [
    "\n",
    "Experiments with modified preprocessing:<br>\n",
    "(300) (300+5) (300+50) (300+5+50) \n",
    "\n",
    "|model|1_bl_exp|2_bl_exp|3_bl_exp|\n",
    "|-|-|-|-|\n",
    "|`GaussianNB`|(0.7629) (0.7580) (0.7881) (0.7862)|(0.5950) () () ()|() () () ()|\n",
    "|`LogisticRegression`|(0.8540) (0.8843) (0.8918) (0.8905)|(0.7546) () () ()|() () () ()|\n",
    "|`PassiveAggressive`|(0.9114) (0.9198) (0.9131) (0.9021)|(0.7170) () () ()|() () () ()|\n",
    "|`Perceptron`|(0.8771) (0.6292) (0.8342) (0.8730)|() () () ()|() () () ()|\n",
    "|`Ridge`|(0.7674) (0.7853) (0.8732) (0.8656)|() () () ()|() () () ()|\n",
    "|`SGD`|(0.8919) (0.9064) (0.8588) (0.8890)|() () () ()|() () () ()|\n",
    "|`LinearSVC`|(0.8893) (0.9047) (0.9171) (0.9095)|() () () ()|() () () ()|\n",
    "|`SVC`|(0.9022) (0.9024) (0.8797) (0.8805)|() () () ()|() () () ()|\n",
    "|`KNeighbors`|(0.9179) (0.9265) (0.9218) (0.9233)|() () () ()|() () () ()|\n",
    "|`MLP`|(0.8975) (0.9180) (0.9263) (0.9136)|() () () ()|() () () ()|\n",
    "|`DecisionTree`|(0.8485) (0.8156) (0.8285) (0.8482)|() () () ()|() () () ()|\n",
    "|`AdaBoost`|(0.8323) (0.8090) (0.8319) (0.8529)|() () () ()|() () () ()|\n",
    "|`Bagging`|(0.8959) (0.8702) (0.9042) (0.9097)|() () () ()|() () () ()|\n",
    "|`ExtraTrees`|(0.8920) (0.8930) (0.8965) (0.9025)|() () () ()|() () () ()|\n",
    "|`GradientBoosting`|(0.9164) (0.9041) (0.9116) (0.9264)|() () () ()|() () () ()|\n",
    "|`RandomForest`|(0.9133) (0.9006) (0.9097) (0.9234)|() () () ()|() () () ()|\n",
    "|`HistGradientBoosting`|(0.9070) (0.9004) (0.9275) (0.9249)|() () () ()|() () () ()|\n",
    "|`XGB`|(0.8980) (0.8988) (0.9144) (0.9187)|() () () ()|() () () ()|\n",
    "|`CatBoost`|(0.9142) (0.9168) (0.9320) (0.9272)|(0.8530) (0.8584) (0.8554) (0.8613)|(0.9358) (0.9336) (0.9301) (0.9319)|\n",
    "\n",
    "Optimized algorithms:\n",
    "\n",
    "|model|1_opt_exp|2_opt_exp|3_opt_exp|\n",
    "|-|-|-|-|\n",
    "|`GaussianNB`|-|-|-|\n",
    "|`LogisticRegression`|-|-|-|\n",
    "|`PassiveAggressive`|-|-|-|\n",
    "|`Perceptron`|-|-|-|\n",
    "|`Ridge`|-|-|-|\n",
    "|`SGD`|-|-|-|\n",
    "|`LinearSVC`|-|-|-|\n",
    "|`SVC`|-|-|-|\n",
    "|`KNeighbors`|0.9286|-|-|\n",
    "|`MLP`|-|-|-|\n",
    "|`DecisionTree`|-|-|-|\n",
    "|`AdaBoost`|-|-|-|\n",
    "|`Bagging`|-|-|-|\n",
    "|`ExtraTrees`|-|-|-|\n",
    "|`GradientBoosting`|-|-|-|\n",
    "|`RandomForest`|-|-|-|\n",
    "|`HistGradientBoosting`|-|-|-|\n",
    "|`XGB`|-|-|-|\n",
    "|`CatBoost`|-|-|-|"
   ]
  },
  {
   "cell_type": "markdown",
   "metadata": {},
   "source": [
    "# Real-time inference"
   ]
  },
  {
   "cell_type": "code",
   "execution_count": 95,
   "metadata": {
    "tags": []
   },
   "outputs": [],
   "source": [
    "import time\n",
    "import serial\n",
    "from IPython.display import clear_output"
   ]
  },
  {
   "cell_type": "markdown",
   "metadata": {},
   "source": [
    "## Inference Utils: Put your code here"
   ]
  },
  {
   "cell_type": "code",
   "execution_count": 96,
   "metadata": {
    "tags": []
   },
   "outputs": [],
   "source": [
    "def preprocessing(x, prev, sample_size=10):\n",
    "    # global approx_prev\n",
    "    # x - sample vector\n",
    "    if prev is None:\n",
    "        # x = np.delete(x.reshape(1, -1), bad_features, axis=1)\n",
    "        prev = x.reshape(1, -1)\n",
    "        prev_scaled = std_scaler.transform(prev)\n",
    "        # prev_approx = get_sliding_approximation(X, n_ftrs=10, inference=False, prev=None)\n",
    "        # prev_ = np.hstack((prev_scaled, prev_approx))\n",
    "        prev_pca = pca.transform(prev_scaled)\n",
    "        y = prev_pca\n",
    "    else:\n",
    "        # x = np.delete(x.reshape(1, -1), bad_features, axis=1)\n",
    "        prev = np.vstack((prev, x.reshape(1, -1)))\n",
    "        # if prev.shape[0] > approx_prev.shape[0]:\n",
    "        #     approx_prev[1:] = approx_prev[:-1]\n",
    "        #     approx_prev[0] = prev[-1]\n",
    "        if prev.shape[0] < sample_size:\n",
    "            prev_scaled = std_scaler.transform(prev)\n",
    "            # prev_approx = get_sliding_approximation(\n",
    "            #     prev_scaled, n_ftrs=5, inference=True, prev=approx_prev\n",
    "            # )\n",
    "            # prev_ = np.hstack((prev_scaled, prev_approx))\n",
    "            prev_pca = pca.transform(prev_scaled)\n",
    "            y = get_convolve(prev_pca, M=10, tau=3, sym=True)[-1]\n",
    "        else:\n",
    "            prev = prev[1:]\n",
    "            prev_scaled = std_scaler.transform(prev)\n",
    "            # prev_approx = get_sliding_approximation(\n",
    "            #     prev_scaled, n_ftrs=5, inference=True, prev=approx_prev\n",
    "            # )\n",
    "            # prev_ = np.hstack((prev_scaled, prev_approx))\n",
    "            prev_pca = pca.transform(prev_scaled)\n",
    "            y = get_convolve(prev_pca, M=10, tau=3, sym=True)[-1]\n",
    "            \n",
    "    return y.reshape(1, -1), prev\n",
    "\n",
    "\n",
    "def inference(x):\n",
    "    # y = model.predict_proba([x])[0]\n",
    "    y = model.predict(x)\n",
    "    \n",
    "    return y\n",
    "\n",
    "\n",
    "def postprocessing(x, prev, length=5):\n",
    "    # if prev is None:\n",
    "    #     y = x\n",
    "    # else:\n",
    "    #     y = x*0.1 + prev*0.9 # Holt-Winters filter\n",
    "\n",
    "    if prev is None:\n",
    "        prev = np.zeros((length,))\n",
    "        prev[0] = x\n",
    "        prev = prev.astype(int)\n",
    "        counts = np.bincount(prev)\n",
    "        y = np.argmax(counts)\n",
    "    else:\n",
    "        prev[1:] = prev[:-1]\n",
    "        prev[0] = x\n",
    "        prev = prev.astype(int)\n",
    "        counts = np.bincount(prev)\n",
    "        y = np.argmax(counts)\n",
    "        \n",
    "    return y, prev\n",
    "\n",
    "\n",
    "def commands(x):\n",
    "    y = np.round(np.clip(x / 100, 0, 1)*100).astype(int)\n",
    "    \n",
    "    return y\n",
    "\n",
    "\n",
    "# def commands(x):\n",
    "#     cmd = vp.neutral_state.copy()\n",
    "#     # for this mapping look at GESTURES\n",
    "#     if x == 0: # 'Close'\n",
    "#         cmd.update({'thumb_flex': 1, 'index_flex': 1, 'middle_flex': 1, 'ring_flex': 1, 'pinky_flex': 1})\n",
    "#         return cmd\n",
    "#     elif x == 1: # 'Indication'\n",
    "#         cmd.update({'thumb_extend':1, 'index_extend': 1, 'middle_flex': 1, 'ring_flex': 1, 'pinky_flex': 1})\n",
    "#         return cmd\n",
    "#     elif x == 2: # 'Neutral'\n",
    "#         pass\n",
    "#         return cmd\n",
    "#     elif x == 3: # 'Open'\n",
    "#         cmd.update({'thumb_extend': 1, 'index_extend': 1, 'middle_extend': 1, 'ring_extend': 1, 'pinky_extend': 1})\n",
    "#         return cmd\n",
    "#     elif x == 4: # 'Pinch'\n",
    "#         cmd.update({'thumb_flex':1, 'index_flex': 1, 'middle_extend': 1, 'ring_extend': 1, 'pinky_extend': 1})\n",
    "#         return cmd\n",
    "#     elif x == 5: # 'ThumbFingers'\n",
    "#         cmd.update({'thumb_flex': 1, 'index_extend': 1, 'middle_extend': 1, 'ring_extend': 1, 'pinky_extend': 1})\n",
    "#         return cmd\n",
    "#     else:\n",
    "#         return cmd"
   ]
  },
  {
   "cell_type": "markdown",
   "metadata": {},
   "source": [
    "## Inference"
   ]
  },
  {
   "cell_type": "markdown",
   "metadata": {},
   "source": [
    "### Offline (dataset)"
   ]
  },
  {
   "cell_type": "code",
   "execution_count": 97,
   "metadata": {
    "tags": []
   },
   "outputs": [
    {
     "name": "stdout",
     "output_type": "stream",
     "text": [
      "(508, 52) (508,)\n"
     ]
    }
   ],
   "source": [
    "df_sim = gestures.iloc[:, :52][int(X.shape[0] * 0.8)+1:]\n",
    "target = y_shifted[int(X.shape[0] * 0.8)+1:]\n",
    "print(df_sim.shape, target.shape)"
   ]
  },
  {
   "cell_type": "code",
   "execution_count": 98,
   "metadata": {},
   "outputs": [],
   "source": [
    "# Отключаем предупреждения DeprecationWarning\n",
    "warnings.filterwarnings(\"ignore\", category=DeprecationWarning)"
   ]
  },
  {
   "cell_type": "markdown",
   "metadata": {},
   "source": [
    "Текст предупреждения:<br>*DeprecationWarning: Conversion of an array with ndim > 0 to a scalar is deprecated, and will error in future. Ensure you extract a single element from your array before performing this operation. (Deprecated NumPy 1.25.)*\n",
    "\n",
    "Строка кода, вызывающее предупреждение:<br>`prev[0] = x`"
   ]
  },
  {
   "cell_type": "code",
   "execution_count": 99,
   "metadata": {},
   "outputs": [
    {
     "data": {
      "text/plain": [
       "array([5, 0, 0, 0, 0])"
      ]
     },
     "execution_count": 99,
     "metadata": {},
     "output_type": "execute_result"
    }
   ],
   "source": [
    "sample = df_sim.values[0]\n",
    "[[ts, cycle_ts], omg_sample] = np.array_split(sample, [2])\n",
    "sample_preprocessed, x_previous = preprocessing(omg_sample, None)\n",
    "y_predicted = inference(sample_preprocessed)\n",
    "y_postprocessed, y_previous = postprocessing(y_predicted, None, length=5)\n",
    "y_previous"
   ]
  },
  {
   "cell_type": "code",
   "execution_count": 100,
   "metadata": {},
   "outputs": [],
   "source": [
    "# n_ftrs, m_ftrs = 5, len(OMG_CH)\n",
    "LENGTH = 3\n",
    "# approx_prev = np.zeros((n_ftrs+1, m_ftrs))\n",
    "ts_diffs = []\n",
    "x_previous = None"
   ]
  },
  {
   "cell_type": "code",
   "execution_count": 101,
   "metadata": {
    "tags": []
   },
   "outputs": [],
   "source": [
    "TIMEOUT = 0.2\n",
    "DEBUG = False\n",
    "    \n",
    "i = 0\n",
    "ts_old = time.time()\n",
    "ts_diff = 0;\n",
    "\n",
    "y_previous = None\n",
    "y_dct = {\n",
    "    'omg_sample':[],\n",
    "    'sample_preprocessed':[],\n",
    "    \n",
    "    'y_predicted':[],\n",
    "    'y_postprocessed':[],\n",
    "    'y_commands':[],\n",
    "}\n",
    "while True:    \n",
    "    \n",
    "    # [Data reading]\n",
    "    ts_start = time.time()\n",
    "    \n",
    "    try:\n",
    "        # [Sim data]\n",
    "        if i < len(df_sim):\n",
    "            sample = df_sim.values[i]\n",
    "        else:\n",
    "            break\n",
    "        # [/Sim data]\n",
    "        [[ts, cycle_ts], omg_sample] = np.array_split(sample, [2])\n",
    "        \n",
    "    except Exception as e:\n",
    "        print(e)\n",
    "        \n",
    "    # [/Data Reading]\n",
    "        \n",
    "    # [Data preprocessing]\n",
    "    sample_preprocessed, x_previous = preprocessing(omg_sample, x_previous)\n",
    "    # [/Data preprocessing]\n",
    "    \n",
    "    # [Inference]\n",
    "    y_predicted = inference(sample_preprocessed)\n",
    "    # [/Inference]\n",
    "    \n",
    "    # [Inference Postprocessing]\n",
    "    y_postprocessed, y_previous = postprocessing(y_predicted, y_previous, length=LENGTH)\n",
    "    # [/Inference Postprocessing]\n",
    "    \n",
    "    # [Commands composition]\n",
    "    y_commands = commands(y_postprocessed.argmax())\n",
    "    # [/Commands composition]\n",
    "    \n",
    "    # [Commands sending]\n",
    "    # NO COMMANDS SENDING IN SIMULATION\n",
    "    # [/Commands sending]\n",
    "    \n",
    "    # [Data logging]\n",
    "    y_dct['omg_sample'].append(omg_sample)\n",
    "    y_dct['sample_preprocessed'].append(sample_preprocessed)\n",
    "    y_dct['y_predicted'].append(y_predicted)\n",
    "    y_dct['y_postprocessed'].append(y_postprocessed)\n",
    "    y_dct['y_commands'].append(y_commands)\n",
    "    # [/Data logging]\n",
    "\n",
    "    # y_previous = y_postprocessed\n",
    "    \n",
    "    if DEBUG:\n",
    "        clear_output(wait=True)\n",
    "\n",
    "        # sanity check: Sizes of SAMPLE=52, OMG=50\n",
    "        print(f'SAMPLE SIZE: {len(sample)}, OMG: {len(omg_sample)}')\n",
    "        # print('INPUT:\\n', s)\n",
    "        print('SAMPLE:\\n', sample)\n",
    "\n",
    "        # sanity check: Sizes of SAMPLE=65, OMG=50\n",
    "        print(f'SAMPLE SIZE: {len(sample)}, OMG: {len(omg_sample)}')\n",
    "        print(f'TS: {ts}, CYCLE TS: {cycle_ts}')\n",
    "        print(y_postprocessed)\n",
    "        print(y_commands)\n",
    "    \n",
    "    ts_diff = time.time() - ts_start\n",
    "    assert(ts_diff<TIMEOUT), f'Calculation cycle takes more than TIMEOUT, halting...\\n{ts_diff}'\n",
    "    ts_old = ts_start\n",
    "    ts_diffs.append(ts_diff)\n",
    "    i += 1 "
   ]
  },
  {
   "cell_type": "code",
   "execution_count": 102,
   "metadata": {},
   "outputs": [
    {
     "data": {
      "text/plain": [
       "0.0010497570037841797"
      ]
     },
     "execution_count": 102,
     "metadata": {},
     "output_type": "execute_result"
    }
   ],
   "source": [
    "np.max(ts_diffs)"
   ]
  },
  {
   "cell_type": "code",
   "execution_count": 103,
   "metadata": {
    "tags": []
   },
   "outputs": [
    {
     "name": "stdout",
     "output_type": "stream",
     "text": [
      "omg_sample.shape = (508, 50)\n",
      "sample_preprocessed.shape = (508, 1, 34)\n",
      "y_predicted.shape = (508, 1)\n",
      "y_postprocessed.shape = (508,)\n",
      "y_commands.shape = (508,)\n"
     ]
    }
   ],
   "source": [
    "for key, val in y_dct.items():\n",
    "    # print(f\"len({key}) = {len(y_dct[key])}\")\n",
    "    y_dct[key] = np.stack(val)\n",
    "    print(f\"{key}.shape = {y_dct[key].shape}\")"
   ]
  },
  {
   "cell_type": "code",
   "execution_count": 104,
   "metadata": {
    "tags": []
   },
   "outputs": [
    {
     "data": {
      "image/png": "[encoded data removed]",
      "text/plain": [
       "<Figure size 900x300 with 1 Axes>"
      ]
     },
     "metadata": {},
     "output_type": "display_data"
    }
   ],
   "source": [
    "fig = plt.figure(figsize=(9, 3))\n",
    "\n",
    "plt.plot(target, c='C0', label='y_cmd')\n",
    "plt.plot(y_dct['y_predicted'].reshape(-1), c='C1', label='y_predicted')\n",
    "plt.plot(y_dct['y_postprocessed'], c='C2', label='y_postprocessed')\n",
    "\n",
    "plt.title('Ground truth vs predicted vs postprocessed vs commands')\n",
    "plt.yticks(np.arange(len(GESTURES)), GESTURES)\n",
    "plt.legend()\n",
    "plt.grid()\n",
    "plt.xlabel('Timesteps')\n",
    "\n",
    "plt.tight_layout()"
   ]
  },
  {
   "cell_type": "code",
   "execution_count": 105,
   "metadata": {},
   "outputs": [
    {
     "name": "stdout",
     "output_type": "stream",
     "text": [
      "              precision    recall  f1-score   support\n",
      "\n",
      "       Close     0.9778    0.7333    0.8381        60\n",
      "  Indication     1.0000    0.8500    0.9189        60\n",
      "     Neutral     0.8625    0.9921    0.9228       253\n",
      "        Open     1.0000    0.8033    0.8909        61\n",
      "       Pinch     0.9677    0.9836    0.9756        61\n",
      "ThumbFingers     1.0000    0.7692    0.8696        13\n",
      "\n",
      "    accuracy                         0.9154       508\n",
      "   macro avg     0.9680    0.8553    0.9026       508\n",
      "weighted avg     0.9250    0.9154    0.9135       508\n",
      "\n"
     ]
    },
    {
     "data": {
      "text/html": [
       "<div>\n",
       "<style scoped>\n",
       "    .dataframe tbody tr th:only-of-type {\n",
       "        vertical-align: middle;\n",
       "    }\n",
       "\n",
       "    .dataframe tbody tr th {\n",
       "        vertical-align: top;\n",
       "    }\n",
       "\n",
       "    .dataframe thead th {\n",
       "        text-align: right;\n",
       "    }\n",
       "</style>\n",
       "<table border=\"1\" class=\"dataframe\">\n",
       "  <thead>\n",
       "    <tr style=\"text-align: right;\">\n",
       "      <th></th>\n",
       "      <th>Close</th>\n",
       "      <th>Indication</th>\n",
       "      <th>Neutral</th>\n",
       "      <th>Open</th>\n",
       "      <th>Pinch</th>\n",
       "      <th>ThumbFingers</th>\n",
       "    </tr>\n",
       "  </thead>\n",
       "  <tbody>\n",
       "    <tr>\n",
       "      <th>Close</th>\n",
       "      <td>42</td>\n",
       "      <td>0</td>\n",
       "      <td>18</td>\n",
       "      <td>0</td>\n",
       "      <td>0</td>\n",
       "      <td>0</td>\n",
       "    </tr>\n",
       "    <tr>\n",
       "      <th>Indication</th>\n",
       "      <td>0</td>\n",
       "      <td>49</td>\n",
       "      <td>11</td>\n",
       "      <td>0</td>\n",
       "      <td>0</td>\n",
       "      <td>0</td>\n",
       "    </tr>\n",
       "    <tr>\n",
       "      <th>Neutral</th>\n",
       "      <td>0</td>\n",
       "      <td>0</td>\n",
       "      <td>251</td>\n",
       "      <td>0</td>\n",
       "      <td>2</td>\n",
       "      <td>0</td>\n",
       "    </tr>\n",
       "    <tr>\n",
       "      <th>Open</th>\n",
       "      <td>0</td>\n",
       "      <td>0</td>\n",
       "      <td>12</td>\n",
       "      <td>49</td>\n",
       "      <td>0</td>\n",
       "      <td>0</td>\n",
       "    </tr>\n",
       "    <tr>\n",
       "      <th>Pinch</th>\n",
       "      <td>0</td>\n",
       "      <td>0</td>\n",
       "      <td>5</td>\n",
       "      <td>0</td>\n",
       "      <td>56</td>\n",
       "      <td>0</td>\n",
       "    </tr>\n",
       "    <tr>\n",
       "      <th>ThumbFingers</th>\n",
       "      <td>0</td>\n",
       "      <td>0</td>\n",
       "      <td>4</td>\n",
       "      <td>0</td>\n",
       "      <td>0</td>\n",
       "      <td>9</td>\n",
       "    </tr>\n",
       "  </tbody>\n",
       "</table>\n",
       "</div>"
      ],
      "text/plain": [
       "              Close  Indication  Neutral  Open  Pinch  ThumbFingers\n",
       "Close            42           0       18     0      0             0\n",
       "Indication        0          49       11     0      0             0\n",
       "Neutral           0           0      251     0      2             0\n",
       "Open              0           0       12    49      0             0\n",
       "Pinch             0           0        5     0     56             0\n",
       "ThumbFingers      0           0        4     0      0             9"
      ]
     },
     "metadata": {},
     "output_type": "display_data"
    }
   ],
   "source": [
    "print(metrics.classification_report(\n",
    "    target, y_dct['y_postprocessed'],\n",
    "    target_names=GESTURES, digits=4,\n",
    "    zero_division=0\n",
    "))\n",
    "\n",
    "# создаём таблицу сопряжённости\n",
    "ct = pd.crosstab(y_valid, preds_valid.reshape(-1))\n",
    "if not list(ct.index) == list(ct.columns):\n",
    "    set1, set2 = set(ct.index), set(ct.columns)\n",
    "    diff = set1.difference(set2)\n",
    "    if len(diff) == 1:\n",
    "        specific_index = list(ct.index).index(list(diff)[0])\n",
    "        new_column_name = str(diff)\n",
    "        ct.insert(specific_index, new_column_name, 0)\n",
    "        # определяем название активностей\n",
    "        ct.index = ct.columns = GESTURES\n",
    "        display(ct)\n",
    "    else:\n",
    "        print('Более чем один жест моделью не распознается!')\n",
    "else:\n",
    "    ct.index = ct.columns = GESTURES\n",
    "    display(ct)"
   ]
  },
  {
   "cell_type": "markdown",
   "metadata": {},
   "source": [
    "F1-weighted scores\n",
    "\n",
    "|model|set1_bl|set2_bl|set3_bl|set1_opt|set2_opt|set3_opt|\n",
    "|-|-|-|-|-|-|-|\n",
    "|`GaussianNB`|0.7525|0.6149|0.8953|0.7606|0.6130|0.8934|\n",
    "|`LogisticRegression`|0.4635|0.4620|0.8992|0.4902|0.4610|0.3506|\n",
    "|`PassiveAggressive`|0.6624|0.3790|0.3765|0.6151|0.4788|0.9135|\n",
    "|`Perceptron`|0.5364|0.4726|0.3784|0.5364|0.4726|0.3784|\n",
    "|`Ridge`|0.4167|0.4424|0.7019|0.4239|0.4424|0.7101|\n",
    "|`SGD`|0.6441|0.4799|0.4272|0.5700|0.4654|0.9014|\n",
    "|`LinearSVC`|0.4328|0.4533|0.3697|0.5690|0.5089|0.3439|\n",
    "|`SVC`|0.8160|0.7115|0.8684|0.8729|0.7441|0.8952|\n",
    "|`KNeighbors`|0.9183|0.7736|0.7027|0.9113|0.7821|0.8724|\n",
    "|`MLP`|0.8962|0.8249|0.8853|0.9251|0.8166|0.9115|\n",
    "|`DecisionTree`|0.8644|0.6985|0.8675|0.8288|0.6899|0.8789|\n",
    "|`AdaBoost`|0.8546|0.6817|0.8676|0.9103|0.7606|0.8954|\n",
    "|`Bagging`|0.8984|0.7620|0.9032|0.9180|0.7731|0.8780|\n",
    "|`ExtraTrees`|0.8849|0.7580|0.9035|0.8818|0.7674|0.8647|\n",
    "|`GradientBoosting`|0.9268|0.7409|0.9032|0.9253|0.7576|0.9052|\n",
    "|`RandomForest`|0.9130|0.7839|0.9112|0.9069|0.7835|0.8728|\n",
    "|`HistGradientBoosting`|0.9196|0.7763|0.9074|0.9115|0.7835|0.8718|\n",
    "|`XGB`|0.9162|0.7729|0.9114|0.9059|0.7215|0.8891|\n",
    "|`CatBoost`|0.9200|0.8248|0.9055|0.9231|0.8188|0.9052|"
   ]
  },
  {
   "cell_type": "markdown",
   "metadata": {},
   "source": [
    "\n",
    "Experiments with modified preprocessing:<br>\n",
    "(300) (300+5) (300+50) (300+5+50) \n",
    "\n",
    "|model|1_bl_exp|2_bl_exp|3_bl_exp|\n",
    "|-|-|-|-|\n",
    "|`GaussianNB`|-|-|-|\n",
    "|`LogisticRegression`||-|-|\n",
    "|`PassiveAggressive`|-|-|-|\n",
    "|`Perceptron`|-|-|-|\n",
    "|`Ridge`|-|-|-|\n",
    "|`SGD`|-|-|-|\n",
    "|`LinearSVC`|-|-|-|\n",
    "|`SVC`||-|-|\n",
    "|`KNeighbors`||-|-|\n",
    "|`MLP`||-|-|\n",
    "|`DecisionTree`||-|-|\n",
    "|`AdaBoost`||-|-|\n",
    "|`Bagging`||-|-|\n",
    "|`ExtraTrees`||-|-|\n",
    "|`GradientBoosting`||-|-|\n",
    "|`RandomForest`||-|-|\n",
    "|`HistGradientBoosting`||-|-|\n",
    "|`XGB`||-|-|\n",
    "|`CatBoost`||-|-|\n",
    "\n",
    "Optimized algorithms:\n",
    "\n",
    "|model|1_opt_exp|2_opt_exp|3_opt_exp|\n",
    "|-|-|-|-|\n",
    "|`GaussianNB`|-|-|-|\n",
    "|`LogisticRegression`|-|-|-|\n",
    "|`PassiveAggressive`|-|-|-|\n",
    "|`Perceptron`|-|-|-|\n",
    "|`Ridge`|-|-|-|\n",
    "|`SGD`|-|-|-|\n",
    "|`LinearSVC`|-|-|-|\n",
    "|`SVC`|-|-|-|\n",
    "|`KNeighbors`||-|-|\n",
    "|`MLP`|-|-|-|\n",
    "|`DecisionTree`|-|-|-|\n",
    "|`AdaBoost`|-|-|-|\n",
    "|`Bagging`|-|-|-|\n",
    "|`ExtraTrees`|-|-|-|\n",
    "|`GradientBoosting`|-|-|-|\n",
    "|`RandomForest`|-|-|-|\n",
    "|`HistGradientBoosting`|-|-|-|\n",
    "|`XGB`|-|-|-|\n",
    "|`CatBoost`|-|-|-|"
   ]
  },
  {
   "cell_type": "markdown",
   "metadata": {},
   "source": [
    "### Online (prosthesis or virtual hand)"
   ]
  },
  {
   "cell_type": "code",
   "execution_count": 106,
   "metadata": {},
   "outputs": [],
   "source": [
    "# from copy import deepcopy\n",
    "# import MotoricaInterface as mi; assert(mi.__version__==\"0.0.3\") # last time tested\n",
    "# vp = mi.VirtualPhantomClient('localhost', 1755)"
   ]
  },
  {
   "cell_type": "code",
   "execution_count": 107,
   "metadata": {},
   "outputs": [],
   "source": [
    "# !ls /dev/ttyUSB*"
   ]
  },
  {
   "cell_type": "code",
   "execution_count": 108,
   "metadata": {},
   "outputs": [],
   "source": [
    "# TIMEOUT = 0.033\n",
    "# DEBUG = True\n",
    "\n",
    "# ser = None\n",
    "# ser_port = None\n",
    "# ser_port = '/dev/ttyUSB1'\n",
    "\n",
    "# if ser_port is not None:\n",
    "#     ser = serial.Serial(port=ser_port, baudrate=115200, timeout=1.0)\n",
    "#     # time.sleep(0.2)\n",
    "\n",
    "#     # ser.write('M0\\r\\n'.encode())\n",
    "#     # time.sleep(0.1)\n",
    "\n",
    "#     # # ser.write('S2\\r\\n'.encode())\n",
    "#     # # time.sleep(0.1)\n",
    "\n",
    "#     # ser.write('PT\\r\\n'.encode())\n",
    "#     # time.sleep(0.1)\n",
    "#     # ser.write('Pt\\r\\n'.encode())\n",
    "#     # time.sleep(0.1)\n",
    "#     # ser.flush()\n",
    "\n",
    "#     # time.sleep(0.1)"
   ]
  },
  {
   "cell_type": "code",
   "execution_count": 109,
   "metadata": {},
   "outputs": [],
   "source": [
    "# def parseline():\n",
    "#     line = ser.readline().decode().replace('\\n', '')\n",
    "#     data = np.array(list(filter(len, np.array(line.split(\" \"))))).astype(float)\n",
    "#     return data\n",
    "\n",
    "# ser.readline()\n",
    "# while True:\n",
    "#     data = parseline()\n",
    "#     print(f\"data len: {len(data)} |\", list(data), end = '                                          \\r')"
   ]
  },
  {
   "cell_type": "code",
   "execution_count": 110,
   "metadata": {},
   "outputs": [],
   "source": [
    "# # flush buffers\n",
    "# ser.reset_input_buffer()\n",
    "# ser.read()\n",
    "\n",
    "# i = 0;\n",
    "# while(ser.in_waiting):\n",
    "#     print(f'Flushing buffers {i}: {ser.in_waiting}', end='    \\r')\n",
    "#     ser.read_all()\n",
    "#     time.sleep(0.005)\n",
    "#     i+=1;\n",
    "# ser.readline()\n",
    "# ser.readline()\n",
    "    \n",
    "# i = 0\n",
    "# ts_old = time.time()\n",
    "# ts_diff = 0;\n",
    "\n",
    "# ts_diffs = []\n",
    "# x_previous = None\n",
    "# y_previous = None\n",
    "\n",
    "# pack = None\n",
    "\n",
    "# prev_state = 'None'\n",
    "# prev_idx = -1\n",
    "# y_commands = vp.neutral_state.copy()\n",
    "\n",
    "# while True:    \n",
    "    \n",
    "#     # [Data reading]\n",
    "#     s = ser.readline()\n",
    "#     ts_start = time.time()\n",
    "    \n",
    "#     try:\n",
    "#         sample = s.decode().replace('\\n', '')\n",
    "#         data = np.array(list(filter(len, np.array(sample.split(\" \"))))).astype(float)\n",
    "#         [[ts, cycle_ts], omg_sample] = np.array_split(data, [2])\n",
    "        \n",
    "#     except Exception as e:\n",
    "#         print(e)\n",
    "#     # [/Data Reading]\n",
    "        \n",
    "#     # [Data preprocessing]\n",
    "#     sample_preprocessed = preprocessing(omg_sample)\n",
    "#     # [/Data preprocessing]\n",
    "    \n",
    "#     # [Inference]\n",
    "#     y_predicted         = inference(sample_preprocessed)\n",
    "#     # [/Inference]\n",
    "    \n",
    "#     # [Inference Postprocessing]\n",
    "#     y_postprocessed     = postprocessing(y_predicted, y_previous)\n",
    "#     # [/Inference Postprocessing]\n",
    "    \n",
    "#     # [Commands composition]\n",
    "#     y_commands          = commands(y_postprocessed.argmax())\n",
    "#     # [/Commands composition]\n",
    "    \n",
    "#     # [Commands sending]\n",
    "#     # pack, _ = drv_abs_one(ser, list(y_commands)); # + [0]\n",
    "#     prot_idx = deepcopy(y_commands)\n",
    "#     if (prot_idx!=prev_idx):\n",
    "#         # socket_send(row.Command)\n",
    "#         vp.send_cmd(**y_commands)\n",
    "#         prev_idx = prot_idx\n",
    "#     # [/Commands sending]\n",
    "    \n",
    "#     y_previous = y_postprocessed\n",
    "\n",
    "    \n",
    "#     if DEBUG:\n",
    "#         clear_output(wait=True)\n",
    "\n",
    "#         # sanity check: iteration should increase monotonically, TIMEDIFF approximately 32-34 ms, CYCLETIME < TIMEOUT, WAITING should be == 0\n",
    "#         print(f'ITERATION:\\t{i}\\tTIMEDIFF:\\t{(ts_start - ts_old)*1000: .0f}\\tCYCLETIME:\\t{ts_diff*1000:.0f}\\tWAITING:\\t{ser.in_waiting}')\n",
    "#         # print('INPUT:\\n', s)\n",
    "#         print('SAMPLE:\\n', sample)\n",
    "\n",
    "#         # sanity check: Sizes of SAMPLE=65, OMG=50\n",
    "#         print(f'SAMPLE SIZE: {len(sample)}, OMG: {len(omg_sample)}')\n",
    "#         print(f'TS: {ts}, CYCLE TS: {cycle_ts}')\n",
    "#         print(y_postprocessed, GESTURES[y_postprocessed])\n",
    "#         # print(y_commands)\n",
    "#         # print(pack)\n",
    "    \n",
    "#     ts_diff = time.time() - ts_start\n",
    "#     # assert(ts_diff<TIMEOUT), 'Calculation cycle takes more than TIMEOUT, halting...'\n",
    "#     ts_old = ts_start\n",
    "#     i += 1 "
   ]
  },
  {
   "cell_type": "markdown",
   "metadata": {},
   "source": [
    "# Draft"
   ]
  },
  {
   "cell_type": "code",
   "execution_count": 111,
   "metadata": {},
   "outputs": [],
   "source": [
    "# crc_table = [\n",
    "#     54, 181, 83, 241, 89, 16, 164, 217, 34, 169, 220, 160, 11, 252,\n",
    "#     111, 241, 33, 70, 99, 240, 234, 215, 60, 206, 68, 126, 152, 81,\n",
    "#     113, 187, 14, 21, 164, 172, 251, 16, 248, 215, 236, 90, 49, 53,\n",
    "#     179, 156, 101, 55, 65, 130, 161, 22, 218, 79, 24, 168, 152, 205,\n",
    "#     115, 141, 23, 86, 141, 58, 122, 215, 252, 48, 69, 115, 138, 66,\n",
    "#     88, 37, 63, 104, 176, 46, 139, 246, 222, 184, 103, 92, 154, 174,\n",
    "#     97, 141, 195, 166, 227, 150, 140, 48, 121, 243, 13, 131, 210, 199,\n",
    "#     45, 75, 180, 104, 97, 82, 251, 90, 132, 111, 229, 175, 146, 216,\n",
    "#     153, 86, 166, 33, 184, 100, 225, 248, 186, 54, 89, 39, 2, 214, 2,\n",
    "#     114, 197, 6, 35, 188, 245, 64, 220, 37, 123, 132, 190, 60, 189, 53,\n",
    "#     215, 185, 238, 145, 99, 226, 79, 54, 102, 118, 210, 116, 51, 247,\n",
    "#     0, 191, 42, 45, 2, 132, 106, 52, 63, 159, 229, 157, 78, 165, 50,\n",
    "#     18, 108, 193, 166, 253, 3, 243, 126, 111, 199, 152, 36, 114, 147,\n",
    "#     57, 87, 14, 16, 160, 128, 97, 189, 51, 115, 142, 8, 70, 71, 55, 42,\n",
    "#     193, 65, 207, 122, 158, 26, 21, 72, 139, 33, 230, 230, 116, 134, 5,\n",
    "#     213, 165, 107, 41, 134, 219, 190, 26, 29, 136, 174, 190, 108, 185, 172,\n",
    "#     137, 239, 164, 208, 207, 206, 98, 207, 12, 0, 174, 64, 20, 90, 49, 12,\n",
    "#     67, 112, 109, 78, 114, 165, 244, 183, 121\n",
    "# ];\n",
    "    \n",
    "# def get_crc(data, count):\n",
    "#     result = 0x00\n",
    "#     l = count\n",
    "#     while (count>0):   \n",
    "#         result = crc_table[result ^ data[l-count]]\n",
    "#         count -= 1;\n",
    "#     return result;\n",
    "\n",
    "# def drv_abs_one(ser, control):\n",
    "#     if ser is None:\n",
    "#         return\n",
    "#     pack = (np.array([80, 0x01, 0xBB, 6] + [c for c in control] + [0], dtype='uint8'))\n",
    "#     pack[-1] = get_crc(pack[1:], 9)\n",
    "#     return (pack, ser.write(bytearray(pack)))"
   ]
  },
  {
   "cell_type": "markdown",
   "metadata": {},
   "source": [
    "---"
   ]
  }
 ],
 "metadata": {
  "kernelspec": {
   "display_name": "Python 3 (ipykernel)",
   "language": "python",
   "name": "python3"
  },
  "language_info": {
   "codemirror_mode": {
    "name": "ipython",
    "version": 3
   },
   "file_extension": ".py",
   "mimetype": "text/x-python",
   "name": "python",
   "nbconvert_exporter": "python",
   "pygments_lexer": "ipython3",
   "version": "3.11.1"
  }
 },
 "nbformat": 4,
 "nbformat_minor": 4
}
