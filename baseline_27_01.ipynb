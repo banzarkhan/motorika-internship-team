{
  "cells": [
    {
      "cell_type": "code",
      "source": [
        "!pip install serial -q\n",
        "!pip install catboost -q\n",
        "!pip install hyperopt -q"
      ],
      "metadata": {
        "id": "S3B9FhXDHTsR",
        "colab": {
          "base_uri": "https://localhost:8080/"
        },
        "outputId": "f6c95415-3948-4773-91e4-1f86824b9ed5"
      },
      "execution_count": 2,
      "outputs": [
        {
          "output_type": "stream",
          "name": "stdout",
          "text": [
            "\u001b[2K     \u001b[90m━━━━━━━━━━━━━━━━━━━━━━━━━━━━━━━━━━━━━━━━\u001b[0m \u001b[32m40.9/40.9 kB\u001b[0m \u001b[31m393.3 kB/s\u001b[0m eta \u001b[36m0:00:00\u001b[0m\n",
            "\u001b[2K     \u001b[90m━━━━━━━━━━━━━━━━━━━━━━━━━━━━━━━━━━━━━━━━\u001b[0m \u001b[32m98.7/98.7 MB\u001b[0m \u001b[31m5.1 MB/s\u001b[0m eta \u001b[36m0:00:00\u001b[0m\n",
            "\u001b[?25h"
          ]
        }
      ]
    },
    {
      "cell_type": "code",
      "execution_count": 3,
      "metadata": {
        "tags": [],
        "id": "B1cjeTbT8TcV"
      },
      "outputs": [],
      "source": [
        "import numpy as np\n",
        "import pandas as pd\n",
        "from matplotlib import pyplot as plt\n",
        "\n",
        "import statsmodels.graphics.tsaplots as sgt\n",
        "\n",
        "from warnings import simplefilter\n",
        "simplefilter(action=\"ignore\", category=pd.errors.PerformanceWarning)\n",
        "\n",
        "import numpy as np\n",
        "import pandas as pd\n",
        "import seaborn as sns\n",
        "\n",
        "from matplotlib import pyplot as plt\n",
        "\n",
        "from sklearn.preprocessing import RobustScaler, StandardScaler\n",
        "from sklearn.metrics import classification_report, f1_score, confusion_matrix\n",
        "from sklearn.utils.class_weight import compute_class_weight\n",
        "\n",
        "from catboost import CatBoostClassifier\n",
        "from sklearn.neighbors import KNeighborsClassifier\n",
        "from sklearn.naive_bayes import BernoulliNB\n",
        "from sklearn.naive_bayes import GaussianNB\n",
        "from sklearn.linear_model import LogisticRegression\n",
        "\n",
        "from sklearn.ensemble import RandomForestClassifier\n",
        "from sklearn.ensemble import StackingClassifier\n",
        "from sklearn.svm import SVC\n",
        "\n",
        "from sklearn.model_selection import cross_val_score, StratifiedKFold\n",
        "from sklearn.linear_model import LogisticRegression\n",
        "from sklearn.tree import DecisionTreeClassifier\n",
        "from sklearn.preprocessing import StandardScaler, OneHotEncoder\n",
        "from sklearn.pipeline import Pipeline\n",
        "from sklearn.impute import SimpleImputer\n",
        "from sklearn.compose import ColumnTransformer\n",
        "\n",
        "from functools import partial\n",
        "from sklearn.model_selection import StratifiedKFold\n",
        "from sklearn.model_selection import cross_val_score\n",
        "from hyperopt import hp, fmin, tpe, Trials, STATUS_OK\n",
        "# fmin - основная функция, она будет минимизировать наш функционал\n",
        "# tpe - алгоритм оптимизации\n",
        "# hp - включает набор методов для объявления пространства поиска гиперпараметров\n",
        "# trails - используется для логирования результатов\n",
        "\n",
        "%matplotlib inline\n",
        "sns.set_context(\"talk\")\n",
        "\n",
        "# random state\n",
        "RS = 1\n",
        "# %matplotlib widget"
      ]
    },
    {
      "cell_type": "code",
      "source": [
        "#В колабе импортируем все необходимые библиотеки\n",
        "from pydrive2.auth import GoogleAuth\n",
        "from pydrive2.drive import GoogleDrive\n",
        "from google.colab import auth\n",
        "from oauth2client.client import GoogleCredentials\n",
        "\n",
        "#Привязываем гуглдиск к колабу\n",
        "auth.authenticate_user()\n",
        "gauth = GoogleAuth()\n",
        "gauth.credentials = GoogleCredentials.get_application_default()\n",
        "drive = GoogleDrive(gauth)\n",
        "\n",
        "# Загружаем файл в колаб\n",
        "download = drive.CreateFile({\"id\": \"1NawWHBHXznAtBE_t-XRxM4p986eYmrZU\"})\n",
        "# https://drive.google.com/file/d/1NawWHBHXznAtBE_t-XRxM4p986eYmrZU/view?usp=drive_link\n",
        "download.GetContentFile(\"2023-05-31_17-14-41.palm\")\n",
        "\n",
        "download = drive.CreateFile({\"id\": \"1g1pd5vZfFKYEXoX47FQ0XWjnh3IRIBPQ\"})\n",
        "# https://drive.google.com/file/d/1g1pd5vZfFKYEXoX47FQ0XWjnh3IRIBPQ/view?usp=sharing\n",
        "download.GetContentFile(\"2023-05-31_17-14-41.palm.protocol.csv\")\n",
        "\n",
        "download = drive.CreateFile({\"id\": \"1sVN7vFqUow4hQkt0Ef0GKGA4EhxlOQJZ\"})\n",
        "# https://drive.google.com/file/d/1sVN7vFqUow4hQkt0Ef0GKGA4EhxlOQJZ/view?usp=drive_link\n",
        "download.GetContentFile(\"meta_information.csv\")"
      ],
      "metadata": {
        "id": "BVoNz4W3y38m"
      },
      "execution_count": 4,
      "outputs": []
    },
    {
      "cell_type": "code",
      "execution_count": 5,
      "metadata": {
        "id": "0bXEuvTj8Tcy"
      },
      "outputs": [],
      "source": [
        "from sklearn.preprocessing import LabelEncoder\n",
        "# from tensorflow.keras.utils import to_categorical"
      ]
    },
    {
      "cell_type": "markdown",
      "metadata": {
        "id": "siv3C98t8Tc1"
      },
      "source": [
        "# IO utils\n"
      ]
    },
    {
      "cell_type": "code",
      "execution_count": 6,
      "metadata": {
        "tags": [],
        "id": "aBLSkAD48Tc9"
      },
      "outputs": [],
      "source": [
        "def read_omg_csv(path_palm_data: str,\n",
        "                 n_omg_channels: int,\n",
        "                 n_acc_channels: int = 0,\n",
        "                 n_gyr_channels: int = 0,\n",
        "                 n_mag_channels: int = 0,\n",
        "                 n_enc_channels: int = 0,\n",
        "                 button_ch: bool = True,\n",
        "                 sync_ch: bool = True,\n",
        "                 timestamp_ch: bool = True) -> pd.DataFrame:\n",
        "\n",
        "    '''\n",
        "    Reads CSV data for OMG data\n",
        "    NB: data must be separated by \" \" separator\n",
        "\n",
        "        Parameters:\n",
        "                path_palm_data  (str): path to csv data file\n",
        "                n_omg_channels  (int): Number of OMG channels\n",
        "                n_acc_channels  (int): Number of Accelerometer channels, default = 0\n",
        "                n_gyr_channels  (int): Number of Gyroscope channels, default = 0\n",
        "                n_mag_channels  (int): Number of Magnetometer channels, default = 0\n",
        "                n_enc_channels  (int): Number of Encoder channels, default = 0\n",
        "                button_ch      (bool): If button channel is present, default = True\n",
        "                sync_ch        (bool): If synchronization channel is present, default = True\n",
        "                timestamp_ch   (bool): If timestamp channel is present, default = True\n",
        "\n",
        "        Returns:\n",
        "                df_raw (pd.DataFrame): Parsed pandas Dataframe with OMG data\n",
        "    '''\n",
        "\n",
        "    df_raw = pd.read_csv(path_palm_data, sep=' ',\n",
        "                         header=None,\n",
        "                         skipfooter=1,\n",
        "                         skiprows=1,\n",
        "                         engine='python')\n",
        "    columns = np.arange(n_omg_channels).astype('str').tolist()\n",
        "\n",
        "    for label, label_count in zip(['ACC', 'GYR', 'MAG', 'ENC'],\n",
        "                                  [n_acc_channels, n_gyr_channels, n_mag_channels, n_enc_channels]):\n",
        "        columns = columns + ['{}{}'.format(label, i) for i in range(label_count)]\n",
        "\n",
        "    if button_ch:\n",
        "        columns = columns + ['BUTTON']\n",
        "\n",
        "    if sync_ch:\n",
        "        columns = columns + ['SYNC']\n",
        "\n",
        "    if timestamp_ch:\n",
        "        columns = columns + ['ts']\n",
        "\n",
        "    df_raw.columns = columns\n",
        "\n",
        "    return df_raw"
      ]
    },
    {
      "cell_type": "markdown",
      "metadata": {
        "id": "BufhVrk38TdE"
      },
      "source": [
        "# Abbreviations\n",
        "OMG — optomiography  \n",
        "ACC — accelerometer  \n",
        "GYR — gyroscope  \n",
        "ENC - encoders (fingers of prosthesis or gloves)  \n",
        "model — model of data  "
      ]
    },
    {
      "cell_type": "markdown",
      "metadata": {
        "id": "9YO-_wBu8TdN"
      },
      "source": [
        "# Data"
      ]
    },
    {
      "cell_type": "code",
      "execution_count": 7,
      "metadata": {
        "tags": [],
        "id": "pw4hjam-8TdR",
        "outputId": "e228d196-097c-4d52-8c56-b6af8ef606f7",
        "colab": {
          "base_uri": "https://localhost:8080/",
          "height": 253
        }
      },
      "outputs": [
        {
          "output_type": "stream",
          "name": "stdout",
          "text": [
            "(19568, 65)\n"
          ]
        },
        {
          "output_type": "execute_result",
          "data": {
            "text/plain": [
              "    0  1  2  3  4  5  6  7   8   9  ...  GYR2  ENC0  ENC1  ENC2  ENC3  ENC4  \\\n",
              "0  12  8  5  6  2  4  5  7  14   8  ...   -13     0     0     0     0     0   \n",
              "1  13  8  4  5  3  0  5  4   9  10  ...   -16     0     0     0     0     0   \n",
              "2  12  5  9  5  0  0  6  5  10   9  ...   -14     0     0     0     0     0   \n",
              "3  10  7  6  4  1  0  4  6   7   8  ...   -12     0     0     0     0     0   \n",
              "4  12  6  6  7  3  2  6  7   9  12  ...   -12     0     0     0     0     0   \n",
              "\n",
              "   ENC5  BUTTON  SYNC      ts  \n",
              "0     0       0     0  555777  \n",
              "1     0       0     0  555810  \n",
              "2     0       0     0  555843  \n",
              "3     0       0     0  555876  \n",
              "4     0       0     0  555909  \n",
              "\n",
              "[5 rows x 65 columns]"
            ],
            "text/html": [
              "\n",
              "  <div id=\"df-1f545db9-827d-4820-866f-f9603ee19eab\" class=\"colab-df-container\">\n",
              "    <div>\n",
              "<style scoped>\n",
              "    .dataframe tbody tr th:only-of-type {\n",
              "        vertical-align: middle;\n",
              "    }\n",
              "\n",
              "    .dataframe tbody tr th {\n",
              "        vertical-align: top;\n",
              "    }\n",
              "\n",
              "    .dataframe thead th {\n",
              "        text-align: right;\n",
              "    }\n",
              "</style>\n",
              "<table border=\"1\" class=\"dataframe\">\n",
              "  <thead>\n",
              "    <tr style=\"text-align: right;\">\n",
              "      <th></th>\n",
              "      <th>0</th>\n",
              "      <th>1</th>\n",
              "      <th>2</th>\n",
              "      <th>3</th>\n",
              "      <th>4</th>\n",
              "      <th>5</th>\n",
              "      <th>6</th>\n",
              "      <th>7</th>\n",
              "      <th>8</th>\n",
              "      <th>9</th>\n",
              "      <th>...</th>\n",
              "      <th>GYR2</th>\n",
              "      <th>ENC0</th>\n",
              "      <th>ENC1</th>\n",
              "      <th>ENC2</th>\n",
              "      <th>ENC3</th>\n",
              "      <th>ENC4</th>\n",
              "      <th>ENC5</th>\n",
              "      <th>BUTTON</th>\n",
              "      <th>SYNC</th>\n",
              "      <th>ts</th>\n",
              "    </tr>\n",
              "  </thead>\n",
              "  <tbody>\n",
              "    <tr>\n",
              "      <th>0</th>\n",
              "      <td>12</td>\n",
              "      <td>8</td>\n",
              "      <td>5</td>\n",
              "      <td>6</td>\n",
              "      <td>2</td>\n",
              "      <td>4</td>\n",
              "      <td>5</td>\n",
              "      <td>7</td>\n",
              "      <td>14</td>\n",
              "      <td>8</td>\n",
              "      <td>...</td>\n",
              "      <td>-13</td>\n",
              "      <td>0</td>\n",
              "      <td>0</td>\n",
              "      <td>0</td>\n",
              "      <td>0</td>\n",
              "      <td>0</td>\n",
              "      <td>0</td>\n",
              "      <td>0</td>\n",
              "      <td>0</td>\n",
              "      <td>555777</td>\n",
              "    </tr>\n",
              "    <tr>\n",
              "      <th>1</th>\n",
              "      <td>13</td>\n",
              "      <td>8</td>\n",
              "      <td>4</td>\n",
              "      <td>5</td>\n",
              "      <td>3</td>\n",
              "      <td>0</td>\n",
              "      <td>5</td>\n",
              "      <td>4</td>\n",
              "      <td>9</td>\n",
              "      <td>10</td>\n",
              "      <td>...</td>\n",
              "      <td>-16</td>\n",
              "      <td>0</td>\n",
              "      <td>0</td>\n",
              "      <td>0</td>\n",
              "      <td>0</td>\n",
              "      <td>0</td>\n",
              "      <td>0</td>\n",
              "      <td>0</td>\n",
              "      <td>0</td>\n",
              "      <td>555810</td>\n",
              "    </tr>\n",
              "    <tr>\n",
              "      <th>2</th>\n",
              "      <td>12</td>\n",
              "      <td>5</td>\n",
              "      <td>9</td>\n",
              "      <td>5</td>\n",
              "      <td>0</td>\n",
              "      <td>0</td>\n",
              "      <td>6</td>\n",
              "      <td>5</td>\n",
              "      <td>10</td>\n",
              "      <td>9</td>\n",
              "      <td>...</td>\n",
              "      <td>-14</td>\n",
              "      <td>0</td>\n",
              "      <td>0</td>\n",
              "      <td>0</td>\n",
              "      <td>0</td>\n",
              "      <td>0</td>\n",
              "      <td>0</td>\n",
              "      <td>0</td>\n",
              "      <td>0</td>\n",
              "      <td>555843</td>\n",
              "    </tr>\n",
              "    <tr>\n",
              "      <th>3</th>\n",
              "      <td>10</td>\n",
              "      <td>7</td>\n",
              "      <td>6</td>\n",
              "      <td>4</td>\n",
              "      <td>1</td>\n",
              "      <td>0</td>\n",
              "      <td>4</td>\n",
              "      <td>6</td>\n",
              "      <td>7</td>\n",
              "      <td>8</td>\n",
              "      <td>...</td>\n",
              "      <td>-12</td>\n",
              "      <td>0</td>\n",
              "      <td>0</td>\n",
              "      <td>0</td>\n",
              "      <td>0</td>\n",
              "      <td>0</td>\n",
              "      <td>0</td>\n",
              "      <td>0</td>\n",
              "      <td>0</td>\n",
              "      <td>555876</td>\n",
              "    </tr>\n",
              "    <tr>\n",
              "      <th>4</th>\n",
              "      <td>12</td>\n",
              "      <td>6</td>\n",
              "      <td>6</td>\n",
              "      <td>7</td>\n",
              "      <td>3</td>\n",
              "      <td>2</td>\n",
              "      <td>6</td>\n",
              "      <td>7</td>\n",
              "      <td>9</td>\n",
              "      <td>12</td>\n",
              "      <td>...</td>\n",
              "      <td>-12</td>\n",
              "      <td>0</td>\n",
              "      <td>0</td>\n",
              "      <td>0</td>\n",
              "      <td>0</td>\n",
              "      <td>0</td>\n",
              "      <td>0</td>\n",
              "      <td>0</td>\n",
              "      <td>0</td>\n",
              "      <td>555909</td>\n",
              "    </tr>\n",
              "  </tbody>\n",
              "</table>\n",
              "<p>5 rows × 65 columns</p>\n",
              "</div>\n",
              "    <div class=\"colab-df-buttons\">\n",
              "\n",
              "  <div class=\"colab-df-container\">\n",
              "    <button class=\"colab-df-convert\" onclick=\"convertToInteractive('df-1f545db9-827d-4820-866f-f9603ee19eab')\"\n",
              "            title=\"Convert this dataframe to an interactive table.\"\n",
              "            style=\"display:none;\">\n",
              "\n",
              "  <svg xmlns=\"http://www.w3.org/2000/svg\" height=\"24px\" viewBox=\"0 -960 960 960\">\n",
              "    <path d=\"M120-120v-720h720v720H120Zm60-500h600v-160H180v160Zm220 220h160v-160H400v160Zm0 220h160v-160H400v160ZM180-400h160v-160H180v160Zm440 0h160v-160H620v160ZM180-180h160v-160H180v160Zm440 0h160v-160H620v160Z\"/>\n",
              "  </svg>\n",
              "    </button>\n",
              "\n",
              "  <style>\n",
              "    .colab-df-container {\n",
              "      display:flex;\n",
              "      gap: 12px;\n",
              "    }\n",
              "\n",
              "    .colab-df-convert {\n",
              "      background-color: #E8F0FE;\n",
              "      border: none;\n",
              "      border-radius: 50%;\n",
              "      cursor: pointer;\n",
              "      display: none;\n",
              "      fill: #1967D2;\n",
              "      height: 32px;\n",
              "      padding: 0 0 0 0;\n",
              "      width: 32px;\n",
              "    }\n",
              "\n",
              "    .colab-df-convert:hover {\n",
              "      background-color: #E2EBFA;\n",
              "      box-shadow: 0px 1px 2px rgba(60, 64, 67, 0.3), 0px 1px 3px 1px rgba(60, 64, 67, 0.15);\n",
              "      fill: #174EA6;\n",
              "    }\n",
              "\n",
              "    .colab-df-buttons div {\n",
              "      margin-bottom: 4px;\n",
              "    }\n",
              "\n",
              "    [theme=dark] .colab-df-convert {\n",
              "      background-color: #3B4455;\n",
              "      fill: #D2E3FC;\n",
              "    }\n",
              "\n",
              "    [theme=dark] .colab-df-convert:hover {\n",
              "      background-color: #434B5C;\n",
              "      box-shadow: 0px 1px 3px 1px rgba(0, 0, 0, 0.15);\n",
              "      filter: drop-shadow(0px 1px 2px rgba(0, 0, 0, 0.3));\n",
              "      fill: #FFFFFF;\n",
              "    }\n",
              "  </style>\n",
              "\n",
              "    <script>\n",
              "      const buttonEl =\n",
              "        document.querySelector('#df-1f545db9-827d-4820-866f-f9603ee19eab button.colab-df-convert');\n",
              "      buttonEl.style.display =\n",
              "        google.colab.kernel.accessAllowed ? 'block' : 'none';\n",
              "\n",
              "      async function convertToInteractive(key) {\n",
              "        const element = document.querySelector('#df-1f545db9-827d-4820-866f-f9603ee19eab');\n",
              "        const dataTable =\n",
              "          await google.colab.kernel.invokeFunction('convertToInteractive',\n",
              "                                                    [key], {});\n",
              "        if (!dataTable) return;\n",
              "\n",
              "        const docLinkHtml = 'Like what you see? Visit the ' +\n",
              "          '<a target=\"_blank\" href=https://colab.research.google.com/notebooks/data_table.ipynb>data table notebook</a>'\n",
              "          + ' to learn more about interactive tables.';\n",
              "        element.innerHTML = '';\n",
              "        dataTable['output_type'] = 'display_data';\n",
              "        await google.colab.output.renderOutput(dataTable, element);\n",
              "        const docLink = document.createElement('div');\n",
              "        docLink.innerHTML = docLinkHtml;\n",
              "        element.appendChild(docLink);\n",
              "      }\n",
              "    </script>\n",
              "  </div>\n",
              "\n",
              "\n",
              "<div id=\"df-4f3f57de-72d8-4468-a410-8d0f1f7af570\">\n",
              "  <button class=\"colab-df-quickchart\" onclick=\"quickchart('df-4f3f57de-72d8-4468-a410-8d0f1f7af570')\"\n",
              "            title=\"Suggest charts\"\n",
              "            style=\"display:none;\">\n",
              "\n",
              "<svg xmlns=\"http://www.w3.org/2000/svg\" height=\"24px\"viewBox=\"0 0 24 24\"\n",
              "     width=\"24px\">\n",
              "    <g>\n",
              "        <path d=\"M19 3H5c-1.1 0-2 .9-2 2v14c0 1.1.9 2 2 2h14c1.1 0 2-.9 2-2V5c0-1.1-.9-2-2-2zM9 17H7v-7h2v7zm4 0h-2V7h2v10zm4 0h-2v-4h2v4z\"/>\n",
              "    </g>\n",
              "</svg>\n",
              "  </button>\n",
              "\n",
              "<style>\n",
              "  .colab-df-quickchart {\n",
              "      --bg-color: #E8F0FE;\n",
              "      --fill-color: #1967D2;\n",
              "      --hover-bg-color: #E2EBFA;\n",
              "      --hover-fill-color: #174EA6;\n",
              "      --disabled-fill-color: #AAA;\n",
              "      --disabled-bg-color: #DDD;\n",
              "  }\n",
              "\n",
              "  [theme=dark] .colab-df-quickchart {\n",
              "      --bg-color: #3B4455;\n",
              "      --fill-color: #D2E3FC;\n",
              "      --hover-bg-color: #434B5C;\n",
              "      --hover-fill-color: #FFFFFF;\n",
              "      --disabled-bg-color: #3B4455;\n",
              "      --disabled-fill-color: #666;\n",
              "  }\n",
              "\n",
              "  .colab-df-quickchart {\n",
              "    background-color: var(--bg-color);\n",
              "    border: none;\n",
              "    border-radius: 50%;\n",
              "    cursor: pointer;\n",
              "    display: none;\n",
              "    fill: var(--fill-color);\n",
              "    height: 32px;\n",
              "    padding: 0;\n",
              "    width: 32px;\n",
              "  }\n",
              "\n",
              "  .colab-df-quickchart:hover {\n",
              "    background-color: var(--hover-bg-color);\n",
              "    box-shadow: 0 1px 2px rgba(60, 64, 67, 0.3), 0 1px 3px 1px rgba(60, 64, 67, 0.15);\n",
              "    fill: var(--button-hover-fill-color);\n",
              "  }\n",
              "\n",
              "  .colab-df-quickchart-complete:disabled,\n",
              "  .colab-df-quickchart-complete:disabled:hover {\n",
              "    background-color: var(--disabled-bg-color);\n",
              "    fill: var(--disabled-fill-color);\n",
              "    box-shadow: none;\n",
              "  }\n",
              "\n",
              "  .colab-df-spinner {\n",
              "    border: 2px solid var(--fill-color);\n",
              "    border-color: transparent;\n",
              "    border-bottom-color: var(--fill-color);\n",
              "    animation:\n",
              "      spin 1s steps(1) infinite;\n",
              "  }\n",
              "\n",
              "  @keyframes spin {\n",
              "    0% {\n",
              "      border-color: transparent;\n",
              "      border-bottom-color: var(--fill-color);\n",
              "      border-left-color: var(--fill-color);\n",
              "    }\n",
              "    20% {\n",
              "      border-color: transparent;\n",
              "      border-left-color: var(--fill-color);\n",
              "      border-top-color: var(--fill-color);\n",
              "    }\n",
              "    30% {\n",
              "      border-color: transparent;\n",
              "      border-left-color: var(--fill-color);\n",
              "      border-top-color: var(--fill-color);\n",
              "      border-right-color: var(--fill-color);\n",
              "    }\n",
              "    40% {\n",
              "      border-color: transparent;\n",
              "      border-right-color: var(--fill-color);\n",
              "      border-top-color: var(--fill-color);\n",
              "    }\n",
              "    60% {\n",
              "      border-color: transparent;\n",
              "      border-right-color: var(--fill-color);\n",
              "    }\n",
              "    80% {\n",
              "      border-color: transparent;\n",
              "      border-right-color: var(--fill-color);\n",
              "      border-bottom-color: var(--fill-color);\n",
              "    }\n",
              "    90% {\n",
              "      border-color: transparent;\n",
              "      border-bottom-color: var(--fill-color);\n",
              "    }\n",
              "  }\n",
              "</style>\n",
              "\n",
              "  <script>\n",
              "    async function quickchart(key) {\n",
              "      const quickchartButtonEl =\n",
              "        document.querySelector('#' + key + ' button');\n",
              "      quickchartButtonEl.disabled = true;  // To prevent multiple clicks.\n",
              "      quickchartButtonEl.classList.add('colab-df-spinner');\n",
              "      try {\n",
              "        const charts = await google.colab.kernel.invokeFunction(\n",
              "            'suggestCharts', [key], {});\n",
              "      } catch (error) {\n",
              "        console.error('Error during call to suggestCharts:', error);\n",
              "      }\n",
              "      quickchartButtonEl.classList.remove('colab-df-spinner');\n",
              "      quickchartButtonEl.classList.add('colab-df-quickchart-complete');\n",
              "    }\n",
              "    (() => {\n",
              "      let quickchartButtonEl =\n",
              "        document.querySelector('#df-4f3f57de-72d8-4468-a410-8d0f1f7af570 button');\n",
              "      quickchartButtonEl.style.display =\n",
              "        google.colab.kernel.accessAllowed ? 'block' : 'none';\n",
              "    })();\n",
              "  </script>\n",
              "</div>\n",
              "    </div>\n",
              "  </div>\n"
            ]
          },
          "metadata": {},
          "execution_count": 7
        }
      ],
      "source": [
        "palm_file = './2023-05-31_17-14-41.palm'\n",
        "gestures = read_omg_csv(palm_file,\n",
        "                              n_omg_channels=50,\n",
        "                              n_acc_channels=3,\n",
        "                              n_gyr_channels=3,\n",
        "                              n_enc_channels=6,\n",
        "                              n_mag_channels=0)\n",
        "\n",
        "print(gestures.shape)\n",
        "gestures.head()"
      ]
    },
    {
      "cell_type": "code",
      "source": [
        "gestures['SYNC'].max()"
      ],
      "metadata": {
        "colab": {
          "base_uri": "https://localhost:8080/"
        },
        "id": "45UwnKPYT4dm",
        "outputId": "cd98c657-fb54-41e5-c2c0-68d38df0cb3e"
      },
      "execution_count": 8,
      "outputs": [
        {
          "output_type": "execute_result",
          "data": {
            "text/plain": [
              "180"
            ]
          },
          "metadata": {},
          "execution_count": 8
        }
      ]
    },
    {
      "cell_type": "code",
      "execution_count": 9,
      "metadata": {
        "tags": [],
        "id": "Oog26Ds58TdX",
        "outputId": "62ecbbcb-4a88-438b-83a8-ea951c824e7f",
        "colab": {
          "base_uri": "https://localhost:8080/"
        }
      },
      "outputs": [
        {
          "output_type": "execute_result",
          "data": {
            "text/plain": [
              "Index(['0', '1', '2', '3', '4', '5', '6', '7', '8', '9', '10', '11', '12',\n",
              "       '13', '14', '15', '16', '17', '18', '19', '20', '21', '22', '23', '24',\n",
              "       '25', '26', '27', '28', '29', '30', '31', '32', '33', '34', '35', '36',\n",
              "       '37', '38', '39', '40', '41', '42', '43', '44', '45', '46', '47', '48',\n",
              "       '49', 'ACC0', 'ACC1', 'ACC2', 'GYR0', 'GYR1', 'GYR2', 'ENC0', 'ENC1',\n",
              "       'ENC2', 'ENC3', 'ENC4', 'ENC5', 'BUTTON', 'SYNC', 'ts'],\n",
              "      dtype='object')"
            ]
          },
          "metadata": {},
          "execution_count": 9
        }
      ],
      "source": [
        "# [X features] '0', ..., '49' - каналы OMG датчиков\n",
        "#              'ACC0', 'ACC1', 'ACC2' - акселерометр (потенциально могут использоваться как факторы для модели)\n",
        "#              'GYR0', 'GYR1', 'GYR2' - гироскоп     (потенциально могут использоваться как факторы для модели)\n",
        "# 'BUTTON' - не используется\n",
        "# 'SYNC' - синхронизация данных с протоколом\n",
        "# 'ts' - метка времени\n",
        "gestures.columns"
      ]
    },
    {
      "cell_type": "code",
      "source": [
        "gestures.shape[-1]"
      ],
      "metadata": {
        "colab": {
          "base_uri": "https://localhost:8080/"
        },
        "id": "2Zi9peOJNOy3",
        "outputId": "547cd93d-5581-4ae3-ee1a-5302d9d89eac"
      },
      "execution_count": 10,
      "outputs": [
        {
          "output_type": "execute_result",
          "data": {
            "text/plain": [
              "65"
            ]
          },
          "metadata": {},
          "execution_count": 10
        }
      ]
    },
    {
      "cell_type": "code",
      "source": [
        "gestures.shape"
      ],
      "metadata": {
        "colab": {
          "base_uri": "https://localhost:8080/"
        },
        "id": "4VtB-oKWNS2u",
        "outputId": "57b23cb6-4f97-477d-c464-bc32c9c5bf58"
      },
      "execution_count": 11,
      "outputs": [
        {
          "output_type": "execute_result",
          "data": {
            "text/plain": [
              "(19568, 65)"
            ]
          },
          "metadata": {},
          "execution_count": 11
        }
      ]
    },
    {
      "cell_type": "code",
      "execution_count": 12,
      "metadata": {
        "tags": [],
        "id": "mzfyTMZY8Tda",
        "outputId": "4adb7bd8-2a61-409a-c6ac-a0f16919d4e9",
        "colab": {
          "base_uri": "https://localhost:8080/"
        }
      },
      "outputs": [
        {
          "output_type": "stream",
          "name": "stdout",
          "text": [
            "OMG_CH: ['0', '1', '2', '3', '4', '5', '6', '7', '8', '9', '10', '11', '12', '13', '14', '15', '16', '17', '18', '19', '20', '21', '22', '23', '24', '25', '26', '27', '28', '29', '30', '31', '32', '33', '34', '35', '36', '37', '38', '39', '40', '41', '42', '43', '44', '45', '46', '47', '48', '49']\n",
            "ACC_CH: ['ACC0', 'ACC1', 'ACC2']\n",
            "GYR_CH: ['GYR0', 'GYR1', 'GYR2']\n",
            "ENC_CH: ['ENC0', 'ENC1', 'ENC2', 'ENC3', 'ENC4', 'ENC5']\n",
            "BUTTON_SYNC_TS_CH: ['BUTTON', 'SYNC', 'ts']\n"
          ]
        }
      ],
      "source": [
        "OMG_CH = [str(i) for i in range(50)]\n",
        "\n",
        "ACC_CH = ['ACC0', 'ACC1', 'ACC2']\n",
        "GYR_CH = ['GYR0', 'GYR1', 'GYR2']\n",
        "ENC_CH = ['ENC0', 'ENC1', 'ENC2', 'ENC3', 'ENC4', 'ENC5']\n",
        "BUTTON_SYNC_TS_CH = ['BUTTON', 'SYNC', 'ts']\n",
        "\n",
        "assert len(OMG_CH)+len(ACC_CH)+len(GYR_CH)+len(ENC_CH)+len(BUTTON_SYNC_TS_CH) == gestures.shape[-1]\n",
        "\n",
        "print(f\"OMG_CH: {list(OMG_CH)}\")\n",
        "print(f\"ACC_CH: {list(ACC_CH)}\")\n",
        "print(f\"GYR_CH: {list(GYR_CH)}\")\n",
        "print(f\"ENC_CH: {list(ENC_CH)}\")\n",
        "print(f\"BUTTON_SYNC_TS_CH: {list(BUTTON_SYNC_TS_CH)}\")"
      ]
    },
    {
      "cell_type": "markdown",
      "metadata": {
        "id": "jrNn4UQX8Tdf"
      },
      "source": [
        "### Protocol"
      ]
    },
    {
      "cell_type": "code",
      "execution_count": 13,
      "metadata": {
        "tags": [],
        "id": "gTQ_xB5F8Tdh",
        "colab": {
          "base_uri": "https://localhost:8080/",
          "height": 395
        },
        "outputId": "f7b9c675-dd67-4a72-dbd3-0ac7d509e3c4"
      },
      "outputs": [
        {
          "output_type": "execute_result",
          "data": {
            "text/plain": [
              "       Thumb  Index  Middle  Ring  Pinky  Thumb_stretch  Index_stretch  \\\n",
              "epoch                                                                    \n",
              "0        0.0    0.0     0.0   0.0    0.0            0.0            0.0   \n",
              "1        0.0    0.0     0.0   0.0    0.0            0.0            0.0   \n",
              "2        1.0    0.0     0.0   0.0    0.0            0.0            0.0   \n",
              "3        1.0    1.0     1.0   1.0    1.0            0.0            0.0   \n",
              "4        0.0    0.0     0.0   0.0    0.0            1.0            1.0   \n",
              "5        1.0    1.0     0.0   0.0    0.0            0.0            0.0   \n",
              "6        0.0    0.0     1.0   1.0    1.0            0.0            0.0   \n",
              "7        0.0    0.0     0.0   0.0    0.0            0.0            0.0   \n",
              "8        1.0    0.0     0.0   0.0    0.0            0.0            0.0   \n",
              "9        1.0    1.0     1.0   1.0    1.0            0.0            0.0   \n",
              "\n",
              "       Middle_stretch  Ring_stretch  Pinky_stretch  Pronation  \n",
              "epoch                                                          \n",
              "0                 0.0           0.0            0.0        0.0  \n",
              "1                 0.0           0.0            0.0        0.0  \n",
              "2                 0.0           0.0            0.0        0.0  \n",
              "3                 0.0           0.0            0.0        0.0  \n",
              "4                 1.0           1.0            1.0        0.0  \n",
              "5                 0.0           0.0            0.0        0.0  \n",
              "6                 0.0           0.0            0.0        0.0  \n",
              "7                 0.0           0.0            0.0        0.5  \n",
              "8                 0.0           0.0            0.0        0.5  \n",
              "9                 0.0           0.0            0.0        0.5  "
            ],
            "text/html": [
              "\n",
              "  <div id=\"df-9790caf2-a302-482a-b082-55f2f4195e53\" class=\"colab-df-container\">\n",
              "    <div>\n",
              "<style scoped>\n",
              "    .dataframe tbody tr th:only-of-type {\n",
              "        vertical-align: middle;\n",
              "    }\n",
              "\n",
              "    .dataframe tbody tr th {\n",
              "        vertical-align: top;\n",
              "    }\n",
              "\n",
              "    .dataframe thead th {\n",
              "        text-align: right;\n",
              "    }\n",
              "</style>\n",
              "<table border=\"1\" class=\"dataframe\">\n",
              "  <thead>\n",
              "    <tr style=\"text-align: right;\">\n",
              "      <th></th>\n",
              "      <th>Thumb</th>\n",
              "      <th>Index</th>\n",
              "      <th>Middle</th>\n",
              "      <th>Ring</th>\n",
              "      <th>Pinky</th>\n",
              "      <th>Thumb_stretch</th>\n",
              "      <th>Index_stretch</th>\n",
              "      <th>Middle_stretch</th>\n",
              "      <th>Ring_stretch</th>\n",
              "      <th>Pinky_stretch</th>\n",
              "      <th>Pronation</th>\n",
              "    </tr>\n",
              "    <tr>\n",
              "      <th>epoch</th>\n",
              "      <th></th>\n",
              "      <th></th>\n",
              "      <th></th>\n",
              "      <th></th>\n",
              "      <th></th>\n",
              "      <th></th>\n",
              "      <th></th>\n",
              "      <th></th>\n",
              "      <th></th>\n",
              "      <th></th>\n",
              "      <th></th>\n",
              "    </tr>\n",
              "  </thead>\n",
              "  <tbody>\n",
              "    <tr>\n",
              "      <th>0</th>\n",
              "      <td>0.0</td>\n",
              "      <td>0.0</td>\n",
              "      <td>0.0</td>\n",
              "      <td>0.0</td>\n",
              "      <td>0.0</td>\n",
              "      <td>0.0</td>\n",
              "      <td>0.0</td>\n",
              "      <td>0.0</td>\n",
              "      <td>0.0</td>\n",
              "      <td>0.0</td>\n",
              "      <td>0.0</td>\n",
              "    </tr>\n",
              "    <tr>\n",
              "      <th>1</th>\n",
              "      <td>0.0</td>\n",
              "      <td>0.0</td>\n",
              "      <td>0.0</td>\n",
              "      <td>0.0</td>\n",
              "      <td>0.0</td>\n",
              "      <td>0.0</td>\n",
              "      <td>0.0</td>\n",
              "      <td>0.0</td>\n",
              "      <td>0.0</td>\n",
              "      <td>0.0</td>\n",
              "      <td>0.0</td>\n",
              "    </tr>\n",
              "    <tr>\n",
              "      <th>2</th>\n",
              "      <td>1.0</td>\n",
              "      <td>0.0</td>\n",
              "      <td>0.0</td>\n",
              "      <td>0.0</td>\n",
              "      <td>0.0</td>\n",
              "      <td>0.0</td>\n",
              "      <td>0.0</td>\n",
              "      <td>0.0</td>\n",
              "      <td>0.0</td>\n",
              "      <td>0.0</td>\n",
              "      <td>0.0</td>\n",
              "    </tr>\n",
              "    <tr>\n",
              "      <th>3</th>\n",
              "      <td>1.0</td>\n",
              "      <td>1.0</td>\n",
              "      <td>1.0</td>\n",
              "      <td>1.0</td>\n",
              "      <td>1.0</td>\n",
              "      <td>0.0</td>\n",
              "      <td>0.0</td>\n",
              "      <td>0.0</td>\n",
              "      <td>0.0</td>\n",
              "      <td>0.0</td>\n",
              "      <td>0.0</td>\n",
              "    </tr>\n",
              "    <tr>\n",
              "      <th>4</th>\n",
              "      <td>0.0</td>\n",
              "      <td>0.0</td>\n",
              "      <td>0.0</td>\n",
              "      <td>0.0</td>\n",
              "      <td>0.0</td>\n",
              "      <td>1.0</td>\n",
              "      <td>1.0</td>\n",
              "      <td>1.0</td>\n",
              "      <td>1.0</td>\n",
              "      <td>1.0</td>\n",
              "      <td>0.0</td>\n",
              "    </tr>\n",
              "    <tr>\n",
              "      <th>5</th>\n",
              "      <td>1.0</td>\n",
              "      <td>1.0</td>\n",
              "      <td>0.0</td>\n",
              "      <td>0.0</td>\n",
              "      <td>0.0</td>\n",
              "      <td>0.0</td>\n",
              "      <td>0.0</td>\n",
              "      <td>0.0</td>\n",
              "      <td>0.0</td>\n",
              "      <td>0.0</td>\n",
              "      <td>0.0</td>\n",
              "    </tr>\n",
              "    <tr>\n",
              "      <th>6</th>\n",
              "      <td>0.0</td>\n",
              "      <td>0.0</td>\n",
              "      <td>1.0</td>\n",
              "      <td>1.0</td>\n",
              "      <td>1.0</td>\n",
              "      <td>0.0</td>\n",
              "      <td>0.0</td>\n",
              "      <td>0.0</td>\n",
              "      <td>0.0</td>\n",
              "      <td>0.0</td>\n",
              "      <td>0.0</td>\n",
              "    </tr>\n",
              "    <tr>\n",
              "      <th>7</th>\n",
              "      <td>0.0</td>\n",
              "      <td>0.0</td>\n",
              "      <td>0.0</td>\n",
              "      <td>0.0</td>\n",
              "      <td>0.0</td>\n",
              "      <td>0.0</td>\n",
              "      <td>0.0</td>\n",
              "      <td>0.0</td>\n",
              "      <td>0.0</td>\n",
              "      <td>0.0</td>\n",
              "      <td>0.5</td>\n",
              "    </tr>\n",
              "    <tr>\n",
              "      <th>8</th>\n",
              "      <td>1.0</td>\n",
              "      <td>0.0</td>\n",
              "      <td>0.0</td>\n",
              "      <td>0.0</td>\n",
              "      <td>0.0</td>\n",
              "      <td>0.0</td>\n",
              "      <td>0.0</td>\n",
              "      <td>0.0</td>\n",
              "      <td>0.0</td>\n",
              "      <td>0.0</td>\n",
              "      <td>0.5</td>\n",
              "    </tr>\n",
              "    <tr>\n",
              "      <th>9</th>\n",
              "      <td>1.0</td>\n",
              "      <td>1.0</td>\n",
              "      <td>1.0</td>\n",
              "      <td>1.0</td>\n",
              "      <td>1.0</td>\n",
              "      <td>0.0</td>\n",
              "      <td>0.0</td>\n",
              "      <td>0.0</td>\n",
              "      <td>0.0</td>\n",
              "      <td>0.0</td>\n",
              "      <td>0.5</td>\n",
              "    </tr>\n",
              "  </tbody>\n",
              "</table>\n",
              "</div>\n",
              "    <div class=\"colab-df-buttons\">\n",
              "\n",
              "  <div class=\"colab-df-container\">\n",
              "    <button class=\"colab-df-convert\" onclick=\"convertToInteractive('df-9790caf2-a302-482a-b082-55f2f4195e53')\"\n",
              "            title=\"Convert this dataframe to an interactive table.\"\n",
              "            style=\"display:none;\">\n",
              "\n",
              "  <svg xmlns=\"http://www.w3.org/2000/svg\" height=\"24px\" viewBox=\"0 -960 960 960\">\n",
              "    <path d=\"M120-120v-720h720v720H120Zm60-500h600v-160H180v160Zm220 220h160v-160H400v160Zm0 220h160v-160H400v160ZM180-400h160v-160H180v160Zm440 0h160v-160H620v160ZM180-180h160v-160H180v160Zm440 0h160v-160H620v160Z\"/>\n",
              "  </svg>\n",
              "    </button>\n",
              "\n",
              "  <style>\n",
              "    .colab-df-container {\n",
              "      display:flex;\n",
              "      gap: 12px;\n",
              "    }\n",
              "\n",
              "    .colab-df-convert {\n",
              "      background-color: #E8F0FE;\n",
              "      border: none;\n",
              "      border-radius: 50%;\n",
              "      cursor: pointer;\n",
              "      display: none;\n",
              "      fill: #1967D2;\n",
              "      height: 32px;\n",
              "      padding: 0 0 0 0;\n",
              "      width: 32px;\n",
              "    }\n",
              "\n",
              "    .colab-df-convert:hover {\n",
              "      background-color: #E2EBFA;\n",
              "      box-shadow: 0px 1px 2px rgba(60, 64, 67, 0.3), 0px 1px 3px 1px rgba(60, 64, 67, 0.15);\n",
              "      fill: #174EA6;\n",
              "    }\n",
              "\n",
              "    .colab-df-buttons div {\n",
              "      margin-bottom: 4px;\n",
              "    }\n",
              "\n",
              "    [theme=dark] .colab-df-convert {\n",
              "      background-color: #3B4455;\n",
              "      fill: #D2E3FC;\n",
              "    }\n",
              "\n",
              "    [theme=dark] .colab-df-convert:hover {\n",
              "      background-color: #434B5C;\n",
              "      box-shadow: 0px 1px 3px 1px rgba(0, 0, 0, 0.15);\n",
              "      filter: drop-shadow(0px 1px 2px rgba(0, 0, 0, 0.3));\n",
              "      fill: #FFFFFF;\n",
              "    }\n",
              "  </style>\n",
              "\n",
              "    <script>\n",
              "      const buttonEl =\n",
              "        document.querySelector('#df-9790caf2-a302-482a-b082-55f2f4195e53 button.colab-df-convert');\n",
              "      buttonEl.style.display =\n",
              "        google.colab.kernel.accessAllowed ? 'block' : 'none';\n",
              "\n",
              "      async function convertToInteractive(key) {\n",
              "        const element = document.querySelector('#df-9790caf2-a302-482a-b082-55f2f4195e53');\n",
              "        const dataTable =\n",
              "          await google.colab.kernel.invokeFunction('convertToInteractive',\n",
              "                                                    [key], {});\n",
              "        if (!dataTable) return;\n",
              "\n",
              "        const docLinkHtml = 'Like what you see? Visit the ' +\n",
              "          '<a target=\"_blank\" href=https://colab.research.google.com/notebooks/data_table.ipynb>data table notebook</a>'\n",
              "          + ' to learn more about interactive tables.';\n",
              "        element.innerHTML = '';\n",
              "        dataTable['output_type'] = 'display_data';\n",
              "        await google.colab.output.renderOutput(dataTable, element);\n",
              "        const docLink = document.createElement('div');\n",
              "        docLink.innerHTML = docLinkHtml;\n",
              "        element.appendChild(docLink);\n",
              "      }\n",
              "    </script>\n",
              "  </div>\n",
              "\n",
              "\n",
              "<div id=\"df-ddd0306b-126b-40e0-af0b-9a25278add2c\">\n",
              "  <button class=\"colab-df-quickchart\" onclick=\"quickchart('df-ddd0306b-126b-40e0-af0b-9a25278add2c')\"\n",
              "            title=\"Suggest charts\"\n",
              "            style=\"display:none;\">\n",
              "\n",
              "<svg xmlns=\"http://www.w3.org/2000/svg\" height=\"24px\"viewBox=\"0 0 24 24\"\n",
              "     width=\"24px\">\n",
              "    <g>\n",
              "        <path d=\"M19 3H5c-1.1 0-2 .9-2 2v14c0 1.1.9 2 2 2h14c1.1 0 2-.9 2-2V5c0-1.1-.9-2-2-2zM9 17H7v-7h2v7zm4 0h-2V7h2v10zm4 0h-2v-4h2v4z\"/>\n",
              "    </g>\n",
              "</svg>\n",
              "  </button>\n",
              "\n",
              "<style>\n",
              "  .colab-df-quickchart {\n",
              "      --bg-color: #E8F0FE;\n",
              "      --fill-color: #1967D2;\n",
              "      --hover-bg-color: #E2EBFA;\n",
              "      --hover-fill-color: #174EA6;\n",
              "      --disabled-fill-color: #AAA;\n",
              "      --disabled-bg-color: #DDD;\n",
              "  }\n",
              "\n",
              "  [theme=dark] .colab-df-quickchart {\n",
              "      --bg-color: #3B4455;\n",
              "      --fill-color: #D2E3FC;\n",
              "      --hover-bg-color: #434B5C;\n",
              "      --hover-fill-color: #FFFFFF;\n",
              "      --disabled-bg-color: #3B4455;\n",
              "      --disabled-fill-color: #666;\n",
              "  }\n",
              "\n",
              "  .colab-df-quickchart {\n",
              "    background-color: var(--bg-color);\n",
              "    border: none;\n",
              "    border-radius: 50%;\n",
              "    cursor: pointer;\n",
              "    display: none;\n",
              "    fill: var(--fill-color);\n",
              "    height: 32px;\n",
              "    padding: 0;\n",
              "    width: 32px;\n",
              "  }\n",
              "\n",
              "  .colab-df-quickchart:hover {\n",
              "    background-color: var(--hover-bg-color);\n",
              "    box-shadow: 0 1px 2px rgba(60, 64, 67, 0.3), 0 1px 3px 1px rgba(60, 64, 67, 0.15);\n",
              "    fill: var(--button-hover-fill-color);\n",
              "  }\n",
              "\n",
              "  .colab-df-quickchart-complete:disabled,\n",
              "  .colab-df-quickchart-complete:disabled:hover {\n",
              "    background-color: var(--disabled-bg-color);\n",
              "    fill: var(--disabled-fill-color);\n",
              "    box-shadow: none;\n",
              "  }\n",
              "\n",
              "  .colab-df-spinner {\n",
              "    border: 2px solid var(--fill-color);\n",
              "    border-color: transparent;\n",
              "    border-bottom-color: var(--fill-color);\n",
              "    animation:\n",
              "      spin 1s steps(1) infinite;\n",
              "  }\n",
              "\n",
              "  @keyframes spin {\n",
              "    0% {\n",
              "      border-color: transparent;\n",
              "      border-bottom-color: var(--fill-color);\n",
              "      border-left-color: var(--fill-color);\n",
              "    }\n",
              "    20% {\n",
              "      border-color: transparent;\n",
              "      border-left-color: var(--fill-color);\n",
              "      border-top-color: var(--fill-color);\n",
              "    }\n",
              "    30% {\n",
              "      border-color: transparent;\n",
              "      border-left-color: var(--fill-color);\n",
              "      border-top-color: var(--fill-color);\n",
              "      border-right-color: var(--fill-color);\n",
              "    }\n",
              "    40% {\n",
              "      border-color: transparent;\n",
              "      border-right-color: var(--fill-color);\n",
              "      border-top-color: var(--fill-color);\n",
              "    }\n",
              "    60% {\n",
              "      border-color: transparent;\n",
              "      border-right-color: var(--fill-color);\n",
              "    }\n",
              "    80% {\n",
              "      border-color: transparent;\n",
              "      border-right-color: var(--fill-color);\n",
              "      border-bottom-color: var(--fill-color);\n",
              "    }\n",
              "    90% {\n",
              "      border-color: transparent;\n",
              "      border-bottom-color: var(--fill-color);\n",
              "    }\n",
              "  }\n",
              "</style>\n",
              "\n",
              "  <script>\n",
              "    async function quickchart(key) {\n",
              "      const quickchartButtonEl =\n",
              "        document.querySelector('#' + key + ' button');\n",
              "      quickchartButtonEl.disabled = true;  // To prevent multiple clicks.\n",
              "      quickchartButtonEl.classList.add('colab-df-spinner');\n",
              "      try {\n",
              "        const charts = await google.colab.kernel.invokeFunction(\n",
              "            'suggestCharts', [key], {});\n",
              "      } catch (error) {\n",
              "        console.error('Error during call to suggestCharts:', error);\n",
              "      }\n",
              "      quickchartButtonEl.classList.remove('colab-df-spinner');\n",
              "      quickchartButtonEl.classList.add('colab-df-quickchart-complete');\n",
              "    }\n",
              "    (() => {\n",
              "      let quickchartButtonEl =\n",
              "        document.querySelector('#df-ddd0306b-126b-40e0-af0b-9a25278add2c button');\n",
              "      quickchartButtonEl.style.display =\n",
              "        google.colab.kernel.accessAllowed ? 'block' : 'none';\n",
              "    })();\n",
              "  </script>\n",
              "</div>\n",
              "    </div>\n",
              "  </div>\n"
            ]
          },
          "metadata": {},
          "execution_count": 13
        }
      ],
      "source": [
        "gestures_protocol = pd.read_csv(f'{palm_file}.protocol.csv', index_col=0)\n",
        "gestures_protocol.head(10)"
      ]
    },
    {
      "cell_type": "code",
      "source": [
        "gestures_protocol['Pronation'].value_counts()"
      ],
      "metadata": {
        "id": "F1XCm8j9QUEv",
        "colab": {
          "base_uri": "https://localhost:8080/"
        },
        "outputId": "06c4ade7-cd8d-4a3f-eb0c-d8b3bce3b195"
      },
      "execution_count": 14,
      "outputs": [
        {
          "output_type": "execute_result",
          "data": {
            "text/plain": [
              "0.0    61\n",
              "0.5    60\n",
              "1.0    60\n",
              "Name: Pronation, dtype: int64"
            ]
          },
          "metadata": {},
          "execution_count": 14
        }
      ]
    },
    {
      "cell_type": "code",
      "source": [
        "gestures_protocol.shape"
      ],
      "metadata": {
        "id": "MJ55jZJWPYPA",
        "colab": {
          "base_uri": "https://localhost:8080/"
        },
        "outputId": "f24bbb02-0d07-45c2-9481-c77cd74da9aa"
      },
      "execution_count": 15,
      "outputs": [
        {
          "output_type": "execute_result",
          "data": {
            "text/plain": [
              "(181, 11)"
            ]
          },
          "metadata": {},
          "execution_count": 15
        }
      ]
    },
    {
      "cell_type": "code",
      "execution_count": 16,
      "metadata": {
        "tags": [],
        "id": "80vFvxp68Tdk",
        "colab": {
          "base_uri": "https://localhost:8080/",
          "height": 138
        },
        "outputId": "eb65e0f8-7df6-4917-8515-05d00fd95653"
      },
      "outputs": [
        {
          "output_type": "display_data",
          "data": {
            "text/plain": [
              "array([[0, '(0.0, 0.0, 0.0, 0.0, 0.0, 0.0, 0.0, 0.0, 0.0, 0.0)'],\n",
              "       [1, '(0.0, 0.0, 0.0, 0.0, 0.0, 1.0, 1.0, 1.0, 1.0, 1.0)'],\n",
              "       [2, '(0.0, 0.0, 1.0, 1.0, 1.0, 0.0, 0.0, 0.0, 0.0, 0.0)'],\n",
              "       [3, '(1.0, 0.0, 0.0, 0.0, 0.0, 0.0, 0.0, 0.0, 0.0, 0.0)'],\n",
              "       [4, '(1.0, 1.0, 0.0, 0.0, 0.0, 0.0, 0.0, 0.0, 0.0, 0.0)'],\n",
              "       [5, '(1.0, 1.0, 1.0, 1.0, 1.0, 0.0, 0.0, 0.0, 0.0, 0.0)']],\n",
              "      dtype=object)"
            ]
          },
          "metadata": {}
        }
      ],
      "source": [
        "le = LabelEncoder()\n",
        "\n",
        "# FIT\n",
        "le.fit(\n",
        "    gestures_protocol[[\n",
        "        \"Thumb\",\"Index\",\"Middle\",\"Ring\",\"Pinky\",\n",
        "        'Thumb_stretch','Index_stretch','Middle_stretch','Ring_stretch','Pinky_stretch'\n",
        "    ]]\n",
        "    .apply(lambda row: str(tuple(row)), axis=1)\n",
        ")\n",
        "\n",
        "# TRANSFORM\n",
        "gestures_protocol['gesture'] = le.transform(\n",
        "    gestures_protocol[[\n",
        "        \"Thumb\",\"Index\",\"Middle\",\"Ring\",\"Pinky\",\n",
        "        'Thumb_stretch','Index_stretch','Middle_stretch','Ring_stretch','Pinky_stretch'\n",
        "    ]]\n",
        "    .apply(lambda row: str(tuple(row)), axis=1)\n",
        ")\n",
        "\n",
        "display(np.c_[le.transform(le.classes_), le.classes_])"
      ]
    },
    {
      "cell_type": "code",
      "execution_count": 17,
      "metadata": {
        "tags": [],
        "id": "9X5pkQ3J8Tdm",
        "colab": {
          "base_uri": "https://localhost:8080/"
        },
        "outputId": "aad82822-b9b2-4fcb-8a8b-878d9b74ca49"
      },
      "outputs": [
        {
          "output_type": "execute_result",
          "data": {
            "text/plain": [
              "['Neutral', 'Open', 'Pistol', 'Thumb', 'OK', 'Grab']"
            ]
          },
          "metadata": {},
          "execution_count": 17
        }
      ],
      "source": [
        "GESTURES = ['Neutral', 'Open', 'Pistol', 'Thumb', 'OK', 'Grab']\n",
        "GESTURES"
      ]
    },
    {
      "cell_type": "code",
      "execution_count": 18,
      "metadata": {
        "id": "ek-T58Cv8Tdn",
        "colab": {
          "base_uri": "https://localhost:8080/"
        },
        "outputId": "41ec54c9-bb09-4631-dab9-fcdf8bb323b4"
      },
      "outputs": [
        {
          "output_type": "execute_result",
          "data": {
            "text/plain": [
              "epoch\n",
              "0      0\n",
              "1      0\n",
              "2      3\n",
              "3      5\n",
              "4      1\n",
              "      ..\n",
              "176    3\n",
              "177    5\n",
              "178    1\n",
              "179    4\n",
              "180    2\n",
              "Name: gesture, Length: 181, dtype: int64"
            ]
          },
          "metadata": {},
          "execution_count": 18
        }
      ],
      "source": [
        "gestures_protocol['gesture']"
      ]
    },
    {
      "cell_type": "code",
      "execution_count": 19,
      "metadata": {
        "tags": [],
        "id": "6i4itB_i8Tdp",
        "colab": {
          "base_uri": "https://localhost:8080/"
        },
        "outputId": "d73daab7-6255-4cf1-a7fe-8c60a07d72c9"
      },
      "outputs": [
        {
          "output_type": "execute_result",
          "data": {
            "text/plain": [
              "array([0, 0, 0, ..., 0, 0, 0])"
            ]
          },
          "metadata": {},
          "execution_count": 19
        }
      ],
      "source": [
        "y_cmd = np.array([gestures_protocol['gesture'].loc[s] for s in gestures['SYNC'].values])\n",
        "y_cmd"
      ]
    },
    {
      "cell_type": "markdown",
      "source": [
        "## Предобработка данных"
      ],
      "metadata": {
        "id": "As44QwNGmImA"
      }
    },
    {
      "cell_type": "markdown",
      "source": [
        "## Удаление столбцов с нулевым значением"
      ],
      "metadata": {
        "id": "CKW9NGe4bFXf"
      }
    },
    {
      "cell_type": "code",
      "source": [
        "def reset_zero_features(df):\n",
        "  \"\"\"Функция для удаления признаков с нулевым значением\n",
        "\n",
        "    Args:\n",
        "        df (DataFrame): датасет\n",
        "\n",
        "    Returns:\n",
        "        df (DataFrame): датасет с удалёнными признаками с нулевым значением\n",
        "  \"\"\"\n",
        "  df_sum = df.apply(lambda x: x.sum()) #находим сумму по столбцам\n",
        "  df_zero = df_sum[df_sum == 0] # фильтруем по нулевому значению\n",
        "  zero_index = list(df_zero.index) # список названий признаков с нулевым значением\n",
        "  df.drop (zero_index, axis= 1 , inplace= True ) #удаление из датасета признаков с нулевым значением\n",
        "  return df"
      ],
      "metadata": {
        "id": "J9Ar-KYd0zat"
      },
      "execution_count": 20,
      "outputs": []
    },
    {
      "cell_type": "markdown",
      "source": [
        "## Добавление суммы изменений признака за последние несколько временных шагов."
      ],
      "metadata": {
        "id": "_y4X53qmbOBd"
      }
    },
    {
      "cell_type": "code",
      "source": [
        "def add_weight_sum(df, col_for_roll = '1', size = 5, win_type = 'triang'):\n",
        "  \"\"\"Фунуция для добавления признака скользящей суммы, c весами значений\n",
        "\n",
        "    Args:\n",
        "        df (DataFrame): выборка\n",
        "        col_for_roll(str): список признаков из общей выборки для обработки\n",
        "        size(int): размер окна\n",
        "        metod(str): веса. Действительная оконная функция scipy.signal\n",
        "\n",
        "    Returns:\n",
        "        df_log(DataFrame): датасет с добавленным признаком скользящей суммы, c весами значений\n",
        "  \"\"\"\n",
        "  df_temp = df.copy()\n",
        "  col_add = f'add_{size}_{col_for_roll}' #название для нового признака\n",
        "  df_temp[col_add] = round(df_temp[col_for_roll].rolling(window = size, win_type = win_type).sum()) #создаем признак\n",
        "  df_temp.fillna(0, inplace = True) #удаляем нули\n",
        "\n",
        "  return df_temp\n",
        "\n",
        "gestures = add_weight_sum(gestures, col_for_roll = '1', size = 5, win_type = 'triang')\n",
        "\n",
        "gestures.head(10)"
      ],
      "metadata": {
        "id": "1kjZs7cA9WVd",
        "colab": {
          "base_uri": "https://localhost:8080/",
          "height": 393
        },
        "outputId": "6212dbaf-c2ad-4c4d-ac78-1a92a34b5eab"
      },
      "execution_count": 21,
      "outputs": [
        {
          "output_type": "execute_result",
          "data": {
            "text/plain": [
              "    0  1  2  3   4  5  6  7   8   9  ...  ENC0  ENC1  ENC2  ENC3  ENC4  ENC5  \\\n",
              "0  12  8  5  6   2  4  5  7  14   8  ...     0     0     0     0     0     0   \n",
              "1  13  8  4  5   3  0  5  4   9  10  ...     0     0     0     0     0     0   \n",
              "2  12  5  9  5   0  0  6  5  10   9  ...     0     0     0     0     0     0   \n",
              "3  10  7  6  4   1  0  4  6   7   8  ...     0     0     0     0     0     0   \n",
              "4  12  6  6  7   3  2  6  7   9  12  ...     0     0     0     0     0     0   \n",
              "5   0  8  4  5   0  3  3  6   0   9  ...     0     0     0     0     0     0   \n",
              "6   0  5  6  2   2  0  7  2  12   9  ...     0     0     0     0     0     0   \n",
              "7  12  5  7  2   2  0  8  4   9   9  ...     0     0     0     0     0     0   \n",
              "8  12  5  6  4  12  0  6  2  10   8  ...     0     0     0     0     0     0   \n",
              "9  13  4  5  3   1  0  6  4  10   9  ...     0     0     0     0     0     0   \n",
              "\n",
              "   BUTTON  SYNC      ts  add_5_1  \n",
              "0       0     0  555777      0.0  \n",
              "1       0     0  555810      0.0  \n",
              "2       0     0  555843      0.0  \n",
              "3       0     0  555876      0.0  \n",
              "4       0     0  555909     20.0  \n",
              "5       0     0  555942     20.0  \n",
              "6       0     0  555975     19.0  \n",
              "7       0     0  556008     19.0  \n",
              "8       0     0  556041     17.0  \n",
              "9       0     0  556074     16.0  \n",
              "\n",
              "[10 rows x 66 columns]"
            ],
            "text/html": [
              "\n",
              "  <div id=\"df-561d209b-ca4a-4bbb-9676-b6602f9362da\" class=\"colab-df-container\">\n",
              "    <div>\n",
              "<style scoped>\n",
              "    .dataframe tbody tr th:only-of-type {\n",
              "        vertical-align: middle;\n",
              "    }\n",
              "\n",
              "    .dataframe tbody tr th {\n",
              "        vertical-align: top;\n",
              "    }\n",
              "\n",
              "    .dataframe thead th {\n",
              "        text-align: right;\n",
              "    }\n",
              "</style>\n",
              "<table border=\"1\" class=\"dataframe\">\n",
              "  <thead>\n",
              "    <tr style=\"text-align: right;\">\n",
              "      <th></th>\n",
              "      <th>0</th>\n",
              "      <th>1</th>\n",
              "      <th>2</th>\n",
              "      <th>3</th>\n",
              "      <th>4</th>\n",
              "      <th>5</th>\n",
              "      <th>6</th>\n",
              "      <th>7</th>\n",
              "      <th>8</th>\n",
              "      <th>9</th>\n",
              "      <th>...</th>\n",
              "      <th>ENC0</th>\n",
              "      <th>ENC1</th>\n",
              "      <th>ENC2</th>\n",
              "      <th>ENC3</th>\n",
              "      <th>ENC4</th>\n",
              "      <th>ENC5</th>\n",
              "      <th>BUTTON</th>\n",
              "      <th>SYNC</th>\n",
              "      <th>ts</th>\n",
              "      <th>add_5_1</th>\n",
              "    </tr>\n",
              "  </thead>\n",
              "  <tbody>\n",
              "    <tr>\n",
              "      <th>0</th>\n",
              "      <td>12</td>\n",
              "      <td>8</td>\n",
              "      <td>5</td>\n",
              "      <td>6</td>\n",
              "      <td>2</td>\n",
              "      <td>4</td>\n",
              "      <td>5</td>\n",
              "      <td>7</td>\n",
              "      <td>14</td>\n",
              "      <td>8</td>\n",
              "      <td>...</td>\n",
              "      <td>0</td>\n",
              "      <td>0</td>\n",
              "      <td>0</td>\n",
              "      <td>0</td>\n",
              "      <td>0</td>\n",
              "      <td>0</td>\n",
              "      <td>0</td>\n",
              "      <td>0</td>\n",
              "      <td>555777</td>\n",
              "      <td>0.0</td>\n",
              "    </tr>\n",
              "    <tr>\n",
              "      <th>1</th>\n",
              "      <td>13</td>\n",
              "      <td>8</td>\n",
              "      <td>4</td>\n",
              "      <td>5</td>\n",
              "      <td>3</td>\n",
              "      <td>0</td>\n",
              "      <td>5</td>\n",
              "      <td>4</td>\n",
              "      <td>9</td>\n",
              "      <td>10</td>\n",
              "      <td>...</td>\n",
              "      <td>0</td>\n",
              "      <td>0</td>\n",
              "      <td>0</td>\n",
              "      <td>0</td>\n",
              "      <td>0</td>\n",
              "      <td>0</td>\n",
              "      <td>0</td>\n",
              "      <td>0</td>\n",
              "      <td>555810</td>\n",
              "      <td>0.0</td>\n",
              "    </tr>\n",
              "    <tr>\n",
              "      <th>2</th>\n",
              "      <td>12</td>\n",
              "      <td>5</td>\n",
              "      <td>9</td>\n",
              "      <td>5</td>\n",
              "      <td>0</td>\n",
              "      <td>0</td>\n",
              "      <td>6</td>\n",
              "      <td>5</td>\n",
              "      <td>10</td>\n",
              "      <td>9</td>\n",
              "      <td>...</td>\n",
              "      <td>0</td>\n",
              "      <td>0</td>\n",
              "      <td>0</td>\n",
              "      <td>0</td>\n",
              "      <td>0</td>\n",
              "      <td>0</td>\n",
              "      <td>0</td>\n",
              "      <td>0</td>\n",
              "      <td>555843</td>\n",
              "      <td>0.0</td>\n",
              "    </tr>\n",
              "    <tr>\n",
              "      <th>3</th>\n",
              "      <td>10</td>\n",
              "      <td>7</td>\n",
              "      <td>6</td>\n",
              "      <td>4</td>\n",
              "      <td>1</td>\n",
              "      <td>0</td>\n",
              "      <td>4</td>\n",
              "      <td>6</td>\n",
              "      <td>7</td>\n",
              "      <td>8</td>\n",
              "      <td>...</td>\n",
              "      <td>0</td>\n",
              "      <td>0</td>\n",
              "      <td>0</td>\n",
              "      <td>0</td>\n",
              "      <td>0</td>\n",
              "      <td>0</td>\n",
              "      <td>0</td>\n",
              "      <td>0</td>\n",
              "      <td>555876</td>\n",
              "      <td>0.0</td>\n",
              "    </tr>\n",
              "    <tr>\n",
              "      <th>4</th>\n",
              "      <td>12</td>\n",
              "      <td>6</td>\n",
              "      <td>6</td>\n",
              "      <td>7</td>\n",
              "      <td>3</td>\n",
              "      <td>2</td>\n",
              "      <td>6</td>\n",
              "      <td>7</td>\n",
              "      <td>9</td>\n",
              "      <td>12</td>\n",
              "      <td>...</td>\n",
              "      <td>0</td>\n",
              "      <td>0</td>\n",
              "      <td>0</td>\n",
              "      <td>0</td>\n",
              "      <td>0</td>\n",
              "      <td>0</td>\n",
              "      <td>0</td>\n",
              "      <td>0</td>\n",
              "      <td>555909</td>\n",
              "      <td>20.0</td>\n",
              "    </tr>\n",
              "    <tr>\n",
              "      <th>5</th>\n",
              "      <td>0</td>\n",
              "      <td>8</td>\n",
              "      <td>4</td>\n",
              "      <td>5</td>\n",
              "      <td>0</td>\n",
              "      <td>3</td>\n",
              "      <td>3</td>\n",
              "      <td>6</td>\n",
              "      <td>0</td>\n",
              "      <td>9</td>\n",
              "      <td>...</td>\n",
              "      <td>0</td>\n",
              "      <td>0</td>\n",
              "      <td>0</td>\n",
              "      <td>0</td>\n",
              "      <td>0</td>\n",
              "      <td>0</td>\n",
              "      <td>0</td>\n",
              "      <td>0</td>\n",
              "      <td>555942</td>\n",
              "      <td>20.0</td>\n",
              "    </tr>\n",
              "    <tr>\n",
              "      <th>6</th>\n",
              "      <td>0</td>\n",
              "      <td>5</td>\n",
              "      <td>6</td>\n",
              "      <td>2</td>\n",
              "      <td>2</td>\n",
              "      <td>0</td>\n",
              "      <td>7</td>\n",
              "      <td>2</td>\n",
              "      <td>12</td>\n",
              "      <td>9</td>\n",
              "      <td>...</td>\n",
              "      <td>0</td>\n",
              "      <td>0</td>\n",
              "      <td>0</td>\n",
              "      <td>0</td>\n",
              "      <td>0</td>\n",
              "      <td>0</td>\n",
              "      <td>0</td>\n",
              "      <td>0</td>\n",
              "      <td>555975</td>\n",
              "      <td>19.0</td>\n",
              "    </tr>\n",
              "    <tr>\n",
              "      <th>7</th>\n",
              "      <td>12</td>\n",
              "      <td>5</td>\n",
              "      <td>7</td>\n",
              "      <td>2</td>\n",
              "      <td>2</td>\n",
              "      <td>0</td>\n",
              "      <td>8</td>\n",
              "      <td>4</td>\n",
              "      <td>9</td>\n",
              "      <td>9</td>\n",
              "      <td>...</td>\n",
              "      <td>0</td>\n",
              "      <td>0</td>\n",
              "      <td>0</td>\n",
              "      <td>0</td>\n",
              "      <td>0</td>\n",
              "      <td>0</td>\n",
              "      <td>0</td>\n",
              "      <td>0</td>\n",
              "      <td>556008</td>\n",
              "      <td>19.0</td>\n",
              "    </tr>\n",
              "    <tr>\n",
              "      <th>8</th>\n",
              "      <td>12</td>\n",
              "      <td>5</td>\n",
              "      <td>6</td>\n",
              "      <td>4</td>\n",
              "      <td>12</td>\n",
              "      <td>0</td>\n",
              "      <td>6</td>\n",
              "      <td>2</td>\n",
              "      <td>10</td>\n",
              "      <td>8</td>\n",
              "      <td>...</td>\n",
              "      <td>0</td>\n",
              "      <td>0</td>\n",
              "      <td>0</td>\n",
              "      <td>0</td>\n",
              "      <td>0</td>\n",
              "      <td>0</td>\n",
              "      <td>0</td>\n",
              "      <td>0</td>\n",
              "      <td>556041</td>\n",
              "      <td>17.0</td>\n",
              "    </tr>\n",
              "    <tr>\n",
              "      <th>9</th>\n",
              "      <td>13</td>\n",
              "      <td>4</td>\n",
              "      <td>5</td>\n",
              "      <td>3</td>\n",
              "      <td>1</td>\n",
              "      <td>0</td>\n",
              "      <td>6</td>\n",
              "      <td>4</td>\n",
              "      <td>10</td>\n",
              "      <td>9</td>\n",
              "      <td>...</td>\n",
              "      <td>0</td>\n",
              "      <td>0</td>\n",
              "      <td>0</td>\n",
              "      <td>0</td>\n",
              "      <td>0</td>\n",
              "      <td>0</td>\n",
              "      <td>0</td>\n",
              "      <td>0</td>\n",
              "      <td>556074</td>\n",
              "      <td>16.0</td>\n",
              "    </tr>\n",
              "  </tbody>\n",
              "</table>\n",
              "<p>10 rows × 66 columns</p>\n",
              "</div>\n",
              "    <div class=\"colab-df-buttons\">\n",
              "\n",
              "  <div class=\"colab-df-container\">\n",
              "    <button class=\"colab-df-convert\" onclick=\"convertToInteractive('df-561d209b-ca4a-4bbb-9676-b6602f9362da')\"\n",
              "            title=\"Convert this dataframe to an interactive table.\"\n",
              "            style=\"display:none;\">\n",
              "\n",
              "  <svg xmlns=\"http://www.w3.org/2000/svg\" height=\"24px\" viewBox=\"0 -960 960 960\">\n",
              "    <path d=\"M120-120v-720h720v720H120Zm60-500h600v-160H180v160Zm220 220h160v-160H400v160Zm0 220h160v-160H400v160ZM180-400h160v-160H180v160Zm440 0h160v-160H620v160ZM180-180h160v-160H180v160Zm440 0h160v-160H620v160Z\"/>\n",
              "  </svg>\n",
              "    </button>\n",
              "\n",
              "  <style>\n",
              "    .colab-df-container {\n",
              "      display:flex;\n",
              "      gap: 12px;\n",
              "    }\n",
              "\n",
              "    .colab-df-convert {\n",
              "      background-color: #E8F0FE;\n",
              "      border: none;\n",
              "      border-radius: 50%;\n",
              "      cursor: pointer;\n",
              "      display: none;\n",
              "      fill: #1967D2;\n",
              "      height: 32px;\n",
              "      padding: 0 0 0 0;\n",
              "      width: 32px;\n",
              "    }\n",
              "\n",
              "    .colab-df-convert:hover {\n",
              "      background-color: #E2EBFA;\n",
              "      box-shadow: 0px 1px 2px rgba(60, 64, 67, 0.3), 0px 1px 3px 1px rgba(60, 64, 67, 0.15);\n",
              "      fill: #174EA6;\n",
              "    }\n",
              "\n",
              "    .colab-df-buttons div {\n",
              "      margin-bottom: 4px;\n",
              "    }\n",
              "\n",
              "    [theme=dark] .colab-df-convert {\n",
              "      background-color: #3B4455;\n",
              "      fill: #D2E3FC;\n",
              "    }\n",
              "\n",
              "    [theme=dark] .colab-df-convert:hover {\n",
              "      background-color: #434B5C;\n",
              "      box-shadow: 0px 1px 3px 1px rgba(0, 0, 0, 0.15);\n",
              "      filter: drop-shadow(0px 1px 2px rgba(0, 0, 0, 0.3));\n",
              "      fill: #FFFFFF;\n",
              "    }\n",
              "  </style>\n",
              "\n",
              "    <script>\n",
              "      const buttonEl =\n",
              "        document.querySelector('#df-561d209b-ca4a-4bbb-9676-b6602f9362da button.colab-df-convert');\n",
              "      buttonEl.style.display =\n",
              "        google.colab.kernel.accessAllowed ? 'block' : 'none';\n",
              "\n",
              "      async function convertToInteractive(key) {\n",
              "        const element = document.querySelector('#df-561d209b-ca4a-4bbb-9676-b6602f9362da');\n",
              "        const dataTable =\n",
              "          await google.colab.kernel.invokeFunction('convertToInteractive',\n",
              "                                                    [key], {});\n",
              "        if (!dataTable) return;\n",
              "\n",
              "        const docLinkHtml = 'Like what you see? Visit the ' +\n",
              "          '<a target=\"_blank\" href=https://colab.research.google.com/notebooks/data_table.ipynb>data table notebook</a>'\n",
              "          + ' to learn more about interactive tables.';\n",
              "        element.innerHTML = '';\n",
              "        dataTable['output_type'] = 'display_data';\n",
              "        await google.colab.output.renderOutput(dataTable, element);\n",
              "        const docLink = document.createElement('div');\n",
              "        docLink.innerHTML = docLinkHtml;\n",
              "        element.appendChild(docLink);\n",
              "      }\n",
              "    </script>\n",
              "  </div>\n",
              "\n",
              "\n",
              "<div id=\"df-b1adf593-c85a-41d2-829e-8c6db9cdb744\">\n",
              "  <button class=\"colab-df-quickchart\" onclick=\"quickchart('df-b1adf593-c85a-41d2-829e-8c6db9cdb744')\"\n",
              "            title=\"Suggest charts\"\n",
              "            style=\"display:none;\">\n",
              "\n",
              "<svg xmlns=\"http://www.w3.org/2000/svg\" height=\"24px\"viewBox=\"0 0 24 24\"\n",
              "     width=\"24px\">\n",
              "    <g>\n",
              "        <path d=\"M19 3H5c-1.1 0-2 .9-2 2v14c0 1.1.9 2 2 2h14c1.1 0 2-.9 2-2V5c0-1.1-.9-2-2-2zM9 17H7v-7h2v7zm4 0h-2V7h2v10zm4 0h-2v-4h2v4z\"/>\n",
              "    </g>\n",
              "</svg>\n",
              "  </button>\n",
              "\n",
              "<style>\n",
              "  .colab-df-quickchart {\n",
              "      --bg-color: #E8F0FE;\n",
              "      --fill-color: #1967D2;\n",
              "      --hover-bg-color: #E2EBFA;\n",
              "      --hover-fill-color: #174EA6;\n",
              "      --disabled-fill-color: #AAA;\n",
              "      --disabled-bg-color: #DDD;\n",
              "  }\n",
              "\n",
              "  [theme=dark] .colab-df-quickchart {\n",
              "      --bg-color: #3B4455;\n",
              "      --fill-color: #D2E3FC;\n",
              "      --hover-bg-color: #434B5C;\n",
              "      --hover-fill-color: #FFFFFF;\n",
              "      --disabled-bg-color: #3B4455;\n",
              "      --disabled-fill-color: #666;\n",
              "  }\n",
              "\n",
              "  .colab-df-quickchart {\n",
              "    background-color: var(--bg-color);\n",
              "    border: none;\n",
              "    border-radius: 50%;\n",
              "    cursor: pointer;\n",
              "    display: none;\n",
              "    fill: var(--fill-color);\n",
              "    height: 32px;\n",
              "    padding: 0;\n",
              "    width: 32px;\n",
              "  }\n",
              "\n",
              "  .colab-df-quickchart:hover {\n",
              "    background-color: var(--hover-bg-color);\n",
              "    box-shadow: 0 1px 2px rgba(60, 64, 67, 0.3), 0 1px 3px 1px rgba(60, 64, 67, 0.15);\n",
              "    fill: var(--button-hover-fill-color);\n",
              "  }\n",
              "\n",
              "  .colab-df-quickchart-complete:disabled,\n",
              "  .colab-df-quickchart-complete:disabled:hover {\n",
              "    background-color: var(--disabled-bg-color);\n",
              "    fill: var(--disabled-fill-color);\n",
              "    box-shadow: none;\n",
              "  }\n",
              "\n",
              "  .colab-df-spinner {\n",
              "    border: 2px solid var(--fill-color);\n",
              "    border-color: transparent;\n",
              "    border-bottom-color: var(--fill-color);\n",
              "    animation:\n",
              "      spin 1s steps(1) infinite;\n",
              "  }\n",
              "\n",
              "  @keyframes spin {\n",
              "    0% {\n",
              "      border-color: transparent;\n",
              "      border-bottom-color: var(--fill-color);\n",
              "      border-left-color: var(--fill-color);\n",
              "    }\n",
              "    20% {\n",
              "      border-color: transparent;\n",
              "      border-left-color: var(--fill-color);\n",
              "      border-top-color: var(--fill-color);\n",
              "    }\n",
              "    30% {\n",
              "      border-color: transparent;\n",
              "      border-left-color: var(--fill-color);\n",
              "      border-top-color: var(--fill-color);\n",
              "      border-right-color: var(--fill-color);\n",
              "    }\n",
              "    40% {\n",
              "      border-color: transparent;\n",
              "      border-right-color: var(--fill-color);\n",
              "      border-top-color: var(--fill-color);\n",
              "    }\n",
              "    60% {\n",
              "      border-color: transparent;\n",
              "      border-right-color: var(--fill-color);\n",
              "    }\n",
              "    80% {\n",
              "      border-color: transparent;\n",
              "      border-right-color: var(--fill-color);\n",
              "      border-bottom-color: var(--fill-color);\n",
              "    }\n",
              "    90% {\n",
              "      border-color: transparent;\n",
              "      border-bottom-color: var(--fill-color);\n",
              "    }\n",
              "  }\n",
              "</style>\n",
              "\n",
              "  <script>\n",
              "    async function quickchart(key) {\n",
              "      const quickchartButtonEl =\n",
              "        document.querySelector('#' + key + ' button');\n",
              "      quickchartButtonEl.disabled = true;  // To prevent multiple clicks.\n",
              "      quickchartButtonEl.classList.add('colab-df-spinner');\n",
              "      try {\n",
              "        const charts = await google.colab.kernel.invokeFunction(\n",
              "            'suggestCharts', [key], {});\n",
              "      } catch (error) {\n",
              "        console.error('Error during call to suggestCharts:', error);\n",
              "      }\n",
              "      quickchartButtonEl.classList.remove('colab-df-spinner');\n",
              "      quickchartButtonEl.classList.add('colab-df-quickchart-complete');\n",
              "    }\n",
              "    (() => {\n",
              "      let quickchartButtonEl =\n",
              "        document.querySelector('#df-b1adf593-c85a-41d2-829e-8c6db9cdb744 button');\n",
              "      quickchartButtonEl.style.display =\n",
              "        google.colab.kernel.accessAllowed ? 'block' : 'none';\n",
              "    })();\n",
              "  </script>\n",
              "</div>\n",
              "    </div>\n",
              "  </div>\n"
            ]
          },
          "metadata": {},
          "execution_count": 21
        }
      ]
    },
    {
      "cell_type": "markdown",
      "source": [
        "## Определение максимального количества лагов"
      ],
      "metadata": {
        "id": "myhDyYcma5Ap"
      }
    },
    {
      "cell_type": "code",
      "execution_count": 22,
      "metadata": {
        "id": "KBIJsZqD9uJL"
      },
      "outputs": [],
      "source": [
        "def plot_acf_pacf(series, lags, alpha=0.05):\n",
        "    \"\"\"Функция для построения графиков автокорреляции и частичной корреляции(коррелограм)\n",
        "\n",
        "    Args:\n",
        "        series (DataFrame, array): стационарный временной ряд\n",
        "        lags (_type_): количество предыдущих наблюдений для поиска схожести/зависимости\n",
        "        alpha (float, optional): Доверительный интервал. Defaults to 0.05.\n",
        "    \"\"\"\n",
        "\n",
        "    plt.rcParams[\"figure.figsize\"] = 18, 5 #размеры графика\n",
        "    fig, axes = plt.subplots(1, 2)\n",
        "    sgt.plot_acf(series, ax=axes[0], lags=lags, alpha=alpha)#построение графика автокорреляции\n",
        "    sgt.plot_pacf(series, ax=axes[1], lags=lags, method=\"ywm\", alpha=alpha)#построение графика автокорреляции\n",
        "    plt.show()"
      ]
    },
    {
      "cell_type": "code",
      "source": [
        "plot_acf_pacf(y_cmd, 300)"
      ],
      "metadata": {
        "id": "zir0Wrm4Wz0Z",
        "colab": {
          "base_uri": "https://localhost:8080/",
          "height": 456
        },
        "outputId": "35f277d0-5d50-4a8c-935f-5380c572620b"
      },
      "execution_count": 23,
      "outputs": [
        {
          "output_type": "display_data",
          "data": {
            "text/plain": [
              "<Figure size 1800x500 with 2 Axes>"
            ],
            "image/png": "[encoded data removed]"
          },
          "metadata": {}
        }
      ]
    },
    {
      "cell_type": "code",
      "source": [
        "plot_acf_pacf(y_cmd, 52)"
      ],
      "metadata": {
        "colab": {
          "base_uri": "https://localhost:8080/",
          "height": 456
        },
        "id": "Qo71FO-NKa22",
        "outputId": "e40cd17c-fa02-421f-ad20-3b88a5146d2f"
      },
      "execution_count": 24,
      "outputs": [
        {
          "output_type": "display_data",
          "data": {
            "text/plain": [
              "<Figure size 1800x500 with 2 Axes>"
            ],
            "image/png": "[encoded data removed]"
          },
          "metadata": {}
        }
      ]
    },
    {
      "cell_type": "markdown",
      "source": [
        "Вывод: использовать сдвиг более чем на 46 лагов не имеет смысла, т.к. модель будет обманывать сама себя"
      ],
      "metadata": {
        "id": "tFmT9G9Resdg"
      }
    },
    {
      "cell_type": "markdown",
      "source": [
        "## Добавление лагов"
      ],
      "metadata": {
        "id": "vKb4hsMfcXwv"
      }
    },
    {
      "cell_type": "code",
      "source": [
        "def add_lag(df, col_list, step, lag_n):\n",
        "  \"\"\"Фунуция для добавления временных лагов в выборку с шагом\n",
        "\n",
        "    Args:\n",
        "        df (DataFrame): выборка\n",
        "        lag_n(int): количество временных лагов\n",
        "        col_list(list): список признаков из общей выборки для обработки\n",
        "        step(int): шаг сдвига по признакам\n",
        "\n",
        "    Returns:\n",
        "        df_log(DataFrame): датасет с добавленными временными лагами, пропуски заполнены 0\n",
        "        col_list(list): список признаков с их временными лагами\n",
        "  \"\"\"\n",
        "  df_log = df[col_list].copy() #coздаем новый датасет для добавления новых признаков\n",
        "  col_list_base = list(df_log.columns) #исходный список признаков\n",
        "  col_step = [] #список признаков с шагом\n",
        "  for i in range(0, len(col_list), step): #перебираем признаки\n",
        "    col_step.append(col_list[i]) #формируем список признаков с шагом\n",
        "  for _, col in enumerate(col_step): #перебираем список признаков с шагом\n",
        "    for n, v in enumerate(range(1,lag_n)): #перебираем лаги\n",
        "      col_lag = f'lag_{col}_{v}' #название для нового признака\n",
        "      df_log[col_lag] = df_log.loc[:, col].shift(v, fill_value = 0) #создаем новый признак\n",
        "      col_list_base.append(col_lag)\n",
        "\n",
        "  return df_log, col_list"
      ],
      "metadata": {
        "id": "bh3E727UzQek"
      },
      "execution_count": 25,
      "outputs": []
    },
    {
      "cell_type": "code",
      "source": [
        "list_log = OMG_CH #список признаков из общей выборки для обработки\n",
        "gestures_log, OMG_CH_LOG = add_lag(gestures, list_log, 3, 7) #выполняем функцию сдвига признаков с лагом\n",
        "gestures_log.drop(list_log, axis= 1, inplace= True ) #удаляем дублированнные признаки\n",
        "gestures = pd.concat([gestures, gestures_log], axis=1) #соединяем изначальную таблицу и таблицу новых признаков"
      ],
      "metadata": {
        "id": "op5oab9-cjSj"
      },
      "execution_count": 26,
      "outputs": []
    },
    {
      "cell_type": "markdown",
      "metadata": {
        "id": "6Jf8UDGK8Tdt"
      },
      "source": [
        "# Train-test split"
      ]
    },
    {
      "cell_type": "code",
      "execution_count": 27,
      "metadata": {
        "id": "b-ND8jp-8Tdu",
        "colab": {
          "base_uri": "https://localhost:8080/",
          "height": 206
        },
        "outputId": "b33bac0e-9491-4b9f-b4f4-1fc8314cbedb"
      },
      "outputs": [
        {
          "output_type": "execute_result",
          "data": {
            "text/plain": [
              "                    montage  pilote_id  last_train_idx  len(train)  len(test)\n",
              "0  2023-05-15_16-16-08.palm          1           23337       23337       5810\n",
              "1  2023-05-15_17-12-24.palm          1           23336       23336       5803\n",
              "2  2023-06-05_16-12-38.palm          1           17939       17939       4431\n",
              "3  2023-06-05_17-53-01.palm          1           17771       17771       4435\n",
              "4  2023-06-20_14-43-11.palm          1           17936       17936       4441"
            ],
            "text/html": [
              "\n",
              "  <div id=\"df-8efb5fc3-cea4-466c-b6ee-371339b3548d\" class=\"colab-df-container\">\n",
              "    <div>\n",
              "<style scoped>\n",
              "    .dataframe tbody tr th:only-of-type {\n",
              "        vertical-align: middle;\n",
              "    }\n",
              "\n",
              "    .dataframe tbody tr th {\n",
              "        vertical-align: top;\n",
              "    }\n",
              "\n",
              "    .dataframe thead th {\n",
              "        text-align: right;\n",
              "    }\n",
              "</style>\n",
              "<table border=\"1\" class=\"dataframe\">\n",
              "  <thead>\n",
              "    <tr style=\"text-align: right;\">\n",
              "      <th></th>\n",
              "      <th>montage</th>\n",
              "      <th>pilote_id</th>\n",
              "      <th>last_train_idx</th>\n",
              "      <th>len(train)</th>\n",
              "      <th>len(test)</th>\n",
              "    </tr>\n",
              "  </thead>\n",
              "  <tbody>\n",
              "    <tr>\n",
              "      <th>0</th>\n",
              "      <td>2023-05-15_16-16-08.palm</td>\n",
              "      <td>1</td>\n",
              "      <td>23337</td>\n",
              "      <td>23337</td>\n",
              "      <td>5810</td>\n",
              "    </tr>\n",
              "    <tr>\n",
              "      <th>1</th>\n",
              "      <td>2023-05-15_17-12-24.palm</td>\n",
              "      <td>1</td>\n",
              "      <td>23336</td>\n",
              "      <td>23336</td>\n",
              "      <td>5803</td>\n",
              "    </tr>\n",
              "    <tr>\n",
              "      <th>2</th>\n",
              "      <td>2023-06-05_16-12-38.palm</td>\n",
              "      <td>1</td>\n",
              "      <td>17939</td>\n",
              "      <td>17939</td>\n",
              "      <td>4431</td>\n",
              "    </tr>\n",
              "    <tr>\n",
              "      <th>3</th>\n",
              "      <td>2023-06-05_17-53-01.palm</td>\n",
              "      <td>1</td>\n",
              "      <td>17771</td>\n",
              "      <td>17771</td>\n",
              "      <td>4435</td>\n",
              "    </tr>\n",
              "    <tr>\n",
              "      <th>4</th>\n",
              "      <td>2023-06-20_14-43-11.palm</td>\n",
              "      <td>1</td>\n",
              "      <td>17936</td>\n",
              "      <td>17936</td>\n",
              "      <td>4441</td>\n",
              "    </tr>\n",
              "  </tbody>\n",
              "</table>\n",
              "</div>\n",
              "    <div class=\"colab-df-buttons\">\n",
              "\n",
              "  <div class=\"colab-df-container\">\n",
              "    <button class=\"colab-df-convert\" onclick=\"convertToInteractive('df-8efb5fc3-cea4-466c-b6ee-371339b3548d')\"\n",
              "            title=\"Convert this dataframe to an interactive table.\"\n",
              "            style=\"display:none;\">\n",
              "\n",
              "  <svg xmlns=\"http://www.w3.org/2000/svg\" height=\"24px\" viewBox=\"0 -960 960 960\">\n",
              "    <path d=\"M120-120v-720h720v720H120Zm60-500h600v-160H180v160Zm220 220h160v-160H400v160Zm0 220h160v-160H400v160ZM180-400h160v-160H180v160Zm440 0h160v-160H620v160ZM180-180h160v-160H180v160Zm440 0h160v-160H620v160Z\"/>\n",
              "  </svg>\n",
              "    </button>\n",
              "\n",
              "  <style>\n",
              "    .colab-df-container {\n",
              "      display:flex;\n",
              "      gap: 12px;\n",
              "    }\n",
              "\n",
              "    .colab-df-convert {\n",
              "      background-color: #E8F0FE;\n",
              "      border: none;\n",
              "      border-radius: 50%;\n",
              "      cursor: pointer;\n",
              "      display: none;\n",
              "      fill: #1967D2;\n",
              "      height: 32px;\n",
              "      padding: 0 0 0 0;\n",
              "      width: 32px;\n",
              "    }\n",
              "\n",
              "    .colab-df-convert:hover {\n",
              "      background-color: #E2EBFA;\n",
              "      box-shadow: 0px 1px 2px rgba(60, 64, 67, 0.3), 0px 1px 3px 1px rgba(60, 64, 67, 0.15);\n",
              "      fill: #174EA6;\n",
              "    }\n",
              "\n",
              "    .colab-df-buttons div {\n",
              "      margin-bottom: 4px;\n",
              "    }\n",
              "\n",
              "    [theme=dark] .colab-df-convert {\n",
              "      background-color: #3B4455;\n",
              "      fill: #D2E3FC;\n",
              "    }\n",
              "\n",
              "    [theme=dark] .colab-df-convert:hover {\n",
              "      background-color: #434B5C;\n",
              "      box-shadow: 0px 1px 3px 1px rgba(0, 0, 0, 0.15);\n",
              "      filter: drop-shadow(0px 1px 2px rgba(0, 0, 0, 0.3));\n",
              "      fill: #FFFFFF;\n",
              "    }\n",
              "  </style>\n",
              "\n",
              "    <script>\n",
              "      const buttonEl =\n",
              "        document.querySelector('#df-8efb5fc3-cea4-466c-b6ee-371339b3548d button.colab-df-convert');\n",
              "      buttonEl.style.display =\n",
              "        google.colab.kernel.accessAllowed ? 'block' : 'none';\n",
              "\n",
              "      async function convertToInteractive(key) {\n",
              "        const element = document.querySelector('#df-8efb5fc3-cea4-466c-b6ee-371339b3548d');\n",
              "        const dataTable =\n",
              "          await google.colab.kernel.invokeFunction('convertToInteractive',\n",
              "                                                    [key], {});\n",
              "        if (!dataTable) return;\n",
              "\n",
              "        const docLinkHtml = 'Like what you see? Visit the ' +\n",
              "          '<a target=\"_blank\" href=https://colab.research.google.com/notebooks/data_table.ipynb>data table notebook</a>'\n",
              "          + ' to learn more about interactive tables.';\n",
              "        element.innerHTML = '';\n",
              "        dataTable['output_type'] = 'display_data';\n",
              "        await google.colab.output.renderOutput(dataTable, element);\n",
              "        const docLink = document.createElement('div');\n",
              "        docLink.innerHTML = docLinkHtml;\n",
              "        element.appendChild(docLink);\n",
              "      }\n",
              "    </script>\n",
              "  </div>\n",
              "\n",
              "\n",
              "<div id=\"df-d65d6011-ce3e-4e55-be74-3ef0b4ed57c2\">\n",
              "  <button class=\"colab-df-quickchart\" onclick=\"quickchart('df-d65d6011-ce3e-4e55-be74-3ef0b4ed57c2')\"\n",
              "            title=\"Suggest charts\"\n",
              "            style=\"display:none;\">\n",
              "\n",
              "<svg xmlns=\"http://www.w3.org/2000/svg\" height=\"24px\"viewBox=\"0 0 24 24\"\n",
              "     width=\"24px\">\n",
              "    <g>\n",
              "        <path d=\"M19 3H5c-1.1 0-2 .9-2 2v14c0 1.1.9 2 2 2h14c1.1 0 2-.9 2-2V5c0-1.1-.9-2-2-2zM9 17H7v-7h2v7zm4 0h-2V7h2v10zm4 0h-2v-4h2v4z\"/>\n",
              "    </g>\n",
              "</svg>\n",
              "  </button>\n",
              "\n",
              "<style>\n",
              "  .colab-df-quickchart {\n",
              "      --bg-color: #E8F0FE;\n",
              "      --fill-color: #1967D2;\n",
              "      --hover-bg-color: #E2EBFA;\n",
              "      --hover-fill-color: #174EA6;\n",
              "      --disabled-fill-color: #AAA;\n",
              "      --disabled-bg-color: #DDD;\n",
              "  }\n",
              "\n",
              "  [theme=dark] .colab-df-quickchart {\n",
              "      --bg-color: #3B4455;\n",
              "      --fill-color: #D2E3FC;\n",
              "      --hover-bg-color: #434B5C;\n",
              "      --hover-fill-color: #FFFFFF;\n",
              "      --disabled-bg-color: #3B4455;\n",
              "      --disabled-fill-color: #666;\n",
              "  }\n",
              "\n",
              "  .colab-df-quickchart {\n",
              "    background-color: var(--bg-color);\n",
              "    border: none;\n",
              "    border-radius: 50%;\n",
              "    cursor: pointer;\n",
              "    display: none;\n",
              "    fill: var(--fill-color);\n",
              "    height: 32px;\n",
              "    padding: 0;\n",
              "    width: 32px;\n",
              "  }\n",
              "\n",
              "  .colab-df-quickchart:hover {\n",
              "    background-color: var(--hover-bg-color);\n",
              "    box-shadow: 0 1px 2px rgba(60, 64, 67, 0.3), 0 1px 3px 1px rgba(60, 64, 67, 0.15);\n",
              "    fill: var(--button-hover-fill-color);\n",
              "  }\n",
              "\n",
              "  .colab-df-quickchart-complete:disabled,\n",
              "  .colab-df-quickchart-complete:disabled:hover {\n",
              "    background-color: var(--disabled-bg-color);\n",
              "    fill: var(--disabled-fill-color);\n",
              "    box-shadow: none;\n",
              "  }\n",
              "\n",
              "  .colab-df-spinner {\n",
              "    border: 2px solid var(--fill-color);\n",
              "    border-color: transparent;\n",
              "    border-bottom-color: var(--fill-color);\n",
              "    animation:\n",
              "      spin 1s steps(1) infinite;\n",
              "  }\n",
              "\n",
              "  @keyframes spin {\n",
              "    0% {\n",
              "      border-color: transparent;\n",
              "      border-bottom-color: var(--fill-color);\n",
              "      border-left-color: var(--fill-color);\n",
              "    }\n",
              "    20% {\n",
              "      border-color: transparent;\n",
              "      border-left-color: var(--fill-color);\n",
              "      border-top-color: var(--fill-color);\n",
              "    }\n",
              "    30% {\n",
              "      border-color: transparent;\n",
              "      border-left-color: var(--fill-color);\n",
              "      border-top-color: var(--fill-color);\n",
              "      border-right-color: var(--fill-color);\n",
              "    }\n",
              "    40% {\n",
              "      border-color: transparent;\n",
              "      border-right-color: var(--fill-color);\n",
              "      border-top-color: var(--fill-color);\n",
              "    }\n",
              "    60% {\n",
              "      border-color: transparent;\n",
              "      border-right-color: var(--fill-color);\n",
              "    }\n",
              "    80% {\n",
              "      border-color: transparent;\n",
              "      border-right-color: var(--fill-color);\n",
              "      border-bottom-color: var(--fill-color);\n",
              "    }\n",
              "    90% {\n",
              "      border-color: transparent;\n",
              "      border-bottom-color: var(--fill-color);\n",
              "    }\n",
              "  }\n",
              "</style>\n",
              "\n",
              "  <script>\n",
              "    async function quickchart(key) {\n",
              "      const quickchartButtonEl =\n",
              "        document.querySelector('#' + key + ' button');\n",
              "      quickchartButtonEl.disabled = true;  // To prevent multiple clicks.\n",
              "      quickchartButtonEl.classList.add('colab-df-spinner');\n",
              "      try {\n",
              "        const charts = await google.colab.kernel.invokeFunction(\n",
              "            'suggestCharts', [key], {});\n",
              "      } catch (error) {\n",
              "        console.error('Error during call to suggestCharts:', error);\n",
              "      }\n",
              "      quickchartButtonEl.classList.remove('colab-df-spinner');\n",
              "      quickchartButtonEl.classList.add('colab-df-quickchart-complete');\n",
              "    }\n",
              "    (() => {\n",
              "      let quickchartButtonEl =\n",
              "        document.querySelector('#df-d65d6011-ce3e-4e55-be74-3ef0b4ed57c2 button');\n",
              "      quickchartButtonEl.style.display =\n",
              "        google.colab.kernel.accessAllowed ? 'block' : 'none';\n",
              "    })();\n",
              "  </script>\n",
              "</div>\n",
              "    </div>\n",
              "  </div>\n"
            ]
          },
          "metadata": {},
          "execution_count": 27
        }
      ],
      "source": [
        "df_meta = pd.read_csv('./meta_information.csv', index_col=0)\n",
        "df_meta.head()"
      ]
    },
    {
      "cell_type": "code",
      "execution_count": 28,
      "metadata": {
        "tags": [],
        "id": "mbDosCOH8Tdw",
        "colab": {
          "base_uri": "https://localhost:8080/"
        },
        "outputId": "08e5d1e7-c481-42fb-de01-786852ee53ca"
      },
      "outputs": [
        {
          "output_type": "execute_result",
          "data": {
            "text/plain": [
              "15679"
            ]
          },
          "metadata": {},
          "execution_count": 28
        }
      ],
      "source": [
        "last_train_idx = df_meta[df_meta['montage'] == palm_file.split('/')[-1]].to_dict(orient='records')[0]['last_train_idx']\n",
        "last_train_idx"
      ]
    },
    {
      "cell_type": "code",
      "execution_count": 29,
      "metadata": {
        "id": "Yz5YGpos8Tdx",
        "colab": {
          "base_uri": "https://localhost:8080/"
        },
        "outputId": "91907782-a4a6-42e1-fcb1-9e636f39731b"
      },
      "outputs": [
        {
          "output_type": "stream",
          "name": "stdout",
          "text": [
            "(15679, 50) (15679,)\n",
            "(3889, 50) (3889,)\n"
          ]
        }
      ],
      "source": [
        "X_train = gestures[OMG_CH].values[:last_train_idx]\n",
        "y_train = y_cmd[:last_train_idx]\n",
        "\n",
        "X_test = gestures[OMG_CH].values[last_train_idx:]\n",
        "y_test = y_cmd[last_train_idx:]\n",
        "\n",
        "print(X_train.shape, y_train.shape)\n",
        "print(X_test.shape, y_test.shape)"
      ]
    },
    {
      "cell_type": "code",
      "source": [
        "X_train"
      ],
      "metadata": {
        "id": "0wUeaqZOTUfJ",
        "colab": {
          "base_uri": "https://localhost:8080/"
        },
        "outputId": "57836f2c-4d36-4027-e9b5-1685ae70588d"
      },
      "execution_count": 30,
      "outputs": [
        {
          "output_type": "execute_result",
          "data": {
            "text/plain": [
              "array([[12,  8,  5, ..., 12, 44, 28],\n",
              "       [13,  8,  4, ..., 14, 32, 27],\n",
              "       [12,  5,  9, ..., 14, 41, 27],\n",
              "       ...,\n",
              "       [27,  8,  5, ..., 13, 36, 28],\n",
              "       [ 8,  6,  5, ..., 11, 34, 24],\n",
              "       [ 0,  6,  5, ..., 14, 39, 29]])"
            ]
          },
          "metadata": {},
          "execution_count": 30
        }
      ]
    },
    {
      "cell_type": "code",
      "source": [
        "y_train"
      ],
      "metadata": {
        "id": "qwU7BGNWTcyf",
        "colab": {
          "base_uri": "https://localhost:8080/"
        },
        "outputId": "83f3a3d2-0bec-4bd4-f105-857ce80591bd"
      },
      "execution_count": 31,
      "outputs": [
        {
          "output_type": "execute_result",
          "data": {
            "text/plain": [
              "array([0, 0, 0, ..., 2, 2, 2])"
            ]
          },
          "metadata": {},
          "execution_count": 31
        }
      ]
    },
    {
      "cell_type": "markdown",
      "metadata": {
        "id": "wCkGqBIC8Tdy"
      },
      "source": [
        "# Modeling"
      ]
    },
    {
      "cell_type": "code",
      "execution_count": 32,
      "metadata": {
        "id": "-uREHInthbkT"
      },
      "outputs": [],
      "source": [
        "# подготовим тренировочные данные к обучению модели\n",
        "X_train_c = RobustScaler().fit_transform(X_train)\n",
        "X_train_c = StandardScaler().fit_transform(X_train_c)"
      ]
    },
    {
      "cell_type": "markdown",
      "source": [
        "# Создадим модель решения задачи классификации"
      ],
      "metadata": {
        "id": "Tc68FLXyxTtc"
      }
    },
    {
      "cell_type": "code",
      "source": [
        "# определим балансы классов для лучшего предсказания менее представленных в выборке классов\n",
        "classes = np.unique(y_train)\n",
        "weights = compute_class_weight(class_weight='balanced', classes=classes, y=np.ravel(y_train))\n",
        "class_weights = dict(zip(classes, weights))"
      ],
      "metadata": {
        "id": "JaaZRqRmC__v"
      },
      "execution_count": 33,
      "outputs": []
    },
    {
      "cell_type": "code",
      "source": [
        "# создадим модель\n",
        "cat_model = CatBoostClassifier(\n",
        "    # iterations=300, depth=7, learning_rate=0.1,\n",
        "    loss_function='MultiClass',\n",
        "    verbose=False,\n",
        "    class_weights=class_weights,\n",
        "    task_type=\"GPU\")"
      ],
      "metadata": {
        "id": "-ZpnvVA1xsKe"
      },
      "execution_count": 34,
      "outputs": []
    },
    {
      "cell_type": "code",
      "source": [
        "def objective(params, model,  X_train, y_train):\n",
        "    \"\"\"\n",
        "    Кросс-валидация с текущими гиперпараметрами\n",
        "\n",
        "    :params: гиперпараметры\n",
        "    :pipeline: модель\n",
        "    :X_train: матрица признаков\n",
        "    :y_train: вектор меток объектов\n",
        "    :return: средняя точность на кросс-валидации\n",
        "    \"\"\"\n",
        "\n",
        "    # задаём модели требуемые параметры\n",
        "    model.set_params(**params)\n",
        "\n",
        "    # задаём параметры кросс-валидации (стратифицированная 4-фолдовая с перемешиванием)\n",
        "    skf = StratifiedKFold(n_splits=5, shuffle=True, random_state=1)\n",
        "\n",
        "    # проводим кросс-валидацию\n",
        "    score = cross_val_score(estimator=model, X=X_train_c, y=y_train,\n",
        "                            scoring=\"accuracy\", cv=skf, n_jobs=-1)\n",
        "\n",
        "    # возвращаем результаты, которые записываются в Trials()\n",
        "    return   {'loss': -score.mean(), 'params': params, 'status': STATUS_OK}"
      ],
      "metadata": {
        "id": "tCWPw_DeBdOm"
      },
      "execution_count": 35,
      "outputs": []
    },
    {
      "cell_type": "code",
      "source": [
        "search_space = {'learning_rate': hp.uniform('learning_rate', 0.1, 0.5),\n",
        "                'iterations': hp.randint('iterations',100,400),\n",
        "                'l2_leaf_reg': hp.randint('l2_leaf_reg',1,10),\n",
        "                'depth': hp.randint('depth',4,7),\n",
        "                'bootstrap_type' : hp.choice('bootstrap_type', ['Bayesian', 'Bernoulli'])}"
      ],
      "metadata": {
        "id": "hicXRXfR_muj"
      },
      "execution_count": 36,
      "outputs": []
    },
    {
      "cell_type": "code",
      "source": [
        "trials = Trials()\n",
        "best = fmin(\n",
        "          # функция для оптимизации\n",
        "            fn=partial(objective, model=cat_model, X_train=X_train_c, y_train=y_train),\n",
        "          # пространство поиска гиперпараметров\n",
        "            space=search_space,\n",
        "          # алгоритм поиска\n",
        "            algo=tpe.suggest,\n",
        "          # число итераций (можно ещё указать  время поиска)\n",
        "            max_evals=20,\n",
        "          # куда сохранять историю поиска\n",
        "            trials=trials,\n",
        "          # random state\n",
        "            rstate=np.random.default_rng(42),\n",
        "          # progressbar\n",
        "            show_progressbar=True\n",
        "        )"
      ],
      "metadata": {
        "id": "fxYfvqTi_Joj",
        "colab": {
          "base_uri": "https://localhost:8080/",
          "height": 1000
        },
        "outputId": "ceeacbcb-3011-4d99-d29d-dc591236f96e"
      },
      "execution_count": 37,
      "outputs": [
        {
          "output_type": "stream",
          "name": "stdout",
          "text": [
            "\r  0%|          | 0/20 [00:00<?, ?trial/s, best loss=?]"
          ]
        },
        {
          "output_type": "stream",
          "name": "stderr",
          "text": [
            "ERROR:hyperopt.fmin:job exception: \n",
            "All the 5 fits failed.\n",
            "It is very likely that your model is misconfigured.\n",
            "You can try to debug the error by setting error_score='raise'.\n",
            "\n",
            "Below are more details about the failures:\n",
            "--------------------------------------------------------------------------------\n",
            "2 fits failed with the following error:\n",
            "Traceback (most recent call last):\n",
            "  File \"/usr/local/lib/python3.10/dist-packages/sklearn/model_selection/_validation.py\", line 686, in _fit_and_score\n",
            "    estimator.fit(X_train, y_train, **fit_params)\n",
            "  File \"/usr/local/lib/python3.10/dist-packages/catboost/core.py\", line 5100, in fit\n",
            "    self._fit(X, y, cat_features, text_features, embedding_features, None, sample_weight, None, None, None, None, baseline, use_best_model,\n",
            "  File \"/usr/local/lib/python3.10/dist-packages/catboost/core.py\", line 2319, in _fit\n",
            "    self._train(\n",
            "  File \"/usr/local/lib/python3.10/dist-packages/catboost/core.py\", line 1723, in _train\n",
            "    self._object._train(train_pool, test_pool, params, allow_clear_pool, init_model._object if init_model else None)\n",
            "  File \"_catboost.pyx\", line 4645, in _catboost._CatBoost._train\n",
            "  File \"_catboost.pyx\", line 4694, in _catboost._CatBoost._train\n",
            "_catboost.CatBoostError: /src/catboost/catboost/cuda/cuda_lib/cuda_base.h:281: CUDA error 35: CUDA driver version is insufficient for CUDA runtime version\n",
            "\n",
            "--------------------------------------------------------------------------------\n",
            "3 fits failed with the following error:\n",
            "Traceback (most recent call last):\n",
            "  File \"/usr/local/lib/python3.10/dist-packages/sklearn/model_selection/_validation.py\", line 686, in _fit_and_score\n",
            "    estimator.fit(X_train, y_train, **fit_params)\n",
            "  File \"/usr/local/lib/python3.10/dist-packages/catboost/core.py\", line 5100, in fit\n",
            "    self._fit(X, y, cat_features, text_features, embedding_features, None, sample_weight, None, None, None, None, baseline, use_best_model,\n",
            "  File \"/usr/local/lib/python3.10/dist-packages/catboost/core.py\", line 2319, in _fit\n",
            "    self._train(\n",
            "  File \"/usr/local/lib/python3.10/dist-packages/catboost/core.py\", line 1723, in _train\n",
            "    self._object._train(train_pool, test_pool, params, allow_clear_pool, init_model._object if init_model else None)\n",
            "  File \"_catboost.pyx\", line 4645, in _catboost._CatBoost._train\n",
            "  File \"_catboost.pyx\", line 4694, in _catboost._CatBoost._train\n",
            "_catboost.CatBoostError: /src/catboost/catboost/cuda/cuda_lib/cuda_manager.cpp:201: Condition violated: `State == nullptr'\n",
            "\n"
          ]
        },
        {
          "output_type": "stream",
          "name": "stdout",
          "text": [
            "\r  0%|          | 0/20 [00:04<?, ?trial/s, best loss=?]\n"
          ]
        },
        {
          "output_type": "error",
          "ename": "ValueError",
          "evalue": "\nAll the 5 fits failed.\nIt is very likely that your model is misconfigured.\nYou can try to debug the error by setting error_score='raise'.\n\nBelow are more details about the failures:\n--------------------------------------------------------------------------------\n2 fits failed with the following error:\nTraceback (most recent call last):\n  File \"/usr/local/lib/python3.10/dist-packages/sklearn/model_selection/_validation.py\", line 686, in _fit_and_score\n    estimator.fit(X_train, y_train, **fit_params)\n  File \"/usr/local/lib/python3.10/dist-packages/catboost/core.py\", line 5100, in fit\n    self._fit(X, y, cat_features, text_features, embedding_features, None, sample_weight, None, None, None, None, baseline, use_best_model,\n  File \"/usr/local/lib/python3.10/dist-packages/catboost/core.py\", line 2319, in _fit\n    self._train(\n  File \"/usr/local/lib/python3.10/dist-packages/catboost/core.py\", line 1723, in _train\n    self._object._train(train_pool, test_pool, params, allow_clear_pool, init_model._object if init_model else None)\n  File \"_catboost.pyx\", line 4645, in _catboost._CatBoost._train\n  File \"_catboost.pyx\", line 4694, in _catboost._CatBoost._train\n_catboost.CatBoostError: /src/catboost/catboost/cuda/cuda_lib/cuda_base.h:281: CUDA error 35: CUDA driver version is insufficient for CUDA runtime version\n\n--------------------------------------------------------------------------------\n3 fits failed with the following error:\nTraceback (most recent call last):\n  File \"/usr/local/lib/python3.10/dist-packages/sklearn/model_selection/_validation.py\", line 686, in _fit_and_score\n    estimator.fit(X_train, y_train, **fit_params)\n  File \"/usr/local/lib/python3.10/dist-packages/catboost/core.py\", line 5100, in fit\n    self._fit(X, y, cat_features, text_features, embedding_features, None, sample_weight, None, None, None, None, baseline, use_best_model,\n  File \"/usr/local/lib/python3.10/dist-packages/catboost/core.py\", line 2319, in _fit\n    self._train(\n  File \"/usr/local/lib/python3.10/dist-packages/catboost/core.py\", line 1723, in _train\n    self._object._train(train_pool, test_pool, params, allow_clear_pool, init_model._object if init_model else None)\n  File \"_catboost.pyx\", line 4645, in _catboost._CatBoost._train\n  File \"_catboost.pyx\", line 4694, in _catboost._CatBoost._train\n_catboost.CatBoostError: /src/catboost/catboost/cuda/cuda_lib/cuda_manager.cpp:201: Condition violated: `State == nullptr'\n",
          "traceback": [
            "\u001b[0;31m---------------------------------------------------------------------------\u001b[0m",
            "\u001b[0;31mValueError\u001b[0m                                Traceback (most recent call last)",
            "\u001b[0;32m<ipython-input-37-fe3da57ad3d3>\u001b[0m in \u001b[0;36m<cell line: 2>\u001b[0;34m()\u001b[0m\n\u001b[1;32m      1\u001b[0m \u001b[0mtrials\u001b[0m \u001b[0;34m=\u001b[0m \u001b[0mTrials\u001b[0m\u001b[0;34m(\u001b[0m\u001b[0;34m)\u001b[0m\u001b[0;34m\u001b[0m\u001b[0;34m\u001b[0m\u001b[0m\n\u001b[0;32m----> 2\u001b[0;31m best = fmin(\n\u001b[0m\u001b[1;32m      3\u001b[0m           \u001b[0;31m# функция для оптимизации\u001b[0m\u001b[0;34m\u001b[0m\u001b[0;34m\u001b[0m\u001b[0m\n\u001b[1;32m      4\u001b[0m             \u001b[0mfn\u001b[0m\u001b[0;34m=\u001b[0m\u001b[0mpartial\u001b[0m\u001b[0;34m(\u001b[0m\u001b[0mobjective\u001b[0m\u001b[0;34m,\u001b[0m \u001b[0mmodel\u001b[0m\u001b[0;34m=\u001b[0m\u001b[0mcat_model\u001b[0m\u001b[0;34m,\u001b[0m \u001b[0mX_train\u001b[0m\u001b[0;34m=\u001b[0m\u001b[0mX_train_c\u001b[0m\u001b[0;34m,\u001b[0m \u001b[0my_train\u001b[0m\u001b[0;34m=\u001b[0m\u001b[0my_train\u001b[0m\u001b[0;34m)\u001b[0m\u001b[0;34m,\u001b[0m\u001b[0;34m\u001b[0m\u001b[0;34m\u001b[0m\u001b[0m\n\u001b[1;32m      5\u001b[0m           \u001b[0;31m# пространство поиска гиперпараметров\u001b[0m\u001b[0;34m\u001b[0m\u001b[0;34m\u001b[0m\u001b[0m\n",
            "\u001b[0;32m/usr/local/lib/python3.10/dist-packages/hyperopt/fmin.py\u001b[0m in \u001b[0;36mfmin\u001b[0;34m(fn, space, algo, max_evals, timeout, loss_threshold, trials, rstate, allow_trials_fmin, pass_expr_memo_ctrl, catch_eval_exceptions, verbose, return_argmin, points_to_evaluate, max_queue_len, show_progressbar, early_stop_fn, trials_save_file)\u001b[0m\n\u001b[1;32m    538\u001b[0m \u001b[0;34m\u001b[0m\u001b[0m\n\u001b[1;32m    539\u001b[0m     \u001b[0;32mif\u001b[0m \u001b[0mallow_trials_fmin\u001b[0m \u001b[0;32mand\u001b[0m \u001b[0mhasattr\u001b[0m\u001b[0;34m(\u001b[0m\u001b[0mtrials\u001b[0m\u001b[0;34m,\u001b[0m \u001b[0;34m\"fmin\"\u001b[0m\u001b[0;34m)\u001b[0m\u001b[0;34m:\u001b[0m\u001b[0;34m\u001b[0m\u001b[0;34m\u001b[0m\u001b[0m\n\u001b[0;32m--> 540\u001b[0;31m         return trials.fmin(\n\u001b[0m\u001b[1;32m    541\u001b[0m             \u001b[0mfn\u001b[0m\u001b[0;34m,\u001b[0m\u001b[0;34m\u001b[0m\u001b[0;34m\u001b[0m\u001b[0m\n\u001b[1;32m    542\u001b[0m             \u001b[0mspace\u001b[0m\u001b[0;34m,\u001b[0m\u001b[0;34m\u001b[0m\u001b[0;34m\u001b[0m\u001b[0m\n",
            "\u001b[0;32m/usr/local/lib/python3.10/dist-packages/hyperopt/base.py\u001b[0m in \u001b[0;36mfmin\u001b[0;34m(self, fn, space, algo, max_evals, timeout, loss_threshold, max_queue_len, rstate, verbose, pass_expr_memo_ctrl, catch_eval_exceptions, return_argmin, show_progressbar, early_stop_fn, trials_save_file)\u001b[0m\n\u001b[1;32m    669\u001b[0m         \u001b[0;32mfrom\u001b[0m \u001b[0;34m.\u001b[0m\u001b[0mfmin\u001b[0m \u001b[0;32mimport\u001b[0m \u001b[0mfmin\u001b[0m\u001b[0;34m\u001b[0m\u001b[0;34m\u001b[0m\u001b[0m\n\u001b[1;32m    670\u001b[0m \u001b[0;34m\u001b[0m\u001b[0m\n\u001b[0;32m--> 671\u001b[0;31m         return fmin(\n\u001b[0m\u001b[1;32m    672\u001b[0m             \u001b[0mfn\u001b[0m\u001b[0;34m,\u001b[0m\u001b[0;34m\u001b[0m\u001b[0;34m\u001b[0m\u001b[0m\n\u001b[1;32m    673\u001b[0m             \u001b[0mspace\u001b[0m\u001b[0;34m,\u001b[0m\u001b[0;34m\u001b[0m\u001b[0;34m\u001b[0m\u001b[0m\n",
            "\u001b[0;32m/usr/local/lib/python3.10/dist-packages/hyperopt/fmin.py\u001b[0m in \u001b[0;36mfmin\u001b[0;34m(fn, space, algo, max_evals, timeout, loss_threshold, trials, rstate, allow_trials_fmin, pass_expr_memo_ctrl, catch_eval_exceptions, verbose, return_argmin, points_to_evaluate, max_queue_len, show_progressbar, early_stop_fn, trials_save_file)\u001b[0m\n\u001b[1;32m    584\u001b[0m \u001b[0;34m\u001b[0m\u001b[0m\n\u001b[1;32m    585\u001b[0m     \u001b[0;31m# next line is where the fmin is actually executed\u001b[0m\u001b[0;34m\u001b[0m\u001b[0;34m\u001b[0m\u001b[0m\n\u001b[0;32m--> 586\u001b[0;31m     \u001b[0mrval\u001b[0m\u001b[0;34m.\u001b[0m\u001b[0mexhaust\u001b[0m\u001b[0;34m(\u001b[0m\u001b[0;34m)\u001b[0m\u001b[0;34m\u001b[0m\u001b[0;34m\u001b[0m\u001b[0m\n\u001b[0m\u001b[1;32m    587\u001b[0m \u001b[0;34m\u001b[0m\u001b[0m\n\u001b[1;32m    588\u001b[0m     \u001b[0;32mif\u001b[0m \u001b[0mreturn_argmin\u001b[0m\u001b[0;34m:\u001b[0m\u001b[0;34m\u001b[0m\u001b[0;34m\u001b[0m\u001b[0m\n",
            "\u001b[0;32m/usr/local/lib/python3.10/dist-packages/hyperopt/fmin.py\u001b[0m in \u001b[0;36mexhaust\u001b[0;34m(self)\u001b[0m\n\u001b[1;32m    362\u001b[0m     \u001b[0;32mdef\u001b[0m \u001b[0mexhaust\u001b[0m\u001b[0;34m(\u001b[0m\u001b[0mself\u001b[0m\u001b[0;34m)\u001b[0m\u001b[0;34m:\u001b[0m\u001b[0;34m\u001b[0m\u001b[0;34m\u001b[0m\u001b[0m\n\u001b[1;32m    363\u001b[0m         \u001b[0mn_done\u001b[0m \u001b[0;34m=\u001b[0m \u001b[0mlen\u001b[0m\u001b[0;34m(\u001b[0m\u001b[0mself\u001b[0m\u001b[0;34m.\u001b[0m\u001b[0mtrials\u001b[0m\u001b[0;34m)\u001b[0m\u001b[0;34m\u001b[0m\u001b[0;34m\u001b[0m\u001b[0m\n\u001b[0;32m--> 364\u001b[0;31m         \u001b[0mself\u001b[0m\u001b[0;34m.\u001b[0m\u001b[0mrun\u001b[0m\u001b[0;34m(\u001b[0m\u001b[0mself\u001b[0m\u001b[0;34m.\u001b[0m\u001b[0mmax_evals\u001b[0m \u001b[0;34m-\u001b[0m \u001b[0mn_done\u001b[0m\u001b[0;34m,\u001b[0m \u001b[0mblock_until_done\u001b[0m\u001b[0;34m=\u001b[0m\u001b[0mself\u001b[0m\u001b[0;34m.\u001b[0m\u001b[0masynchronous\u001b[0m\u001b[0;34m)\u001b[0m\u001b[0;34m\u001b[0m\u001b[0;34m\u001b[0m\u001b[0m\n\u001b[0m\u001b[1;32m    365\u001b[0m         \u001b[0mself\u001b[0m\u001b[0;34m.\u001b[0m\u001b[0mtrials\u001b[0m\u001b[0;34m.\u001b[0m\u001b[0mrefresh\u001b[0m\u001b[0;34m(\u001b[0m\u001b[0;34m)\u001b[0m\u001b[0;34m\u001b[0m\u001b[0;34m\u001b[0m\u001b[0m\n\u001b[1;32m    366\u001b[0m         \u001b[0;32mreturn\u001b[0m \u001b[0mself\u001b[0m\u001b[0;34m\u001b[0m\u001b[0;34m\u001b[0m\u001b[0m\n",
            "\u001b[0;32m/usr/local/lib/python3.10/dist-packages/hyperopt/fmin.py\u001b[0m in \u001b[0;36mrun\u001b[0;34m(self, N, block_until_done)\u001b[0m\n\u001b[1;32m    298\u001b[0m                 \u001b[0;32melse\u001b[0m\u001b[0;34m:\u001b[0m\u001b[0;34m\u001b[0m\u001b[0;34m\u001b[0m\u001b[0m\n\u001b[1;32m    299\u001b[0m                     \u001b[0;31m# -- loop over trials and do the jobs directly\u001b[0m\u001b[0;34m\u001b[0m\u001b[0;34m\u001b[0m\u001b[0m\n\u001b[0;32m--> 300\u001b[0;31m                     \u001b[0mself\u001b[0m\u001b[0;34m.\u001b[0m\u001b[0mserial_evaluate\u001b[0m\u001b[0;34m(\u001b[0m\u001b[0;34m)\u001b[0m\u001b[0;34m\u001b[0m\u001b[0;34m\u001b[0m\u001b[0m\n\u001b[0m\u001b[1;32m    301\u001b[0m \u001b[0;34m\u001b[0m\u001b[0m\n\u001b[1;32m    302\u001b[0m                 \u001b[0mself\u001b[0m\u001b[0;34m.\u001b[0m\u001b[0mtrials\u001b[0m\u001b[0;34m.\u001b[0m\u001b[0mrefresh\u001b[0m\u001b[0;34m(\u001b[0m\u001b[0;34m)\u001b[0m\u001b[0;34m\u001b[0m\u001b[0;34m\u001b[0m\u001b[0m\n",
            "\u001b[0;32m/usr/local/lib/python3.10/dist-packages/hyperopt/fmin.py\u001b[0m in \u001b[0;36mserial_evaluate\u001b[0;34m(self, N)\u001b[0m\n\u001b[1;32m    176\u001b[0m                 \u001b[0mctrl\u001b[0m \u001b[0;34m=\u001b[0m \u001b[0mbase\u001b[0m\u001b[0;34m.\u001b[0m\u001b[0mCtrl\u001b[0m\u001b[0;34m(\u001b[0m\u001b[0mself\u001b[0m\u001b[0;34m.\u001b[0m\u001b[0mtrials\u001b[0m\u001b[0;34m,\u001b[0m \u001b[0mcurrent_trial\u001b[0m\u001b[0;34m=\u001b[0m\u001b[0mtrial\u001b[0m\u001b[0;34m)\u001b[0m\u001b[0;34m\u001b[0m\u001b[0;34m\u001b[0m\u001b[0m\n\u001b[1;32m    177\u001b[0m                 \u001b[0;32mtry\u001b[0m\u001b[0;34m:\u001b[0m\u001b[0;34m\u001b[0m\u001b[0;34m\u001b[0m\u001b[0m\n\u001b[0;32m--> 178\u001b[0;31m                     \u001b[0mresult\u001b[0m \u001b[0;34m=\u001b[0m \u001b[0mself\u001b[0m\u001b[0;34m.\u001b[0m\u001b[0mdomain\u001b[0m\u001b[0;34m.\u001b[0m\u001b[0mevaluate\u001b[0m\u001b[0;34m(\u001b[0m\u001b[0mspec\u001b[0m\u001b[0;34m,\u001b[0m \u001b[0mctrl\u001b[0m\u001b[0;34m)\u001b[0m\u001b[0;34m\u001b[0m\u001b[0;34m\u001b[0m\u001b[0m\n\u001b[0m\u001b[1;32m    179\u001b[0m                 \u001b[0;32mexcept\u001b[0m \u001b[0mException\u001b[0m \u001b[0;32mas\u001b[0m \u001b[0me\u001b[0m\u001b[0;34m:\u001b[0m\u001b[0;34m\u001b[0m\u001b[0;34m\u001b[0m\u001b[0m\n\u001b[1;32m    180\u001b[0m                     \u001b[0mlogger\u001b[0m\u001b[0;34m.\u001b[0m\u001b[0merror\u001b[0m\u001b[0;34m(\u001b[0m\u001b[0;34m\"job exception: %s\"\u001b[0m \u001b[0;34m%\u001b[0m \u001b[0mstr\u001b[0m\u001b[0;34m(\u001b[0m\u001b[0me\u001b[0m\u001b[0;34m)\u001b[0m\u001b[0;34m)\u001b[0m\u001b[0;34m\u001b[0m\u001b[0;34m\u001b[0m\u001b[0m\n",
            "\u001b[0;32m/usr/local/lib/python3.10/dist-packages/hyperopt/base.py\u001b[0m in \u001b[0;36mevaluate\u001b[0;34m(self, config, ctrl, attach_attachments)\u001b[0m\n\u001b[1;32m    890\u001b[0m                 \u001b[0mprint_node_on_error\u001b[0m\u001b[0;34m=\u001b[0m\u001b[0mself\u001b[0m\u001b[0;34m.\u001b[0m\u001b[0mrec_eval_print_node_on_error\u001b[0m\u001b[0;34m,\u001b[0m\u001b[0;34m\u001b[0m\u001b[0;34m\u001b[0m\u001b[0m\n\u001b[1;32m    891\u001b[0m             )\n\u001b[0;32m--> 892\u001b[0;31m             \u001b[0mrval\u001b[0m \u001b[0;34m=\u001b[0m \u001b[0mself\u001b[0m\u001b[0;34m.\u001b[0m\u001b[0mfn\u001b[0m\u001b[0;34m(\u001b[0m\u001b[0mpyll_rval\u001b[0m\u001b[0;34m)\u001b[0m\u001b[0;34m\u001b[0m\u001b[0;34m\u001b[0m\u001b[0m\n\u001b[0m\u001b[1;32m    893\u001b[0m \u001b[0;34m\u001b[0m\u001b[0m\n\u001b[1;32m    894\u001b[0m         \u001b[0;32mif\u001b[0m \u001b[0misinstance\u001b[0m\u001b[0;34m(\u001b[0m\u001b[0mrval\u001b[0m\u001b[0;34m,\u001b[0m \u001b[0;34m(\u001b[0m\u001b[0mfloat\u001b[0m\u001b[0;34m,\u001b[0m \u001b[0mint\u001b[0m\u001b[0;34m,\u001b[0m \u001b[0mnp\u001b[0m\u001b[0;34m.\u001b[0m\u001b[0mnumber\u001b[0m\u001b[0;34m)\u001b[0m\u001b[0;34m)\u001b[0m\u001b[0;34m:\u001b[0m\u001b[0;34m\u001b[0m\u001b[0;34m\u001b[0m\u001b[0m\n",
            "\u001b[0;32m<ipython-input-35-7eeb4131cc6d>\u001b[0m in \u001b[0;36mobjective\u001b[0;34m(params, model, X_train, y_train)\u001b[0m\n\u001b[1;32m     17\u001b[0m \u001b[0;34m\u001b[0m\u001b[0m\n\u001b[1;32m     18\u001b[0m     \u001b[0;31m# проводим кросс-валидацию\u001b[0m\u001b[0;34m\u001b[0m\u001b[0;34m\u001b[0m\u001b[0m\n\u001b[0;32m---> 19\u001b[0;31m     score = cross_val_score(estimator=model, X=X_train_c, y=y_train,\n\u001b[0m\u001b[1;32m     20\u001b[0m                             scoring=\"accuracy\", cv=skf, n_jobs=-1)\n\u001b[1;32m     21\u001b[0m \u001b[0;34m\u001b[0m\u001b[0m\n",
            "\u001b[0;32m/usr/local/lib/python3.10/dist-packages/sklearn/model_selection/_validation.py\u001b[0m in \u001b[0;36mcross_val_score\u001b[0;34m(estimator, X, y, groups, scoring, cv, n_jobs, verbose, fit_params, pre_dispatch, error_score)\u001b[0m\n\u001b[1;32m    513\u001b[0m     \u001b[0mscorer\u001b[0m \u001b[0;34m=\u001b[0m \u001b[0mcheck_scoring\u001b[0m\u001b[0;34m(\u001b[0m\u001b[0mestimator\u001b[0m\u001b[0;34m,\u001b[0m \u001b[0mscoring\u001b[0m\u001b[0;34m=\u001b[0m\u001b[0mscoring\u001b[0m\u001b[0;34m)\u001b[0m\u001b[0;34m\u001b[0m\u001b[0;34m\u001b[0m\u001b[0m\n\u001b[1;32m    514\u001b[0m \u001b[0;34m\u001b[0m\u001b[0m\n\u001b[0;32m--> 515\u001b[0;31m     cv_results = cross_validate(\n\u001b[0m\u001b[1;32m    516\u001b[0m         \u001b[0mestimator\u001b[0m\u001b[0;34m=\u001b[0m\u001b[0mestimator\u001b[0m\u001b[0;34m,\u001b[0m\u001b[0;34m\u001b[0m\u001b[0;34m\u001b[0m\u001b[0m\n\u001b[1;32m    517\u001b[0m         \u001b[0mX\u001b[0m\u001b[0;34m=\u001b[0m\u001b[0mX\u001b[0m\u001b[0;34m,\u001b[0m\u001b[0;34m\u001b[0m\u001b[0;34m\u001b[0m\u001b[0m\n",
            "\u001b[0;32m/usr/local/lib/python3.10/dist-packages/sklearn/model_selection/_validation.py\u001b[0m in \u001b[0;36mcross_validate\u001b[0;34m(estimator, X, y, groups, scoring, cv, n_jobs, verbose, fit_params, pre_dispatch, return_train_score, return_estimator, error_score)\u001b[0m\n\u001b[1;32m    283\u001b[0m     )\n\u001b[1;32m    284\u001b[0m \u001b[0;34m\u001b[0m\u001b[0m\n\u001b[0;32m--> 285\u001b[0;31m     \u001b[0m_warn_or_raise_about_fit_failures\u001b[0m\u001b[0;34m(\u001b[0m\u001b[0mresults\u001b[0m\u001b[0;34m,\u001b[0m \u001b[0merror_score\u001b[0m\u001b[0;34m)\u001b[0m\u001b[0;34m\u001b[0m\u001b[0;34m\u001b[0m\u001b[0m\n\u001b[0m\u001b[1;32m    286\u001b[0m \u001b[0;34m\u001b[0m\u001b[0m\n\u001b[1;32m    287\u001b[0m     \u001b[0;31m# For callabe scoring, the return type is only know after calling. If the\u001b[0m\u001b[0;34m\u001b[0m\u001b[0;34m\u001b[0m\u001b[0m\n",
            "\u001b[0;32m/usr/local/lib/python3.10/dist-packages/sklearn/model_selection/_validation.py\u001b[0m in \u001b[0;36m_warn_or_raise_about_fit_failures\u001b[0;34m(results, error_score)\u001b[0m\n\u001b[1;32m    365\u001b[0m                 \u001b[0;34mf\"Below are more details about the failures:\\n{fit_errors_summary}\"\u001b[0m\u001b[0;34m\u001b[0m\u001b[0;34m\u001b[0m\u001b[0m\n\u001b[1;32m    366\u001b[0m             )\n\u001b[0;32m--> 367\u001b[0;31m             \u001b[0;32mraise\u001b[0m \u001b[0mValueError\u001b[0m\u001b[0;34m(\u001b[0m\u001b[0mall_fits_failed_message\u001b[0m\u001b[0;34m)\u001b[0m\u001b[0;34m\u001b[0m\u001b[0;34m\u001b[0m\u001b[0m\n\u001b[0m\u001b[1;32m    368\u001b[0m \u001b[0;34m\u001b[0m\u001b[0m\n\u001b[1;32m    369\u001b[0m         \u001b[0;32melse\u001b[0m\u001b[0;34m:\u001b[0m\u001b[0;34m\u001b[0m\u001b[0;34m\u001b[0m\u001b[0m\n",
            "\u001b[0;31mValueError\u001b[0m: \nAll the 5 fits failed.\nIt is very likely that your model is misconfigured.\nYou can try to debug the error by setting error_score='raise'.\n\nBelow are more details about the failures:\n--------------------------------------------------------------------------------\n2 fits failed with the following error:\nTraceback (most recent call last):\n  File \"/usr/local/lib/python3.10/dist-packages/sklearn/model_selection/_validation.py\", line 686, in _fit_and_score\n    estimator.fit(X_train, y_train, **fit_params)\n  File \"/usr/local/lib/python3.10/dist-packages/catboost/core.py\", line 5100, in fit\n    self._fit(X, y, cat_features, text_features, embedding_features, None, sample_weight, None, None, None, None, baseline, use_best_model,\n  File \"/usr/local/lib/python3.10/dist-packages/catboost/core.py\", line 2319, in _fit\n    self._train(\n  File \"/usr/local/lib/python3.10/dist-packages/catboost/core.py\", line 1723, in _train\n    self._object._train(train_pool, test_pool, params, allow_clear_pool, init_model._object if init_model else None)\n  File \"_catboost.pyx\", line 4645, in _catboost._CatBoost._train\n  File \"_catboost.pyx\", line 4694, in _catboost._CatBoost._train\n_catboost.CatBoostError: /src/catboost/catboost/cuda/cuda_lib/cuda_base.h:281: CUDA error 35: CUDA driver version is insufficient for CUDA runtime version\n\n--------------------------------------------------------------------------------\n3 fits failed with the following error:\nTraceback (most recent call last):\n  File \"/usr/local/lib/python3.10/dist-packages/sklearn/model_selection/_validation.py\", line 686, in _fit_and_score\n    estimator.fit(X_train, y_train, **fit_params)\n  File \"/usr/local/lib/python3.10/dist-packages/catboost/core.py\", line 5100, in fit\n    self._fit(X, y, cat_features, text_features, embedding_features, None, sample_weight, None, None, None, None, baseline, use_best_model,\n  File \"/usr/local/lib/python3.10/dist-packages/catboost/core.py\", line 2319, in _fit\n    self._train(\n  File \"/usr/local/lib/python3.10/dist-packages/catboost/core.py\", line 1723, in _train\n    self._object._train(train_pool, test_pool, params, allow_clear_pool, init_model._object if init_model else None)\n  File \"_catboost.pyx\", line 4645, in _catboost._CatBoost._train\n  File \"_catboost.pyx\", line 4694, in _catboost._CatBoost._train\n_catboost.CatBoostError: /src/catboost/catboost/cuda/cuda_lib/cuda_manager.cpp:201: Condition violated: `State == nullptr'\n"
          ]
        }
      ]
    },
    {
      "cell_type": "code",
      "source": [
        "print(\"Наилучшие значения гиперпараметров {}\".format(best))"
      ],
      "metadata": {
        "id": "N-8XJTNKr6yf"
      },
      "execution_count": null,
      "outputs": []
    },
    {
      "cell_type": "markdown",
      "source": [
        "## Обучим модель на найденных гиперпараметрах"
      ],
      "metadata": {
        "id": "QwbBGfJKkf-b"
      }
    },
    {
      "cell_type": "code",
      "source": [
        "cat_model = CatBoostClassifier(depth=best['depth'],\n",
        "                           iterations=best['iterations'],\n",
        "                           learning_rate = best['learning_rate'],\n",
        "                           l2_leaf_reg = best['l2_leaf_reg'],\n",
        "                           bootstrap_type = 'Bayesian',\n",
        "                           verbose=False,\n",
        "                           random_seed=RS,\n",
        "                           loss_function='MultiClass',\n",
        "                           class_weights=class_weights,\n",
        "                           task_type=\"GPU\")\n",
        "cat_model.fit(X = X_train_c, y = y_train)"
      ],
      "metadata": {
        "id": "ZzrAxv2PvK1l"
      },
      "execution_count": null,
      "outputs": []
    },
    {
      "cell_type": "code",
      "source": [
        "# сделаем предсказание на обучающей выборке\n",
        "y_pred_h = cat_model.predict(X_train_c)\n",
        "\n",
        "# определим метрики\n",
        "report = classification_report(y_train, y_pred_h)\n",
        "print(\"Classification Report:\\n\", report)\n",
        "\n",
        "# определим метрики\n",
        "# f1 = f1_score(y_train, y_pred_h, average='micro')\n",
        "# print(\"mean f_score:\\n\", f1)"
      ],
      "metadata": {
        "id": "o4Mn92WAvDo0"
      },
      "execution_count": null,
      "outputs": []
    },
    {
      "cell_type": "code",
      "source": [
        "#confusion matrix\n",
        "confusion_mtx = confusion_matrix(y_train, y_pred_h)\n",
        "\n",
        "#plot of the confusion matrix\n",
        "f,ax = plt.subplots(figsize=(8, 8))\n",
        "sns.heatmap(confusion_mtx, annot=True, linewidths=0.01,cmap=\"Greens\",linecolor=\"gray\", fmt= '.1f',ax=ax)\n",
        "plt.xlabel(\"Predicted Label\")\n",
        "plt.ylabel(\"True Label\")\n",
        "plt.title(\"Confusion Matrix\")\n",
        "plt.show()"
      ],
      "metadata": {
        "id": "CjO5_csgSCyx"
      },
      "execution_count": null,
      "outputs": []
    },
    {
      "cell_type": "code",
      "execution_count": null,
      "metadata": {
        "tags": [],
        "id": "1r3XZsw78Td0"
      },
      "outputs": [],
      "source": [
        "# from sklearn.linear_model import LogisticRegression\n",
        "\n",
        "# model = LogisticRegression()\n",
        "\n",
        "# model.fit(\n",
        "#     X=X_train,\n",
        "#     y=y_train\n",
        "# )"
      ]
    },
    {
      "cell_type": "code",
      "execution_count": null,
      "metadata": {
        "tags": [],
        "id": "7HTXo7ID8Td1"
      },
      "outputs": [],
      "source": [
        "import seaborn as sns\n",
        "\n",
        "plt.figure(figsize=(10, 3)) #\n",
        "sns.heatmap(model.coef_, cbar_kws={\"orientation\": \"horizontal\"})\n",
        "plt.tight_layout()"
      ]
    },
    {
      "cell_type": "markdown",
      "metadata": {
        "id": "70ZrQ1Uw8Td2"
      },
      "source": [
        "## Prediction"
      ]
    },
    {
      "cell_type": "code",
      "execution_count": null,
      "metadata": {
        "tags": [],
        "id": "mzVtMIkL8Td3"
      },
      "outputs": [],
      "source": [
        "y_pred_train = model.predict(X_train)\n",
        "y_pred_test = model.predict(X_test)"
      ]
    },
    {
      "cell_type": "code",
      "execution_count": null,
      "metadata": {
        "tags": [],
        "id": "CjBp3PnA8Td4"
      },
      "outputs": [],
      "source": [
        "fig = plt.figure(figsize=(10, 4))\n",
        "plt.plot(y_train,  c='C0', label='y_true')\n",
        "plt.plot(y_pred_train, c='C1', label='y_pred')\n",
        "\n",
        "plt.yticks(np.arange(len(GESTURES)), GESTURES)\n",
        "plt.grid()\n",
        "plt.xlabel('Timesteps')\n",
        "plt.legend()\n",
        "plt.title('Train')\n",
        "plt.tight_layout()"
      ]
    },
    {
      "cell_type": "code",
      "execution_count": null,
      "metadata": {
        "id": "G-fKTACx8Td5"
      },
      "outputs": [],
      "source": [
        "fig = plt.figure(figsize=(10, 4))\n",
        "plt.plot(y_test,  c='C0', label='y_true')\n",
        "plt.plot(y_pred_test, c='C1', label='y_pred')\n",
        "\n",
        "plt.yticks(np.arange(len(GESTURES)), GESTURES)\n",
        "plt.grid()\n",
        "plt.xlabel('Timesteps')\n",
        "plt.legend()\n",
        "plt.title('Test')\n",
        "plt.tight_layout()"
      ]
    },
    {
      "cell_type": "markdown",
      "metadata": {
        "id": "FAxNqTK88Td7"
      },
      "source": [
        "## Metrics"
      ]
    },
    {
      "cell_type": "code",
      "execution_count": null,
      "metadata": {
        "tags": [],
        "id": "fJsrT32z8Td8"
      },
      "outputs": [],
      "source": [
        "from sklearn.metrics import classification_report\n",
        "\n",
        "print(classification_report(y_train, y_pred_train, target_names=GESTURES))\n",
        "print(classification_report(y_test, y_pred_test, target_names=GESTURES))"
      ]
    },
    {
      "cell_type": "markdown",
      "metadata": {
        "id": "DiA4aoHh8Td9"
      },
      "source": [
        "# Real-time inference"
      ]
    },
    {
      "cell_type": "code",
      "execution_count": null,
      "metadata": {
        "tags": [],
        "id": "yU9W6rmO8Td-"
      },
      "outputs": [],
      "source": [
        "import time\n",
        "import serial\n",
        "from IPython.display import clear_output"
      ]
    },
    {
      "cell_type": "code",
      "execution_count": null,
      "metadata": {
        "tags": [],
        "id": "2ZySzwHv8TeA"
      },
      "outputs": [],
      "source": [
        "crc_table = [\n",
        "    54, 181, 83, 241, 89, 16, 164, 217, 34, 169, 220, 160, 11, 252,\n",
        "    111, 241, 33, 70, 99, 240, 234, 215, 60, 206, 68, 126, 152, 81,\n",
        "    113, 187, 14, 21, 164, 172, 251, 16, 248, 215, 236, 90, 49, 53,\n",
        "    179, 156, 101, 55, 65, 130, 161, 22, 218, 79, 24, 168, 152, 205,\n",
        "    115, 141, 23, 86, 141, 58, 122, 215, 252, 48, 69, 115, 138, 66,\n",
        "    88, 37, 63, 104, 176, 46, 139, 246, 222, 184, 103, 92, 154, 174,\n",
        "    97, 141, 195, 166, 227, 150, 140, 48, 121, 243, 13, 131, 210, 199,\n",
        "    45, 75, 180, 104, 97, 82, 251, 90, 132, 111, 229, 175, 146, 216,\n",
        "    153, 86, 166, 33, 184, 100, 225, 248, 186, 54, 89, 39, 2, 214, 2,\n",
        "    114, 197, 6, 35, 188, 245, 64, 220, 37, 123, 132, 190, 60, 189, 53,\n",
        "    215, 185, 238, 145, 99, 226, 79, 54, 102, 118, 210, 116, 51, 247,\n",
        "    0, 191, 42, 45, 2, 132, 106, 52, 63, 159, 229, 157, 78, 165, 50,\n",
        "    18, 108, 193, 166, 253, 3, 243, 126, 111, 199, 152, 36, 114, 147,\n",
        "    57, 87, 14, 16, 160, 128, 97, 189, 51, 115, 142, 8, 70, 71, 55, 42,\n",
        "    193, 65, 207, 122, 158, 26, 21, 72, 139, 33, 230, 230, 116, 134, 5,\n",
        "    213, 165, 107, 41, 134, 219, 190, 26, 29, 136, 174, 190, 108, 185, 172,\n",
        "    137, 239, 164, 208, 207, 206, 98, 207, 12, 0, 174, 64, 20, 90, 49, 12,\n",
        "    67, 112, 109, 78, 114, 165, 244, 183, 121\n",
        "];\n",
        "\n",
        "def get_crc(data, count):\n",
        "    result = 0x00\n",
        "    l = count\n",
        "    while (count>0):\n",
        "        result = crc_table[result ^ data[l-count]]\n",
        "        count -= 1;\n",
        "    return result;\n",
        "\n",
        "def drv_abs_one(ser, control):\n",
        "    if ser is None:\n",
        "        return\n",
        "    pack = (np.array([80, 0x01, 0xBB, 6] + [c for c in control] + [0], dtype='uint8'))\n",
        "    pack[-1] = get_crc(pack[1:], 9)\n",
        "    return (pack, ser.write(bytearray(pack)))"
      ]
    },
    {
      "cell_type": "markdown",
      "metadata": {
        "id": "3LR0n9qa8TeB"
      },
      "source": [
        "## Inference Utils: Put your code here"
      ]
    },
    {
      "cell_type": "code",
      "execution_count": null,
      "metadata": {
        "tags": [],
        "id": "cprHQ1mO8TeC"
      },
      "outputs": [],
      "source": [
        "def preprocessing(x):\n",
        "    # x - sample vector\n",
        "    y = x\n",
        "    return y\n",
        "\n",
        "def inference(x):\n",
        "    y = model.predict([x])\n",
        "    return y\n",
        "\n",
        "def postprocessing(x, prev):\n",
        "    if prev is None:\n",
        "        y = x\n",
        "    else:\n",
        "        y = x*0.1 + prev*0.9 # Holt-Winters filter\n",
        "    return y\n",
        "\n",
        "def commands(x):\n",
        "    y = np.round(np.clip(x / 100, 0, 1)*100).astype(int)\n",
        "    return y"
      ]
    },
    {
      "cell_type": "markdown",
      "metadata": {
        "id": "oXoV40wT8TeE"
      },
      "source": [
        "## Inference"
      ]
    },
    {
      "cell_type": "markdown",
      "metadata": {
        "id": "bBPKyl1E8TeF"
      },
      "source": [
        "### Offline (dataset)"
      ]
    },
    {
      "cell_type": "code",
      "execution_count": null,
      "metadata": {
        "tags": [],
        "id": "cOPLDK9S8TeF"
      },
      "outputs": [],
      "source": [
        "df_sim = gestures.iloc[last_train_idx:]\n",
        "print(df_sim.shape)"
      ]
    },
    {
      "cell_type": "code",
      "execution_count": null,
      "metadata": {
        "tags": [],
        "id": "giiqNLYX8TeR"
      },
      "outputs": [],
      "source": [
        "TIMEOUT = 0.033\n",
        "DEBUG = False\n",
        "\n",
        "i = 0\n",
        "ts_old = time.time()\n",
        "ts_diff = 0;\n",
        "\n",
        "y_previous = None\n",
        "y_dct = {\n",
        "    'omg_sample':[],\n",
        "    'enc_sample':[],\n",
        "    'sample_preprocessed':[],\n",
        "\n",
        "    'y_predicted':[],\n",
        "    'y_postprocessed':[],\n",
        "    'y_commands':[],\n",
        "}\n",
        "while True:\n",
        "\n",
        "    # [Data reading]\n",
        "    ts_start = time.time()\n",
        "\n",
        "    try:\n",
        "        # [Sim data]\n",
        "        if i < len(df_sim):\n",
        "            sample = df_sim.values[i]\n",
        "        else:\n",
        "            break\n",
        "        # [/Sim data]\n",
        "        [omg_sample, acc_sample, enc_sample, [button, sync, ts]] = np.array_split(sample, [50, 56, 62])\n",
        "\n",
        "    except Exception as e:\n",
        "        print(e)\n",
        "\n",
        "    # [/Data Reading]\n",
        "\n",
        "    # [Data preprocessing]\n",
        "    sample_preprocessed = preprocessing(omg_sample)\n",
        "    # [/Data preprocessing]\n",
        "\n",
        "    # [Inference]\n",
        "    y_predicted         = inference(sample_preprocessed)\n",
        "    # [/Inference]\n",
        "\n",
        "    # [Inference Postprocessing]\n",
        "    y_postprocessed     = postprocessing(y_predicted, y_previous)\n",
        "    # [/Inference Postprocessing]\n",
        "\n",
        "    # [Commands composition]\n",
        "    y_commands          = commands(y_postprocessed)\n",
        "    # [/Commands composition]\n",
        "\n",
        "    # [Commands sending]\n",
        "    # NO COMMANDS SENDING IN SIMULATION\n",
        "    # [/Commands sending]\n",
        "\n",
        "    # [Data logging]\n",
        "    y_dct['omg_sample'].append(omg_sample)\n",
        "    y_dct['enc_sample'].append(enc_sample)\n",
        "    y_dct['sample_preprocessed'].append(sample_preprocessed)\n",
        "    y_dct['y_predicted'].append(y_predicted)\n",
        "    y_dct['y_postprocessed'].append(y_postprocessed)\n",
        "    y_dct['y_commands'].append(y_commands)\n",
        "    # [/Data logging]\n",
        "\n",
        "    y_previous = y_postprocessed\n",
        "\n",
        "    if DEBUG:\n",
        "        clear_output(wait=True)\n",
        "\n",
        "        # sanity check: Sizes of SAMPLE=65, OMG=50, ACC=6, ENCODERS=6\n",
        "        print(f'SAMPLE SIZE: {len(sample)}, OMG: {len(omg_sample)}, ACC: {len(acc_sample)}, ENCODERS: {len(enc_sample)}')\n",
        "        print(f'BUTTON: {button}, SYNC: {sync}, TS: {ts}')\n",
        "        print(y_commands)\n",
        "\n",
        "    ts_diff = time.time() - ts_start\n",
        "    assert(ts_diff<TIMEOUT), 'Calculation cycle takes more than TIMEOUT, halting...'\n",
        "    ts_old = ts_start\n",
        "    i += 1"
      ]
    },
    {
      "cell_type": "code",
      "execution_count": null,
      "metadata": {
        "tags": [],
        "id": "Fg7wu4qV8TeT"
      },
      "outputs": [],
      "source": [
        "for key, val in y_dct.items():\n",
        "    # print(f\"len({key}) = {len(y_dct[key])}\")\n",
        "    y_dct[key] = np.stack(val)\n",
        "    print(f\"{key}.shape = {y_dct[key].shape}\")"
      ]
    },
    {
      "cell_type": "code",
      "execution_count": null,
      "metadata": {
        "tags": [],
        "id": "wWttfQ_68TeU"
      },
      "outputs": [],
      "source": [
        "fig = plt.figure(figsize=(10, 3))\n",
        "\n",
        "plt.plot(y_test, c='C0', label='y_cmd')\n",
        "plt.plot(y_dct['y_predicted'], c='C1', label='y_predicted')\n",
        "plt.plot(y_dct['y_postprocessed'], c='C2', label='y_postprocessed')\n",
        "plt.plot(y_dct['y_commands'], c='C3', label='y_commands')\n",
        "\n",
        "plt.title('Ground truth vs predicted vs postprocessed vs commands')\n",
        "plt.yticks(np.arange(len(GESTURES)), GESTURES)\n",
        "plt.legend()\n",
        "plt.grid()\n",
        "plt.xlabel('Timesteps')\n",
        "\n",
        "plt.tight_layout()"
      ]
    },
    {
      "cell_type": "code",
      "execution_count": null,
      "metadata": {
        "id": "qO5vJoni8TeW"
      },
      "outputs": [],
      "source": [
        "print(classification_report(y_test, y_dct['y_commands'], target_names=GESTURES))"
      ]
    },
    {
      "cell_type": "markdown",
      "metadata": {
        "id": "QvmigCQe8TeX"
      },
      "source": [
        "### Online (prosthesis or virtual hand)"
      ]
    },
    {
      "cell_type": "code",
      "execution_count": null,
      "metadata": {
        "id": "O4KNN4V58TeY"
      },
      "outputs": [],
      "source": [
        "TIMEOUT = 0.033\n",
        "DEBUG = True\n",
        "\n",
        "ser = None\n",
        "# ser_port = None\n",
        "# ser_port = '/dev/ttyACM0'\n",
        "ser_port = '/dev/cu.usbmodem3498365F31351'\n",
        "\n",
        "if ser_port is not None:\n",
        "    ser = serial.Serial(port=ser_port, timeout=2*TIMEOUT)\n",
        "    ser.write('T1#\\r\\n'.encode('utf-8')) # T1 for Timestamp activate\n",
        "    ser.write('M2#\\r\\n'.encode('utf-8')) # M2 for Mode == 2 = send samples\n",
        "    ser.write('S2#\\r\\n'.encode('utf-8')) # SYNC to 2 for sanity check\n",
        "\n",
        "    # flush buffers\n",
        "    ser.reset_input_buffer()\n",
        "    ser.read()\n",
        "\n",
        "    i = 0;\n",
        "    while(ser.in_waiting):\n",
        "        print(f'Flushing buffers {i}: {ser.in_waiting}', end='    \\r')\n",
        "        ser.read_all()\n",
        "        time.sleep(0.005)\n",
        "        i+=1;\n",
        "    ser.readline()\n",
        "    ser.readline()\n",
        "\n",
        "i = 0\n",
        "ts_old = time.time()\n",
        "ts_diff = 0;\n",
        "\n",
        "y_previous = None\n",
        "while True:\n",
        "\n",
        "    # [Data reading]\n",
        "    s = ser.readline()\n",
        "    ts_start = time.time()\n",
        "\n",
        "    try:\n",
        "        sample = np.array(s.decode('UTF-8')\\\n",
        "                           .replace('\\r\\n', \"\")\\\n",
        "                           .split(' ')\n",
        "                         ).astype(int)\n",
        "        [omg_sample, acc_sample, enc_sample, [button, sync, ts]] = np.array_split(sample, [50, 56, 62])\n",
        "\n",
        "    except Exception as e:\n",
        "        print(e)\n",
        "\n",
        "    # [/Data Reading]\n",
        "\n",
        "    # [Data preprocessing]\n",
        "    sample_preprocessed = preprocessing(omg_sample)\n",
        "    # [/Data preprocessing]\n",
        "\n",
        "    # [Inference]\n",
        "    y_predicted         = inference(sample_preprocessed)\n",
        "    # [/Inference]\n",
        "\n",
        "    # [Inference Postprocessing]\n",
        "    y_postprocessed     = postprocessing(y_predicted, y_previous)\n",
        "    # [/Inference Postprocessing]\n",
        "\n",
        "    # [Commands composition]\n",
        "    y_commands          = commands(y_postprocessed)\n",
        "    # [/Commands composition]\n",
        "\n",
        "    # [Commands sending]\n",
        "    pack, _ = drv_abs_one(ser, list(y_commands)); # + [0]\n",
        "    # [/Commands sending]\n",
        "\n",
        "    y_previous = y_postprocessed\n",
        "\n",
        "    if DEBUG:\n",
        "        clear_output(wait=True)\n",
        "\n",
        "        # sanity check: iteration should increase monotonically, TIMEDIFF approximately 32-34 ms, CYCLETIME < TIMEOUT, WAITING should be == 0\n",
        "        print(f'ITERATION:\\t{i}\\tTIMEDIFF:\\t{(ts_start - ts_old)*1000: .0f}\\tCYCLETIME:\\t{ts_diff*1000:.0f}\\tWAITING:\\t{ser.in_waiting}')\n",
        "        print('INPUT:\\n', s)\n",
        "\n",
        "        # sanity check: Sizes of SAMPLE=65, OMG=50, ACC=6, ENCODERS=6\n",
        "        print(f'SAMPLE SIZE: {len(sample)}, OMG: {len(omg_sample)}, ACC: {len(acc_sample)}, ENCODERS: {len(enc_sample)}')\n",
        "        print(f'BUTTON: {button}, SYNC: {sync}, TS: {ts}')\n",
        "        print(y_commands)\n",
        "        print(pack)\n",
        "\n",
        "    ts_diff = time.time() - ts_start\n",
        "    assert(ts_diff<TIMEOUT), 'Calculation cycle takes more than TIMEOUT, halting...'\n",
        "    ts_old = ts_start\n",
        "    i += 1"
      ]
    },
    {
      "cell_type": "code",
      "execution_count": null,
      "metadata": {
        "id": "qj5LoZ7q8TeZ"
      },
      "outputs": [],
      "source": []
    }
  ],
  "metadata": {
    "kernelspec": {
      "display_name": "Python 3",
      "name": "python3"
    },
    "language_info": {
      "codemirror_mode": {
        "name": "ipython",
        "version": 3
      },
      "file_extension": ".py",
      "mimetype": "text/x-python",
      "name": "python",
      "nbconvert_exporter": "python",
      "pygments_lexer": "ipython3",
      "version": "3.9.18"
    },
    "colab": {
      "provenance": [],
      "toc_visible": true
    }
  },
  "nbformat": 4,
  "nbformat_minor": 0
}